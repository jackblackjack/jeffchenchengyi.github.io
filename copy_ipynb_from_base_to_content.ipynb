{
 "cells": [
  {
   "cell_type": "markdown",
   "metadata": {},
   "source": [
    "# Copy all `*.ipynb` files from base to content "
   ]
  },
  {
   "cell_type": "code",
   "execution_count": 6,
   "metadata": {},
   "outputs": [
    {
     "name": "stdout",
     "output_type": "stream",
     "text": [
      "removing existing directory \"./content/\"\n",
      "completed\n"
     ]
    }
   ],
   "source": [
    "import fnmatch\n",
    "from os.path import isdir, join\n",
    "\n",
    "def include_patterns(*patterns):\n",
    "    \"\"\" Function that can be used as shutil.copytree() ignore parameter that\n",
    "    determines which files *not* to ignore, the inverse of \"normal\" usage.\n",
    "\n",
    "    This is a factory function that creates a function which can be used as a\n",
    "    callable for copytree()'s ignore argument, *not* ignoring files that match\n",
    "    any of the glob-style patterns provided.\n",
    "\n",
    "    ‛patterns’ are a sequence of pattern strings used to identify the files to\n",
    "    include when copying the directory tree.\n",
    "\n",
    "    Example usage:\n",
    "\n",
    "        copytree(src_directory, dst_directory,\n",
    "                 ignore=include_patterns('*.sldasm', '*.sldprt'))\n",
    "    \"\"\"\n",
    "    def _ignore_patterns(path, all_names):\n",
    "        # Determine names which match one or more patterns (that shouldn't be\n",
    "        # ignored).\n",
    "        keep = (name for pattern in patterns\n",
    "                        for name in fnmatch.filter(all_names, pattern))\n",
    "        # Ignore file names which *didn't* match any of the patterns given that\n",
    "        # aren't directory names and those directories that contain 'data'\n",
    "        dir_names = (name for name in all_names if isdir(join(path, name)) and path.split('/')[-1] != 'data')\n",
    "        return set(all_names) - set(keep) - set(dir_names)\n",
    "\n",
    "    return _ignore_patterns\n",
    "\n",
    "\n",
    "from shutil import copytree, rmtree\n",
    "import os\n",
    "\n",
    "src = './base/'\n",
    "dst = './content/'\n",
    "\n",
    "# Make sure the destination folder does not exist.\n",
    "if os.path.exists(dst) and os.path.isdir(dst):\n",
    "    print('removing existing directory \"{}\"'.format(dst))\n",
    "    rmtree(dst, ignore_errors=False)\n",
    "\n",
    "copytree(src, dst, ignore=include_patterns('*.ipynb', '*.md', '*.html', '*.png', '*jpg'))\n",
    "\n",
    "print('completed')"
   ]
  },
  {
   "cell_type": "code",
   "execution_count": null,
   "metadata": {},
   "outputs": [],
   "source": []
  }
 ],
 "metadata": {
  "kernelspec": {
   "display_name": "Python 3",
   "language": "python",
   "name": "python3"
  },
  "language_info": {
   "codemirror_mode": {
    "name": "ipython",
    "version": 3
   },
   "file_extension": ".py",
   "mimetype": "text/x-python",
   "name": "python",
   "nbconvert_exporter": "python",
   "pygments_lexer": "ipython3",
   "version": "3.7.3"
  }
 },
 "nbformat": 4,
 "nbformat_minor": 2
}
