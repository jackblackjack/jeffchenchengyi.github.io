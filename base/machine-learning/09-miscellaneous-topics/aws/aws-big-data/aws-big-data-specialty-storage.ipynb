{
 "cells": [
  {
   "cell_type": "markdown",
   "metadata": {},
   "source": [
    "# AWS Big Data Specialty Exam Notes\n",
    "\n",
    "Requirements:\n",
    "1. Order history App\n",
    "    1. Server logs \n",
    "    2. Amazon Kinesis Data Streams \n",
    "    3. AWS Lambda \n",
    "    4. Amazon DynamoDB\n",
    "    5. Client App\n",
    "2. Product Recommendations\n",
    "    1. Server logs \n",
    "    2. Amazon Kinesis Data Firehose\n",
    "    3. Amazon S3\n",
    "    4. Amazon EMR\n",
    "3. Predicting order quantities\n",
    "    1. Server logs\n",
    "    2. Amazon Kinesis Data Firehose\n",
    "    3. Amazon S3\n",
    "    4. Amazon ML / Sagemaker\n",
    "4. Transaction Rate Alarm\n",
    "    1. Server logs\n",
    "    2. Amazon Kinesis Data Streams\n",
    "    3. Amazon Kinesis Data Analytics\n",
    "    4. Amazon Kinesis Data Streams\n",
    "    5. AWS Lambda\n",
    "    6. Amazon SMS\n",
    "5. Near-real-time log analysis\n",
    "    1. Server logs\n",
    "    2. Amazon Kinesis Data Firehose\n",
    "    3. Amazon Elasticsearch Service\n",
    "6. Data warehousing & visualization\n",
    "    1. Server logs\n",
    "    2. Amazon Kinesis Data Firehose\n",
    "    3. Amazon S3\n",
    "        - Serverless\n",
    "            1. AWS Glue\n",
    "            2. Amazon Athena\n",
    "        - Managaged\n",
    "            1. Amazon Redshift\n",
    "            2. Amazon QuickSight"
   ]
  },
  {
   "cell_type": "markdown",
   "metadata": {},
   "source": [
    "---\n",
    "# Storage\n",
    "\n",
    "## AWS S3 Overview \n",
    "- Buckets\n",
    "    - Must define a globally unique name\n",
    "    - Defined at region level\n",
    "- Objects\n",
    "    - No concept of directories but UI can contain slashes to make it seem like theres a directory hierarchy\n",
    "    - Max size of object is 5TB\n",
    "    - Uploading more than 5GB should use \"multi-part upload\"\n",
    "- Consistency Model\n",
    "    - As soon as you write an object you can retrieve it unless you first make a `GET` request for the non-existent object, then `PUT` it, and then try to `GET` it again, but will eventually be consistent\n",
    "    - Eventual consistency for `DELETES` and `PUTS` of existing objects\n",
    "        - If read an object after updating we might get the old version\n",
    "        - If we delete object we might still be able to retrieve it for a short time\n",
    "- S3 Storage Tier\n",
    "<img src=\"./img/s3-storage-tier.png\" width=\"1000px\"></img>\n",
    "- S3 Lifecycle Rules\n",
    "    - Set of rules to move data between different tiers, to save storage cost\n",
    "    - Example: General Purpose => Infrequent Access => Glacier\n",
    "    - Transition actions: \n",
    "        - It defines when objects are transitioned to another storage class. Eg: We can choose to move objects to Standard IA class 60 days after you created them or can move to Glacier for archiving after 6 months\n",
    "    - Expiration actions: \n",
    "        - Helps to configure objects to expire after a certain time period. S3 deletes expired objects on our behalf Eg: Access log files can be set to delete after a specified period of time, Moving to Glacier is helpful for backup / long term retention / regulatory needs\n",
    "- S3 Versioning\n",
    "    - When a new object is added it'll get a version of null which will be overidden when the latest same object is added\n",
    "- S3 Cross-Region Replication\n",
    "    - Go to `Management > Replication` and add a new Rule to choose replicating data from one S3 Bucket into another in a different region so that team-mates in a different region can access it quick.\n",
    "    - The replication happens asynchronously.\n",
    "- S3 Entity Tag\n",
    "    - It is an MD5 Hash of the object stored in S3. You can verify that all your objects are the same if they have the exact same ETag.\n",
    "- S3 Performance\n",
    "    - Historically, randomizing prefixes for your object names help to better performance so that S3 can partition the best\n",
    "    - Recently, S3's request rate has increased and now requires no need to randomize object prefices to achive faster performance.\n",
    "    - For objects that are >5GB, use multipart upload\n",
    "        - Parallelizes `PUT`s for greater throughput\n",
    "        - Maximize netowrk bandwidth\n",
    "        - Decrease time to retry\n",
    "    - Use CloudFront to cache S3 objects around the world (improves  reads)\n",
    "    - S3 Transfer Acceleration (uses edge locations) – just need to change the endpoint you write to, not the code.\n",
    "    - If using SSE-KMS encryption, you may be limited to your AWS limits for KMS usage (~100s – 1000s downloads / uploads per second)\n",
    "- S3 Encryption\n",
    "    - Server Side Encryption (SSE) -S3: encrypts S3 objects using keys handled & managed by AWS\n",
    "    - SSE-KMS: leverage AWS Key Management Service to manage encryption keys\n",
    "    - SSE-C: when you want to manage your own encryption keys\n",
    "        - HTTPS must be used\n",
    "        - Encryption key must provided in HTTP headers, for every HTTP request made\n",
    "    - Client Side Encryption \n",
    "        - Client is responsible for both  encrypting and decrypting objects\n",
    "- S3 Security\n",
    "    - S3 Cross-Origin Resource Sharing (CORS)\n",
    "        - If you request data from another website, you need to enable CORS\n",
    "        - Cross Origin Resource Sharing allows you to limit the number of websites that can request your files in S3 (and limit your costs)\n",
    "    - S3 Access Logs\n",
    "    - Security\n",
    "        - User based\n",
    "            - IAM policies - which API calls should be allowed for a specific user from IAM console\n",
    "        - Resource Based\n",
    "            - Bucket Policies - bucket wide rules from the S3 console - allows cross account\n",
    "            - Object Access Control List (ACL) – finer grain\n",
    "            - Bucket Access Control List (ACL) – less common\n",
    "- S3 Glacier\n",
    "    - Low cost object storage meant for archiving / backup\n",
    "    - Data is retained for the longer term (10s of years)\n",
    "    - Alternative to on-premise magnetic tape storage \n",
    "    - Average annual durability is 99.999999999%\n",
    "    - Cost per storage per month (0.004 / GB) + retrieval cost\n",
    "    - Each item in Glacier is called “Archive” (up to 40TB)\n",
    "    - Archives are stored in ”Vaults”\n",
    "    - Exam tip: archival from S3 after XXX days => use Glacier\n",
    "    - Vault Policies (similar to Bucket Policies that control who can have access)\n",
    "    - Vault Locks (Specify a rule that can never be changed for compliance and regulation purposes)\n",
    "\n",
    "## AWS DynamoDB Overview \n",
    "- Primary Keys\n",
    "    - Can use only a partition key (HASH) or both partition key and sort key\n",
    "    - E.g. Out of movie_id, producer_name, leader_actor_name, movie_language, the movie_id would be the most suitable for a partition key because it has the highest cardinality\n",
    "- Common use cases include:\n",
    "    - Mobile apps\n",
    "    - Gaming\n",
    "    - Digital ad serving\n",
    "    - Live voting\n",
    "    - Audience interaction for live events\n",
    "    - Sensor networks\n",
    "    - Log ingestion\n",
    "    - Access control for web-based content\n",
    "    - Metadata storage for Amazon S3 objects\n",
    "    - E-commerce shopping carts\n",
    "    - Web session management\n",
    "- Anti Pattern (When DynamoDB is a bad choice)\n",
    "    - Prewritten application tied to a traditional relational database: use RDS instead\n",
    "    - Joins or complex transactions\n",
    "    - Binary Large Object (BLOB) data: store data in S3 & metadata in DynamoDB\n",
    "    - Large data with low I/O rate: use S3 instead\n",
    "    - Use DynamoDB when data is hot and you need to read from it consistently and fast\n",
    "- Provisioned Throughput\n",
    "    - RCU\n",
    "    - WCU\n",
    "- Can only query the partition key and sort key, cannot search by whether a feature = to a certain value\n",
    "    - Unless we define a Local Secondary Index but this must be done when table is created.\n",
    "    - We can also define a Global Secondary Index by going to `Indexes > Create Index`. This creates a new table but with a different primary key that you specify so that we have an alternative way of querying the table. We must define RCU and WCU for this though.\n",
    "- DynamoDB Accelerator (DAX)\n",
    "    - Solves hot partition key problem (too many reads on a single partition when a bad partition key is chosen)\n",
    "    - Use it if you have high read throughput and most reads are always the same in this case it's really nice because recent reads are cached.\n",
    "- DynamoDB Streams (Similar to Kinesis Streams)\n",
    "    - Used with Lambda to react to changes in table like when a new user is added, we can use this change to send a welcome email using lambda\n",
    "    - Can use the KCL to consume from this stream by adding a Kinesis Adapter library \n",
    "        - Alternative to using AWS Lambda\n",
    "- DynamoDB TTL (Time to Live)\n",
    "    - Service inside DyanmoDB\n",
    "    - Used to automatically delete items after their specified expiry data (maybe for regulation purposes like user data will be deleted after 7 days)\n",
    "    - Can recover deleted items within 24 hours from DynamoDB Streams\n",
    "        1. Create epoch number from date to expire item\n",
    "        2. Edit the item in DynamoDB with a new attribute of type number called `expire_on`\n",
    "        3. Go to `Overview` in console and click `Manage TTL` beside `Time to live attribute`\n",
    "        4. Type in which column to use for expiry, `expire_on`\n",
    "- DynamoDB Security"
   ]
  },
  {
   "cell_type": "markdown",
   "metadata": {},
   "source": [
    "---\n",
    "# Order History App Continued\n",
    "\n",
    "1. Create new DynamoDB table\n",
    "    - Table name: `CadabraOrders`\n",
    "    - Partition key: `CustomerID`, Number\n",
    "    - Sort key: `OrderID`, String\n",
    "2. Login to EC2 Instance\n",
    "    1. `sudo pip install boto3`\n",
    "    2. Create Credentials file so that Boto3 knows how to log in to AWS using your account credentials and what region it will be in\n",
    "        - `cd ~`\n",
    "        - `mkdir .aws` and `cd .aws/`\n",
    "        - `nano credentials`\n",
    "        - Type `[default]`\n",
    "        - Below that, type `aws_access_key_id=XXXXXX`\n",
    "        - Below that, type `aws_secret_access_key=XXXXXX`\n",
    "        - Control + O, Enter, Control + X\n",
    "    3. Create Configuration file\n",
    "        - `nano config`\n",
    "        - Type `[default]`\n",
    "        - Below that, type `region=southeast-1`\n",
    "        - Control + O, Enter, Control + X\n",
    "        - `cd ~`\n",
    "    4. Download consumer script (A python script that will continuously run, waiting to consume from a specified Kinesis Data Stream)\n",
    "        - `wget http://media.sundog-soft.com/AWSBigData/Consumer.py`\n",
    "        - `nano Consumer.py` to see that we're importing boto3 and creating a client for Kinesis that is connected to `CadabraOrders` Kinesis stream we created earlier and also a client for DynamoDB that's tied to CadabraOrders table. \n",
    "        - We then sit in a loop until we get new records from Kinesis from CadabraOrders Stream\n",
    "            - If a new record is found, it parses out all the information that was already in JSON form after the Kinesis Agent comnverted everything from CSVTOJSON in the `datapreprocssing` options\n",
    "            - Create fake `OrderID` for our unique sort key in DynamoDB\n",
    "    5. Make script executable by `chmod a+x Consumer.py`\n",
    "    6. `./Consumer.py` (Waiting for log data to come in from Kinesis Agent)\n",
    "    7. Open new Terminal and login to same EC2 instance, run `sudo ./LogGenerator.py 10` to start creating the fake orders, Kinesis Agent (Producer), configured in `agent.json`, will send the records to the Shards in our Kinesis Data Stream, CadabraOrders, and also Firehose (specified in the `flow` attribute in `agent.json`) which the running `Consumer.py` script will consume from the data stream\n",
    "    8. Check the DynamoDB table to see the new orders that have come in\n",
    "    9. We will later convert `Consumer.py` into a AWS Lambda function\n",
    "\n",
    "### Consumer.py\n",
    "```python\n",
    "#!/usr/bin/python\n",
    "\n",
    "import boto3\n",
    "import time\n",
    "import json\n",
    "import decimal\n",
    "\n",
    "# Kinesis setup\n",
    "kinesis = boto3.client(\"kinesis\")\n",
    "shard_id = \"shardId-000000000000\" \n",
    "# Configures which delivery stream we're listening to: Kinesis Data Streams (CadabraOrders)\n",
    "pre_shard_it = kinesis.get_shard_iterator(StreamName=\"CadabraOrders\", ShardId=shard_id, ShardIteratorType=\"LATEST\")\n",
    "shard_it = pre_shard_it[\"ShardIterator\"]\n",
    "\n",
    "# DynamoDB setup\n",
    "dynamodb = boto3.resource('dynamodb')\n",
    "table = dynamodb.Table('CadabraOrders')\n",
    "\n",
    "while 1==1:\n",
    "\tout = kinesis.get_records(ShardIterator=shard_it, Limit=100)\n",
    "\tfor record in out['Records']:\n",
    "\t\tprint record\n",
    "\t\tdata = json.loads(record['Data'])\n",
    "\t\tif (data['Customer'].isdigit()):\n",
    "\t\t\tinvoice = data['InvoiceNo']\n",
    "\t\t\tcustomer = int(data['Customer'])\n",
    "\t\t\torderDate = data['InvoiceDate']\n",
    "\t\t\tquantity = data['Quantity']\n",
    "\t\t\tdescription = data['Description']\n",
    "\t\t\tunitPrice = data['UnitPrice']\n",
    "\t\t\tcountry = data['Country'].rstrip()\n",
    "\t\t\tstockCode = data['StockCode']\n",
    "\n",
    "\t\t\t# Construct a unique sort key for this line item\n",
    "\t\t\torderID = invoice + \"-\" + stockCode\n",
    "\n",
    "\t\t\tresponse = table.put_item(\n",
    "\t\t\t\tItem = {\n",
    "\t\t\t\t\t'CustomerID': decimal.Decimal(customer),\n",
    "\t\t\t\t\t'OrderID': orderID,\n",
    "\t\t\t\t\t'OrderDate': orderDate,\n",
    "\t\t\t\t\t'Quantity': decimal.Decimal(quantity),\n",
    "\t\t\t\t\t'UnitPrice': decimal.Decimal(unitPrice),\n",
    "\t\t\t\t\t'Description': description,\n",
    "\t\t\t\t\t'Country': country\n",
    "\t\t\t\t}\n",
    "\t\t\t)\n",
    "\n",
    "\tshard_it = out[\"NextShardIterator\"]\n",
    "\ttime.sleep(1.0)\n",
    "```"
   ]
  },
  {
   "cell_type": "markdown",
   "metadata": {},
   "source": [
    "---\n",
    "# AWS ElastiCache\n",
    "\n",
    "Overview\n",
    "- Just like how we use AWS Relational Database Service (RDS) to get a managed relational database, we use ElastiCache to get and manage Redis / Memcached\n",
    "\n",
    "Redis\n",
    "- Redis is an in-memory key-value store\n",
    "- Super low latency (sub ms)\n",
    "- Cache survive reboots by default (it’s called persistence)\n",
    "- Great to host\n",
    "- User sessions\n",
    "- Leaderboard (for gaming)\n",
    "- Distributed states\n",
    "- Relieve pressure on databases (such as RDS)\n",
    "- Pub / Sub capability for messaging\n",
    "- Multi AZ with Automatic Failover for disaster recovery if you don’t want to lose your cache data\n",
    "- Support for Read Replicas"
   ]
  },
  {
   "cell_type": "markdown",
   "metadata": {},
   "source": [
    "---\n",
    "# Storage Quiz\n",
    "\n",
    "1. Your big data application is taking a lot of files from your local on-premise NFS storage and inserting them into S3. As part of the data integrity verification process, the application downloads the files right after they've been uploaded. What will happen?\n",
    "    - The application will receive a 200 as S3 for new `PUT` is strongly consistent\n",
    "    - Read after write consistency for PUTS of new objects\n",
    "    - As soon as an object is written, we can retrieve it\n",
    "        - ex: (PUT 200 -> GET 200)\n",
    "    - This is true, except if we did a GET before to see if the object existed\n",
    "        - ex: (GET 404 -> PUT 200 -> GET 404) – eventually consistent"
   ]
  },
  {
   "cell_type": "markdown",
   "metadata": {},
   "source": [
    "2. You are gathering various files from providers and plan on analyzing them once every month using Athena, which must return the query results immediately. You do not want to run a high risk of losing files and want to minimise costs. Which storage type do you recommend?\n",
    "    - S3 Infrequent Access (Critical Data), use 1 zone for Non-critical"
   ]
  },
  {
   "cell_type": "markdown",
   "metadata": {},
   "source": [
    "3. As part of your compliance as a bank, you must archive all logs created by all applications and ensure they cannot be modified or deleted for at least 7 years. Which solution should you use?\n",
    "    - Glacier with Vault Lock Policy"
   ]
  },
  {
   "cell_type": "markdown",
   "metadata": {},
   "source": [
    "4. You are generating thumbnails in S3 from images. Images are in the images/ directory while thumbnails in the thumbnails/ directory. After running some analytics, you realized that images are rarely read and you could optimise your costs by moving them to another S3 storage tiers. What do you recommend that requires the least amount of changes?\n",
    "    - Create a Lifecycle Rule for the images/prefix so that they can become Infrequent Access after a period of time when they aren't used"
   ]
  },
  {
   "cell_type": "markdown",
   "metadata": {},
   "source": [
    "5. In order to perform fast big data analytics, it has been recommended by your analysts in Japan to continuously copy data from your S3 bucket in us-east-1. How do you recommend doing this at a minimal cost?\n",
    "    - Enable Cross Region Replication"
   ]
  },
  {
   "cell_type": "markdown",
   "metadata": {},
   "source": [
    "6. Your big data application is taking a lot of files from your local on-premise NFS storage and inserting them into S3. As part of the data integrity verification process, you would like to ensure the files have been properly uploaded at minimal cost. How do you proceed?\n",
    "    - Compute the local ETag using the MD5 Hash algo for each file and compare them with AWS S3's ETag"
   ]
  },
  {
   "cell_type": "markdown",
   "metadata": {},
   "source": [
    "7. Your application plans to have 15,000 reads and writes per second to S3 from thousands of device ids. Which naming convention do you recommend?\n",
    "    - <device-id>/yyyy-mm-dd/...\n",
    "    - you get about 3k reads per second per prefix, so using the device-id will help having many prefixes and parallelize your writes"
   ]
  },
  {
   "cell_type": "markdown",
   "metadata": {},
   "source": [
    "8. You are looking to have your files encrypted in S3 and do not want to manage the encryption yourself. You would like to have control over the encryption keys and ensure they're securely stored in AWS. What encryption do you recommend?\n",
    "    - SSE-KMS"
   ]
  },
  {
   "cell_type": "markdown",
   "metadata": {},
   "source": [
    "9. Your website is deployed and sources its images from an S3 bucket. Everything works fine on the internet, but when you start the website locally to do some development, the images are not getting loaded. What's the problem?\n",
    "    - S3 Cross Origin Resource Sharing"
   ]
  },
  {
   "cell_type": "markdown",
   "metadata": {},
   "source": [
    "10. What's the maximum number of fields that can make a primary key in DynamoDB?\n",
    "    - 2 (Partition Key + Sort Key)"
   ]
  },
  {
   "cell_type": "markdown",
   "metadata": {},
   "source": [
    "11. What's the maximum size of a row in DynamoDB ?\n",
    "    - 400KB"
   ]
  },
  {
   "cell_type": "markdown",
   "metadata": {},
   "source": [
    "12. You are writing item of 8 KB in size at the rate of 12 per seconds. What WCU do you need?\n",
    "    - 8 * 12 = 96 WCU"
   ]
  },
  {
   "cell_type": "markdown",
   "metadata": {},
   "source": [
    "13. You are doing strongly consistent read of 10 KB items at the rate of 10 per second. What RCU do you need?\n",
    "    - 10 KB gets rounded to 12 KB, divided by 4KB = 3, times 10 per second = 30 RCU"
   ]
  },
  {
   "cell_type": "markdown",
   "metadata": {},
   "source": [
    "14. You are doing 12 eventually consistent reads per second, and each item has a size of 16 KB. What RCU do you need?\n",
    "    - we can do 2 eventually consistent reads per seconds for items of 4 KB with 1 RCU\n",
    "    - $\\frac{12}{2} + \\text{ceil(}\\frac{16}{4}\\text{)} = 24$ RCU"
   ]
  },
  {
   "cell_type": "markdown",
   "metadata": {},
   "source": [
    "15. We are getting a ProvisionedThroughputExceededExceptions but after checking the metrics, we see we haven't exceeded the total RCU we had provisioned. What happened?\n",
    "    - We have a hot partition / hot key\n",
    "    - remember RCU and WCU are spread across all partitions"
   ]
  },
  {
   "cell_type": "markdown",
   "metadata": {},
   "source": [
    "16. You are about to enter the Christmas sale and you know a few items in your website are very popular and will be read often. Last year you had a ProvisionedThroughputExceededException. What should you do this year?\n",
    "    - Create a DAX Cluster"
   ]
  },
  {
   "cell_type": "markdown",
   "metadata": {},
   "source": [
    "17. You would like to react in real-time to users de-activating their account and send them an email to try to bring them back. The best way of doing it is to...\n",
    "    - Integrate Lambda with a DynamoDB stream"
   ]
  },
  {
   "cell_type": "markdown",
   "metadata": {},
   "source": [
    "18. You would like to have DynamoDB automatically delete old data for you. What should you use?\n",
    "    - Use TTL"
   ]
  },
  {
   "cell_type": "markdown",
   "metadata": {},
   "source": [
    "19. You are looking to improve the performance of your RDS database by caching some of the most common rows and queries. Which technology do you recommend?\n",
    "    - ElastiCache"
   ]
  },
  {
   "cell_type": "markdown",
   "metadata": {},
   "source": [
    "---\n",
    "## Resources:\n"
   ]
  }
 ],
 "metadata": {
  "kernelspec": {
   "display_name": "Python 3",
   "language": "python",
   "name": "python3"
  },
  "language_info": {
   "codemirror_mode": {
    "name": "ipython",
    "version": 3
   },
   "file_extension": ".py",
   "mimetype": "text/x-python",
   "name": "python",
   "nbconvert_exporter": "python",
   "pygments_lexer": "ipython3",
   "version": "3.6.7"
  }
 },
 "nbformat": 4,
 "nbformat_minor": 2
}
