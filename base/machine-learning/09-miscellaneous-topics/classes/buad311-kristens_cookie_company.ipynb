{
 "cells": [
  {
   "cell_type": "markdown",
   "metadata": {},
   "source": [
    "# BUAD 311: Kristen's Cookie Company (A1) \n",
    "By: Chengyi (Jeff) Chen\n",
    "\n",
    "Kristen's Cookie Company's selling point: \n",
    "1. Made to bake cookies\n",
    "2. Customizable\n",
    "\n",
    "Physical Operations (PO):\n",
    "1.\tWash equipment and mix cookie ingredients \n",
    "    - Hold <= 36 cookies / batch, 6 min, You\n",
    "2.\tSpoon cookies \n",
    "    - 12 cookies / tray, 2 min, You\n",
    "3.\tPut cookies in oven and timer \n",
    "    - 1 tray, 1 min, Roommate\n",
    "4.\tBake cookies \n",
    "    - 1 tray, 9 min, Roommate\n",
    "5.\tRemove and cool \n",
    "    - 5 min, Roommate\n",
    "6.\tPack cookies \n",
    "    - 2 min / 12 cookies, Roommate\n",
    "7.\tAccept payment \n",
    "    - 1 min, Roommate\n",
    "\n",
    "Variable Costs:\n",
    "1. Cost of Ingredients \n",
    "    - USD 0.60 / 12 cookies or USD 0.05 / cookie\n",
    "2. Cost of box \n",
    "    - USD 0.10 / box (holds 12 cookies) or USD 0.00833 / cookie"
   ]
  },
  {
   "cell_type": "markdown",
   "metadata": {},
   "source": [
    "1.\tHow long will it take you to fill a rush order?\n",
    "    - Time to fill Rush Order assumming 1. An order <= 12 cookies, 2. No need to preheat oven \n",
    "        - 26 min"
   ]
  },
  {
   "cell_type": "markdown",
   "metadata": {},
   "source": [
    "2.\tHow many orders can you fill in a night, assuming you are open four hours (240 min) each night?\n",
    "    - Assuming that Demand for cookies is always high, meaning every night has infinitely many orders to fill:\n",
    "        - Best Case Scenario:\n",
    "            1. All orders come in before we start baking\n",
    "            2. Any customer that orders orders the exact same type of cookie (customizability option is ignored)\n",
    "                - Number of orders (order - 12 cookies) / night: 22 orders (*Refer to excel file analysis*)\n",
    "        - Worst Case Scenario:\n",
    "            1. Every customer orders a different customization  and only has a single order of dozen (Meaning that at any point in time max utilization of electric mixer is 33.33\\%)\n",
    "                - Number of orders (order - 12 cookies) / night: 22 orders (*Refer to excel file analysis*)\n",
    "     - Because bottleneck is at roommates side, best case and worst case scenario has the same maximum number of orders fillable because customization affects my side of the process. "
   ]
  },
  {
   "cell_type": "markdown",
   "metadata": {},
   "source": [
    "3.\tHow much of your own and your roommate’s valuable time will it take to fill each order?\n",
    "    - Assuming **valuable time** is defined as *non-idle time dedicated for a single order*:\n",
    "        - Case 1: Assuming open 4 hours a night:\n",
    "            - You \n",
    "                - 92 min / 22 orders = 4.18 min / order on average\n",
    "            - Roommate \n",
    "                - (236 min\n",
    "                - $-$ (8 min waiting for first batch of cookie dough \n",
    "                    - $+$ 9 min waiting for first order of cookies to bake \n",
    "                    - $+$ 10 odd orders * 2 min waiting for previous cookies to finish baking \n",
    "                    - $+$ 10 even orders * 2 min waiting for previous cookies to finish baking)\n",
    "                - ) / 22 orders = 8.14 min / order on average\n",
    "        - Case 2: Assuming first order:\n",
    "            - You \n",
    "                - PO1 (6 min) + PO2 (2 min) = 8 min\n",
    "            - Roommate\n",
    "                - PO3 (1 min) + PO6 (2 min) + PO7 (1 min) = 4 min"
   ]
  },
  {
   "cell_type": "markdown",
   "metadata": {},
   "source": [
    "4.\tBecause your baking trays can hold exactly one dozen cookies, you will produce and sell cookies by the dozen. Should you give any discount for people who order two dozen cookies, three dozen cookies, or more? If so, how much? Will it take you any longer to fill a two-dozen cookie order than a one-dozen cookie order?\n",
    "\n",
    "    - Minimum Wage in California 2019 - USD 12.00 / hr (USD 0.20 / min)\n",
    "    - Every subseqent dozen of cookies take 10 min to fill\n",
    "    - Assuming a person orders only a single customization of cookies:\n",
    "        - 1 dozen of cookies\n",
    "            - Total cost / dozen cookies \n",
    "            - = Fixed cost / dozen cookies assuming Case 2 + Variable cost / dozen cookies \n",
    "            - = (USD 0.20 / min * (8 min + 4 min)) + (USD 0.70 / dozen cookies)\n",
    "            - = USD 3.00 / dozen cookies\n",
    "        - 2 dozen of cookies\n",
    "            - Total cost / dozen cookies \n",
    "            - = Fixed cost / dozen cookies assuming Case 2 + Variable cost / dozen cookies \n",
    "            - = ((USD 0.20 / min * (10 min + 8 min)) + (2 * USD 0.70 / dozen cookies)) / 2\n",
    "            - = USD 2.50 / dozen cookies\n",
    "        - 3 dozen of cookies\n",
    "            - Total cost / dozen cookies \n",
    "            - = Fixed cost / dozen cookies assuming Case 2 + Variable cost / dozen cookies \n",
    "            - = ((USD 0.20 / min * (12 min + 12 min)) + (3 * USD 0.70 / dozen cookies)) / 3\n",
    "            - = USD 2.30 / dozen cookies\n",
    "                \n",
    "    - Assuming we want to maintain a profit margin of 20\\%,\n",
    "        - Revenue / dozen cookies: 3.60 / dozen cookies\n",
    "        - Hence, we can give up to \n",
    "            - $\\frac{USD 3.60 - (USD 2.50 * 120\\%)}{USD 3.60} = \\frac{USD 3.60 - USD 3.00}{USD 3.60} =  \\frac{USD 0.60}{USD 3.60} = 16.67\\%$ discount for 2 dozen cookies orderred **OR**\n",
    "            - $\\frac{USD 3.60 - (USD 2.30 * 120\\%)}{USD 3.60} = \\frac{USD 3.60 - USD 2.76}{USD 3.60} =  \\frac{USD 0.84}{USD 3.60} = 23.33\\%$ discount for 3 dozen cookies orderred"
   ]
  },
  {
   "cell_type": "markdown",
   "metadata": {},
   "source": [
    "5. How many electric mixers and baking trays will you need?\n",
    "\n",
    "    - Since we're using a capacity of 3 dozen cookies per mixer this case, we'll only need 1 mixer since it's really only used once to mix the cookie dough\n",
    "    - With a max capacity of 3 dozen cookies per electric mixer, we will need at least 3 trays"
   ]
  },
  {
   "cell_type": "markdown",
   "metadata": {},
   "source": [
    "6. Are there any changes you can make in your production plans that will allow you to make better cookies or more cookies in less time or at lower cost? For example, is there a bottleneck operation in your production process that you can expand cheaply? What is the effect of adding another oven? How much would you be willing to pay to rent an additional oven?\n",
    "\n",
    "    - The bottleneck is the oven since the Roommate wastes 2 min between subsequent processing of orders\n",
    "    - Renting an additional oven would help us eliminate that 2 min wasted between subsequent orders waiting for the single oven to finish baking the cookies. \n",
    "    - For the 22 orders previously, we wasted 40 min in total waiting for the oven to finish baking the previous batch of cookies. Because the rate at which I prepare the cookie mix for my roomate to place into the oven far exceeds his / her process rate, if we had 2 ovens, and before optimizing the processes further with the two ovens, at minimumn, we have 40 min extra to process orders, increasing the minimum bound on our max order capacity from 22 to 26 orders per night. That translates to a minimum of USD 0.60 * 4 = USD 2.40 extra profit / night (again assuming infinite demand and no discounts given for orders about a dozen). Hence, with our unoptimized process, we'll be willing to pay USD 2.40 / night for renting the additional oven to break-even but satisfy more customers.\n",
    "    - Also, it might be good to hire someone else to help out with the roommate's section of the process, (along with this, buy more trays and electric mixers... However, all this really depends on the expected demand)."
   ]
  }
 ],
 "metadata": {
  "kernelspec": {
   "display_name": "Python 3",
   "language": "python",
   "name": "python3"
  },
  "language_info": {
   "codemirror_mode": {
    "name": "ipython",
    "version": 3
   },
   "file_extension": ".py",
   "mimetype": "text/x-python",
   "name": "python",
   "nbconvert_exporter": "python",
   "pygments_lexer": "ipython3",
   "version": "3.7.3"
  }
 },
 "nbformat": 4,
 "nbformat_minor": 2
}
