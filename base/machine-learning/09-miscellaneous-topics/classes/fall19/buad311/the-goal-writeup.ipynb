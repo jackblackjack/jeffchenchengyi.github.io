{
 "cells": [
  {
   "cell_type": "markdown",
   "metadata": {},
   "source": [
    "# The Goal\n",
    "\n",
    "Answer and prepare to discuss the following questions in class. Do not exceed two pages.\n",
    "\n",
    "Questions:\n",
    "\n",
    "Each time Alex Rogo spoke with Jonah, he and his colleagues learned something new about how to run their plant. For each time Alex Rogo and Jonah spoke, describe briefly what Alex and his group learned. (Do not just repeat what Jonah told Alex.)\n",
    "\n",
    "As a reminder, here is a list of the significant times that Alex and Jonah spoke (Note that the page numbers may be slightly off depending on your book’s version):"
   ]
  },
  {
   "cell_type": "markdown",
   "metadata": {},
   "source": [
    "---\n",
    "### 1. Their chance meeting in the airport lounge p26\n",
    "- True productivity does not increase if people's expense, inventories didn't go down, or the true profit didn't go up\n",
    "- Alex doesn't dismiss the conversation with Jonah just because Jonah made snide remarks about his manufacturing plant but uses it as an opportunity to learn from Jonah\n",
    "- Alex seizes the opportunity to walk Jonah to the airplane to get more time to discuss the issues at his manufacturing plant even thoguh his drink just arrived\n",
    "- Productivity only means something when you've set a definite goal and the goal of any organization is to make money"
   ]
  },
  {
   "cell_type": "markdown",
   "metadata": {},
   "source": [
    "---\n",
    "### 2. Alex finds his old address book and contacts Jonah p57\n",
    "- The Goal of every manufacturing plant is to make money\n",
    "- The Goal can be reformatted \n",
    "    - \"Making money\" = \"Increase ROI and Cash Flow\"\n",
    "- Precise Measurements of Increasing Net profit that does not account for \"value added\"\n",
    "    1. Throughput: Rate at which system generates money through sales, not production\n",
    "    2. Inventory: All the money that the system has invested in purchasing things which it intends to sell\n",
    "    3. Operational Expense: All the money the system spends in order to turn inventory into throughput\n",
    "- We need to be concerned with global optimas (how well the entire organization performs as a whole), not local optimas (how well individual parts perform)\n",
    "    - A chain is only as strong as its weakest link"
   ]
  },
  {
   "cell_type": "markdown",
   "metadata": {},
   "source": [
    "---\n",
    "### 3. Alex visits Jonah in New York City p77 (This leads into boy’s scout hike)\n",
    "- Having everyone in the plant working at full capacity makes a very inefficient plant\n",
    "- The goal of plant managers is to create a balanced plant: Capcity of each and every resource is bal;anced exactly with demand from the market\n",
    "- Laying off workers only reduces operational expense\n",
    "- The goal is to reduce operational expense, inventory, and  also increase throughput\n",
    "- When we trim capacity to balance market demand, throughput will always decrease and inventory will always increase (increasing carrying cost: how much it takes to hold inventory), so total operating expenses don't decrease when these two phenoma happen concurrently:\n",
    "    1. Dependent Events\n",
    "    2. Statistical Fluctuations: Arising from \"unprecisely-predictable\" actions in a process\n",
    "- Getting answers simply can lead to failure"
   ]
  },
  {
   "cell_type": "markdown",
   "metadata": {},
   "source": [
    "---\n",
    "### 4. Alex, Bob, Stacey, Lou, and Ralph call Jonah p137\n",
    "- Because of the 2 phenomena, we need to optimize the entire operations system rather than look at each part of the process in isolation\n",
    "- Identify:\n",
    "    1. Bottleneck resources\n",
    "    2. Non-bottleneck resources\n",
    "- Should not balance *capacity* with *demand* but balance *flow of product* with *demand*\n",
    "- They realize that they have to first use data to forecast the market demand for the resources to discover which are the bottlenecks"
   ]
  },
  {
   "cell_type": "markdown",
   "metadata": {},
   "source": [
    "---\n",
    "### 5. Jonah visits the plant p150\n",
    "- Need to increase capacity of bottlenecks\n",
    "- No percentage of bottleneck's time should be idle\n",
    "- The true cost of work in progress is how much revenue you're losing as a result of not shipping the final product because of those work in progress\n",
    "- Shift all processes after the bottleneck to before the bottleneck if possible like quality control\n",
    "    - Make sure that all the work in progress parts going through the bottleneck will actually turn into shippable products or else we're wasting the bottleneck's time on nothing\n",
    "- Because the bottlenecks control the process capacity, any time lost in bottlenecks causes time lost in the entire system and hence, throughput"
   ]
  },
  {
   "cell_type": "markdown",
   "metadata": {},
   "source": [
    "---\n",
    "### 6. Jonah visits the plant a second time p201\n",
    "- When we have non-bottlenecks in front of bottlenecks in the process, we get excess inventory\n",
    "- And in any linear combination of bottlenecks and non-bottlenecks, the best throughput we can push is determined by the bottleneck, else there will be excess inventory\n",
    "- \"Activating a resource $\\not=$ Utilizing a resource\""
   ]
  },
  {
   "cell_type": "markdown",
   "metadata": {},
   "source": [
    "---\n",
    "### 7. Jonah calls Alex from Singapore p225\n",
    "- Cut batch sizes in half on non-bottlenecks\n",
    "- Time that material spends inside the plant can be categorized into:\n",
    "    - Small Percentage of total time:\n",
    "        1. Setup time, when waiting for resource to work on the part\n",
    "        2. Process time, when material is being modified\n",
    "    - Large Percentage of total time:\n",
    "        3. Queue time, when waiting for a resource when resource is busy (Bottlenecks)\n",
    "        4. Wait time, when waiting for another part so that they can be assembled together (Non-bottlenecks)\n",
    "- An hour saved on non-bottleneck isn't exactly an hour saved on the entire system like with a bottleneck because the non-bottleneck was already idle\n",
    "- When we are confident that we can deliver we should be committed into performing"
   ]
  },
  {
   "cell_type": "markdown",
   "metadata": {},
   "source": [
    "### 8. Alex calls Jonah in New York p 259\n",
    "- Managing a manufacturing plant, a division, an organization of any size, or even managing your own life can be reduced to a question of what techniques you need for effective management.\n",
    "- As responsibilities grow, you have to start depending more on your own and finding out the answers yourself instead of depending on others to find the answer or spoon-feed you the answer directly."
   ]
  }
 ],
 "metadata": {
  "kernelspec": {
   "display_name": "Python 3",
   "language": "python",
   "name": "python3"
  },
  "language_info": {
   "codemirror_mode": {
    "name": "ipython",
    "version": 3
   },
   "file_extension": ".py",
   "mimetype": "text/x-python",
   "name": "python",
   "nbconvert_exporter": "python",
   "pygments_lexer": "ipython3",
   "version": "3.7.3"
  }
 },
 "nbformat": 4,
 "nbformat_minor": 2
}
