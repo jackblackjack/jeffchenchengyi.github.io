{
 "cells": [
  {
   "cell_type": "markdown",
   "metadata": {},
   "source": [
    "# Process Analysis & Capacity Management"
   ]
  },
  {
   "cell_type": "markdown",
   "metadata": {},
   "source": [
    "What happens after we cross-train workers?\n",
    "\n",
    "$$\n",
    "\\begin{aligned}\n",
    "\\text{Average Processing Time} &= \\sum_{i = 0}^{n}\\frac{\\text{Demand for item }i}{\\text{Total Demand for all items}}\\times\\text{Processing Time for item }i \\\\\n",
    "&= \\sum_{i = 0}^{n}\\text{Proportion of item }i\\times\\text{Processing Time for item }i\n",
    "\\end{aligned}\n",
    "$$"
   ]
  },
  {
   "cell_type": "code",
   "execution_count": null,
   "metadata": {},
   "outputs": [],
   "source": []
  }
 ],
 "metadata": {
  "kernelspec": {
   "display_name": "Python 3",
   "language": "python",
   "name": "python3"
  },
  "language_info": {
   "codemirror_mode": {
    "name": "ipython",
    "version": 3
   },
   "file_extension": ".py",
   "mimetype": "text/x-python",
   "name": "python",
   "nbconvert_exporter": "python",
   "pygments_lexer": "ipython3",
   "version": "3.7.4"
  }
 },
 "nbformat": 4,
 "nbformat_minor": 2
}
