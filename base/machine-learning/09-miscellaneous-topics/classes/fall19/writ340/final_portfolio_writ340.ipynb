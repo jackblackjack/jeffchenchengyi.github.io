{
 "cells": [
  {
   "cell_type": "markdown",
   "metadata": {},
   "source": [
    "# WRIT 340: Final Portfolio"
   ]
  },
  {
   "cell_type": "markdown",
   "metadata": {},
   "source": [
    "---\n",
    "## Illumin Article: Tired of figuring out which shoes complement your outfit? Get an AI to do it for you!\n",
    "\n",
    "By: Chengyi (Jeff) Chen\n",
    "\n",
    "Chengyi (Jeff) Chen is a junior studying Computer Science and Business Administration at the University of Southern California. He can be contacted via email: chen364@usc.edu, or cell: (626) 716-8409. Keywords: ['Recommender Systems', 'Outfit Compatitibility Learning', 'Graph Neural Networks']"
   ]
  },
  {
   "cell_type": "markdown",
   "metadata": {},
   "source": [
    "### Abstract"
   ]
  },
  {
   "cell_type": "markdown",
   "metadata": {},
   "source": [
    "*Can we train an AI model to tell out how compatible outfit components are to each other (also known as Outfit Compatitibility Learning)? Researchers from University of Chinese Academy of Sciences have developed \"Node-wise Graph Neural Networks\", a type of AI model that can be trained to output a score for any given outfit. To understand how such an AI model works, we will clarify what \"neural networks\" - The foundational algorithm used to mimic how human brains learn -, and specifically \"graph neural networks\" mean. Having a brief familiarity with this new vocabulary will undoubtedly assist in our understanding of how \"Outfit Compatitibility Learning\" is at the intersection of many subfields of AI problems, and how this new breakthrough would not only revolutionalize the way many online fashion sites recommend outfits, but also how many e-commerce sites recommend their products to customers like you and I.*"
   ]
  },
  {
   "cell_type": "markdown",
   "metadata": {},
   "source": [
    "## Introduction"
   ]
  },
  {
   "cell_type": "markdown",
   "metadata": {},
   "source": [
    "Acquiring a new customer is much harder than retaining one, which is why many ecommerce platforms invest significant resources towards improving their customers' user experience on the website [1]. One way to improve the user experience is to recommend products that are highly relevant to the potential / existing customer. Hence, the recommendation engines responsible for producing these recommendations have become an extremely researched topic, especially in the field of AI. By combining the massive amount of user data available with the decades of research on AI models, we can engineer more sophisticated recommendation engines than ever before. Interestingly, an application that researchers have been particularly interested in involves AI in Fashion, particularly Outfit Compatibility Learning - building an AI model that can understand whether an outfit is \"good\" or not. Reseachers from University of Chinese Academy of Sciences have recently developed \"Node-wise Graph Neural Networks\" to accomplish this. They have carried out experiments to prove that their model is superior to past works in 2 primary tasks - suggesting \"an item that matches with existing components of (an) outfit\" and \"predicting the compatibility scores of given outfits\" [2]. But before we dive in to understanding how their model works, we have to clarify what a basic \"neural network\" is. "
   ]
  },
  {
   "cell_type": "markdown",
   "metadata": {},
   "source": [
    "## Neural Networks"
   ]
  },
  {
   "cell_type": "markdown",
   "metadata": {},
   "source": [
    "Similar to how phyllo pastries form the basis for a multitude of French desserts, neural networks form the foundation for many state-of-the-art AI models. We can understand the neural network as a technique to solve problems that humans can and cannot easily solve by modelling how the human brain works on a high level, hence it forms the core of what we know as Artificial Intelligence. The simplest task that it can solve is approximating functions like the sine / cosine function within a range of inputs. A slightly more complicated problem that it can solve is recognizing hand-written digits, or classifying images as containing cats or dogs. In the case of handwritten digits, we can see the neural network as a \"black-box\" model that takes as numerical input the pixel values of an image of a handwritten digit and producing an output of which of the 10 digits from 0-9 does the image belong under.\n",
    "\n",
    "#### Figure 1: Neural Network with Handwritten Digit Input\n",
    "<img src=\"https://3.bp.blogspot.com/-mDyzBzA4btg/V4_Z0f2mc7I/AAAAAAAAE3M/dtU8hT661fQWtnRC_JvIH_4qifQomZ4PACLcB/s1600/MNIST_neuralnet_image.png\" />"
   ]
  },
  {
   "cell_type": "markdown",
   "metadata": {},
   "source": [
    "### What is a Neural Network?"
   ]
  },
  {
   "cell_type": "markdown",
   "metadata": {},
   "source": [
    "A neural network roughly models after the architecture of the human brain - a complex network of neurons. As seen from Fig. 2: Biological Vs. Artificial Neuron, the foundational unit of the brain is a biological neuron, a cell that's responsible from transmitting electrical signals from one cell to another. In a neural network however, we have artificial neurons that take in numerical inputs rather than electrical signals, and they get processed into a new number that is then fed into a subsequent set of artificial neurons.  When we connect multiple layers of these set of artificial neurons (represented as circles in Fig. 2 and 3), we get the basic structure of a neural network as seen from Fig. 3. The first layer of artificial neurons is called the input layer, which takes in numerical data, while the last layer is called the output layer, which produces the final number(s) that are required to solve our problem at hand. The layers in the middle are called the hidden layers of the neural network, which is where most of the \"black-box\" magic of a neural network's versatility and ability to solve problems lie. According to the Universal Approximation Theorem, a neural network with simply 1 hidden layer is capable of approximating any function within a fixed range [3]. Now that we have a birdseye view of the architecture of the neural network, we're poised to look deeper into how the input data is actually being processed in the artificial neuron.\n",
    "\n",
    "The processing that happens in the artificial neuron is, in the simplest case, carried out by multiplying the numerical input data by a set of numbers called **\"weights\"**, summing everything up, adding another specific weight value called the **\"bias\"**, and finally passing in everything into another function known as an **\"activation function\"** (whose purpose is beyond the scope of this article), to get the final output of the neuron. In the case of recognizing handwritten digits again where input data is the pixel values of the image of the handwritten digit, we can loosely understand what a single artificial neuron does as merging information about neighbouring pixels to produce a single value. What this single neuron does parallels what the neural network as a whole does too - merging information about the entire handwritten digit image to a single value representing the digit contained in the image.\n",
    "\n",
    "#### Figure 2: Biological Vs. Artificial Neuron\n",
    "<img src='https://miro.medium.com/max/610/1*SJPacPhP4KDEB1AdhOFy_Q.png' />\n",
    "\n",
    "#### Figure 3: Neural Network\n",
    "<img src='https://miro.medium.com/max/2460/1*KHs1Chs6TCJDTIIQVyIJxg.png' />"
   ]
  },
  {
   "cell_type": "markdown",
   "metadata": {},
   "source": [
    "### Training a Neural Network "
   ]
  },
  {
   "cell_type": "markdown",
   "metadata": {},
   "source": [
    "But how do we get those magical **\"weights\"** and **\"bias\"** mentioned before? We get them via \"training\" the network, which is the process of tuning those **\"weights\"** and **\"biases\"** to get our desired output for a given input. Imagine we're trying to set the optimal temperature for a warm bath - we start off with a random position of the knob. \"Ouch! That's too hot\" - we adjust the knob to make it colder. \"Oops! Too cold!\" - now we will adjust it abit warmer until we get the best temperature. The little adjustments we make by finding the \"optimal\" temperature for a bath is very similar to the adjustments we make to the **\"weights\"** and **\"biases\"** in order to find the optimal set of weights for out optimization problem. In reality, we don't manually tune those **\"weights\"** and **\"biases\"**, but rather have an algorithm perform those adjustments automatically. One such algorithm is called **\"Gradient Descent\"**. Previously in our handwritten digit recognition example, we will first initialize all the **\"weights\"** and **\"biases\"** to random values. Subsequently, after feeding in the pixel values of a handwritten digit image such as 7 into the neural network and all of its neurons to get a single value representing the digit recognized in the image, we will compare it to the ground truth. Based on how far off the predicted digit is from the actual value, **\"Gradient Descent\"** will adjust all the **\"weights\"** and **\"biases\"** in the neural network to ensure that the neural network has the correct set of **\"weights\"** and **\"biases\"** to correctly recognize the digit in that image the next time. In essence, we will repeat this step for all the handwritten digit images we have in our dataset to ensure that the neural network can generalize and recognize digits for even handwritten digit images not inside our dataset. Of course, there are further technical details in how we ensure a neural network's generalizability, but that's beyond the scope of this article. "
   ]
  },
  {
   "cell_type": "markdown",
   "metadata": {},
   "source": [
    "## Graph Neural Networks"
   ]
  },
  {
   "cell_type": "markdown",
   "metadata": {},
   "source": [
    "Now that we've gained some basic theory behind neural networks, we can finally dive into Graph Neural Networks and how they can be used in suggesting \"an item that matches with existing components of (an) outfit\" and \"predicting the compatibility scores of given outfits\" [2]. The main difference between a basic neural network and a graph neural network is that in graph neural networks we explicitly try to encode a relationship between our input data. For our handwritten digits example, in a graph neural network, we have another set of \"**weights**\" representing the relationship between each pixel value we input to the network. This might be because we believe that a pixel that's nearer to another pixel has a higher likelihood of having the same pixel value than one that is further away. As you can see from Fig. 4, lines connecting pixel locations, represented as blue circles, are darker for pixel locations closer to each other than for pixel locations further away from each other, representing a weaker relationship. Hence, the graph in graph neural networks represent the fact we will be representing our input data as graphs.\n",
    "\n",
    "#### Figure 4: Handwritten Digit Image as Graph\n",
    "\n",
    "<img src='https://miro.medium.com/max/2160/1*Kji3yJN0cT6RwO11h0Mh6A.png'/>\n",
    "\n",
    "In the context of our research paper of interest, the researchers have modelled the components of an outfit as graphs, as observed in Fig. 5. But how do they get the input data from the fashion items? They used a combination of visual as well as textual data that is provided by a company called Polyvore, a startup that allowed users combine image collages for home decoration, beauty and fashion inspiration. After processing the visual and textual data into numerical formats that the computer and neural network can actually \"understand\" (using techniques beyond the scope of this article), this new input data is then passed through the graph neural network to train and optimize those \"**weights**\" and \"**biases**\", including those that are used to represent the relationships between each fashion item. This process is again carried out by using the **\"Gradient Descent\"** algorithm mentioned previously. \n",
    "\n",
    "To clarify how the entire process would look like from a birds-eye view, let's discuss the task of suggesting \"an item that matches with existing components of (an) outfit\", taking the outfit in Fig. 6 for example. After setting up the entire Fashion Graph for all the possible outfit components in the dataset, we will then process both the images of all the outfits as well as their descriptions (category and title). The processed numerical output from the images and descriptions of the blue coat, yellow skirt, and blue high heels will now be fed into the graph neural network to produce a prediction of which outfit item in the entire Fashion Graph best matches the actual component missing from the complete outfit - the yellow and blue necklace. Again, if our prediction was wrong, by using the **\"Gradient Descent\"** algorithm, we'll tune the \"**weights**\" and \"**biases**\" of the graph neural network in order to ensure that this prediction is correct the next time. After completing this workflow for all the items in the dataset, the specific graph neural network that these researchers used proved to be the most accurate model amongst previous methods.\n",
    "\n",
    "#### Figure 5: Fashion Graph\n",
    "\n",
    "<img src='https://user-images.githubusercontent.com/31842786/70362192-ee17e500-1838-11ea-88b0-fa5e30d589fc.png' />\n",
    "\n",
    "#### Figure 6: Polyvore Dataset Description\n",
    "\n",
    "<img src='https://user-images.githubusercontent.com/31842786/70362207-fa03a700-1838-11ea-99e4-aee7201c9d46.png' />"
   ]
  },
  {
   "cell_type": "markdown",
   "metadata": {},
   "source": [
    "## Future of Recommender Engines"
   ]
  },
  {
   "cell_type": "markdown",
   "metadata": {},
   "source": [
    "As mentioned at the start, this type of research falls under a more general category called Recommender Engines / Sytems that are responsible for improving the product recommendation process for ecommerce companies. The levels of complexity that can be incorporated into recommender systems only increase from here. For example, recommender systems can also exploit time-sensitive data about when users access the application most frequently to send targeted ads at different times of the day [4]. Neural network recommender systems such as the Graph Neural Network for Outfit Compatibility Learning we have talked about are now the state-of-the-art techniques because of their abilities to capture \"intricate relationships within the data itself, from abundant accessible data sources such as contextual, textual and visual information\" [5]. However, there are also other less obvious factors that we need to account for in building recommender systems, such as the **serendipity** factor when it comes to recommendations. A recommendation is not just about how accurate it is; recommendations that are unexpectedly good are also important in providing users with that \"wow\" experience. As the complexity of these models grow over time and \"absorb\" even more data, these recommender systems will certainly become more powerful in predicting our needs and wants much further into the future than we could possibly imagine, enhancing our user experience of these products ever more delightfully."
   ]
  },
  {
   "cell_type": "markdown",
   "metadata": {},
   "source": [
    "### References\n",
    "\n",
    "[1] T. Landis, “Customer Retention Marketing vs. Customer Acquisition Marketing,” OutboundEngine, 31-Oct-2019. [Online]. Available: https://www.outboundengine.com/blog/customer-retention-marketing-vs-customer-acquisition-marketing/. [Accessed: 27-Nov-2019].\n",
    "\n",
    "[2] Cui, Zeyu, Li, Zekun, Wu, Shu, Zhang, Xiaoyu, Wang, and Liang, “Dressing as a Whole: Outfit Compatibility Learning Based on Node-wise Graph Neural Networks,” arXiv.org, 21-Feb-2019. [Online]. Available: https://arxiv.org/abs/1902.08009v1. [Accessed: 27-Nov-2019].\n",
    "\n",
    "[3] “Universal approximation theorem,” Wikipedia, 22-Nov-2019. [Online]. Available: https://en.wikipedia.org/wiki/Universal_approximation_theorem. [Accessed: 28-Nov-2019].\n",
    "\n",
    "[4] P. G. Campos, F. Díez, and I. Cantador, “Time-aware recommender systems: a comprehensive survey and analysis of existing evaluation protocols,” SpringerLink, 15-Feb-2013. [Online]. Available: https://link.springer.com/article/10.1007/s11257-012-9136-x. [Accessed: 29-Nov-2019].\n",
    "\n",
    "[5] S. Zhang, L. Yao, A. Sun, and Y. Tay, “Deep Learning Based Recommender System,” ACM Computing Surveys, vol. 52, no. 1, pp. 1–38, 2019."
   ]
  },
  {
   "attachments": {},
   "cell_type": "markdown",
   "metadata": {},
   "source": [
    "---\n",
    "## Ethics Paper: The Information Due to the Customer \n",
    "By: Chengyi (Jeff) Chen"
   ]
  },
  {
   "attachments": {},
   "cell_type": "markdown",
   "metadata": {},
   "source": [
    "A local silicon chip manufacturer you work for just signed a deal to produce custom silicon chips for a new client in the business of producing computer processing units (CPU). As one of the company’s senior engineers, you discovered significantly cheaper materials to use for producing the custom silicon chips. Although, they will degrade the overall quality of your client’s computer processing units slightly. Should you reveal the existence of these cheaper substitutes to the client, or turn a blind eye, allowing your company to secretly turn a profit using the cheaper materials? ALPHATECH’s engineer Christine is at crossroads with this dilemma and I believe that the best way forward is to fight to reveal the truth. The benefits of doing this, such as building trust with our clients and setting an example to instill a corporate culture rid of any motivated blindness or ill-conceived goals will outweigh the cons of losing an opportunity for profit gain, and a possible promotion. Furthermore, such a strategy will promote the virtue of integrity, wisdom, and fairness.\n",
    "\n",
    "ALPHATECH receives an order for 10,000 custom silicon chips from BETATECH and agrees to manufacture the chips at \\$100 / chips. However, after the agreement is completed, Christine Carsten, a senior engineer at ALPHATECH realizes that a much cheaper metal alloy can be substituted in during the production of the silicon chips which would cut ALPHATECH’s cost by \\$20 / chip, at the cost of slightly compromising the chips’ quality and possibly reducing its useful life. \n",
    "\n",
    "Christine proceeds to confront the person who closed the deal with BETATECH, ALPHATECH’s Head of Business Development Dave Waller. After listening to Christine’s analysis, Dave asks if BETATECH will notice any difference, to which Christine replied, “No, unless BETATECH performed extremely thorough tests”. “Although, the chips have a slight risk of a lower maximum performance capacity and might not last as long”, Christine clarified. “Great job Christine! You just saved us a lot – we really need the money now that we’re expanding and this will look really good on your quarterly performance review, especially for that promotion you’ve been waiting for”, Dave praised. Confused, Christine asked “That’s really nice, but shouldn’t we confirm with BETATECH first?”. “Why? As long as we’re providing quality chips - which you just confirmed that we would - we don’t have to go through the entire negotiation with them again”, Dave assured. However, Christine thinks to herself, “Doesn’t BETATECH have the right to know that they’ll be receiving something different from what they were promised? There might be other implications with using this cheaper substitute in their computer processing units that we aren’t aware of … And shouldn’t BETATECH get to reap the gains from the lowered cost too?”. Should Christine share her thoughts with Dave to disclose the information to BETATECH even though it might risk losing out on a potential profit gain, and her promotion, or should she simply drop the matter, knowing that she is contributing to the company’s dishonest behavior? [1] \n",
    "\n",
    "Although dropping the issue will be beneficial to both ALPHATECH and Christine in the short-run, Christine should pursue this issue further and ensure that BETATECH receives the information that is due and subsequently make the decision themselves. If BETATECH were to agree with producing the chips with the cheaper metal alloy, ALPHATECH and BETATECH should split the profit resulting from the reduced cost. However, before production, both parties should first get a 3rd party auditor to verify that the custom parts that will be used will be up to safety and quality standards.\n",
    "\n",
    "Christine’s best course of action can be decided by weighing out the positive and negative consequences of her decision on the relevant stakeholders involved. [2] These stakeholders include ALPHATECH, BETATECH, Dave, Christine, Christine’s other colleagues, and most importantly, any stakeholders that will be interacting with the 10,000 custom silicon chips produced with the cheaper metal alloy. Firstly, how will these stakeholders be affected if Christine were to continue this self-censorship? \n",
    "\n",
    "ALPHATECH seems to benefit from this in the best scenario (no one figures out that a cheaper substitute was used in production instead of what was agreed to), since it’ll be turning an extra 10,000 * \\$20 = \\$200,000 profit, which will be extremely useful for ALPHATECH expansion, as mentioned by Dave. In the worst-case scenario (cheaper substitute was discovered to be used, and some units experience fire accidents due to the overheating that will occur when the silicon chips are forced to perform greater than their lowered maximum capacity), ALPHATECH could be held liable for not producing the parts to the standard to what was agreed and could suffer major lawsuits even if the problem was not directly related to the custom parts ALPHATECH had manufactured. In the process, it would damage ALPHATECH’s reputation by revealing that it is a dishonest company that cuts corners.\n",
    "\n",
    "BETATECH on the other hand, can only suffer from the absence on knowledge about the changes. In any case, BETATECH end up paying more in total cost because some parts might not last as long as they were supposed to and reducing the overall quality of their computer processing units. Furthermore, in the worst-case scenario (Consumers using BETATECH’s CPUs realize shorter than claimed useful life, experience overheating and fire hazards when overworking the CPU, and decide to blame BETATECH completely), BETATECH’s reputation suffers from selling a sub-standard product, possibly needing to compensate the consumers that bought their CPUs by launching a total recall of the units. This will be extremely costly for BETATECH and they could be blamed for not performing extensive checks on the silicon chips before using them in production and destroying the trust that their customers had with them. In the end, this could possibly cause mass layoff of workers if their financial situation takes significant damage.\n",
    "\n",
    "Dave could possibly benefit from this in the best-case scenario (Dave is seen by the upper management as a key figure that closed an extremely profitable deal for the company and get a promotion / bigger end-of-year bonus) as he will be seen as the person that authorized such a profitable deal, and also this means less work for him as he wouldn’t need to be involved in re-authorizing the new deal if BETATECH does agree to using the cheaper substitute. In the worst-case scenario, Dave is revealed to be either short-sighted, or seen to have “motivated blindness” – ignoring unethical behavior when it’s to his own interest. Dave might be fired or demoted for allowing such a situation to happen, destroying his career progression. \n",
    "\n",
    "Christine will likely benefit from this in the best-case scenario for her - praised for reducing ALPHATECH’s cost incurred, gaining respect from her underlings as well as upper management, increase her likelihood of getting a promotion in the near future. However, the worst-case scenario might turn out to be extremely bad for her since she could be held personally responsible for this decision to use a cheaper metal alloy if she does not receive a letter of approval from Dave. She might be fired from the job, or worse, damage her reputation in the industry, rendering her jobless for quite some time. \n",
    "\n",
    "Christine’s other colleagues will probably benefit in the best-case scenario since more profit for ALPHATECH means more job security and income. Although, Christine’s action could inspire her other colleagues to replicate such an action in the future. Christine could be seen as a model of promoting a corporate culture of overvaluing outcomes – allowing unethical behavior if the outcome is good. This will eventually lead to a slippery slope when Christine’s colleagues start rationalizing for more unethical behaviors. In the worst-case scenario, the unethical behavior goes public, destroying ALPHATECH’s reputation and in turn forcing ALPHATECH to lay off Christine’s colleagues if the company goes into financial distress. To repair ALPHATECH’s reputation with its clients, management might be motivated to instill even stricter protocols on how to get authorization for a deal, slowing down the overall approval process and more work.\n",
    "\n",
    "Similar to BETATECH, the stakeholders or customers interacting with the final product produced by BETATECH using the custom silicon chips from ALPHATECH can only suffer from this decision of Christine’s. In any case, these stakeholders will only get a lower than or equal quality product to what they were originally sold and worse, be subject to fire hazards if they unknowingly use the CPUs to its maximum capacity, unknowing of the fact that the silicon chips are unable to handle the extra workload.\n",
    "\n",
    "Now let’s look at how these stakeholders will be affected if Christine pursued the matter further with Dave. In the worst-case scenario, ALPHATECH and BETATECH stick with their original agreement. All other stakeholders except for Dave and Christine are likely to remain unaffected. If Christine pursues this, it might mean more work for both herself because she’ll need to draw up a new formal proposal to using the cheaper substitute and Dave will have to get the deal authorized again, meaning more negotiation and a slowdown in the business transaction. The relationship between Christine and Dave might become more tense in the worst-case if Dave sees Christine as challenging his authority, though this is unlikely. In the best-case scenario, ALPHATECH will not profit as much as they will if they had not disclosed the fact that they will be switching to a cheaper substitute. However, Christine and Dave will be openly praised for sweetening the deal for both ALPHATECH and BETATECH. \n",
    "\n",
    "Despite the additional work that Dave and Christine must perform in order to get the deal re-authorized, these short-term burdens are outweighed by the long-term benefits of ensuring that Christine builds her reputation as an honest and respected engineer, as well as establishing safe, compliant, and most importantly ethical corporate culture at ALPHATECH. By choosing self-censorship, Christine may be setting herself up for a reputation of being submissive, which can lead people to believe that her opinions do not matter as much when it comes to making executive decisions. This could retard her ability to be promoted in the long-term. Turning a blind eye to situations like this sets ALPHATECH to be a dishonest company which could also lead to increasingly risky practices going unnoticed (promoting “motivated blindness” and “slippery slope”), which impacts the overall safety and quality standards of the company as a whole. Furthermore, if BETATECH accepts the switch to the cheaper substitute, both companies can still strike an agreement to split the current profit gain, reinforcing trust of ALPHATECH and in the long-term promote repeat business with ALPHATECH, securing long-term potential profit gains. Hence, Christine should continue to pursue this matter with Dave and involve upper level management if necessary.\n",
    "\n",
    "Additionally, by the rights approach, if Christine does in fact pursue the matter with Dave and fight to get the information to BETATECH, she’s fulfilling her duty of fighting for BETATECH’s right to the truth. [2] Furthermore, the final users of BETATECH’s CPUs and people that will interact with the custom silicon chips manufactured by ALPHATECH have a right to safety, which can only be achieved by sticking to the manufacturing specifications that were agreed to or at the very least allow BETATECH to be in the know about the lowered maximum performance capacity of the silicon chips so that they can build necessary counter measures (e.g. enact better overheating cool-down systems) to address this change. By the Virtue approach, Christine’s failure to pursue the issue is indirectly violating the virtue of integrity. Though she will uphold the Fiduciary principle of “act(ing) in the best interests of the company and its investors” by not pursuing the issue, as it would help ALPHATECH to earn more, she would have indirectly caused ALPHATECH to violate the Reliability principle of “keep(ing) promises, agreements, contracts, and other commitments”. [3] Therefore, we see that the majority vote supports Christine to raise her concerns with Dave and fight to disclose information to BETATECH.\n",
    "\n",
    "We can support this virtuous decision even further by referring to the National Society of Professional Code of Ethics for Engineers, where it states that “Engineers, in the fulfillment of their professional duties, shall … Act for each employer or client as faithful agents or trustees” and “Avoid deceptive acts”. [4] Though Christine will not exactly be a “faithful agent” to her employer as she’s not acting to maximize her company’s absolute profit, she is being virtuous in “avoid(ing) deceptive acts”. This is much more important because of the long-term benefits noted in the utilitarian approach. By pursuing the matter with Dave, Christine will be abiding by these fundamental canons of the code. \n",
    "\n",
    "Finally, to remain objective with our resolution, we have to run it through the Visibility, Generality, and Legacy test. If everyone were to find out about how Christine pursued the matter with Dave to provide BETATECH with the information they’re due, she will be praised for what she did because its fair that BETATECH has a say in whether the cheaper substitute should be used since they’re the major stakeholder of the contract. If anyone that’s in the same situation as Christine pursued for the truth to be delivered to all major stakeholders, it would establish a safer and highly quality working environment and ultimately uphold each organization’s duty to provide truthful information. Christine will build a reputation of fighting for what’s right both in ALPHATECH and also to the clients at BETATECH, which will positively reinforce her legacy as an engineer. \n",
    "\n",
    "Hence, with our resolution, Christine will help to ensure that ALPHATECH remains a trustworthy organization that keeps to their agreements and also reinforces her reputation as a principled and honest engineer. \n",
    "\n",
    "\n",
    "### Bibliography\n",
    "\n",
    "[1] M. Pritchard, “The Information Due to the Customer,” OEC - The Information Due to the Customer, 19-Nov-2015. [Online]. Available: https://www.onlineethics.org/Resources/csaindex/Customer.aspx. [Accessed: 21-Oct-2019].\n",
    "\n",
    "[2] Santa Clara University, “A Framework for Ethical Decision Making,” Markkula Center for Applied Ethics. [Online]. Available: https://www.scu.edu/ethics/ethics-resources/ethical-decision-making/a-framework-for-ethical-decision-making/.\n",
    "\n",
    "[3] Paine, Lynn S. “Ethics: A Basic Framework,” Harvard Business School, Oct-2006. (Revised May 2007.) [Online]. Available: https://www.hbs.edu/faculty/Pages/item.aspx?num=33669. [Accessed: 21-Oct-2019].\n",
    "\n",
    "[4] “Code of Ethics,” Code of Ethics | National Society of Professional Engineers, Jul-2019. [Online]. Available: https://www.nspe.org/resources/ethics/code-ethics. [Accessed: 21-Oct-2019]."
   ]
  },
  {
   "cell_type": "code",
   "execution_count": 5,
   "metadata": {},
   "outputs": [
    {
     "name": "stdout",
     "output_type": "stream",
     "text": [
      "Loading pages (1/6)\n",
      "[>                                                           ] 0%\r",
      "[======>                                                     ] 10%\r",
      "[=========================>                                  ] 43%\r",
      "Warning: Failed to load file:///Users/jeffchenchengyi/personal-website/jeffchenchengyi.github.io/base/machine-learning/09-miscellaneous-topics/classes/fall19/writ340/custom.css (ignore)\n",
      "[============================>                               ] 47%\r",
      "[=============================>                              ] 49%\r",
      "[===============================>                            ] 52%\r",
      "[================================>                           ] 54%\r",
      "[==================================>                         ] 57%\r",
      "[===================================>                        ] 59%\r",
      "[====================================>                       ] 61%\r",
      "[=====================================>                      ] 63%\r",
      "[=======================================>                    ] 65%\r",
      "[========================================>                   ] 67%\r",
      "[=========================================>                  ] 69%\r",
      "[==========================================>                 ] 71%\r",
      "[============================================>               ] 74%\r",
      "[=============================================>              ] 76%\r",
      "[================================================>           ] 80%\r",
      "[=================================================>          ] 82%\r",
      "[==================================================>         ] 84%\r",
      "[===================================================>        ] 85%\r",
      "[===================================================>        ] 86%\r",
      "[====================================================>       ] 88%\r",
      "[============================================================] 100%\r",
      "Counting pages (2/6)                                               \n",
      "[============================================================] Object 1 of 1\r",
      "Resolving links (4/6)                                                       \n",
      "[============================================================] Object 1 of 1\r",
      "Loading headers and footers (5/6)                                           \n",
      "Printing pages (6/6)\n",
      "[>                                                           ] Preparing\r",
      "[=======>                                                    ] Page 1 of 8\r",
      "[===============>                                            ] Page 2 of 8\r",
      "[======================>                                     ] Page 3 of 8\r",
      "[==============================>                             ] Page 4 of 8\r",
      "[=====================================>                      ] Page 5 of 8\r",
      "[=============================================>              ] Page 6 of 8\r",
      "[====================================================>       ] Page 7 of 8\r",
      "[============================================================] Page 8 of 8\r",
      "Done                                                                      \n"
     ]
    },
    {
     "data": {
      "text/plain": [
       "True"
      ]
     },
     "execution_count": 5,
     "metadata": {},
     "output_type": "execute_result"
    }
   ],
   "source": [
    "import pdfkit \n",
    "pdfkit.from_file('./final_portfolio_writ340.html', './final_portfolio_writ340.pdf') "
   ]
  }
 ],
 "metadata": {
  "kernelspec": {
   "display_name": "Python 3",
   "language": "python",
   "name": "python3"
  },
  "language_info": {
   "codemirror_mode": {
    "name": "ipython",
    "version": 3
   },
   "file_extension": ".py",
   "mimetype": "text/x-python",
   "name": "python",
   "nbconvert_exporter": "python",
   "pygments_lexer": "ipython3",
   "version": "3.7.4"
  }
 },
 "nbformat": 4,
 "nbformat_minor": 2
}
