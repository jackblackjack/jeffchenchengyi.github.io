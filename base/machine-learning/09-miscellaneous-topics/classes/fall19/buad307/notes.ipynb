{
 "cells": [
  {
   "cell_type": "markdown",
   "metadata": {},
   "source": [
    "# BUAD 307 - Marketing Fundamentals Notes"
   ]
  },
  {
   "cell_type": "markdown",
   "metadata": {},
   "source": [
    "---\n",
    "# 4 Ps (Marketing Mix)\n",
    "\n",
    "### Price\n",
    "\n",
    "### Product\n",
    "- *Product Line*: Breadth of product line is how many products that are  being offered\n",
    "\n",
    "### Promotion\n",
    "\n",
    "### Place"
   ]
  },
  {
   "cell_type": "markdown",
   "metadata": {},
   "source": [
    "---\n",
    "# 5 Cs\n",
    "\n",
    "1. Company\n",
    "2. Customers\n",
    "3. Competitors\n",
    "4. Collaborators\n",
    "5. Climate"
   ]
  },
  {
   "cell_type": "markdown",
   "metadata": {},
   "source": [
    "---\n",
    "# Communication Channels\n",
    "\n",
    "## One-Way\n",
    "- Radio, Newspapers, Magazines, Television\n",
    "\n",
    "## Two-Way\n",
    "- "
   ]
  },
  {
   "cell_type": "markdown",
   "metadata": {},
   "source": [
    "---\n",
    "# Push Strategy Vs. Pull Strategy\n",
    "\n",
    "- When we already have the product we advertize and try to convince consumer to buy\n",
    "- When we don't have product we ask consumer what they want"
   ]
  },
  {
   "cell_type": "markdown",
   "metadata": {},
   "source": [
    "Willingness to Pay <-> Perceived Value\n",
    "\n",
    "True Economic Value -> WTP when there is no uncertainty\n",
    "\n",
    "True Economic Value - WTP = Risk Premium"
   ]
  },
  {
   "cell_type": "markdown",
   "metadata": {},
   "source": [
    "Price Sensitivity\n",
    "- Buyer Stickiness is the state dependence"
   ]
  },
  {
   "cell_type": "markdown",
   "metadata": {},
   "source": [
    "---\n",
    "# Readings Summary\n",
    "\n",
    "Functional Value:\n",
    "- Phone can be used to call people\n",
    "\n",
    "Experiential Value:\n",
    "- Watch movie no function but experience\n",
    "\n",
    "Economic Value to Consumer (EVC):\n",
    "- WTP when there is no uncertainty\n",
    "- There is no risk\n",
    "\n",
    "Perceived Value (Lower than EVC because of uncertainty):\n",
    "- EVC - \n",
    "\n",
    "WTP = Savings from new product + Purchase price of \n",
    "\n",
    "Multi-attribute model:\n",
    "- Break product down into attributes\n",
    "- Laptop = Hard disk + RAM + Weight + Price + ...\n",
    "$$\n",
    "\\text{Preference for brand }j = \\sum^n_{i=1}(importance of attribute)*(preference for brand i)\n",
    "$$\n",
    "- If certain product is very good in one attribute, it can compensate for  its weakness in another\n",
    "\n",
    "Compensatory approach for consumer value:\n",
    "- Consumer might use a noncompensatory approach\n",
    "    - There is a basic minimum that consumer wants \"I must get a car with 6 seats\"\n",
    "    \n",
    "Conjoint Analysis:\n",
    "- Ask consumer to choose what cars they want\n",
    "- Use those choices to infer consumers preference \n",
    "- Latent factor models?\n",
    "\n",
    "Network effects:\n",
    "- Value of product  increases with number of users\n",
    "- more people use google maps, the better google  maps become\n",
    "- more people that use iphones over  android, more valuable iphone  because developers  psend more time on developing iOS\n",
    "\n",
    "User-generated content:\n",
    "- Newspaper produce content and sell it to consumer\n",
    "- But yelp doesnt produce content, users on yelp produce content, and you give them back to consumers\n",
    "- Quora is like this as well\n",
    "- **Matching** is very important, sending the right Quora questions to the right people that can answer"
   ]
  },
  {
   "cell_type": "markdown",
   "metadata": {},
   "source": [
    "Paid media, Owned media, earned media:\n",
    "- professional review of \n",
    "\n",
    "CTR:\n",
    "- Average CTR is very very low, Buzzfeed has  very high though\n",
    "\n",
    "Organic links:\n",
    "- \n",
    "\n",
    "Search Engine on Bidding:\n",
    "- \n",
    "\n",
    "Golden Triangle:\n",
    "- Where consumers will most likely click in a search engine\n",
    "\n",
    "Cost-per click (CPC):\n",
    "- how much  advertisers pay for a click\n",
    "\n",
    "Contextual Ad:\n",
    "- when you go youtube, commercial before video is highly related to video \n",
    "- companies place ads that are most related to the ads to ensure consumers will be interested  in the ad"
   ]
  },
  {
   "cell_type": "markdown",
   "metadata": {},
   "source": [
    "---\n",
    "## Stable Matching\n",
    "\n",
    "- Shapley calculated stable matching \n",
    "- Number of matchings is $n!$\n",
    "- Stable matching: allocation where no 2 individuals perceive any gains from switching (there must be mutual benefit after the switch)\n",
    "    - No 2 individuals can find a better matching with each other by forgoing their current matchings\n",
    "    - There can be multiple stable matching outcomes (outcome is not unique)\n",
    "    - If men proposing to women, stable matching outcome will favor men\n",
    "    - If women proposing to men, stable matching outcome will favor women\n",
    "- NRMP (National Resident Matching Program) closely related to gale-shapely algo\n",
    "- Kidney and Patient Matching is different because kidney patient is passive or housing allocation\n",
    "    - Algo: Top trading cycle (based on initial allocation of objects and subsequent swapping)\n",
    "        - Question 5 in exercise 2\n",
    "        - Pseudocode:\n",
    "            1. Find pair that wants to switch and make them switch\n",
    "            2. Continue switching until no 2 individuals want to switch\n",
    "    - This algorithm will not work if one side is not **passive**\n",
    "    - If its matching husbands and wives, both parties are **active**\n",
    "- Google search engine Ads: Auction is related to matching market\n",
    "    - Multiple key word is matching problem because we're trying to match multiple companies to multiple keywords\n",
    "    - Single key word auction is not, it's just an auction"
   ]
  },
  {
   "cell_type": "markdown",
   "metadata": {},
   "source": [
    "---\n",
    "## Horizontal Vs. Vertical Differentiation\n",
    "\n",
    "Vertically Differentiated: Automobile\n",
    "- Toyota lousier than Tesla, lousier than Lambourghini\n",
    "- A market is vertically differentiated if all consumers can agree on the ranking of the products\n",
    "- If you sort both sides, biggest number will be matched with the biggest numbers sequentially (Question 4 exercise 2)\n",
    "\n",
    "Horizontally Differentiated: Movie Market:\n",
    "- Not everyone agrees that interstellar is the best movie\n",
    "- People have different preference and alot of arguments about a common ranking of movies"
   ]
  },
  {
   "cell_type": "markdown",
   "metadata": {},
   "source": [
    "---\n",
    "## Digital Marketing\n",
    "\n",
    "Correlation Vs. Causation\n",
    "\n",
    "- Rich kids can afford college tuition so they are more likely to be rich later, not because education caused higher income\n",
    "- Google Ads dont cause increase sales for Nike because people will still click on organic links\n",
    "- People who download illegally movies from torrents actually have a very low WTP, so they are not going to buy the movie even if we make torrents illegal"
   ]
  },
  {
   "cell_type": "markdown",
   "metadata": {},
   "source": [
    "Interaction effect:\n",
    "- Different channels of advertising exist\n",
    "- Each channel independently will have different effects on sale\n",
    "    - However, when we combine 2 channels, the sum of their effect can be more than each of them individually\n",
    "    - E.g. effects of individual medicines will have weak results, but combined, they will be strong\n",
    "    \n",
    "<img src='https://thumbs.gfycat.com/GrossHonoredGeese-size_restricted.gif'/>"
   ]
  },
  {
   "cell_type": "markdown",
   "metadata": {},
   "source": [
    "Time Lag of Ads:\n",
    "\n",
    "- Durable / Big ticket items have large lags in ad effects because it is a huge decision"
   ]
  },
  {
   "cell_type": "markdown",
   "metadata": {},
   "source": [
    "Online-Offline Interaction:\n",
    "- Brick and mortar stores are still present because consumers want to experience / interact with the product though the offline channel even though most sales come from online channel\n",
    "    - Test out car before buying\n",
    "    - Try out clothes before buying"
   ]
  },
  {
   "cell_type": "markdown",
   "metadata": {},
   "source": [
    "Inbound / Outbound marketing:\n",
    "- Push / Pull strategy"
   ]
  },
  {
   "cell_type": "markdown",
   "metadata": {},
   "source": [
    "Brand Association map:\n",
    "- How words are associated to a brand\n",
    "    - Use text mining from twitter\n",
    "        - Word2Vec / Tfidf\n",
    "        "
   ]
  },
  {
   "cell_type": "markdown",
   "metadata": {},
   "source": [
    "Viral Video Ads\n",
    "- There's alot of research on how to make a video viral\n",
    "- Lots of attention over a very short amount of time"
   ]
  }
 ],
 "metadata": {
  "kernelspec": {
   "display_name": "Python 3",
   "language": "python",
   "name": "python3"
  },
  "language_info": {
   "codemirror_mode": {
    "name": "ipython",
    "version": 3
   },
   "file_extension": ".py",
   "mimetype": "text/x-python",
   "name": "python",
   "nbconvert_exporter": "python",
   "pygments_lexer": "ipython3",
   "version": "3.7.3"
  }
 },
 "nbformat": 4,
 "nbformat_minor": 2
}
