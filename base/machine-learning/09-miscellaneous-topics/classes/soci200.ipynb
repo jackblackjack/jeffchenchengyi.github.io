{
 "cells": [
  {
   "cell_type": "markdown",
   "metadata": {},
   "source": [
    "# SOCI 200: Introduction to Sociology"
   ]
  },
  {
   "attachments": {},
   "cell_type": "markdown",
   "metadata": {},
   "source": [
    "---\n",
    "# Research Paper #1 (15 points):  \n",
    "\n",
    "This will be a simple exploratory non-participant observational study in which you spend 1.5-2 hours in a social public environment and document the norms (cultural rules) of behavior that you observe.  You must draw on the relevant concepts about values, norms, culture, etc. from Chapter 3 in You May Ask Yourself (Conley) throughout the paper.   You can choose any public space where there are sufficient interactions happening to provide you with data.  Examples include dining halls; sports bars; salons; food court at a shopping center; the grocery store; coffee shops/houses; and many, many more.  Examples of norms include personal space norms; norms about waiting in line/waiting one’s turn; norms about speaking with strangers and appropriate topics of conversation and conversation length; etc. (Be creative!).  Just be sure you are not putting yourself or others in any danger or risk of distress by choosing an inappropriate space (e.g., don’t go to a child’s playground and hang out) or by engaging in agitating or risky behaviors.  Your task is simply to be there and observe without intruding into others’ interactions, space, etc.  You will write 3 pages total about the site you choose; the observation you conduct (e.g., What time of day was it? How crowded was it? How homogenous/heterogeneous was the crowd?); the norms you observe; the patterns you notice for potential future work; and your conclusions.  By norms, I simply mean what were the cultural rules that seemed to be in play? What did you actually observe that made you think that rule/those rules were in play (be very specific and descriptive)?  By patterns, I am referring to anything else that seemed to vary systematically with the presence or expression of the norm(s).  So for instance, if I notice that people tend to give a lot of physical space to other people in line (a norm), did that ever differ in any way, and if so, what, if any, factor seemed to be present when the norm/following the norm differed (e.g., Did children not give as much/any space as adults? Did the giving of space vary with how long the line was/how busy the place was?)? If any factor repeatedly corresponds with variation in the norm/presence or expression of the norm, that would be an example of a pattern.\n",
    "\n",
    "Your paper will include a clear identification and description of the site (see above paragraph), why you thought that would be a good choice for observing human interaction, the norms you observed, and specific behavioral examples that demonstrate the norms (so don’t just state vague or abstract norms, give clear behavioral examples that demonstrate the norm and explain how that behavior demonstrates that).  After these descriptions, you need to write at least one paragraph identifying some normative patterns you observed (see above paragraph) and listing some specific behaviors and patterns you would look for in a hypothetical follow-up observational study.  Finally, you will write at least one concluding paragraph in which you reflect on your observations and discuss the implications and your conclusions."
   ]
  },
  {
   "cell_type": "markdown",
   "metadata": {},
   "source": [
    "### Format:\n",
    "- Say norm\n",
    "- e.g. of norm\n",
    "    - what people did \n",
    "    - how people with these characteristics exhibitted norm\n",
    "    - how people reacted when norm is broken"
   ]
  },
  {
   "cell_type": "markdown",
   "metadata": {},
   "source": [
    "### Observations:\n",
    "\n",
    "- I'm at Dulce @ the village 4:00pm\n",
    "- Customers are sitting down using their laptops, some reading book\n",
    "- To my left:\n",
    "    - 1st table:\n",
    "        - A brunette with coachella sticker on laptop\n",
    "        - Asian girl with blue hydroflask bottle\n",
    "        - Another asian girl, bespectacled, white t-shirt, laptop decorated\n",
    "        - Another brunette, bespectacled just joined, sitting at the corner of the table, gold earrings\n",
    "        - Group split up, 2 went to another table to study, sitting opposite each other\n",
    "        - **they sit two on each side of the table**\n",
    "    - 2nd table:\n",
    "        - Indian guy with a blue henley long sleeve\n",
    "        - He's alone with his airpods, using his Mac and a green hydroflask, back against wall\n",
    "    - 3rd table:\n",
    "        - Chinese girl alone, with rayban shades, airpods, fjallraven kanken bagpack, ice lemon tea, reading notes / phone, facing wall\n",
    "- In front of me:\n",
    "    - Kitchen:\n",
    "        - Latino guy making sandwiches, wearing earphones\n",
    "        - asian guy barista talking to asian girl (friend / shop owner / cleaning her own table) at the counter \n",
    "        - all the guys in the kitchen are bald and wearing a snapback / cap\n",
    "        - white girl with platinum blonde hair, tank top, barista\n",
    "        - staff generally don't look at each other in the eyes when talking about something\n",
    "    - Counter:\n",
    "        - girl in black tank top with purple khakis and belt, nike shoes typing things on her laptop, red hydroflask with rainbow flag stickers on bottle, has a tattoo of skeleton with roman grass around it on back of left arm, she has headphones on, shes alone, hair in bun, macbook, large golden earrings, left at 4:30pm\n",
    "        - a white guy surfing twitter while drinking hot coffee and eating something, wearing green t-shirt, purple shorts, red suede shoes, curly hair, hands always touching face, macbook pro, no case, left at 4:32pm, did not clear his cup\n",
    "        - black tube top asian girl, cream colored joggers, birkenstocks, pink cover for macbook, pink phone case, sipping on small dulce latte, hair in pony tail, surfing twitter, youtube, left at 4:31pm, asked girl beside to look after items\n",
    "        - asian girl with hoodie, surfing instagram, laptop in adobe editor or something, dr marten boots, black jeans\n",
    "        - blonde girl with birds on long baggy loose shirt, sandals, shades hanging above head\n",
    "        - girls at counter sit slightly closer to one another \n",
    "        - **all follow putting bag on the floor when sitting at counter**\n",
    "        - **pushes chairs in after leaving except for white dude, no reaction**\n",
    "- To my right:\n",
    "    - same table:\n",
    "        - black dude, wearing white t-shirt, earphones around neck talking to asian girl wearing black tank top, denim shorts, catching up\n",
    "        - yellow camisole blonde said high to asian girl, hugged, catched up briefly about internship in summer\n",
    "        - blue t-shirt dude beside me working on writing research paper on overleaf, headphones on, left at 4:33pm, went toilet first\n",
    "        - blonde in black t-shirt came over and gave the black dude and asian girl side hugs\n",
    "    - lower table to the right:\n",
    "        - girl with bandana, pony tail, chose to sit on a lower table instead of high table, using phone, laptop open\n",
    "    - People waiting at counter nesar window:\n",
    "        - Most lean on one arm, with friends facing each other, when standing\n",
    "        - only those sitting down will face window,\n",
    "- My back:\n",
    "    - Girl drinking matcha latte, working on schedule alone, wearing airpods\n",
    "    - blue t-shirt guy sitting beside girl instead of opposite"
   ]
  },
  {
   "cell_type": "markdown",
   "metadata": {},
   "source": [
    "### Potential Norms:\n",
    "\n",
    "- If there is room, people alone will try to sit one spacing between one another unless a resource is required (wall socket for charging laptop) and people prefer corners (not just those that are alone) \n",
    "    - \n",
    "    - when asian dude in white t-shirt came over wanting to  sit at corner to access the wall socket to charge laptop, black tank top asian girl offered to switch seats, but she moved to the corner of the counter table instead of sitting beside asian dude\n",
    "- Strangers of opposite sex avoid sitting right opposite each other\n",
    "- Those that are alone prefer wearing earphones and having multiple electronics switched on even if they're idle\n",
    "- Those with friends take longer to order at the cashier than people who are alone, and tend to have either hands on phone or hands at hips, \n",
    "- Those that are alone rarely look at anyone, fixate their eyes on the electronic devices more, people in groups tend to look around the room more often\n",
    "- 2 friends (3 groups did the same thing (guys)) that come in choose not to sit down infront of strangers at the high table\n",
    "    - friends prefer sitting opposite one another instead of beside each other and opposite a stranger\n",
    "- people alone stretch often\n",
    "- People who are alone tend to look away to pick up a phone call \n",
    "    - girl in black tube top picked up phone, turned 45 degrees to the right, looked behidn her, then stood up talked, and moved around while talking\n",
    "- people wait for each other before filling water\n",
    "- friends walk beside each other instead of behind one another\n",
    "- People alone walk faster than people in groups\n",
    "- People that sat at the corners tend to talk to strangers more about their personal projects / work\n",
    "- conversations between strangers revolved around the work that they are currently doing in the cafe\n",
    "    - asian dude in white t-shirt (probably fashion student because was watching runway videos) at cafe striking up conversation with painter at the counter who's painting a photo of a sunset from google\n",
    "- conversations among friends / groups of people revolved around what they did in the summer, dating life, gossip about mutual friends\n",
    "- people in groups smile alot more often than people alone\n",
    "    - those alone only smile when they see something on social media or talking to someone over the phone.\n",
    "- friends that do work together seemed to prefer sitting beside each other while friends that are not using electronics tended to sit opposite one another."
   ]
  },
  {
   "cell_type": "code",
   "execution_count": null,
   "metadata": {},
   "outputs": [],
   "source": []
  }
 ],
 "metadata": {
  "kernelspec": {
   "display_name": "Python 3",
   "language": "python",
   "name": "python3"
  },
  "language_info": {
   "codemirror_mode": {
    "name": "ipython",
    "version": 3
   },
   "file_extension": ".py",
   "mimetype": "text/x-python",
   "name": "python",
   "nbconvert_exporter": "python",
   "pygments_lexer": "ipython3",
   "version": "3.7.3"
  }
 },
 "nbformat": 4,
 "nbformat_minor": 2
}
