{
 "cells": [
  {
   "cell_type": "markdown",
   "metadata": {},
   "source": [
    "# Linear Optimization"
   ]
  },
  {
   "cell_type": "code",
   "execution_count": 33,
   "metadata": {},
   "outputs": [],
   "source": [
    "import numpy as np\n",
    "import cvxpy as cp"
   ]
  },
  {
   "cell_type": "code",
   "execution_count": 89,
   "metadata": {},
   "outputs": [
    {
     "name": "stdout",
     "output_type": "stream",
     "text": [
      "-----------------------------------------------------------------\n",
      "           OSQP v0.5.0  -  Operator Splitting QP Solver\n",
      "              (c) Bartolomeo Stellato,  Goran Banjac\n",
      "        University of Oxford  -  Stanford University 2018\n",
      "-----------------------------------------------------------------\n",
      "problem:  variables n = 2, constraints m = 3\n",
      "          nnz(P) + nnz(A) = 6\n",
      "settings: linear system solver = qdldl,\n",
      "          eps_abs = 1.0e-05, eps_rel = 1.0e-05,\n",
      "          eps_prim_inf = 1.0e+00, eps_dual_inf = 1.0e+00,\n",
      "          rho = 1.00e-01 (adaptive),\n",
      "          sigma = 1.00e-06, alpha = 1.60, max_iter = 10000\n",
      "          check_termination: on (interval 25),\n",
      "          scaling: on, scaled_termination: off\n",
      "          warm start: on, polish: on\n",
      "\n",
      "iter   objective    pri res    dua res    rho        time\n",
      "   1  -1.5965e+02   1.95e-14   1.00e+02   1.00e-01   3.13e-05s\n",
      " 125  -2.6250e+03   4.16e-06   1.19e-04   1.00e-01   9.14e-05s\n",
      "plsh  -2.6250e+03   0.00e+00   1.09e-12   --------   1.38e-04s\n",
      "\n",
      "status:               solved\n",
      "solution polish:      successful\n",
      "number of iterations: 125\n",
      "optimal objective:    -2625.0000\n",
      "run time:             1.38e-04s\n",
      "optimal rho estimate: 6.91e-03\n",
      "\n",
      "The optimal value is 2625.0\n",
      "A solution x is\n",
      "[15. 15.]\n",
      "A dual solution is\n",
      "[1.25  0.    3.125]\n"
     ]
    }
   ],
   "source": [
    "# Define and solve the CVXPY problem.\n",
    "c = np.array([100, 75])\n",
    "A = np.array([[30, 10], [10, 20], [20, 20]])\n",
    "b = np.array([600, 600, 600])\n",
    "x = cp.Variable(len(c))\n",
    "prob = cp.Problem(cp.Maximize(c.T@x),\n",
    "                 [A@x <= b])\n",
    "prob.solve(solver='OSQP', \n",
    "           verbose=True, eps_prim_inf=True, eps_dual_inf=True)\n",
    "\n",
    "# Print result.\n",
    "print(\"The optimal value is\", prob.value)\n",
    "print(\"A solution x is\")\n",
    "print(x.value)\n",
    "print(\"A dual solution is\")\n",
    "print(prob.constraints[0].dual_value)"
   ]
  },
  {
   "cell_type": "code",
   "execution_count": null,
   "metadata": {},
   "outputs": [],
   "source": []
  },
  {
   "cell_type": "markdown",
   "metadata": {},
   "source": [
    "---\n",
    "### Resources\n",
    "- [Portfolio Optimization with LP](https://sites.math.washington.edu/~burke/crs/408/notes/fin/port-lp-mod.pdf)\n",
    "- [ISE 347/447: Financial Optimization](http://coral.ie.lehigh.edu/~ted/teaching/ie447/)\n",
    "- [Penn State University Linear Programming Notes](https://www.courses.psu.edu/for/for466w_mem14/Ch11/HTML/)"
   ]
  }
 ],
 "metadata": {
  "kernelspec": {
   "display_name": "Python 3",
   "language": "python",
   "name": "python3"
  },
  "language_info": {
   "codemirror_mode": {
    "name": "ipython",
    "version": 3
   },
   "file_extension": ".py",
   "mimetype": "text/x-python",
   "name": "python",
   "nbconvert_exporter": "python",
   "pygments_lexer": "ipython3",
   "version": "3.7.4"
  }
 },
 "nbformat": 4,
 "nbformat_minor": 2
}
