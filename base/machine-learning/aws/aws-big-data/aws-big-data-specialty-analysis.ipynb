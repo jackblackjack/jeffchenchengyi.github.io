{
 "cells": [
  {
   "cell_type": "markdown",
   "metadata": {},
   "source": [
    "# AWS Big Data Specialty Exam Notes\n",
    "\n",
    "Requirements:\n",
    "1. Order history App\n",
    "    1. Server logs \n",
    "    2. Amazon Kinesis Data Streams \n",
    "    3. AWS Lambda \n",
    "    4. Amazon DynamoDB\n",
    "    5. Client App\n",
    "2. Product Recommendations\n",
    "    1. Server logs \n",
    "    2. Amazon Kinesis Data Firehose\n",
    "    3. Amazon S3\n",
    "    4. Amazon EMR\n",
    "3. Predicting order quantities\n",
    "    1. Server logs\n",
    "    2. Amazon Kinesis Data Firehose\n",
    "    3. Amazon S3\n",
    "    4. Amazon ML / Sagemaker\n",
    "4. Transaction Rate Alarm\n",
    "    1. Server logs\n",
    "    2. Amazon Kinesis Data Streams\n",
    "    3. Amazon Kinesis Data Analytics\n",
    "    4. Amazon Kinesis Data Streams\n",
    "    5. AWS Lambda\n",
    "    6. Amazon SMS\n",
    "5. Near-real-time log analysis\n",
    "    1. Server logs\n",
    "    2. Amazon Kinesis Data Firehose\n",
    "    3. Amazon Elasticsearch Service\n",
    "6. Data warehousing & visualization\n",
    "    1. Server logs\n",
    "    2. Amazon Kinesis Data Firehose\n",
    "    3. Amazon S3\n",
    "        - Serverless\n",
    "            1. AWS Glue\n",
    "            2. Amazon Athena\n",
    "        - Managaged\n",
    "            1. Amazon Redshift\n",
    "            2. Amazon QuickSight"
   ]
  },
  {
   "cell_type": "markdown",
   "metadata": {},
   "source": [
    "---\n",
    "# Kinesis Analytics\n",
    "- Similar to Spark Streaming, but specific to Kinesis\n",
    "- Can use Firehose or Data Streams as an input source but also files in S3\n",
    "- Application code in Kinesis Analytics will then process the stream and output the data to either Streams or Firehose and subsequently to S3 or Redshift\n",
    "- An in-application error stream will be automatically provided for every application\n",
    "\n",
    "Use Cases:\n",
    "- Streaming etl\n",
    "    - E.g. Process data to a specific format / schema and deliver that data to S3\n",
    "- Continuous Metric generation\n",
    "    - E.g. Building a live leaderboard for a mobile game by computing the top players every minute and sending that to DynamoDB or check traffic to website by calculating number of unique web site visitors every 5min and sending results to Redshift for further analysis\n",
    "- Responsive Analytics\n",
    "    - E.g. Application to look for events that meet certain criteria and automatically notify right customers using Kinesis data streams and SNS\n",
    "    \n",
    "Cost Model:\n",
    "- Pay for resources consumed but expensive\n",
    "- Serverless\n",
    "- Use IAM permissions to access streaming source\n",
    "- Schema discovery\n",
    "    - Like what Glue Crawler does\n",
    "    \n",
    "Random Cut Forest:\n",
    "- SQL function used for anomaly detection"
   ]
  },
  {
   "cell_type": "markdown",
   "metadata": {},
   "source": [
    "---\n",
    "# Requirement 4: Transaction rate alarm\n",
    "Configure Kinesis Analytics to having a sliding window of 10s and check if there are more than 10 orders in that 10s window which is what we'll define as an anomaly\n",
    "\n",
    "1. Create new Data Stream that will send the Kinesis Analytics data about whether there's an anomaly to AWS Lambda (Lambda polls from the stream actually)\n",
    "    1. Click `Create data stream`\n",
    "    2. name: `OrderRateAlarms`\n",
    "    3. number of shards: `1` and create stream\n",
    "\n",
    "2. Create Kinesis Analytics application\n",
    "    1. Go to `Data Analytics` and click on `Create application`\n",
    "    2. name: `TransactionRateMonitor` and create application\n",
    "    3. `ConnectStreamingData` and choose `CadabraOrders` Kinesis data stream\n",
    "    4. Run `sudo ./LogGenerator.py` and click `Discover Schema`\n",
    "    5. `Go to SQL Editor` under Real time analytics and insert the code below into the IDE and `Save and run SQL`\n",
    "    6. Connect to a destination\n",
    "        - Click `Destination` below and `Connect to a destination`\n",
    "        - We can only choose to send it to either Firehose or Streams, and because we want this to be real-time, we'll connect it to another data stream, the one we just created, `OrderRateAlarms`\n",
    "        - Choose `In-application stream` to be `TRIGGER_COUNT_STREAM`, one of the tables created by the SQL sxript below\n",
    "        - Ouput format: json, Create / Update IAM role ..., save and continue\n",
    "\n",
    "3. Now that we've created a new Kinesis stream that's receiving data whenever we're in an alarmed state at most once per minute, we need to trigger a lambda function that will do something with that data, in this case it would be to call AWS SNS to send us a notification\n",
    "    1. Create new IAM role for Lambda function\n",
    "        - Go to IAM console\n",
    "        - Click on `Roles` and `Create Role`\n",
    "        - Click for `Lambda` service, Next:Permissions\n",
    "        - Search and tick \n",
    "            1. `AWSLambdaKinesisExecutionRole`\n",
    "            2. `AmazonSNSFullAccess`\n",
    "            3. `CloudWatchLogsFullAccess`\n",
    "            4. `AWSLambdaBasicExecutionRole`\n",
    "        - Skip Tags\n",
    "        - Role name: `LambdaKinesisSNS` and `Create role`\n",
    "    2. Create Lambda Function\n",
    "        - Go to `Lambda > Functions > Create function`\n",
    "        - `Author from scratch`, name: `TransactionRateAlarm`\n",
    "        - Runtime: `Python 2.7` and choose role: `LambdaKinesisSNS`\n",
    "        - `Create function`\n",
    "        - Click on `Kinesis` on left hand side menu `Designer`\n",
    "        - Select `OrderRateAlarms` to be the Kinesis stream to listen for updates on and `Add`\n",
    "        - Configure lambda function itself\n",
    "            - Change `Timeout` in `Basic settings` to `1min` instead\n",
    "            - Add the code snippet below into IDE\n",
    "                - Create SNS topic\n",
    "                    - Go to SNS console, `Create topic`\n",
    "                    - topic name: `CadabraAlarms` and display name: `Cadabra` and `Create topic`\n",
    "                    - Create subscription on the topic (What it'll do when it gets fired)\n",
    "                        - Protocol: `SMS`\n",
    "                        - Endpoint: `YOUR_CELL_PHONE_NUMBER` and `Create subscription`\n",
    "                    - `Publish topic`, subject: `test`, message: `this is a test` and `Publish message`\n",
    "                    - Copy `topic ARN` (ARN - Amazon Resource Name)\n",
    "            - Paste the topic ARN into the code and `Save`\n",
    "    \n",
    "### analytics-query.txt\n",
    "```mysql\n",
    "CREATE OR REPLACE STREAM \"ALARM_STREAM\" (order_count INTEGER);\n",
    "\n",
    "CREATE OR REPLACE PUMP \"STREAM_PUMP\" AS \n",
    "    INSERT INTO \"ALARM_STREAM\"\n",
    "        SELECT STREAM order_count\n",
    "        FROM (\n",
    "            SELECT STREAM COUNT(*) OVER TEN_SECOND_SLIDING_WINDOW AS order_count\n",
    "            FROM \"SOURCE_SQL_STREAM_001\"\n",
    "            WINDOW TEN_SECOND_SLIDING_WINDOW AS (RANGE INTERVAL '10' SECOND PRECEDING)\n",
    "        )\n",
    "        WHERE order_count >= 10;\n",
    "\n",
    "CREATE OR REPLACE STREAM TRIGGER_COUNT_STREAM(\n",
    "    order_count INTEGER,\n",
    "    trigger_count INTEGER);\n",
    "    \n",
    "CREATE OR REPLACE PUMP trigger_count_pump AS INSERT INTO TRIGGER_COUNT_STREAM\n",
    "SELECT STREAM order_count, trigger_count\n",
    "FROM (\n",
    "    SELECT STREAM order_count, COUNT(*) OVER W1 as trigger_count\n",
    "    FROM \"ALARM_STREAM\"\n",
    "    WINDOW W1 AS (RANGE INTERVAL '1' MINUTE PRECEDING)\n",
    ")\n",
    "WHERE trigger_count >= 1;\n",
    "```\n",
    "\n",
    "### lambda.txt\n",
    "```python\n",
    "from __future__ import print_function\n",
    "import boto3\n",
    "import base64\n",
    "\n",
    "client = boto3.client('sns')\n",
    "# Include your SNS topic ARN here.\n",
    "topic_arn = '<your topic here>'\n",
    "\n",
    "def lambda_handler(event, context):\n",
    "    try:\n",
    "        client.publish(TopicArn=topic_arn, Message='Investigate sudden surge in orders', Subject='Cadabra Order Rate Alarm')\n",
    "        print('Successfully delivered alarm message')\n",
    "    except Exception:\n",
    "        print('Delivery failure')\n",
    "```"
   ]
  },
  {
   "cell_type": "markdown",
   "metadata": {},
   "source": [
    "---\n",
    "# Kinesis Analytics Quiz"
   ]
  },
  {
   "cell_type": "markdown",
   "metadata": {},
   "source": [
    "1. From which sources can the input for Kinesis analytics be obtained ?\n",
    "    - Kinesis Analytics can only monitor streams from Kinesis, but both data streams and Firehose are supported."
   ]
  },
  {
   "cell_type": "markdown",
   "metadata": {},
   "source": [
    "2. After real-time analysis has been performed on the input source, where may you send the processed data for further processing?\n",
    "    - While you might in turn connect S3, Redshift, or Lambda to your Kinesis Analytics output stream, Kinesis Analytics must have a stream as its input, and a stream (Data Stream or Firehose) as its output."
   ]
  },
  {
   "cell_type": "markdown",
   "metadata": {},
   "source": [
    "3. If a record arrives late to your application during stream processing, what happens to it?\n",
    "    - The record is written to the error stream when the record arrives past the Timeout we set"
   ]
  },
  {
   "cell_type": "markdown",
   "metadata": {},
   "source": [
    "4. You have heard from your AWS consultant that Amazon Kinesis Data Analytics elastically scales the application to accommodate the data throughput. What though is default capacity of the processing application in terms of memory?\n",
    "    - 32GB = 4GB/KPU * 8KPUs\n",
    "    - Kinesis Data Analytics provisions capacity in the form of Kinesis Processing Units (KPU). A single KPU provides you with the memory (4 GB) and corresponding computing and networking. The default limit for KPUs for your application is eight."
   ]
  },
  {
   "cell_type": "markdown",
   "metadata": {},
   "source": [
    "5. You have configured data analytics and have been streaming the source data to the application. You have also configured the destination correctly. However, even after waiting for a while, you are not seeing any data come up in the destination. What might be a possible cause?\n",
    "    - Issue with IAM role, Mismatched name for output stream, Destination service currently unavailable (Data stream / Firehose is busy working with another producer)"
   ]
  },
  {
   "cell_type": "markdown",
   "metadata": {},
   "source": [
    "---\n",
    "# Amazon Elasticsearch Service (ES)\n",
    "\n",
    "- Petabyte scale analysis and reporting, started out as a search engine\n",
    "- Elastic Stack\n",
    "    - Documents\n",
    "    - Types (Deprecated)\n",
    "    - Index\n",
    "        - Every document is hashed to a shard which live in different nodes within a cluster\n",
    "        - Every shard is actually a self-contained lucene index\n",
    "        - Write requests are routed to the primary node then replicated\n",
    "        - Read requests are routed to any primary or replica node\n",
    "- Not serverless, we need to decide how many servers like EMR\n",
    "- Have to decide upfront if cluster wants to be in VPC, cannot move in and out of VPC after cluster is launched\n",
    "    - If we are using VPC but need to use Kibana (only accessible through the web interface), we can use AWS Cognito to allow end users to log into kibana through an enterprise identity provider such as Microsoft active directory using saml 2.0 and also through social identity providers such as Google, Facebook, Amazon.\n",
    "        - People can then log into Cognito using their Facebook account and that will grant them access to get into Kibana even if it's hidden behind a VPC\n",
    "\n",
    "Anti-patterns\n",
    "- OLTP\n",
    "    - Use RDS / DynamoDB better\n",
    "- Ad-hoc data querying\n",
    "    - Use Athena instead because ES is primarily for search and analytics"
   ]
  },
  {
   "cell_type": "markdown",
   "metadata": {},
   "source": [
    "---\n",
    "# Requirement 5: Near-real-time Log Analysis\n",
    "\n",
    "Send real Apache Server logs into Firehose and then stream it to Elasticsearch so that we can interactively search and create dashboards / visualizations using Kibana on top of raw server data\n",
    "\n",
    "1. Create Server logs in EC2 instance\n",
    "    1. Go to EC2 instance in Terminal\n",
    "    - `wget http://media.sundog-soft.com/AWSBigData/httpd.zip`\n",
    "    - `unzip httpd.zip`\n",
    "    - `cd httpd` and `less ssl_access_log`\n",
    "    - `cd ~` and move the data into `/var/log/httpd` by `sudo mv httpd /var/log/httpd`\n",
    "    \n",
    "2. Create Elasticsearch cluster to listen to this data\n",
    "    1. Go to Elasticsearch console\n",
    "    - `Create domain` (This is what they call a database in Elasticsearch)\n",
    "    - Deployment type: `Development and testing` because we don't want to spend a lot of money on multiple availability zones\n",
    "    - Elasticsearch version: `6.4` and `Next`\n",
    "    - domain name: `cadabra`\n",
    "    - instance type: `m4.large.elasticsearch`\n",
    "    - number of instances: `1`\n",
    "    - Don't enable dedicated master instance\n",
    "    - EBS for storage is fine\n",
    "    - We don't need encryption but it's good to understand that we have encryption options - node to node / data at rest\n",
    "    - `Next`\n",
    "    - Normally we want to keep cluster in a VPC, but because we need a VPN in order to access KIbana, we'll make this `Public access`\n",
    "    - We have the option to `Enable Amazon Cognito for authentication` so that other people can actually log in to use this Kibana instance \n",
    "    - For the access policy, we want to restrict usage of Kibana to only this account, so go to `Account Settings` and copy `Account Id`\n",
    "        - Set the domain access policy to: `Allow or deny access to one or more AWS accounts or IAM users` and paste in `Account ID or ARN`\n",
    "        - `Next`\n",
    "    - `Confirm`\n",
    "    \n",
    "3. `Create Firehose Delivery Stream`\n",
    "    1. `Create Delivery Stream`\n",
    "    - name: `WebLogs`\n",
    "    - source: `Direct PUT` because we're going to use the Kinesis agent as producer to flow the server log data into firehose\n",
    "    - `Process records`\n",
    "        - We need to transform the source records here because if we try to transform the Apache Logs on the client side using the Kinesis Agent, the timestamps dont end up in the right format for Elasticsearch\n",
    "            - Create Lambda function to handle the transformation from raw apache logs to JSON data that Elasticsearch accepts\n",
    "                - Go to `Transform source records with AWS Lambda` and set record transformation: `Enabled` and `Create New` lambda function\n",
    "                    - Click `Apache Log to JSON` template \n",
    "                    - Name: `LogTransform`\n",
    "                    - Role: `Create a custom role`\n",
    "                        - `Allow`\n",
    "                - `Create function`\n",
    "                - Scroll down and change timeout: `1min` and `Save`\n",
    "        - Go back to `Process records` and choose `LogTransform` as the lambda function and `Next`\n",
    "    - `Choose destination`\n",
    "        - `Elasticsearch service` (Remember that Firehose can only stream to S3, Redshift, Elasticsearch, Splunk)\n",
    "        - domain: `cadabra`\n",
    "        - index: `weblogs`\n",
    "        - index rotation: `Every day` so that it's very easy and efficient to drop old data\n",
    "        - type: `weblogs`\n",
    "        - S3 Backup:\n",
    "            - backup mode: `Failed records only`\n",
    "            - Backup S3 bucket: `orderlogs-sundogedu`\n",
    "            - backup s3 bucket prefix: `es/`\n",
    "            - `Next`\n",
    "    - `Configure settings`\n",
    "        - Specify buffer conditions\n",
    "            - Buffer size:  `5MB`\n",
    "            - Buffer interval: `60s`\n",
    "        - Create new IAM role\n",
    "            - Defaults are good, so `Allow`\n",
    "    - Ensure that Elasticsearch is actually running before we finish creating the firehose stream and `Create delivery stream`\n",
    "    \n",
    "4. Configure Kinesis agent to pick up the logs and put them into the firehose stream\n",
    "    1. `sudo nano /etc/aws-kinesis/agent.json`\n",
    "    2. Add new flow by inserting the following:\n",
    "        - `\"filePattern\": \"/var/log/httpd/ssl_access*\",`\n",
    "        - `\"deliveryStream\": \"WebLogs\",`\n",
    "        - `\"initialPosition\": \"START_OF_FILE\"` so that we don't have to manually keep pushing data into there and pick things up from the beginning of the data that I already copid in there\n",
    "        - CTRL + O, Enter, CTRL + X\n",
    "    3. Restart agent by `sudo service aws-kinesis-agent restart`\n",
    "    4. See logs `tail -f /var/log/aws-kinesis-agent/aws-kinesis-agent.log`\n",
    "    5. Go back to Elasticsearch console and see `My domains > cadabra > Indices`\n",
    "        - See that the count for the day is not 0\n",
    "        \n",
    "5. Grant access from our desktop to this ES cluster so that we can use Kibana\n",
    "    - In `My domains > cadabra`, click on `Modify access policy`\n",
    "    - Add another clause under access policy that opens up Kibana from our IP address\n",
    "        - Paste the code snippet below into the access policy under `Statement` list and replace `<your IP>` with your actual IP address and `<your account id>` with your actual account id\n",
    "        - `Submit`\n",
    "        - Click the link to Kibana `Overview` \n",
    "\n",
    "6. Explore Kibana\n",
    "    - Go to `Management > Index Pattern` and `Create index pattern`\n",
    "        - index pattern: `weblogs*` and `Next step`\n",
    "        - time filter field name: `@timestamp` which is a local time\n",
    "        - `Create index pattern`\n",
    "    - `Discover`\n",
    "        - Change time range so that we can see an absolute time range instead of the last 15 min\n",
    "            - Click on the time range on top right hand corner and change it to an absolute range, `2019-01-27` to `2019-02-02`\n",
    "        - We can now search for `response:500`\n",
    "            - We see that there's a big peak of 11 of these \"Internal Server Error\"s so it would indicate that this should be something we have to investigate further as to what caused it.\n",
    "    - Go to `Visualize`\n",
    "        - We can create a `VerticalBar` chart\n",
    "            - Select `weblogs*` index and we can visualize anything we want now\n",
    "    \n",
    "```json\n",
    "    {\n",
    "      \"Effect\": \"Allow\",\n",
    "      \"Principal\": {\n",
    "        \"AWS\": \"*\"\n",
    "      },\n",
    "      \"Action\": [\n",
    "        \"es:*\"\n",
    "      ],\n",
    "      \"Condition\": {\n",
    "        \"IpAddress\": {\n",
    "          \"aws:SourceIp\": [\n",
    "            \"<your IP>\"\n",
    "          ]\n",
    "        }\n",
    "      },\n",
    "      \"Resource\": \"arn:aws:es:us-east-1:<your account id>:domain/cadabra/*\"\n",
    "    },\n",
    "```"
   ]
  },
  {
   "cell_type": "code",
   "execution_count": 2,
   "metadata": {},
   "outputs": [
    {
     "name": "stdout",
     "output_type": "stream",
     "text": [
      "--2019-06-15 10:54:39--  http://media.sundog-soft.com/AWSBigData/httpd.zip\n",
      "Resolving media.sundog-soft.com (media.sundog-soft.com)... 52.216.97.43\n",
      "Connecting to media.sundog-soft.com (media.sundog-soft.com)|52.216.97.43|:80... connected.\n",
      "HTTP request sent, awaiting response... 200 OK\n",
      "Length: 39403376 (38M) [application/octet-stream]\n",
      "Saving to: 'httpd.zip'\n",
      "\n",
      "httpd.zip           100%[===================>]  37.58M   446KB/s    in 2m 11s  \n",
      "\n",
      "2019-06-15 10:56:51 (293 KB/s) - 'httpd.zip' saved [39403376/39403376]\n",
      "\n"
     ]
    }
   ],
   "source": [
    "!wget http://media.sundog-soft.com/AWSBigData/httpd.zip"
   ]
  },
  {
   "cell_type": "code",
   "execution_count": 3,
   "metadata": {},
   "outputs": [
    {
     "name": "stdout",
     "output_type": "stream",
     "text": [
      "Archive:  httpd.zip\n",
      "   creating: httpd/\n",
      "  inflating: httpd/access_log        \n",
      "  inflating: httpd/access_log-20190120  \n",
      "  inflating: httpd/access_log-20190127  \n",
      "  inflating: httpd/access_log-20190203  \n",
      "  inflating: httpd/access_log-20190210  \n",
      "  inflating: httpd/error_log         \n",
      "  inflating: httpd/error_log-20190120  \n",
      "  inflating: httpd/error_log-20190127  \n",
      "  inflating: httpd/error_log-20190203  \n",
      "  inflating: httpd/error_log-20190210  \n",
      "  inflating: httpd/ssl_access_log    \n",
      "  inflating: httpd/ssl_access_log-20190120  \n",
      "  inflating: httpd/ssl_access_log-20190127  \n",
      "  inflating: httpd/ssl_access_log-20190203  \n",
      "  inflating: httpd/ssl_access_log-20190210  \n",
      "  inflating: httpd/ssl_error_log     \n",
      "  inflating: httpd/ssl_error_log-20190120  \n",
      "  inflating: httpd/ssl_error_log-20190127  \n",
      "  inflating: httpd/ssl_error_log-20190203  \n",
      "  inflating: httpd/ssl_error_log-20190210  \n",
      "  inflating: httpd/ssl_request_log   \n",
      "  inflating: httpd/ssl_request_log-20190120  \n",
      "  inflating: httpd/ssl_request_log-20190127  \n",
      "  inflating: httpd/ssl_request_log-20190203  \n",
      "  inflating: httpd/ssl_request_log-20190210  \n"
     ]
    }
   ],
   "source": [
    "!unzip httpd.zip"
   ]
  },
  {
   "cell_type": "markdown",
   "metadata": {},
   "source": [
    "---\n",
    "# Elasticsearch Quiz"
   ]
  },
  {
   "cell_type": "markdown",
   "metadata": {},
   "source": [
    "1. How can you ensure maximum security for your Amazon ES cluster?\n",
    "    - Bind with a VPC, Use security groups, Use IAM policies, Use access policies associated with the Elasticsearch domain creation"
   ]
  },
  {
   "cell_type": "markdown",
   "metadata": {},
   "source": [
    "2. As recommended by AWS, you are going to ensure you have dedicated master nodes for high performance. As a user, what can you configure for the master nodes?\n",
    "    - Only the count and instance types of the master nodes, not EBS volume associated with the node or the upper limit of network traffic / bandwidth"
   ]
  },
  {
   "cell_type": "markdown",
   "metadata": {},
   "source": [
    "3. Which are supported ways to import data into your Amazon ES domain?\n",
    "    - Kinesis, DynamoDB, Logstash / Beats, and Elasticsearch's native API's offer means to import data into Amazon ES."
   ]
  },
  {
   "cell_type": "markdown",
   "metadata": {},
   "source": [
    "4. What can you do to prevent data loss due to nodes within your ES domain failing?\n",
    "    - Maintain snapshots of ES domain\n",
    "    - Amazon ES created daily snapshots to S3 by default, and you can create them more often if you wish."
   ]
  },
  {
   "cell_type": "markdown",
   "metadata": {},
   "source": [
    "5. You are going to setup an Amazon ES cluster and have it configured in your VPC. You want  your customers outside your VPC to visualize the logs reaching the ES using Kibana. How can this be achieved?\n",
    "    - Use a reverse proxy, VPN, or VPC Direct Connect"
   ]
  },
  {
   "cell_type": "markdown",
   "metadata": {},
   "source": [
    "---\n",
    "# Amazon Athena\n",
    "- petabyte scale\n",
    "- SQL Engine for doing interactive queries on data in an S3 data lake and completely serverless\n",
    "- Supported data formats:\n",
    "    - CSV, JSON (Human Readable)\n",
    "    - ORC, Parquet, Avro (Columnar except for Avro, splittable - can be distributed across nodes in a cluster)\n",
    "- Use cases:\n",
    "    - Ad-hoc queries of weblogs (Better to use Athena than Elasticsearch for project above)\n",
    "- Use columnar format to save money on athena\n",
    "- Dont use this for Highly formatted reports and ETL (Use glue instead)"
   ]
  },
  {
   "cell_type": "markdown",
   "metadata": {},
   "source": [
    "---\n",
    "# Requirement 6: Data warehousing & visualization\n",
    "\n",
    "We want to connect Glue to crawl the S3 bucket with order logs that have been saved inside previously using Firehose. We can then query that data using SQL from Athena.\n",
    "\n",
    "1. Configure Glue\n",
    "    1. Go to AWS Glue console\n",
    "    - `Crawlers` and `Add a crawler`\n",
    "    - name: `order data`\n",
    "    - we can encrypt logs from Glue that will be pushed to CloudWatch but this isnt important right now\n",
    "    - Choose data source: `S3`, we have `JDBC` and `DynamoDB` as options too\n",
    "        - Choose S3 Path: `orderlogs-sundogedu`\n",
    "        - Exclude any unecessary data, `Exclude patterns`\n",
    "            - `es/**` to exclude all the errors we stored in the same S3 bucket for a previous exercise\n",
    "            - `Next`\n",
    "    - Create IAM Role:\n",
    "        - AWSGlueServiceRole-`OrderData` and `Next`\n",
    "        - Frequency: `Run on demand` because our schema wont change any time soon\n",
    "        - Add database to store the structured S3 data so we can run sql queries on it with Athena\n",
    "            - name: `orderlogs` and `Next`\n",
    "    - `Finish`\n",
    "    - `Run it now`\n",
    "    - Go to `Databases` and click `orderlogs`\n",
    "    - Click `tables in orderlogs`\n",
    "    - `Edit schema` to add the column names that arent present in the CSV\n",
    "        - col1: `InvoiceNo`\n",
    "        - col2: `StockCode`\n",
    "        - col3: `Description`\n",
    "        - col4: `Quantity`\n",
    "        - col5: `InvoiceDate`\n",
    "        - col6: `UnitPrice`\n",
    "        - col7: `CustomerID`\n",
    "        - col8: `Country`\n",
    "        - partition0: `year`\n",
    "        - partition1: `month`\n",
    "        - partition2: `day`\n",
    "        - partition3: `hour`\n",
    "    - If the data types aren't right, best is to create an ETL job in Glue and write a script to convert, dont amend it manually in `Edit schema`\n",
    "    - `Save`\n",
    "    \n",
    "- Go to Athena and try to query this table created from the S3 data lake\n",
    "    - Go to Athena console and set Database: `orderlogs`\n",
    "    - In new query, type: \n",
    "```sql \n",
    "SELECT description, count(*) \n",
    "from orderlogs_sundogedu \n",
    "where country='France' and year='2019' and month='02' \n",
    "group by description\n",
    "```"
   ]
  },
  {
   "cell_type": "markdown",
   "metadata": {},
   "source": [
    "---\n",
    "# Athena Quiz"
   ]
  },
  {
   "cell_type": "markdown",
   "metadata": {},
   "source": [
    "1. As a Big Data analyst, you need to query/analyze data from a set of CSV files stored in S3. Which of the following serverless services helps you with this?\n",
    "    - AWS Athena"
   ]
  },
  {
   "cell_type": "markdown",
   "metadata": {},
   "source": [
    "2. What are two columnar data formats supported by Athena?\n",
    "    - Parquet and ORC"
   ]
  },
  {
   "cell_type": "markdown",
   "metadata": {},
   "source": [
    "3. Your organization is querying JSON data stored in S3 using Athena, and wishes to reduce costs and improve performance with Athena. What steps might you take?\n",
    "    - Convert JSON data to ORC and analyze ORC data with Athena\n",
    "    - Using columnar formats such as ORC and Parquet can reduce costs 30-90%, while improving performance at the same time"
   ]
  },
  {
   "cell_type": "markdown",
   "metadata": {},
   "source": [
    "4. When using Athena, you are charged separately for using the AWS Glue Data Catalog. True or False ?\n",
    "    - True"
   ]
  },
  {
   "cell_type": "markdown",
   "metadata": {},
   "source": [
    "5. Which of the following statements is NOT TRUE regarding Athena pricing?\n",
    "    - Amazon Athena charges you for cancelled queries [TRUE]\n",
    "    - Amazon Athena charges you for failed queries [FALSE]\n",
    "    - You will get charged less when using a columnar format [TRUE]\n",
    "    - Amazon Athena is priced per query and charges based on amount of data scanned by the query [TRUE]"
   ]
  },
  {
   "cell_type": "markdown",
   "metadata": {},
   "source": [
    "---\n",
    "# Amazon Redshift\n",
    "- exabyte scale data warehouse\n",
    "- scale up /  down on demand\n",
    "- spectrum is just like athena, creates tables without copying the data from S3 so that you can query it\n",
    "- Import / Export data\n",
    "    - Most efficient way to import data is by using `COPY` command\n",
    "        - Can read from multiple data files / data streams simultaneously\n",
    "            - S3, EMR, DynamoDB, some remote host using SSH\n",
    "    - Can use rol-based / key-based access control to provide authentication to do `COPY` command\n",
    "        - E.g. `COPY` data from S3 Bucket using `copy <table name> <authorization: you can use either IAM followed by ARN or access key id followed by access key id secret access key followed by secret access key>` OR use manifest JSON file sitting in S3 that lists data files  you want to load then `copy <table name> <manifest file> <authorization>`\n",
    "        - Export data by using `UNLOAD` command into S3"
   ]
  },
  {
   "cell_type": "markdown",
   "metadata": {},
   "source": [
    "---\n",
    "# Requirement 6: Data warehousing & Visualization\n",
    "\n",
    "We'll connect Glue after the configuration in the previous exercise so that we can simply use Redshift spectrum on top of the `orderlogs` database created by Glue.\n",
    "\n",
    "1. Configure Redshift cluster\n",
    "    1. Go to redshift console\n",
    "    - `Clusters > Launch cluster`\n",
    "    - cluster identifier: `cadabra`\n",
    "    - database name: `dev`\n",
    "    - port: `5439`\n",
    "    - master user name: `awsuser` (anything here)\n",
    "    - `Continue` and skip node config because default is fine\n",
    "    - We can encrypt the database using KMS / HSM, but we'll stick with none for now and stick with default VPC\n",
    "    - Create security group for VPC \n",
    "        1. Go to VPC console\n",
    "        - Go to `security groups` in side menu and `Create security group`\n",
    "        - Security group name: `RedshiftSecurity`\n",
    "        - description: `Permissions for redshift`\n",
    "        - vpc: `<choose your default vpc>` and `Create`\n",
    "        - Scroll down to `Inbound Rules`\n",
    "            - Set inbound rule so that we can open up ports 22 and 5439 (Redshift runs on port 5439 and SSH is supported at 22) - Notice that port 22 isn't here so we can't connect through Terminal using SSH\n",
    "        - Input `Custom TCP Rule`, `22`, `My IP`, and click `Save rules`\n",
    "        - Input `Custom TCP Rule`, `5439`, `My IP`, and click `Save rules` and `Close`\n",
    "    - We need an IAM role too\n",
    "        1. Go to IAM console\n",
    "        - `Create role`\n",
    "        - select type of trusted entity: `AWS service`\n",
    "        - choose service that will use this role: `Redshift`\n",
    "        - select your use case: `Redhsift customizable`\n",
    "        - `Next Permissions`\n",
    "        - Policies:\n",
    "            - `AmazonS3ReadOnlyAccess`\n",
    "            - `AWSGlueConsoleFullAccess`\n",
    "        - Skip `Next Tags`\n",
    "        - role name: `RedshiftSpectrum`\n",
    "        - `Create role`\n",
    "    - VPC security groups: `RedshiftSecurity (...)`\n",
    "    - Available IAM roles: `RedshiftSpectrum`\n",
    "    - `Continue` and `Launch Cluster`\n",
    "    \n",
    "2. Query\n",
    "    1. Go to `Query editor`\n",
    "    - cluster: `cadabra`\n",
    "    - database: `dev`\n",
    "    - database user: `awsuser`\n",
    "    - password: `<insert your own password>`\n",
    "    - `Connect`\n",
    "    - Get ARN for IAM role (`RedshiftSpectrum`) we just created\n",
    "    - Enter code snippet below in new query 1 and run the query\n",
    "    - Change schema to `information_schema` \n",
    "    - Run the query below\n",
    " \n",
    "Bring data from S3 bucket to Redshift cluster\n",
    "```mysql\n",
    "CREATE external schema orderlog_schema\n",
    "FROM data catalog\n",
    "database 'orderlogs'\n",
    "iam_role 'arn:aws:iam::669815420608:role/RedshiftSpectrum'\n",
    "region 'southeast-1';\n",
    "```\n",
    "\n",
    "Query\n",
    "```mysql\n",
    "SELECT description, count(*)\n",
    "FROM orderlog_schema.order_logs_sundogedu\n",
    "WHERE country = 'France'\n",
    "AND year = '2019'\n",
    "AND month = '02'\n",
    "GROUP BY description;\n",
    "```"
   ]
  },
  {
   "cell_type": "markdown",
   "metadata": {},
   "source": [
    "---\n",
    "# Redshift Quiz"
   ]
  },
  {
   "cell_type": "markdown",
   "metadata": {},
   "source": [
    "1. You are working as Big Data Analyst of a data warehousing company. The company uses RedShift clusters for data analytics. For auditing and compliance purpose, you need to monitor API calls to RedShift instance and also provide secured data. Which of the following services helps in this regard ?\n",
    "    - CloudTrail logs [CORRECT]\n",
    "    - CloudWatch logs \n",
    "    - Redshift Spectrum\n",
    "    - AmazonMQ"
   ]
  },
  {
   "cell_type": "markdown",
   "metadata": {},
   "source": [
    "2. You are working as a Big Data analyst of a Financial enterprise which has a large data set that needs to have columnar storage to reduce disk IO. It is also required that the data should be queried fast so as to generate reports. Which of the following service is best suited for this scenario?\n",
    "    - Redshift"
   ]
  },
  {
   "cell_type": "markdown",
   "metadata": {},
   "source": [
    "3. You are working for a data warehouse company that uses Amazon RedShift cluster. It is required that VPC flow logs is used to monitor all COPY and UNLOAD traffic of the cluster that moves in and out of the VPC. Which of the following helps you in this regard ?\n",
    "    - By enabling Enhanced VPC routing  on Redshift cluster"
   ]
  },
  {
   "cell_type": "markdown",
   "metadata": {},
   "source": [
    "4. You are working for a data warehousing company that has large datasets (20TB of structured data and 20TB of unstructured data). They are planning to host this data in AWS with unstructured data storage on S3. At first they are planning to migrate the data to AWS and use it for basic analytics and are not worried about performance. Which of the following options fulfills their requirement?\n",
    "    - node type ds2.xlarge\n",
    "    - Since they are not worried about performance, storage (ds) is more important than computing power (dc,) and expensive 8xlarge instances aren't necessary."
   ]
  },
  {
   "cell_type": "markdown",
   "metadata": {},
   "source": [
    "5. Which of the following services allows you to directly run SQL queries against exabytes of unstructured data in Amazon S3?\n",
    "    - Redhsift Spectrum"
   ]
  },
  {
   "cell_type": "markdown",
   "metadata": {},
   "source": [
    "---\n",
    "# Amazon Relational Database System (RDS)\n",
    "\n",
    "Hosts relational database like MySQL, PostgreSQL, ... Not meant for big data, can migrate to Redshift\n",
    "\n",
    "ACID compliance\n",
    "- Atomicity\n",
    "    - Ensures entire transaction as a whole is successfully executed or if part of a transaction fails then entire transaction is invalidated\n",
    "- Consistency\n",
    "    - Ensures that data written into database as part of the transaction must adhere to all defined rules and restrictions including constraints cascades and triggers\n",
    "- Isolation\n",
    "    - Ensures that each transaction is independent unto itself\n",
    "        - Critical in achieving concurrency control\n",
    "- Durability\n",
    "    - Ensures all changes made to database is permanent once a transaction is successfully completed"
   ]
  },
  {
   "cell_type": "markdown",
   "metadata": {},
   "source": [
    "---\n",
    "## Resources:\n"
   ]
  }
 ],
 "metadata": {
  "kernelspec": {
   "display_name": "Python 3",
   "language": "python",
   "name": "python3"
  },
  "language_info": {
   "codemirror_mode": {
    "name": "ipython",
    "version": 3
   },
   "file_extension": ".py",
   "mimetype": "text/x-python",
   "name": "python",
   "nbconvert_exporter": "python",
   "pygments_lexer": "ipython3",
   "version": "3.6.7"
  }
 },
 "nbformat": 4,
 "nbformat_minor": 2
}
