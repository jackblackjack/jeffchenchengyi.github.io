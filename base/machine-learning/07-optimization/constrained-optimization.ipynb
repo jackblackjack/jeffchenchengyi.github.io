{
 "cells": [
  {
   "cell_type": "markdown",
   "metadata": {},
   "source": [
    "# Constrained Optimization\n",
    "\n",
    "In this notebook, we'll walk through 2 types of constrained optimization problems and how to solve them.\n",
    "\n",
    "The general constrained optimization problem:\n",
    "\n",
    "$$\n",
    "\\begin{aligned}\n",
    "&\\text{Minimize } f_0(x)\\\\\n",
    "&\\text{subject to } f_i(x) \\leq 0, i=1, ..., m\\\\\n",
    "\\end{aligned}\n",
    "$$\n",
    "\n",
    "E.g.\n",
    "\n",
    "$$\n",
    "\\begin{aligned}\n",
    "&\\text{Maximize } f(x, y) = x^2 y \\\\\n",
    "&\\text{subject to } x^2 + y^2 = 1 \\\\\n",
    "\\end{aligned}\n",
    "$$\n",
    "\n",
    "To solve this, we'll let ${g(x, y) = x^2 + y^2}$, and find $x$ and $y$ such that ${\\nabla{f(x, y)} = \\lambda\\nabla{g(x, y)}}, \\lambda , \\text{the Lagrange Multiplier} > 0$:\n",
    "\n",
    "$$\n",
    "\\begin{aligned}\n",
    "\\nabla{f(x, y)} &= \\begin{bmatrix} 2xy \\\\ x^2 \\end{bmatrix} \\\\\n",
    "\\nabla{g(x, y)} &= \\begin{bmatrix} 2x \\\\ 2y \\end{bmatrix} \\\\\n",
    "&\\vdots \\\\\n",
    "\\begin{bmatrix} 2xy \\\\ x^2 \\end{bmatrix} &= \\lambda \\begin{bmatrix} 2x \\\\ 2y \\end{bmatrix} \\\\\n",
    "&\\vdots \\\\\n",
    "2xy &= \\lambda 2x \\\\\n",
    "x^2 &= \\lambda 2y \\\\\n",
    "x^2 + y^2 &= 1 \\\\\n",
    "&\\vdots \\\\\n",
    "\\therefore x &= \\frac{+}{-}\\sqrt{\\frac{2}{3}} \\\\\n",
    "y &= \\frac{+}{-}\\sqrt{\\frac{1}{3}} \\\\\n",
    "\\end{aligned}\n",
    "$$\n",
    "\n",
    "However, only the points ${(\\sqrt{\\frac{2}{3}}, \\sqrt{\\frac{1}{3}})}$ and ${(-\\sqrt{\\frac{2}{3}}, \\sqrt{\\frac{1}{3}})}$ maximize the function to the constraints."
   ]
  },
  {
   "cell_type": "markdown",
   "metadata": {},
   "source": [
    "---\n",
    "# Linear Programming"
   ]
  },
  {
   "cell_type": "markdown",
   "metadata": {},
   "source": [
    "---\n",
    "# Quadratic Programming"
   ]
  },
  {
   "cell_type": "markdown",
   "metadata": {},
   "source": [
    "---\n",
    "## Resources:\n",
    "- [Lagrange multipliers and constrained optimization by Grant Sanderson on Khan Academy](https://www.khanacademy.org/math/multivariable-calculus/applications-of-multivariable-derivatives/lagrange-multipliers-and-constrained-optimization/v/constrained-optimization-introduction)\n",
    "- [Manfred Huber's Notes on Constrained Optimization](http://ranger.uta.edu/~huber/cse4345/Notes/Constrained_Optimization.pdf)"
   ]
  },
  {
   "cell_type": "code",
   "execution_count": null,
   "metadata": {},
   "outputs": [],
   "source": []
  }
 ],
 "metadata": {
  "kernelspec": {
   "display_name": "Python 3",
   "language": "python",
   "name": "python3"
  },
  "language_info": {
   "codemirror_mode": {
    "name": "ipython",
    "version": 3
   },
   "file_extension": ".py",
   "mimetype": "text/x-python",
   "name": "python",
   "nbconvert_exporter": "python",
   "pygments_lexer": "ipython3",
   "version": "3.7.3"
  }
 },
 "nbformat": 4,
 "nbformat_minor": 2
}
