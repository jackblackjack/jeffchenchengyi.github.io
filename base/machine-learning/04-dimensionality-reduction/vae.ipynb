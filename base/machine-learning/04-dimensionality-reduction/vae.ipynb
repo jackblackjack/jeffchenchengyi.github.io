{
 "cells": [
  {
   "cell_type": "markdown",
   "metadata": {},
   "source": [
    "# Variational Autoencoder (VAE)"
   ]
  },
  {
   "cell_type": "markdown",
   "metadata": {},
   "source": [
    "### Preliminaries\n",
    "\n",
    "Log-Derivative Trick:\n",
    "$$\n",
    "\\begin{aligned}\n",
    "\\nabla_{\\theta} E_q[x^2] &= \\nabla_{\\theta} \\int q_{\\theta}(x) x^2 dx \\\\\n",
    "&= \\int x^2 \\nabla_{\\theta} q_{\\theta}(x) \\frac{q_{\\theta}(x)}{q_{\\theta}(x)} dx \\\\\n",
    "&= \\int x^2 q_{\\theta}(x) \\frac{\\nabla_{\\theta} q_{\\theta}(x)}{q_{\\theta}(x)} dx \\\\\n",
    "&= \\int x^2 \\underbrace{q_{\\theta}(x) \\nabla_{\\theta} \\log q_{\\theta}(x)} dx \\because \\Big[\\frac{d}{dx}{ln[{f(x)}]} = \\frac{f^\\prime (x)}{f(x)}\\Big] \\\\\n",
    "&= E_q[x^2 \\nabla_{\\theta} \\log q_{\\theta}(x)]\n",
    "\\end{aligned}\n",
    "$$"
   ]
  },
  {
   "cell_type": "markdown",
   "metadata": {},
   "source": [
    "---\n",
    "## Visualizing MNIST with Convolutional VAE"
   ]
  },
  {
   "cell_type": "markdown",
   "metadata": {},
   "source": [
    "### Resources\n",
    "- [Reparameterization trick](https://nbviewer.jupyter.org/github/gokererdogan/Notebooks/blob/master/Reparameterization%20Trick.ipynb)"
   ]
  }
 ],
 "metadata": {
  "kernelspec": {
   "display_name": "Python 3",
   "language": "python",
   "name": "python3"
  },
  "language_info": {
   "codemirror_mode": {
    "name": "ipython",
    "version": 3
   },
   "file_extension": ".py",
   "mimetype": "text/x-python",
   "name": "python",
   "nbconvert_exporter": "python",
   "pygments_lexer": "ipython3",
   "version": "3.7.4"
  }
 },
 "nbformat": 4,
 "nbformat_minor": 2
}
