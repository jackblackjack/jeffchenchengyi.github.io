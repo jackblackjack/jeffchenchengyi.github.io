{
 "cells": [
  {
   "cell_type": "markdown",
   "metadata": {},
   "source": [
    "# Convex Optimization\n",
    "\n",
    "In this notebook, we'll walk through convex optimization problems, how to formulate them, and how to solve them. We start off with 2 prominent cases of convex optimization and afterwards we'll go through the actual methods to find the optimal parameters that solve the problems. The first two sections are more about how to setup the convex optimization problem, while the last section is about how we can find the best parameters to solve the given problem. The formulation and \n",
    "\n",
    "### Table of Contents\n",
    "1. [Least Squares](#ls)\n",
    "    1. [Linear Least Squares](#lls)\n",
    "        1. [Ordinary Least Squares](#ols)\n",
    "        2. [Weighted Least Squares](#wls)\n",
    "        3. [Generalized Least Squares](#gls)\n",
    "        4. [Iteratively reweighted least Squares](#irls)\n",
    "        5. [Instrumental Variables (IV) Regression](#ivr)\n",
    "        6. [Total Least Squares](#tls)\n",
    "    2. [Constrained Linear Least Squares](#clls)\n",
    "        1. [Equality constrained Least Squares](#ecls)\n",
    "        2. [Regularized Least Squares](#rls)\n",
    "        3. [Non-negative Least Squares](#nnls)\n",
    "        4. [Box-constrained least Squares](#bcls)\n",
    "        5. [Integer-constrained Least Squares](#icls)\n",
    "        6. [Phase-constrained least Squares](#pcls)\n",
    "    3. [Non-linear Least Squares](#nlls)\n",
    "2. [Constrained Optimization](#co)\n",
    "    1. [Duality Theory](#duality)\n",
    "        1. [The Lagrangian](#lagrangian)\n",
    "        2. [Meaning of Lagrange Multipliers $\\lambda$](#lagrangianmeaning)\n",
    "        3. [Constraint Qualifications](#constraintqualifications)\n",
    "    2. [Linear Constraints](#lconstraints)\n",
    "        1. [Linear Programming / Optimization](#lp)\n",
    "        2. [Quadratic Programming / Optimization](#qp)\n",
    "    3. [Non-linear Constraints](#nlconstraints)\n",
    "        1. [Non-linear Programming / Optimization](#nlp)\n",
    "3. [Solution Strategies](#solnstrat)\n",
    "    1. Medium-scale Solver\n",
    "        1. Conjugate Gradient\n",
    "        2. Interior Point Methods\n",
    "        3. Active Set Methods\n",
    "        4. Trust Region Methods\n",
    "    2. Large Scale Solver\n",
    "        1. Limiting Memory BFGS\n",
    "        2. Stochastic Subgradient\n",
    "        3. Block Coordinate Descent\n",
    "        4. Operator Splitting Methods"
   ]
  },
  {
   "cell_type": "markdown",
   "metadata": {},
   "source": [
    "## Preliminaries\n",
    "\n",
    "### Affine Set\n",
    "- Contains the line through any two distinct points in the set\n",
    "    - E.g. Solution set of linear equations ${ \\{x\\vert Ax = b\\} }$\n",
    "    - Conversely, every affine set can be expressed as solution set of system of linear equations\n",
    "        - $${ \\begin{aligned} Ax_1 &= b \\\\ Ax_2 &= b \\\\ Ax &= A(\\theta x_1 + (1-\\theta)x_2) \\\\ &= \\theta Ax_1 + (1-\\theta)Ax_2 \\\\ &= \\theta b + (1-\\theta) b \\\\ &= b\\end{aligned} }$$\n",
    "\n",
    "### Convex Set\n",
    "- Contains the **line segment** between $x_1$ and $x_2$: all points $x = \\theta x_1 + (1-\\theta)x_2$ with $0 \\leq \\theta \\leq 1$ \n",
    "\n",
    "### Convex Combination\n",
    "- Generalization of the convex set so that we include all combinations of points ${x_1, \\ldots, x_k}$ such that $x = \\theta_1x_1 + \\ldots + \\theta_kx_k$ with $\\theta_1 + \\ldots + \\theta_k = 1\\,,\\theta_i \\geq 0$\n",
    "\n",
    "### Convex Hull\n",
    "- The smallest set of all convex combinations of the points in our space (the smallest shaded region of the shape so that any two points in the shaded regoion can see each other)\n",
    "\n",
    "### Convex Cone\n",
    "- Set that contains all **non-negative Conic combination** of $x_1$ and $x_2$: any point of the form $x = \\theta_1x_1 + \\theta_2x_2$ with $\\theta_1 \\geq 0, \\theta_2 \\geq 0$ (Looks like a pie slice (plane) - any point on the line from origin to $x_i$ and beyond are multiples of $x_i$ and all points in the shaded region are the non-negative linear combinations of multiples of $x_i$ and $x_j$)\n",
    "\n",
    "### Convex Function\n",
    "- A function is [convex when Hessian is PSD](https://www.quora.com/Why-is-a-function-convex-when-its-Hessian-positive-semidefinite)\n",
    "\n",
    "### Hyperplanes\n",
    "- Solution set to a single linear **equality** constraint / equation: ${ \\{x\\vert a^\\top x = b\\} (a \\neq 0) }$\n",
    "    - $a$ is the normal to that hyperplane\n",
    "    - Varying $b$ moves the hyperplane perpendicular to $a$ and parallel to the hyperplane\n",
    "\n",
    "### Halfspace\n",
    "- Solution set to a single linear **inequality** constraint / equation: ${ \\{x\\vert a^\\top x \\leq b\\} (a \\neq 0) }$\n",
    "    - The shaded region below the hyperplane for $\\leq$ sign\n",
    "    - $a$ is an **outward** normal vector\n",
    "    - Hyperplanes are affine and convex, halfspaces are convex\n",
    "    - Simple Halfspace Proof of Convexity: $$\\begin{aligned} a^\\top x_1 &\\leq b \\\\ a^\\top x_2 &\\leq b \\\\ x &= \\theta x_1 + (1-\\theta)x_2 , \\theta \\in [0, 1] \\\\ a^\\top x &= a^\\top (\\theta x_1 + (1- \\theta)x_2) \\\\ &= \\theta a^\\top x_1 + (1-\\theta) a^\\top x_2 \\\\ &\\leq \\theta b + (1-\\theta)b \\end{aligned}$$"
   ]
  },
  {
   "cell_type": "markdown",
   "metadata": {},
   "source": [
    "---\n",
    "# 1. Least Squares<a id='ls'></a>\n",
    "\n",
    "An estimator / model is a function used to provide an estimate $\\hat{\\beta}$ of the true population parameter $\\beta^p$ / target variable we're modelling. Note that using the same estimator but with different samples may often result in different estimates\n",
    "\n",
    "Desirable Properties of Estimator:\n",
    "1. Unbiased - $\\mathbb{E}[\\hat{\\beta}] = \\beta^p$ (The average $\\hat{\\beta}$ is $\\beta^p$)\n",
    "2. Consistent - As the sample size $n \\rightarrow \\infty$, $\\hat{\\beta} \\rightarrow \\beta^p$\n",
    "3. Efficient - One estimator is more efficient than another if the standard deviation of $\\hat{\\beta}$ is lower ($\\hat{\\beta}$s hover very near the same value)\n",
    "4. Linear in parameters - $\\hat{\\beta}$ is a linear function of parameters from sample\n",
    "\n",
    "E.g. Biased but Consistent Estimator:\n",
    "1. Suppose we are trying to estimate a population parameter $\\mu$ from a population such that a sample $x_i = \\mu + \\epsilon,\\,\\epsilon \\sim N(0, 1)$ - errors are normally distributed with mean of 0\n",
    "2. We get $N$ samples of $x_i$ and we set the **estimator** to be $\\tilde{x} = \\frac{1}{N-1}\\sum^{N}_{i=1} x_i$\n",
    "3. To test Unbiasedness, we take $\\mathbb{E}[\\tilde{x}] = \\frac{1}{N-1}\\sum^{N}_{i=1} \\mathbb{E}[x_i]$ because of the *linearity of expectations*\n",
    "4. Since $\\mathbb{E}[x_i] = \\mathbb{E}[\\mu] + \\mathbb{E}[\\epsilon] = \\mu$, $\\mathbb{E}[\\tilde{x}] = \\frac{N \\mu}{N-1}$\n",
    "5. Hence, if we have a finite sample size, our estimator does not equal the population parameter, making this a biased estimator.\n",
    "6. However, as $n \\rightarrow \\infty$, $\\frac{N \\mu}{N-1} \\rightarrow \\mu$, making this a consistent estimator as we get the true population paarmeter as our sample size increases infinitely.\n",
    "\n",
    "Least Squares Estimators are **Best Linear Unbiased Estimators (BLUE)** under *Gauss-Markov* Assumptions."
   ]
  },
  {
   "cell_type": "markdown",
   "metadata": {},
   "source": [
    "## 1. Linear Least Squares<a id='lls'></a>"
   ]
  },
  {
   "cell_type": "markdown",
   "metadata": {},
   "source": [
    "### 1. [Ordinary Least Squares](https://en.wikipedia.org/wiki/Ordinary_least_squares)<a id='ols'></a>"
   ]
  },
  {
   "cell_type": "markdown",
   "metadata": {},
   "source": [
    "### 2. Weighted Least Squares<a id='wls'></a>"
   ]
  },
  {
   "cell_type": "markdown",
   "metadata": {},
   "source": [
    "### 3. Generalized Least Squares<a id='gls'></a>\n"
   ]
  },
  {
   "cell_type": "markdown",
   "metadata": {},
   "source": [
    "### 4. Iteratively reweighted least Squares<a id='irls'></a>\n"
   ]
  },
  {
   "cell_type": "markdown",
   "metadata": {},
   "source": [
    "### 5. Instrumental Variables (IV) Regression<a id='ivr'></a>\n"
   ]
  },
  {
   "cell_type": "markdown",
   "metadata": {},
   "source": [
    "### 6. Total Least Squares<a id='tls'></a>\n",
    "\n"
   ]
  },
  {
   "cell_type": "markdown",
   "metadata": {},
   "source": [
    "## 2. [Constrained Linear Least Squares](https://en.wikipedia.org/wiki/Constrained_least_squares)<a id='clls'></a>\n",
    "\n"
   ]
  },
  {
   "cell_type": "markdown",
   "metadata": {},
   "source": [
    "### 1. Equality constrained Least Squares<a id='ecls'></a>\n"
   ]
  },
  {
   "cell_type": "markdown",
   "metadata": {},
   "source": [
    "### 2. Regularized Least Squares<a id='rls'></a>\n",
    "\n",
    "#### [Tikhonov Regularization](https://en.wikipedia.org/wiki/Tikhonov_regularization)"
   ]
  },
  {
   "cell_type": "markdown",
   "metadata": {},
   "source": [
    "### 3. Non-negative Least Squares<a id='nnls'></a>\n"
   ]
  },
  {
   "cell_type": "markdown",
   "metadata": {},
   "source": [
    "### 4. Box-constrained least Squares<a id='bcls'></a>\n"
   ]
  },
  {
   "cell_type": "markdown",
   "metadata": {},
   "source": [
    "### 5. Integer-constrained Least Squares<a id='icls'></a>\n"
   ]
  },
  {
   "cell_type": "markdown",
   "metadata": {},
   "source": [
    "### 6. Phase-constrained least Squares<a id='pcls'></a>\n",
    "\n"
   ]
  },
  {
   "cell_type": "markdown",
   "metadata": {},
   "source": [
    "## 3. Non-linear Least Squares<a id='nlls'></a>"
   ]
  },
  {
   "cell_type": "markdown",
   "metadata": {},
   "source": [
    "---\n",
    "# 2. Constrained Optimization<a id='co'></a>\n",
    "\n",
    "$$\n",
    "\\begin{aligned}\n",
    "&\\text{Minimize } f_0(x)\\\\\n",
    "&\\text{subject to } f_i(x) \\leq 0, i=1, ..., m \\\\\n",
    "\\end{aligned}\n",
    "$$\n",
    "\n",
    "E.g.\n",
    "\n",
    "$$\n",
    "\\begin{aligned}\n",
    "&\\text{Maximize } f(x, y) = x^2 y \\\\\n",
    "&\\text{subject to } x^2 + y^2 = 1 \\\\\n",
    "\\end{aligned}\n",
    "\\underset{\\text{turning equality to inequality}}{\\rightarrow}\n",
    "\\begin{aligned}\n",
    "&\\text{Maximize } f(x, y) = x^2 y \\\\\n",
    "&\\text{subject to } x^2 + y^2 \\geq 1 \\\\\n",
    "&\\text{subject to } x^2 + y^2 \\leq 1 \\\\\n",
    "\\end{aligned}\n",
    "$$\n",
    "\n",
    "To solve this, we'll let ${g(x, y) = x^2 + y^2}$, and find $x$ and $y$ such that ${\\nabla{f(x, y)} = \\lambda\\nabla{g(x, y)}}, \\lambda , \\text{the Lagrange Multiplier} > 0$:\n",
    "\n",
    "$$\n",
    "\\begin{aligned}\n",
    "\\nabla{f(x, y)} &= \\begin{bmatrix} 2xy \\\\ x^2 \\end{bmatrix} \\\\\n",
    "\\nabla{g(x, y)} &= \\begin{bmatrix} 2x \\\\ 2y \\end{bmatrix} \\\\\n",
    "&\\vdots \\\\\n",
    "\\begin{bmatrix} 2xy \\\\ x^2 \\end{bmatrix} &= \\lambda \\begin{bmatrix} 2x \\\\ 2y \\end{bmatrix} \\\\\n",
    "&\\vdots \\\\\n",
    "2xy &= \\lambda 2x \\\\\n",
    "x^2 &= \\lambda 2y \\\\\n",
    "x^2 + y^2 &= 1 \\\\\n",
    "&\\vdots \\\\\n",
    "\\therefore x &= \\frac{+}{-}\\sqrt{\\frac{2}{3}} \\\\\n",
    "y &= \\frac{+}{-}\\sqrt{\\frac{1}{3}} \\\\\n",
    "\\end{aligned}\n",
    "$$\n",
    "\n",
    "However, only the points ${(\\sqrt{\\frac{2}{3}}, \\sqrt{\\frac{1}{3}})}$ and ${(-\\sqrt{\\frac{2}{3}}, \\sqrt{\\frac{1}{3}})}$ maximize the function to the constraints."
   ]
  },
  {
   "cell_type": "markdown",
   "metadata": {},
   "source": [
    "## 1. Duality Theory<a id='duality'></a>"
   ]
  },
  {
   "cell_type": "markdown",
   "metadata": {},
   "source": [
    "### 1. [The Lagrangian](https://www.khanacademy.org/math/multivariable-calculus/applications-of-multivariable-derivatives/lagrange-multipliers-and-constrained-optimization/v/the-lagrangian?modal=1)<a id='lagrangian'></a>\n",
    "\n",
    "The general form of the Lagrangian is as follows:\n",
    "\n",
    "$$\n",
    "\\begin{aligned}\n",
    "&\\text{Minimize } f_0(x)\\\\\n",
    "&\\text{subject to } f_i(x) \\leq 0, i=1, ..., m \\\\\n",
    "\\end{aligned}\n",
    "$$\n",
    "\n",
    "By Lagrangian Relaxation of Constraints, we can transform the constrained problem into unconstrained version (Each $x$ is called a *primal variable* and each $\\lambda$ is called a *dual variable / lagrange multiplier* and there's one lagrange multiplier / dual variable for each constraint):\n",
    "\n",
    "$$\n",
    "\\begin{aligned}\n",
    "\\mathcal{L}(x, \\lambda) &= f_0(x) + \\sum^{m}_{i = 1} \\lambda_i f_i (x) \\\\\n",
    "\\therefore \\underset{\\lambda \\succeq 0}{sup} \\mathcal{L}(x, \\lambda) &= \\underset{\\lambda \\succeq 0}{sup}\\Big{(}f_0(x) + \\sum^{m}_{i = 1} \\lambda_i f_i (x)\\Big{)}\\,\\,\\text{Supremum and Infimum = Max and Min with No Bounds}\n",
    "\\end{aligned}\n",
    "$$\n",
    "\n",
    "Taking a look at $\\underset{\\lambda \\succeq 0}{sup}\\Big{(}f_0(x) + \\sum^{m}_{i = 1} \\lambda_i f_i (x)\\Big{)}$, we observe that when one of the constraints ${f_i(x)}$ is violated, AKA ${f_i(x) > 0}$, the supremum for the set is $\\infty$, and the largest possible supremum would be $f_0(x)$ when $\\lambda_i = 0$.\n",
    "\n",
    "$$\n",
    "\\therefore \\underset{\\lambda \\succeq 0}{sup} \\mathcal{L}(x, \\lambda) = \\Big{\\{}\\begin{array}{lr} f_0(x)\\,\\text{when}\\,f_i(x) \\leq 0\\,\\forall\\,i \\\\ \\infty\\,\\text{otherwise} \\end{array}\n",
    "$$\n",
    "\n",
    "#### Lagrangian Primal Problem\n",
    "\n",
    "Because we want to exclude all the $x$ values that are not in our feasible set and ensure that our constraints hold, we take the infimum of the set of Supremum over Lagrangian:\n",
    "\n",
    "$$\n",
    "p^* = \\underset{x}{inf}\\,\\underset{\\lambda \\succeq 0}{sup} \\mathcal{L}(x, \\lambda)\\,, p^*\\text{is also called the Primal Optimal}\n",
    "$$\n",
    "\n",
    "However, instead of brute-forcing to search for $p^*$, we can instead find a lower bound for the primal optimal via the **Lagrangian Dual Problem** ...\n",
    "\n",
    "#### Lagrangian Dual Problem\n",
    "\n",
    "- The Lagrangian Dual **Problem** is the search for the best lower bound on the solution to the primal problem $p^*$\n",
    "\n",
    "$$\n",
    "d^* = \\underset{\\lambda \\succeq 0}{sup}\\,\\underbrace{\\underset{x}{inf} \\mathcal{L}(x, \\lambda)}_{\\text{Lagrange Dual Function}}\\,, d^*\\text{is also called the Dual Optimal}\n",
    "$$\n",
    "\n",
    "- Case 1: $p^* = d^*$\n",
    "    - We have **strong duality** \n",
    "\n",
    "- Case 2: $p^* \\geq d^*$\n",
    "    - We have **weak duality**\n",
    "\n",
    "- Lagrangian Dual **Function**: $\\underset{x}{inf}\\,\\mathcal{L}(x, \\lambda) = \\underset{x}{inf}\\,\\Big{(}f_0(x) + \\sum^{m}_{i = 1} \\lambda_i f_i (x)\\Big{)}$\n",
    "    - May go to $-\\infty$ (e.g. $f_0(x) = x$)?\n",
    "    - Concave $\\because$ Pointwise Infimum of Affine Functions are Concave\n",
    "\n",
    "#### Proof of Weak Duality (Any type of Optimization Problem)\n",
    "Theorem: $\\forall f: X \\times \\Lambda \\rightarrow \\mathbf{R}$:\n",
    "\n",
    "$$\n",
    "\\begin{aligned}\n",
    "d^* &\\leq p^* \\\\\n",
    "\\underset{\\lambda \\in \\Lambda}{sup}\\,\\underset{x \\in X}{inf}\\,f(x, \\lambda) &\\leq \\underset{x \\in X}{inf}\\,\\underset{\\lambda \\in \\Lambda}{sup}\\,f(x, \\lambda)\n",
    "\\end{aligned}\n",
    "$$\n",
    "\n",
    "Proof: $\\forall x_0 \\in X\\,\\text{and}\\,\\lambda_0 \\in \\Lambda$:\n",
    "\n",
    "$$\n",
    "\\begin{aligned}\n",
    "\\underset{x \\in X}{inf}\\,f(x, \\lambda_0) \\leq f(x_0, \\lambda_0) \\leq \\underset{\\lambda \\in \\Lambda}{sup}\\,f(x_0, \\lambda) \\\\\n",
    "\\underset{x \\in X}{inf}\\,f(x, \\lambda_0) \\leq \\underset{\\lambda \\in \\Lambda}{sup}\\,f(x_0, \\lambda) \\\\\n",
    "\\underset{\\lambda_0 \\in \\Lambda}{sup}\\,\\underset{x \\in X}{inf}\\,f(x, \\lambda_0) \\leq \\underset{x_0 \\in X}{inf}\\,\\underset{\\lambda \\in \\Lambda}{sup}\\,f(x_0, \\lambda) \\\\\n",
    "\\end{aligned}\n",
    "$$\n",
    "\n",
    "- Duality Gap: ${p^* - d^*}$\n",
    "- For [*convex*](#convex) problems, we have **strong duality**: $p^* = d^* \\iff $ **Constraint Qualifications** are met\n",
    "\n",
    "#### Conclusion\n",
    "1. Lagrange Dual Problem is easier to solve (simple constraints)\n",
    "2. $d^*$ can be used as stopping criterion for primal optimization $\\because$ finding $d^*$ is finding the best lower bound for the primal optimization problem\n",
    "3. Dual can reveal hidden structure in the solution"
   ]
  },
  {
   "cell_type": "markdown",
   "metadata": {},
   "source": [
    "### 2. [Meaning of the Lagrangian Multipliers $\\lambda$](https://www.khanacademy.org/math/multivariable-calculus/applications-of-multivariable-derivatives/constrained-optimization/a/interpretation-of-lagrange-multipliers?modal=1)<a id='lagrangianmeaning'></a>\n",
    "\n",
    "Hence, we can rewrite the optimization problem above as:\n",
    "\n",
    "$$\n",
    "\\mathcal{L}(x, y, \\lambda) = f(x, y) - \\lambda(g(x, y) - b)\n",
    "$$\n",
    "\n",
    "and finding the min / max values $\\underset{\\lambda \\succeq 0}{sup} \\mathcal{L}(x, y, \\lambda)$ would be simply setting $\\nabla\\mathcal{L} = 0$:\n",
    "\n",
    "$$\n",
    "\\nabla\\mathcal{L} =\n",
    "\\begin{bmatrix}\n",
    "\\frac{\\partial{\\mathcal{L}}}{\\partial{x}} \\\\\n",
    "\\frac{\\partial{\\mathcal{L}}}{\\partial{y}} \\\\\n",
    "\\frac{\\partial{\\mathcal{L}}}{\\partial{\\lambda}}\n",
    "\\end{bmatrix} =\n",
    "\\begin{bmatrix}\n",
    "0 \\\\\n",
    "0 \\\\\n",
    "0\n",
    "\\end{bmatrix}\n",
    "$$\n",
    "\n",
    "and solving the equations gets you ${(x^*, y^*, \\lambda^*)}$, which solves our constrained optimization problem. Plugging these values back into the Lagrangian, we get:\n",
    "\n",
    "$$\n",
    "\\begin{aligned}\n",
    "\\mathcal{L}(x^*, y^*, \\lambda^*) &= f(x^*, y^*) - \\lambda^*(g(x^*, y^*) - b) \\\\\n",
    "&= f(x^*, y^*) + 0 \\because \\text{Constraint}\\,g(x, y) = b\\,\\text{is satisifed} \\\\\n",
    "&= M^* \\text{Maximum Value of}\\,f\\,\\text{that fufills constraints} \\\\\n",
    "\\end{aligned}\n",
    "$$\n",
    "\n",
    "Firstly, we can think of $b$, the constraint boundary as a variable instead and let's find the derivative of the Langrangian wrt. $b$:\n",
    "\n",
    "$$\n",
    "\\begin{aligned}\n",
    "\\mathcal{L}(x, y, \\lambda, b) &= f(x, y) - \\lambda(g(x, y) - b) \\\\\n",
    "\\frac{\\partial{\\mathcal{L}}}{\\partial{b}} &= \\lambda\n",
    "\\end{aligned}\n",
    "$$\n",
    "\n",
    "Secondly,\n",
    "\n",
    "$$\n",
    "M^*(b) = \\mathcal{L}(x^*(b), y^*(b), \\lambda^*(b), b)\n",
    "$$\n",
    "\n",
    "If we take the derivative of above wrt. $b$:\n",
    "\n",
    "$$\n",
    "\\begin{aligned}\n",
    "\\frac{dM^*}{db} &= \\frac{d}{db}\\mathcal{L}(x^*(b), y^*(b), \\lambda^*(b), b) \\\\\n",
    "&= \\frac{\\partial{\\mathcal{L}}}{\\partial{x}}\\frac{dx^*}{db} + \\frac{\\partial{\\mathcal{L}}}{\\partial{y}}\\frac{dy^*}{db} + \\frac{\\partial{\\mathcal{L}}}{\\partial{\\lambda}}\\frac{d\\lambda^*}{db} + \\frac{\\partial{\\mathcal{L}}}{\\partial{b}}\\frac{db}{db} \\because \\text{Multivariable Chain Rule} \\\\\n",
    "&= \\frac{\\partial{\\mathcal{L}}}{\\partial{b}} \\because \\frac{\\partial{\\mathcal{L}}}{\\partial{x}}, \\frac{\\partial{\\mathcal{L}}}{\\partial{y}}, \\frac{\\partial{\\mathcal{L}}}{\\partial{\\lambda}} = 0\\,\\text{when evaluated at }\\,(x^*, y^*, \\lambda^*)\\,\\text{and}\\,\\frac{db}{db}=1 \\\\\n",
    "&= \\lambda \\,\\text{from the first part}\n",
    "\\end{aligned}\n",
    "$$\n",
    "\n",
    "Hence, the lagrange multiplier $\\lambda$ is actually the rate of change of the max of $f$ wrt. the constraint boundary."
   ]
  },
  {
   "cell_type": "markdown",
   "metadata": {},
   "source": [
    "#### Back to Convex Optimization\n",
    "\n",
    "Recall the standard form of the Convex optimization problem is as follows:\n",
    "\n",
    "$$\n",
    "\\begin{aligned}\n",
    "&\\text{Minimize } f_0(x)\\\\\n",
    "&\\text{subject to } f_i(x) \\leq 0, i=1, ..., m\\,\\,\\text{where }f_0, ..., f_m\\,\\text{are convex functions} \\\\\n",
    "\\end{aligned}\n",
    "$$\n",
    "\n",
    "Only Convex Optimization problems that fulfill **constraint qualifications** have **strong duality** $p^* = d^*$, so what are **constraint qualifications** anyway?"
   ]
  },
  {
   "cell_type": "markdown",
   "metadata": {},
   "source": [
    "### 3. Constraint Qualifications<a id='constraintqualifications'></a>"
   ]
  },
  {
   "cell_type": "markdown",
   "metadata": {},
   "source": [
    "## 2. Linear Constraints<a id='lconstraints'></a>"
   ]
  },
  {
   "cell_type": "markdown",
   "metadata": {},
   "source": [
    "### 1. Linear Programming / Optimization<a id='lp'></a>\n",
    "\n",
    "$$\n",
    "\\begin{aligned}\n",
    "&\\text{Linear Objective Function: } f(x) = \\alpha^\\top x \\\\\n",
    "&\\text{Linear Constraints: } g(x) = Bx - c; h(x) = Cx - d\n",
    "\\end{aligned}\n",
    "$$"
   ]
  },
  {
   "cell_type": "markdown",
   "metadata": {},
   "source": [
    "### 2. Quadratic Programming / Optimization<a id='qp'></a>\n",
    "\n",
    "$$\n",
    "\\begin{aligned}\n",
    "&\\text{Quadratic Objective Function: } f(x) = \\frac{1}{2} x^\\top A x + \\alpha^\\top x \\\\\n",
    "&\\text{Linear Constraints: } g(x) = Bx - c; h(x) = Cx - d\n",
    "\\end{aligned}\n",
    "$$"
   ]
  },
  {
   "cell_type": "markdown",
   "metadata": {},
   "source": [
    "## 3. Non-linear Constraints<a id='nlconstraints'></a>"
   ]
  },
  {
   "cell_type": "markdown",
   "metadata": {},
   "source": [
    "### 1. Non-linear Programming / Optimization<a id='nlp'></a>"
   ]
  },
  {
   "cell_type": "markdown",
   "metadata": {},
   "source": [
    "---\n",
    "## Resources:\n",
    "- [Lagrange multipliers and constrained optimization by Grant Sanderson on Khan Academy](https://www.khanacademy.org/math/multivariable-calculus/applications-of-multivariable-derivatives/lagrange-multipliers-and-constrained-optimization/v/constrained-optimization-introduction)\n",
    "- [Interpreting Lagrange multipliers as Rate of Change of max / min value of optimization problem with respect to the constraint](https://www.khanacademy.org/math/multivariable-calculus/applications-of-multivariable-derivatives/constrained-optimization/a/interpretation-of-lagrange-multipliers?modal=1)\n",
    "- [Manfred Huber's Notes on Constrained Optimization](http://ranger.uta.edu/~huber/cse4345/Notes/Constrained_Optimization.pdf)\n",
    "- [Carlos Fernandez-Granda's Notes on Convex Optimization @ NYU](https://cims.nyu.edu/~cfgranda/pages/MTDS_spring19/schedule.html)\n",
    "- [Optimization Taxonomy](https://neos-guide.org/content/optimization-taxonomy)\n",
    "- [David S. Rosenberg on Convex Optimization](https://davidrosenberg.github.io/mlcourse/Archive/2017Fall/Lectures/04b.convex-optimization.pdf)\n",
    "- [Stephen Boyd's CVX101 @ Stanford](https://lagunita.stanford.edu/courses/Engineering/CVX101/Winter2014/course/#i4x://Engineering/CVX101)\n",
    "- [David S. Rosenberg's Extreme Abridgment of Stephen Boyd and Vandenberghe’s Convex Optimization notes](https://davidrosenberg.github.io/mlcourse/Notes/convex-optimization.pdf)\n",
    "- [Constrained Least Squares Wiki](https://en.wikipedia.org/wiki/Constrained_least_squares)\n",
    "- [Least Squares Notes by Stephen Boyd](https://www.maplesoft.com/applications/download.aspx?SF=129826/LL_74\\)_Least_Square.pdf)"
   ]
  }
 ],
 "metadata": {
  "kernelspec": {
   "display_name": "Python 3",
   "language": "python",
   "name": "python3"
  },
  "language_info": {
   "codemirror_mode": {
    "name": "ipython",
    "version": 3
   },
   "file_extension": ".py",
   "mimetype": "text/x-python",
   "name": "python",
   "nbconvert_exporter": "python",
   "pygments_lexer": "ipython3",
   "version": "3.7.3"
  }
 },
 "nbformat": 4,
 "nbformat_minor": 2
}
