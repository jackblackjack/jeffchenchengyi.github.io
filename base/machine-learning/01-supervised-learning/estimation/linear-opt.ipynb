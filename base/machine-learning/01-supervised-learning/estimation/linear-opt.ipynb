{
 "cells": [
  {
   "cell_type": "markdown",
   "metadata": {},
   "source": [
    "# Linear Programming\n",
    "\n",
    "$$\n",
    "\\begin{aligned}\n",
    "&\\text{Linear Objective Function: } f(x) = \\alpha^\\top x \\\\\n",
    "&\\text{Linear Constraints: } g(x) = Bx - c; h(x) = Cx - d\n",
    "\\end{aligned}\n",
    "$$\n",
    "\n",
    "### Table of Contents\n",
    "1. [Portfolio Selection](#port_select)"
   ]
  },
  {
   "cell_type": "markdown",
   "metadata": {},
   "source": [
    "---\n",
    "## Portfolio Selection<a id='port_select'></a>"
   ]
  },
  {
   "cell_type": "markdown",
   "metadata": {},
   "source": [
    "---\n",
    "### Resources\n",
    "\n",
    "- [MIT OCW Optimization Methods in Management Science](https://ocw.mit.edu/courses/sloan-school-of-management/15-053-optimization-methods-in-management-science-spring-2013/lecture-notes/)\n",
    "- [Portfolio selection problems in practice: a comparison between linear and quadratic optimization models](https://arxiv.org/pdf/1105.3594.pdf)"
   ]
  }
 ],
 "metadata": {
  "kernelspec": {
   "display_name": "Python 3",
   "language": "python",
   "name": "python3"
  },
  "language_info": {
   "codemirror_mode": {
    "name": "ipython",
    "version": 3
   },
   "file_extension": ".py",
   "mimetype": "text/x-python",
   "name": "python",
   "nbconvert_exporter": "python",
   "pygments_lexer": "ipython3",
   "version": "3.7.3"
  }
 },
 "nbformat": 4,
 "nbformat_minor": 2
}
