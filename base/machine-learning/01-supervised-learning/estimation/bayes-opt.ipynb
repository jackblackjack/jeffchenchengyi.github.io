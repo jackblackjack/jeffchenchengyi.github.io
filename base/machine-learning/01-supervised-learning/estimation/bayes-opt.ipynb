{
 "cells": [
  {
   "cell_type": "markdown",
   "metadata": {},
   "source": [
    "# Bayesian Optimization\n",
    "\n",
    "Also known as Sequential Model-Based Optimization (SMBO)"
   ]
  },
  {
   "cell_type": "markdown",
   "metadata": {},
   "source": [
    "---\n",
    "## Algorithm\n",
    "\n",
    "1. Build a surrogate probability model of the objective function\n",
    "    - Choice of Surrogate Function:\n",
    "        1. Gaussian Process\n",
    "        2. Random Forest regressor\n",
    "        3. Tree Parzen Estimator\n",
    "2. Find the hyperparameters that perform best on the surrogate\n",
    "    - Choice of Acquisition Function:\n",
    "        1. Probability of Improvement\n",
    "        2. Expected Improvement\n",
    "        3. Entropy Search\n",
    "        4. Upper Confidence Bound\n",
    "3. Apply these hyperparameters to the true objective function\n",
    "4. Update the surrogate model incorporating the new results\n",
    "5. Repeat steps 2–4 until max iterations or time is reached"
   ]
  },
  {
   "cell_type": "markdown",
   "metadata": {},
   "source": [
    "---\n",
    "### Resources\n",
    "- [A Conceptual Explanation of Bayesian Hyperparameter Optimization for Machine Learning](https://towardsdatascience.com/a-conceptual-explanation-of-bayesian-model-based-hyperparameter-optimization-for-machine-learning-b8172278050f)\n",
    "- [An Introductory Example of Bayesian Optimization in Python with Hyperopt](https://towardsdatascience.com/an-introductory-example-of-bayesian-optimization-in-python-with-hyperopt-aae40fff4ff0)\n",
    "- [How Facebook Uses Bayesian Optimization to Conduct Better Experiments in Machine Learning Models](https://towardsdatascience.com/how-facebook-uses-bayesian-optimization-to-conduct-better-experiments-in-machine-learning-models-a02da8ada2d9)\n",
    "- [Bayesian Optimization Acquisition Functions](https://www.cse.wustl.edu/~garnett/cse515t/spring_2015/files/lecture_notes/12.pdf)\n",
    "- [A Bayesian Optimization-based Evolutionary Algorithm for Flexible Job Shop Scheduling](https://www.sciencedirect.com/science/article/pii/S1877050915030379)"
   ]
  }
 ],
 "metadata": {
  "kernelspec": {
   "display_name": "Python 3",
   "language": "python",
   "name": "python3"
  },
  "language_info": {
   "codemirror_mode": {
    "name": "ipython",
    "version": 3
   },
   "file_extension": ".py",
   "mimetype": "text/x-python",
   "name": "python",
   "nbconvert_exporter": "python",
   "pygments_lexer": "ipython3",
   "version": "3.7.4"
  }
 },
 "nbformat": 4,
 "nbformat_minor": 2
}
