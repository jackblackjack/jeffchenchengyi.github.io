{
 "cells": [
  {
   "cell_type": "markdown",
   "metadata": {},
   "source": [
    "# Elements of Programming Interviews\n",
    "\n",
    "## Chapters:\n",
    "4. Primitive Types\n",
    "- Arrays\n",
    "- Strings\n",
    "- Linked Lists\n",
    "- Stacks and Queues\n",
    "- Binary Trees\n",
    "- Heaps\n",
    "- Searching\n",
    "- Hash Tables\n",
    "- Sorting\n",
    "- Binary Search Trees\n",
    "- Recursion\n",
    "- Dynamic Programming\n",
    "- Greedy Algorithms and Invariants\n",
    "- Graphs\n",
    "- Parallel Computing\n",
    "- Design Problems\n",
    "- Language Questions\n",
    "- Object-Oriented Design"
   ]
  },
  {
   "cell_type": "code",
   "execution_count": 16,
   "metadata": {},
   "outputs": [],
   "source": [
    "import collections\n",
    "import itertools as it"
   ]
  },
  {
   "cell_type": "markdown",
   "metadata": {},
   "source": [
    "---\n",
    "# Chapter 4: Primitive Types"
   ]
  },
  {
   "cell_type": "markdown",
   "metadata": {},
   "source": [
    "## Bit Manipulation"
   ]
  },
  {
   "cell_type": "code",
   "execution_count": 4,
   "metadata": {},
   "outputs": [
    {
     "data": {
      "text/plain": [
       "32"
      ]
     },
     "execution_count": 4,
     "metadata": {},
     "output_type": "execute_result"
    }
   ],
   "source": [
    "16 << 1 # Shifts 1 bit to left of bin(16)[2:], => 16*2"
   ]
  },
  {
   "cell_type": "code",
   "execution_count": 5,
   "metadata": {},
   "outputs": [
    {
     "data": {
      "text/plain": [
       "8"
      ]
     },
     "execution_count": 5,
     "metadata": {},
     "output_type": "execute_result"
    }
   ],
   "source": [
    "16 >> 1 # Shifts 1 bit to right of bin(16)[2:], => 16/2"
   ]
  },
  {
   "cell_type": "code",
   "execution_count": 6,
   "metadata": {},
   "outputs": [
    {
     "data": {
      "text/plain": [
       "-1"
      ]
     },
     "execution_count": 6,
     "metadata": {},
     "output_type": "execute_result"
    }
   ],
   "source": [
    "~0 # ~x = (-x) - 1, the one's complement of the number "
   ]
  },
  {
   "cell_type": "code",
   "execution_count": 7,
   "metadata": {
    "scrolled": true
   },
   "outputs": [
    {
     "data": {
      "text/plain": [
       "'0b10011'"
      ]
     },
     "execution_count": 7,
     "metadata": {},
     "output_type": "execute_result"
    }
   ],
   "source": [
    "bin(19)"
   ]
  },
  {
   "cell_type": "code",
   "execution_count": 8,
   "metadata": {},
   "outputs": [
    {
     "data": {
      "text/plain": [
       "'0b10100'"
      ]
     },
     "execution_count": 8,
     "metadata": {},
     "output_type": "execute_result"
    }
   ],
   "source": [
    "bin(20)"
   ]
  },
  {
   "cell_type": "code",
   "execution_count": 9,
   "metadata": {},
   "outputs": [
    {
     "data": {
      "text/plain": [
       "'-0b10100'"
      ]
     },
     "execution_count": 9,
     "metadata": {},
     "output_type": "execute_result"
    }
   ],
   "source": [
    "bin(~19) "
   ]
  },
  {
   "cell_type": "markdown",
   "metadata": {},
   "source": [
    "### 4.1 \n",
    "Computing Parity of a word"
   ]
  },
  {
   "cell_type": "code",
   "execution_count": 10,
   "metadata": {},
   "outputs": [],
   "source": [
    "def parity(x): # O(n), n - word size\n",
    "    result = 0\n",
    "    while x:\n",
    "        # x = 7, bin(x)[2:] = 111\n",
    "        # x&1: 1&1=1, 0&1=0, \n",
    "        # result = result ^ (x & 1) = 000 ^ (111 & 001) = 000 ^ 001 = 001\n",
    "        result ^= x & 1 \n",
    "        x >>= 1\n",
    "    return result\n",
    "\n",
    "def faster_parity(x): # O(k), k - number of bits set to 1 in a particular word\n",
    "    # x&(x-1) equals x with its lowest set bit erase\n",
    "    result = 0\n",
    "    while x:\n",
    "        result ^= 1 # equivalent to oscillating between 0 and 1\n",
    "        x &= x - 1 # Drops lowest set bit of x\n",
    "    return result\n",
    "        "
   ]
  },
  {
   "cell_type": "markdown",
   "metadata": {},
   "source": [
    "---\n",
    "# Chapter 8: Stacks and Queues"
   ]
  },
  {
   "cell_type": "markdown",
   "metadata": {},
   "source": [
    "### 8.1 \n",
    "Implement Stack with Max API"
   ]
  },
  {
   "cell_type": "code",
   "execution_count": 11,
   "metadata": {},
   "outputs": [],
   "source": [
    "class Stack:\n",
    "    \"\"\"Stack with Max element API, we will keep another \n",
    "       stack that contains the max element currently seen\n",
    "       along with its count so that we dont need to re-search\n",
    "       the maximum element if the maximum element is popped\n",
    "    \"\"\"\n",
    "    # Tuple that contains the current max element and its count\n",
    "    MaxWithCount = collections.namedtuple(typename='MaxWithCount', \n",
    "                                          field_names=('max_el', 'count'))\n",
    "    \n",
    "    def __init__(self):\n",
    "        self._stack = []\n",
    "        self._cached_max_with_count = []\n",
    "        \n",
    "    def empty(self):\n",
    "        return len(self._stack) == 0\n",
    "    \n",
    "    def peek(self):\n",
    "        if self.empty():\n",
    "            raise IndexError('peek(): empty stack')\n",
    "        return _stack[-1]\n",
    "    \n",
    "    def max(self):\n",
    "        if self.empty():\n",
    "            raise IndexError('max(): empty stack')\n",
    "        return self._cached_max_with_count[-1].max_el\n",
    "    \n",
    "    def pop(self):\n",
    "        if self.empty():\n",
    "            raise IndexError('pop(): empty stack')\n",
    "        if self.max() == self.peek():\n",
    "            self._cached_max_with_count.count -= 1\n",
    "            if self._cached_max_with_count.count == 0:\n",
    "                self._cached_max_with_count.pop()\n",
    "        \n",
    "        return self._stack.pop()\n",
    "        \n",
    "    def push(self, element):\n",
    "        self._stack.append(element)\n",
    "        if self.empty():\n",
    "            self._cached_max_with_count.append(MaxWithCount(max_el=element, \n",
    "                                                            count=1))\n",
    "        else:\n",
    "            if element == self.max():\n",
    "                self._cached_max_with_count.count += 1\n",
    "            elif element > self.max():\n",
    "                self._cached_max_with_count.append(MaxWithCount(max_el=element, \n",
    "                                                            count=1))"
   ]
  },
  {
   "cell_type": "markdown",
   "metadata": {},
   "source": [
    "---\n",
    "# Chapter 9: Binary Trees\n",
    "\n",
    "- Full BT: Every node other than leaves has 2 children\n",
    "- Perfect BT: Full BT which all leaves have same depth\n",
    "- Complete BT: BT that is filled in every level (except last must be filled left to right)"
   ]
  },
  {
   "cell_type": "code",
   "execution_count": 14,
   "metadata": {},
   "outputs": [],
   "source": [
    "class TreeNode:\n",
    "    def __init__(self, data=None, left=None, right=None):\n",
    "        self.data = data\n",
    "        self.left = left\n",
    "        self.right = right"
   ]
  },
  {
   "cell_type": "markdown",
   "metadata": {},
   "source": [
    "## Traversals:"
   ]
  },
  {
   "cell_type": "code",
   "execution_count": 25,
   "metadata": {},
   "outputs": [],
   "source": [
    "def __init__(self):\n",
    "    self.stack = []\n",
    "    self.result = []\n",
    "\n",
    "# Recursive\n",
    "def preorderTraversal(self, root: TreeNode) -> list:\n",
    "    if root is not None:\n",
    "        self.result.append(root.val)\n",
    "        self.preorderTraversal(root.left)\n",
    "        self.preorderTraversal(root.right)\n",
    "\n",
    "    return self.result\n",
    "\n",
    "# Recursive\n",
    "def inorderTraversal(self, root: TreeNode) -> list:\n",
    "    if root is not None:\n",
    "        self.inorderTraversal(root.left)\n",
    "        self.result.append(root.val)\n",
    "        self.inorderTraversal(root.right)\n",
    "\n",
    "    return self.result\n",
    "\n",
    "# Recursive\n",
    "def postorderTraversal(self, root: TreeNode) -> list:\n",
    "    if root is not None:\n",
    "        self.postorderTraversal(root.left)\n",
    "        self.result.append(root.val)\n",
    "        self.postorderTraversal(root.right)\n",
    "\n",
    "    return self.result"
   ]
  },
  {
   "cell_type": "markdown",
   "metadata": {},
   "source": [
    "### 9.1a \n",
    "Test if a Binary Tree is height-balanced"
   ]
  },
  {
   "cell_type": "code",
   "execution_count": 26,
   "metadata": {},
   "outputs": [],
   "source": [
    "def is_balanced_binary_tree(root: Node): # O(h) Space - height of tree, O(n) Time\n",
    "    BalancedStatusWithHeight = collections.namedtuple(typename='BalancedStatusWithHeight', \n",
    "                                                      field_names=('balanced', 'height'))\n",
    "    \n",
    "    # Post order Traversal\n",
    "    def check_balanced(root: Node):\n",
    "        # Leaves\n",
    "        if root == None:\n",
    "            return BalancedStatusWithHeight(balanced=True, height=0)\n",
    "        # Inner nodes\n",
    "        else:\n",
    "            # Process Left\n",
    "            left = check_balanced(root.left)\n",
    "            if not left.balanced:\n",
    "                return BalancedStatusWithHeight(balanced=False, height=0)\n",
    "            # Process Right\n",
    "            right = check_balanced(root.right)\n",
    "            if not right.balanced:\n",
    "                return BalancedStatusWithHeight(balanced=False, height=0)\n",
    "            # Process Root\n",
    "            return BalancedStatusWithHeight(balanced=abs(left.height - right.height) <= 1, height=max(left.height, right.height)+1)\n",
    "            \n",
    "    return check_balanced(root).balanced"
   ]
  },
  {
   "cell_type": "markdown",
   "metadata": {},
   "source": [
    "### 9.1b \n",
    "Write a program that returns the size of the largest subtree that is complete"
   ]
  },
  {
   "cell_type": "code",
   "execution_count": 27,
   "metadata": {},
   "outputs": [
    {
     "data": {
      "text/plain": [
       "'https://www.geeksforgeeks.org/find-the-largest-complete-subtree-in-a-given-binary-tree/'"
      ]
     },
     "execution_count": 27,
     "metadata": {},
     "output_type": "execute_result"
    }
   ],
   "source": [
    "def is_complete(root: Node):\n",
    "    pass\n",
    "\n",
    "'https://www.geeksforgeeks.org/find-the-largest-complete-subtree-in-a-given-binary-tree/'"
   ]
  },
  {
   "cell_type": "markdown",
   "metadata": {},
   "source": [
    "### 9.1C \n",
    "Define a node in a binary tree to be $k$-balanced if the difference in the number of nodes in its left and right subtrees is no more than $k$. Design an algorithm that takes as input a binary tree and positive integer $k$, and retums a node in the binary tree such that the node is not k-balanced, but all of its descendants are k-balanced. For example, when applied to the binary tree in Figure 9.1 on Page 112, if $k = 3$, your algorithm should return Node $J$."
   ]
  },
  {
   "cell_type": "code",
   "execution_count": null,
   "metadata": {},
   "outputs": [],
   "source": []
  },
  {
   "cell_type": "markdown",
   "metadata": {},
   "source": [
    "---\n",
    "# Chapter 10: Heaps"
   ]
  },
  {
   "cell_type": "code",
   "execution_count": 32,
   "metadata": {},
   "outputs": [],
   "source": [
    "import heapq"
   ]
  },
  {
   "cell_type": "markdown",
   "metadata": {},
   "source": [
    "### 10.1 \n",
    "Merge Sorted Files\n",
    "\n",
    "This problem is motivated by the following scenario. You are given 500 files, each containing stock trade information for an S&P 500 company. Each trade is encoded by a line in the following format: 1232111, AAPL, 30, 456.12.\n",
    "\n",
    "The first number is the time of the trade expressed as the number of milliseconds since the start of the day's trading. Lines within each file are sorted in increasing order of time. The remaining values are the stock symbol, number of shares, and price. You are to create a single file containing all the trades from the 500 files, sorted in order of increasing trade times. The individual files are of the order of 5-100 megabytes; the combined file will be of the order of five gigabytes. In the abstract, we are trying to solve the following problem.\n",
    "\n",
    "Write a program that takes as input a set of sorted sequences and computes the union of these sequences as a sorted sequence. For example, if the input is <3,5,7>, <0,6>, and <0,6,28>, then the output is (0, 0, 3, 5, 6, 6, 7, 28).\n"
   ]
  },
  {
   "cell_type": "code",
   "execution_count": 37,
   "metadata": {},
   "outputs": [
    {
     "data": {
      "text/plain": [
       "[0, 0, 3, 5, 6, 6, 7, 28]"
      ]
     },
     "execution_count": 37,
     "metadata": {},
     "output_type": "execute_result"
    }
   ],
   "source": [
    "x = [(3,5,7), (0,6), (0,6,28)]\n",
    "list(heapq.merge(*x))"
   ]
  },
  {
   "cell_type": "code",
   "execution_count": null,
   "metadata": {},
   "outputs": [],
   "source": []
  },
  {
   "cell_type": "markdown",
   "metadata": {},
   "source": [
    "---\n",
    "# Chapter 13: Sorting\n",
    "\n",
    "Python Sort: TimSort\n"
   ]
  },
  {
   "cell_type": "markdown",
   "metadata": {},
   "source": [
    "---\n",
    "# Chapter 18: Graphs"
   ]
  },
  {
   "cell_type": "markdown",
   "metadata": {},
   "source": [
    "### 18.1\n",
    "Search a maze"
   ]
  },
  {
   "cell_type": "code",
   "execution_count": null,
   "metadata": {},
   "outputs": [],
   "source": [
    "WHITE, BLACK = range(2)\n",
    "Coordinate = collections.namedtuple('Coordinate', ('x', 'y'))\n",
    "\n",
    "def search_maze(maze, s, e): # O(V+E), same as DFS\n",
    "    # Performs DFS to find a feasible path\n",
    "    def search_maze_helper(curr):\n",
    "        if not (\n",
    "            0 <= curr.x < len(maze) \n",
    "            and 0 <= curr.y < len(maze[curr.x]) \n",
    "            and maze[curr.x][curr.y] == WHITE):\n",
    "            return False\n",
    "        path.append(curr)\n",
    "        maze[curr.x][curr.y] = BLACK # Turn it black after exploring\n",
    "        \n",
    "        if curr == e: # If we have reached destination, we're done\n",
    "            return True\n",
    "        \n",
    "        if any(map(search_maze_helper,(\n",
    "            Coordinate(curr.x-1, curr.y),\n",
    "            Coordinate(curr.x+1, curr.y),\n",
    "            Coordinate(curr.x, curr.y-1),\n",
    "            Coordinate(curr.x, curr.y+1),\n",
    "        ))):\n",
    "            return True\n",
    "        \n",
    "        # Cannot find path, remove the entry appended \n",
    "        del path[-1]\n",
    "        return False\n",
    "        \n",
    "    path = []\n",
    "    if not search_maze_helper(s):\n",
    "        return [] # No path between s and e\n",
    "    return path"
   ]
  },
  {
   "cell_type": "markdown",
   "metadata": {},
   "source": [
    "### 18.2\n",
    "Paint a boolean matrix"
   ]
  },
  {
   "cell_type": "code",
   "execution_count": null,
   "metadata": {},
   "outputs": [],
   "source": []
  },
  {
   "cell_type": "markdown",
   "metadata": {},
   "source": [
    "---\n",
    "## Resources\n",
    "- [Python `collections.namedtuple`](https://pymotw.com/2/collections/namedtuple.html)\n",
    "- [itertools tutorial](https://realpython.com/python-itertools/#what-is-itertools-and-why-should-you-use-it)"
   ]
  }
 ],
 "metadata": {
  "kernelspec": {
   "display_name": "Python 3",
   "language": "python",
   "name": "python3"
  },
  "language_info": {
   "codemirror_mode": {
    "name": "ipython",
    "version": 3
   },
   "file_extension": ".py",
   "mimetype": "text/x-python",
   "name": "python",
   "nbconvert_exporter": "python",
   "pygments_lexer": "ipython3",
   "version": "3.7.3"
  }
 },
 "nbformat": 4,
 "nbformat_minor": 2
}
