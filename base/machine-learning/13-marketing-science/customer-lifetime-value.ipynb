{
 "cells": [
  {
   "cell_type": "markdown",
   "metadata": {},
   "source": [
    "### Resources\n",
    "- [Beta-geometric / Negative Binomial Distribution Model](http://benalexkeen.com/bg-nbd-model-for-customer-base-analysis-in-python/)\n",
    "- [CLV prediction models](https://medium.com/bolt-labs/understanding-the-customer-lifetime-value-with-data-science-c14dcafa0364)\n",
    "- [CLV Gradient-boosted Trees](https://www.semanticscholar.org/paper/Customer-Life-Time-Value-Model-Framework-Using-with-Singh-Kaur/8faaf63e1b162ee7269ff340b9432c777553770f)"
   ]
  }
 ],
 "metadata": {
  "kernelspec": {
   "display_name": "Python 3",
   "language": "python",
   "name": "python3"
  },
  "language_info": {
   "codemirror_mode": {
    "name": "ipython",
    "version": 3
   },
   "file_extension": ".py",
   "mimetype": "text/x-python",
   "name": "python",
   "nbconvert_exporter": "python",
   "pygments_lexer": "ipython3",
   "version": "3.7.4"
  }
 },
 "nbformat": 4,
 "nbformat_minor": 2
}
