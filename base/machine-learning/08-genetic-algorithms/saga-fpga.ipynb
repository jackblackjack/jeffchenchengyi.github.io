{
 "cells": [
  {
   "cell_type": "markdown",
   "metadata": {},
   "source": [
    "# Evolutionary Algorithms for FPGA Configuration\n",
    "\n",
    "By: Chengyi (Jeff) Chen"
   ]
  },
  {
   "cell_type": "markdown",
   "metadata": {},
   "source": [
    "---\n",
    "## What is an FPGA?\n",
    "\n",
    "- FPGA stands for *Field Programmable Gate Arrays*\n",
    "- FPGA replaces devices like CPU, I/O blocks, and Digital Signal Processors by using programmable logic (reconfiguration of the digital circuit design) to execute specific functions"
   ]
  },
  {
   "cell_type": "markdown",
   "metadata": {},
   "source": [
    "---\n",
    "## Experiment\n",
    "\n",
    "Details:\n",
    "\n",
    "- The Xilinx XC6216 FPGA was used which contains a 64 x 64 grid of configurable logic blocks (CLBs), but only a 10 x 10 corner was used\n",
    "\n",
    "- It also contains I/O blocks in the parameter of the FPGA\n",
    "\n",
    "- Genetic Algorithms can be used without any constraints because internal connections in the FPGA are **uni-directional**, meaning there is no possible way to configure the FPGA such that it breaks\n",
    "\n",
    "Goal:\n",
    "\n",
    "- Want to search for the best circuit design on those 10 x 10 grid of CLBs so that we can \n",
    "    \n",
    "    1. Input (Tone Generator): 1kHz square wave --> Output (Analogue Integrator): +5V\n",
    "    \n",
    "    2. Input (Tone Generator): 10kHz square wave --> Output (Analogue Integrator): 0V\n",
    "\n",
    "\n",
    "- This will be done by trying to maximize the difference between the sum of my integrator readings from the 1kHz input and the sum of my integrator readings from the 10kHz input\n",
    "  \n",
    "Algorithm:\n",
    "\n",
    "1. Hardware-reset signal on FPGA to \"clean\" FPGA from previous configs\n",
    "\n",
    "2. Initialize 50 random 1800-bit strings\n",
    "\n",
    "3. For each 1800-bit string, configure 10 x 10 corner using the 1800-bit string (50 loops)\n",
    "\n",
    "4. Send each input every 500ms:\n",
    "\n",
    "    1. 5 1kHz tones --> $i_t$ integrator reading before output\n",
    "    \n",
    "    2. 5 10kHz tones --> $i_t$ integrator reading before output\n",
    "    \n",
    "4. Evaluate fitness for each configuration using\n",
    "\n",
    "$$\n",
    "\\text{fitness} = \\frac{1}{10} \\vert (k_1 \\sum_{t \\in S_1} i_t) - (k_2 \\sum_{t \\in S_{10}} i_t) \\vert\\,\\text{where}\\,\n",
    "\\begin{cases}\n",
    "    k_1 &= 1/30730.746 \\\\\n",
    "    k_2 &= 1/30527.973\n",
    "\\end{cases}\n",
    "$$\n",
    "\n",
    "4. Choose the next generation\n",
    "\n",
    "    1. Single fittest individual is twice as likely on average to be chosen to be used in next generation as compared to median-ranked 1800-bit string, but both follow 2 mutation patterns\n",
    "        \n",
    "        1. Probability of this (single-point cross-over) happening is 0.7: <img src='https://upload.wikimedia.org/wikipedia/commons/thumb/5/56/OnePointCrossover.svg/231px-OnePointCrossover.svg.png'/>\n",
    "        \n",
    "        2. This (per-bit mutation) happened **on average** 2.7 times for each 1800-bit string: <img src='https://localwire.pl/wp-content/uploads/2016/03/Mutation.svg'/>"
   ]
  },
  {
   "cell_type": "markdown",
   "metadata": {},
   "source": [
    "---\n",
    "## Results\n",
    "\n",
    "- It takes 3,500 generations to get the perfect desired outcome and the results converged (did not get better with more generations)\n",
    "\n",
    "- Mean fitness of the population jumped after the 2,600th generation\n",
    "\n",
    "- Mean Hamming Distance (How different each of the 1800-bit strings were from each other) decreased sharply at the 2,600th generation and converged thereafter"
   ]
  },
  {
   "cell_type": "markdown",
   "metadata": {},
   "source": [
    "---\n",
    "## Analysis\n",
    "\n",
    "Are there useless CLBs that we included in the configuration?\n",
    "\n",
    "- We are also interested in finding which of the CLBs are actually indeed helping the configuration to get the desired output:\n",
    "    \n",
    "    - Some CLBs were clamped (set to a constant value of 0 / 1) and the evaluation is re-run to see if performance is affected to determine whether the CLB is actually helping\n",
    "    \n",
    "    - It showed that there were some CLBs that were extremly important for performance if they are a functional unit, some that might cause performance to degrade a little, and some that are completely useless\n",
    "\n",
    "Does temperature affect the performance?\n",
    "\n",
    "- Yes, but the experiment was carried out ~ $10^{\\circ} C$ and it had no issues"
   ]
  },
  {
   "cell_type": "markdown",
   "metadata": {},
   "source": [
    "---\n",
    "## Conclusion\n",
    "\n",
    "- Every FPGA chip is unique in that it will have different propagation delays / capacitances (meaning temperature is also another variable that will affect different chips in different ways) and therefore 2 chips might result in very different configurations for the same function. Furthermore, different regions on the same chip will also have very different configurations that achieve the same desired results.\n",
    "\n",
    "Future works:\n",
    "\n",
    "- Having ~ 10 nominally identical FPGA chips and held at differing temperatures to evaluate whether evolutionary algorithms can configure an FPGA optimally even at a wide range of temperatures. "
   ]
  },
  {
   "cell_type": "markdown",
   "metadata": {},
   "source": [
    "---\n",
    "### Resources:\n",
    "- [Adrian Thompson on \"An evolved circuit, intrinsic in silicon, entwined with physics.\"](http://citeseerx.ist.psu.edu/viewdoc/download?doi=10.1.1.50.9691&rep=rep1&type=pdf)\n",
    "- [Intel FPGA's YouTube video on Basics of Programmable Logic: FPGA Architecture](https://www.youtube.com/watch?v=jbOjWp4C3V4)\n",
    "- [SAGA Research paper](https://pdfs.semanticscholar.org/09f1/150debcf83b9245ac6eb30dcfefad99be953.pdf)"
   ]
  }
 ],
 "metadata": {
  "kernelspec": {
   "display_name": "Python 3",
   "language": "python",
   "name": "python3"
  },
  "language_info": {
   "codemirror_mode": {
    "name": "ipython",
    "version": 3
   },
   "file_extension": ".py",
   "mimetype": "text/x-python",
   "name": "python",
   "nbconvert_exporter": "python",
   "pygments_lexer": "ipython3",
   "version": "3.7.3"
  }
 },
 "nbformat": 4,
 "nbformat_minor": 2
}
