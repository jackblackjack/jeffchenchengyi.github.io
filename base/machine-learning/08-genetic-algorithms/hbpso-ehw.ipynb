{
 "cells": [
  {
   "cell_type": "markdown",
   "metadata": {},
   "source": [
    "# Evolvable Hardware with Human Behavior Particle Swarm Optimization (HBPSO)"
   ]
  },
  {
   "cell_type": "markdown",
   "metadata": {},
   "source": [
    "---\n",
    "## Particle Swarm Optimization (PSO)\n",
    "\n",
    "In particle swarm optimization, each of our individuals (just like in simple genetic algorithms) are known as particles and the entire optimization process is modelled to mimic bee swarms / flocks of birds. If we're trying to **minimize** a function with $D$ dimensions, in each iteration $k$ of PSO, each particle $i \\in n$ has:\n",
    "\n",
    "1. Particle position: $x^i_{k} \\in \\mathbb{R}^D$\n",
    "2. Particle velocity: $v^i_{k} \\in \\mathbb{R}^D$\n",
    "3. Best individual particle's position (Best parameters of an individual particle over its past iterations): $p^i_k \\in \\mathbb{R}^D$\n",
    "4. Best swarm position: $p^g_k \\in \\mathbb{R}^D$\n",
    "5. Constant inertia weight: $w_k \\in \\mathbb{R}$\n",
    "6. Cognitive and Social Parameters: $c_1, c_2 \\in \\mathbb{R}$\n",
    "7. Random weights: $r_1, r_2 \\in [0, 1]$\n",
    "\n",
    "After each iteration, updates are as follows for each particle:\n",
    "\n",
    "1. Velocity: $v^i_{k+1} = w_kv^i_{k} + \\underbrace{c_1r_1(p^i_k - x^i_k)}_{\\text{Social Term}} + \\underbrace{c_2r_2(p^g_k - x^i_k)}_{\\text{Cognitive Term}}$\n",
    "2. Position: $x^i_{k+1} = x^i_{k} + v^i_{k+1}$\n",
    "\n",
    "More [here](https://nathanrooy.github.io/posts/2016-08-17/simple-particle-swarm-optimization-with-python/)"
   ]
  },
  {
   "cell_type": "markdown",
   "metadata": {},
   "source": [
    "---\n",
    "## Human Behavior PSO\n",
    "\n",
    "Very similar to PSO, except that we not only incorporate information about the global best position found by the swarm so far, but also the worst position found so far (mimic how humans learn bad behaviors when surrounded by people with bad behavior) and social and cognitive parameters are reduced to just random coefficient scalars. Updates on velocity of particle will become:\n",
    "\n",
    "1. Velocity: $v^i_{k+1} = w_kv^i_{k} + \\underbrace{r_1(p^i_k - x^i_k)}_{\\text{Social Term}} + \\underbrace{r_2(p^{\\text{swarm's best}}_k - x^i_k)}_{\\text{Cognitive Term (Good influence)}} + \\underbrace{r_3(p^\\text{swarm's worst}_k - x^i_k)}_{\\text{Cognitive Term (Bad influence)}}$"
   ]
  },
  {
   "cell_type": "markdown",
   "metadata": {},
   "source": [
    "---\n",
    "## Evolving Circuit Design\n",
    "\n",
    "- We encode circuit designs as circuit matrices:\n",
    "\n",
    "$$\n",
    "\\text{Inputs} \n",
    "\\rightarrow \n",
    "\\underbrace{\n",
    "\\begin{bmatrix}\n",
    "a_{11} & a_{12} & a_{13} \\\\\n",
    "a_{21} & a_{22} & a_{23} \\\\\n",
    "a_{31} & a_{32} & a_{33} \\\\\n",
    "\\end{bmatrix}\n",
    "}_{\\text{Circuit Matrix}}\n",
    "\\rightarrow\n",
    "\\text{Outputs}\n",
    "$$\n",
    "\n",
    "- Each $a_{ij}$ represents the < Where input is from >< {AND, OR, XOR, NOT, WIRE} >< Where output will go >\n",
    "\n",
    "Algorithm:\n",
    "1. Initialize a population / swarm of random circuit matrices representing the configuration of the proposed circuit\n",
    "2. Evaluation of evolved circuits and compare with desired circuits\n",
    "3. Everytime an output from circuit is equal to output from truth table, fitness increases by 1\n",
    "\n",
    "Experiment Results:\n",
    "- Number of columns in Circuit matrix heavily impacts algorithms performance in reducing time complexity, but rows are not very important"
   ]
  },
  {
   "cell_type": "markdown",
   "metadata": {},
   "source": [
    "---\n",
    "### Resources:\n",
    "- [Nathan Rooy on Particle Swarm Optimization from Scratch with Python](https://nathanrooy.github.io/posts/2016-08-17/simple-particle-swarm-optimization-with-python/)\n",
    "- [Evolvable Hardware Design of Digital Circuits using the New Human Behavior Based Particle Swarm Optimization](https://www.researchgate.net/publication/281837677_Evolvable_Hardware_Design_of_Digital_Circuits_using_the_New_Human_Behavior_Based_Particle_Swarm_Optimization)"
   ]
  }
 ],
 "metadata": {
  "kernelspec": {
   "display_name": "Python 3",
   "language": "python",
   "name": "python3"
  },
  "language_info": {
   "codemirror_mode": {
    "name": "ipython",
    "version": 3
   },
   "file_extension": ".py",
   "mimetype": "text/x-python",
   "name": "python",
   "nbconvert_exporter": "python",
   "pygments_lexer": "ipython3",
   "version": "3.7.3"
  }
 },
 "nbformat": 4,
 "nbformat_minor": 2
}
