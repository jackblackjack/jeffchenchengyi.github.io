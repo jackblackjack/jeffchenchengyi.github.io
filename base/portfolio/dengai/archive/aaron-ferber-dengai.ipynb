{
 "cells": [
  {
   "cell_type": "markdown",
   "metadata": {
    "colab_type": "text",
    "id": "i06onRaped5g"
   },
   "source": [
    "# DengAI notebook\n",
    "This notebook is for the driven data competition, DengAI\n",
    "\n",
    "https://www.drivendata.org/competitions/44/dengai-predicting-disease-spread/\n",
    "\n",
    "The problem is trying to predict occurrences of dengue in two cities"
   ]
  },
  {
   "cell_type": "markdown",
   "metadata": {
    "colab_type": "text",
    "id": "J3mlCf5FfJlz"
   },
   "source": [
    "# Initial Data Investigation"
   ]
  },
  {
   "cell_type": "code",
   "execution_count": 2,
   "metadata": {
    "colab": {},
    "colab_type": "code",
    "id": "u-bXOycPe_4r"
   },
   "outputs": [],
   "source": [
    "import pandas as pd"
   ]
  },
  {
   "cell_type": "code",
   "execution_count": 3,
   "metadata": {
    "colab": {},
    "colab_type": "code",
    "id": "gErfTE8kfBBx"
   },
   "outputs": [],
   "source": [
    "DENGAI_PATH = 'data/dengai'\n",
    "raw_feature_df = pd.read_csv(DENGAI_PATH + '/features/dengue_features_train.csv', index_col='week_start_date')\n",
    "raw_feature_df = raw_feature_df.fillna(raw_feature_df.mode().iloc[0])\n",
    "raw_labels_df = pd.read_csv(DENGAI_PATH + '/labels/dengue_labels_train.csv')"
   ]
  },
  {
   "cell_type": "code",
   "execution_count": 5,
   "metadata": {},
   "outputs": [
    {
     "data": {
      "text/html": [
       "<div>\n",
       "<style scoped>\n",
       "    .dataframe tbody tr th:only-of-type {\n",
       "        vertical-align: middle;\n",
       "    }\n",
       "\n",
       "    .dataframe tbody tr th {\n",
       "        vertical-align: top;\n",
       "    }\n",
       "\n",
       "    .dataframe thead th {\n",
       "        text-align: right;\n",
       "    }\n",
       "</style>\n",
       "<table border=\"1\" class=\"dataframe\">\n",
       "  <thead>\n",
       "    <tr style=\"text-align: right;\">\n",
       "      <th></th>\n",
       "      <th>city</th>\n",
       "      <th>year</th>\n",
       "      <th>weekofyear</th>\n",
       "      <th>ndvi_ne</th>\n",
       "      <th>ndvi_nw</th>\n",
       "      <th>ndvi_se</th>\n",
       "      <th>ndvi_sw</th>\n",
       "      <th>precipitation_amt_mm</th>\n",
       "      <th>reanalysis_air_temp_k</th>\n",
       "      <th>reanalysis_avg_temp_k</th>\n",
       "      <th>...</th>\n",
       "      <th>reanalysis_precip_amt_kg_per_m2</th>\n",
       "      <th>reanalysis_relative_humidity_percent</th>\n",
       "      <th>reanalysis_sat_precip_amt_mm</th>\n",
       "      <th>reanalysis_specific_humidity_g_per_kg</th>\n",
       "      <th>reanalysis_tdtr_k</th>\n",
       "      <th>station_avg_temp_c</th>\n",
       "      <th>station_diur_temp_rng_c</th>\n",
       "      <th>station_max_temp_c</th>\n",
       "      <th>station_min_temp_c</th>\n",
       "      <th>station_precip_mm</th>\n",
       "    </tr>\n",
       "    <tr>\n",
       "      <th>week_start_date</th>\n",
       "      <th></th>\n",
       "      <th></th>\n",
       "      <th></th>\n",
       "      <th></th>\n",
       "      <th></th>\n",
       "      <th></th>\n",
       "      <th></th>\n",
       "      <th></th>\n",
       "      <th></th>\n",
       "      <th></th>\n",
       "      <th></th>\n",
       "      <th></th>\n",
       "      <th></th>\n",
       "      <th></th>\n",
       "      <th></th>\n",
       "      <th></th>\n",
       "      <th></th>\n",
       "      <th></th>\n",
       "      <th></th>\n",
       "      <th></th>\n",
       "      <th></th>\n",
       "    </tr>\n",
       "  </thead>\n",
       "  <tbody>\n",
       "    <tr>\n",
       "      <th>1990-04-30</th>\n",
       "      <td>sj</td>\n",
       "      <td>1990</td>\n",
       "      <td>18</td>\n",
       "      <td>0.122600</td>\n",
       "      <td>0.103725</td>\n",
       "      <td>0.198483</td>\n",
       "      <td>0.177617</td>\n",
       "      <td>12.42</td>\n",
       "      <td>297.572857</td>\n",
       "      <td>297.742857</td>\n",
       "      <td>...</td>\n",
       "      <td>32.00</td>\n",
       "      <td>73.365714</td>\n",
       "      <td>12.42</td>\n",
       "      <td>14.012857</td>\n",
       "      <td>2.628571</td>\n",
       "      <td>25.442857</td>\n",
       "      <td>6.900000</td>\n",
       "      <td>29.4</td>\n",
       "      <td>20.0</td>\n",
       "      <td>16.0</td>\n",
       "    </tr>\n",
       "    <tr>\n",
       "      <th>1990-05-07</th>\n",
       "      <td>sj</td>\n",
       "      <td>1990</td>\n",
       "      <td>19</td>\n",
       "      <td>0.169900</td>\n",
       "      <td>0.142175</td>\n",
       "      <td>0.162357</td>\n",
       "      <td>0.155486</td>\n",
       "      <td>22.82</td>\n",
       "      <td>298.211429</td>\n",
       "      <td>298.442857</td>\n",
       "      <td>...</td>\n",
       "      <td>17.94</td>\n",
       "      <td>77.368571</td>\n",
       "      <td>22.82</td>\n",
       "      <td>15.372857</td>\n",
       "      <td>2.371429</td>\n",
       "      <td>26.714286</td>\n",
       "      <td>6.371429</td>\n",
       "      <td>31.7</td>\n",
       "      <td>22.2</td>\n",
       "      <td>8.6</td>\n",
       "    </tr>\n",
       "    <tr>\n",
       "      <th>1990-05-14</th>\n",
       "      <td>sj</td>\n",
       "      <td>1990</td>\n",
       "      <td>20</td>\n",
       "      <td>0.032250</td>\n",
       "      <td>0.172967</td>\n",
       "      <td>0.157200</td>\n",
       "      <td>0.170843</td>\n",
       "      <td>34.54</td>\n",
       "      <td>298.781429</td>\n",
       "      <td>298.878571</td>\n",
       "      <td>...</td>\n",
       "      <td>26.10</td>\n",
       "      <td>82.052857</td>\n",
       "      <td>34.54</td>\n",
       "      <td>16.848571</td>\n",
       "      <td>2.300000</td>\n",
       "      <td>26.714286</td>\n",
       "      <td>6.485714</td>\n",
       "      <td>32.2</td>\n",
       "      <td>22.8</td>\n",
       "      <td>41.4</td>\n",
       "    </tr>\n",
       "    <tr>\n",
       "      <th>1990-05-21</th>\n",
       "      <td>sj</td>\n",
       "      <td>1990</td>\n",
       "      <td>21</td>\n",
       "      <td>0.128633</td>\n",
       "      <td>0.245067</td>\n",
       "      <td>0.227557</td>\n",
       "      <td>0.235886</td>\n",
       "      <td>15.36</td>\n",
       "      <td>298.987143</td>\n",
       "      <td>299.228571</td>\n",
       "      <td>...</td>\n",
       "      <td>13.90</td>\n",
       "      <td>80.337143</td>\n",
       "      <td>15.36</td>\n",
       "      <td>16.672857</td>\n",
       "      <td>2.428571</td>\n",
       "      <td>27.471429</td>\n",
       "      <td>6.771429</td>\n",
       "      <td>33.3</td>\n",
       "      <td>23.3</td>\n",
       "      <td>4.0</td>\n",
       "    </tr>\n",
       "    <tr>\n",
       "      <th>1990-05-28</th>\n",
       "      <td>sj</td>\n",
       "      <td>1990</td>\n",
       "      <td>22</td>\n",
       "      <td>0.196200</td>\n",
       "      <td>0.262200</td>\n",
       "      <td>0.251200</td>\n",
       "      <td>0.247340</td>\n",
       "      <td>7.52</td>\n",
       "      <td>299.518571</td>\n",
       "      <td>299.664286</td>\n",
       "      <td>...</td>\n",
       "      <td>12.20</td>\n",
       "      <td>80.460000</td>\n",
       "      <td>7.52</td>\n",
       "      <td>17.210000</td>\n",
       "      <td>3.014286</td>\n",
       "      <td>28.942857</td>\n",
       "      <td>9.371429</td>\n",
       "      <td>35.0</td>\n",
       "      <td>23.9</td>\n",
       "      <td>5.8</td>\n",
       "    </tr>\n",
       "  </tbody>\n",
       "</table>\n",
       "<p>5 rows × 23 columns</p>\n",
       "</div>"
      ],
      "text/plain": [
       "                city  year  weekofyear   ndvi_ne   ndvi_nw   ndvi_se  \\\n",
       "week_start_date                                                        \n",
       "1990-04-30        sj  1990          18  0.122600  0.103725  0.198483   \n",
       "1990-05-07        sj  1990          19  0.169900  0.142175  0.162357   \n",
       "1990-05-14        sj  1990          20  0.032250  0.172967  0.157200   \n",
       "1990-05-21        sj  1990          21  0.128633  0.245067  0.227557   \n",
       "1990-05-28        sj  1990          22  0.196200  0.262200  0.251200   \n",
       "\n",
       "                  ndvi_sw  precipitation_amt_mm  reanalysis_air_temp_k  \\\n",
       "week_start_date                                                          \n",
       "1990-04-30       0.177617                 12.42             297.572857   \n",
       "1990-05-07       0.155486                 22.82             298.211429   \n",
       "1990-05-14       0.170843                 34.54             298.781429   \n",
       "1990-05-21       0.235886                 15.36             298.987143   \n",
       "1990-05-28       0.247340                  7.52             299.518571   \n",
       "\n",
       "                 reanalysis_avg_temp_k        ...          \\\n",
       "week_start_date                               ...           \n",
       "1990-04-30                  297.742857        ...           \n",
       "1990-05-07                  298.442857        ...           \n",
       "1990-05-14                  298.878571        ...           \n",
       "1990-05-21                  299.228571        ...           \n",
       "1990-05-28                  299.664286        ...           \n",
       "\n",
       "                 reanalysis_precip_amt_kg_per_m2  \\\n",
       "week_start_date                                    \n",
       "1990-04-30                                 32.00   \n",
       "1990-05-07                                 17.94   \n",
       "1990-05-14                                 26.10   \n",
       "1990-05-21                                 13.90   \n",
       "1990-05-28                                 12.20   \n",
       "\n",
       "                 reanalysis_relative_humidity_percent  \\\n",
       "week_start_date                                         \n",
       "1990-04-30                                  73.365714   \n",
       "1990-05-07                                  77.368571   \n",
       "1990-05-14                                  82.052857   \n",
       "1990-05-21                                  80.337143   \n",
       "1990-05-28                                  80.460000   \n",
       "\n",
       "                 reanalysis_sat_precip_amt_mm  \\\n",
       "week_start_date                                 \n",
       "1990-04-30                              12.42   \n",
       "1990-05-07                              22.82   \n",
       "1990-05-14                              34.54   \n",
       "1990-05-21                              15.36   \n",
       "1990-05-28                               7.52   \n",
       "\n",
       "                 reanalysis_specific_humidity_g_per_kg  reanalysis_tdtr_k  \\\n",
       "week_start_date                                                             \n",
       "1990-04-30                                   14.012857           2.628571   \n",
       "1990-05-07                                   15.372857           2.371429   \n",
       "1990-05-14                                   16.848571           2.300000   \n",
       "1990-05-21                                   16.672857           2.428571   \n",
       "1990-05-28                                   17.210000           3.014286   \n",
       "\n",
       "                 station_avg_temp_c  station_diur_temp_rng_c  \\\n",
       "week_start_date                                                \n",
       "1990-04-30                25.442857                 6.900000   \n",
       "1990-05-07                26.714286                 6.371429   \n",
       "1990-05-14                26.714286                 6.485714   \n",
       "1990-05-21                27.471429                 6.771429   \n",
       "1990-05-28                28.942857                 9.371429   \n",
       "\n",
       "                 station_max_temp_c  station_min_temp_c  station_precip_mm  \n",
       "week_start_date                                                             \n",
       "1990-04-30                     29.4                20.0               16.0  \n",
       "1990-05-07                     31.7                22.2                8.6  \n",
       "1990-05-14                     32.2                22.8               41.4  \n",
       "1990-05-21                     33.3                23.3                4.0  \n",
       "1990-05-28                     35.0                23.9                5.8  \n",
       "\n",
       "[5 rows x 23 columns]"
      ]
     },
     "execution_count": 5,
     "metadata": {},
     "output_type": "execute_result"
    }
   ],
   "source": [
    "raw_feature_df.head()"
   ]
  },
  {
   "cell_type": "code",
   "execution_count": 7,
   "metadata": {
    "colab": {},
    "colab_type": "code",
    "id": "2LnZsi5PfMq7"
   },
   "outputs": [
    {
     "data": {
      "text/plain": [
       "Index(['ndvi_nw', 'ndvi_se', 'ndvi_sw', 'precipitation_amt_mm',\n",
       "       'reanalysis_air_temp_k', 'reanalysis_avg_temp_k',\n",
       "       'reanalysis_dew_point_temp_k', 'reanalysis_max_air_temp_k',\n",
       "       'reanalysis_min_air_temp_k', 'reanalysis_precip_amt_kg_per_m2',\n",
       "       'reanalysis_relative_humidity_percent', 'reanalysis_sat_precip_amt_mm',\n",
       "       'reanalysis_specific_humidity_g_per_kg', 'reanalysis_tdtr_k',\n",
       "       'station_avg_temp_c', 'station_diur_temp_rng_c', 'station_max_temp_c',\n",
       "       'station_min_temp_c', 'station_precip_mm'],\n",
       "      dtype='object')"
      ]
     },
     "execution_count": 7,
     "metadata": {},
     "output_type": "execute_result"
    }
   ],
   "source": [
    "feature_columns = raw_feature_df.columns[4:]\n",
    "feature_columns"
   ]
  },
  {
   "cell_type": "code",
   "execution_count": 5,
   "metadata": {
    "colab": {
     "base_uri": "https://localhost:8080/",
     "height": 350
    },
    "colab_type": "code",
    "id": "D2JeU5RWfXZN",
    "outputId": "14c29fe9-4dd4-486c-c972-7f058c09cbd1"
   },
   "outputs": [
    {
     "data": {
      "text/html": [
       "<div>\n",
       "<style scoped>\n",
       "    .dataframe tbody tr th:only-of-type {\n",
       "        vertical-align: middle;\n",
       "    }\n",
       "\n",
       "    .dataframe tbody tr th {\n",
       "        vertical-align: top;\n",
       "    }\n",
       "\n",
       "    .dataframe thead th {\n",
       "        text-align: right;\n",
       "    }\n",
       "</style>\n",
       "<table border=\"1\" class=\"dataframe\">\n",
       "  <thead>\n",
       "    <tr style=\"text-align: right;\">\n",
       "      <th></th>\n",
       "      <th>year</th>\n",
       "      <th>weekofyear</th>\n",
       "      <th>ndvi_ne</th>\n",
       "      <th>ndvi_nw</th>\n",
       "      <th>ndvi_se</th>\n",
       "      <th>ndvi_sw</th>\n",
       "      <th>precipitation_amt_mm</th>\n",
       "      <th>reanalysis_air_temp_k</th>\n",
       "      <th>reanalysis_avg_temp_k</th>\n",
       "      <th>reanalysis_dew_point_temp_k</th>\n",
       "      <th>...</th>\n",
       "      <th>reanalysis_precip_amt_kg_per_m2</th>\n",
       "      <th>reanalysis_relative_humidity_percent</th>\n",
       "      <th>reanalysis_sat_precip_amt_mm</th>\n",
       "      <th>reanalysis_specific_humidity_g_per_kg</th>\n",
       "      <th>reanalysis_tdtr_k</th>\n",
       "      <th>station_avg_temp_c</th>\n",
       "      <th>station_diur_temp_rng_c</th>\n",
       "      <th>station_max_temp_c</th>\n",
       "      <th>station_min_temp_c</th>\n",
       "      <th>station_precip_mm</th>\n",
       "    </tr>\n",
       "  </thead>\n",
       "  <tbody>\n",
       "    <tr>\n",
       "      <th>count</th>\n",
       "      <td>1456.000000</td>\n",
       "      <td>1456.000000</td>\n",
       "      <td>1456.000000</td>\n",
       "      <td>1456.000000</td>\n",
       "      <td>1456.000000</td>\n",
       "      <td>1456.000000</td>\n",
       "      <td>1456.000000</td>\n",
       "      <td>1456.000000</td>\n",
       "      <td>1456.000000</td>\n",
       "      <td>1456.000000</td>\n",
       "      <td>...</td>\n",
       "      <td>1456.000000</td>\n",
       "      <td>1456.000000</td>\n",
       "      <td>1456.000000</td>\n",
       "      <td>1456.000000</td>\n",
       "      <td>1456.000000</td>\n",
       "      <td>1456.000000</td>\n",
       "      <td>1456.000000</td>\n",
       "      <td>1456.000000</td>\n",
       "      <td>1456.000000</td>\n",
       "      <td>1456.000000</td>\n",
       "    </tr>\n",
       "    <tr>\n",
       "      <th>mean</th>\n",
       "      <td>2001.031593</td>\n",
       "      <td>26.503434</td>\n",
       "      <td>0.129397</td>\n",
       "      <td>0.126883</td>\n",
       "      <td>0.202037</td>\n",
       "      <td>0.201800</td>\n",
       "      <td>45.351813</td>\n",
       "      <td>298.709983</td>\n",
       "      <td>299.231142</td>\n",
       "      <td>295.250650</td>\n",
       "      <td>...</td>\n",
       "      <td>39.933056</td>\n",
       "      <td>82.135513</td>\n",
       "      <td>45.351813</td>\n",
       "      <td>16.753005</td>\n",
       "      <td>4.886264</td>\n",
       "      <td>27.192110</td>\n",
       "      <td>8.003995</td>\n",
       "      <td>32.457212</td>\n",
       "      <td>22.119437</td>\n",
       "      <td>38.732143</td>\n",
       "    </tr>\n",
       "    <tr>\n",
       "      <th>std</th>\n",
       "      <td>5.408314</td>\n",
       "      <td>15.019437</td>\n",
       "      <td>0.134902</td>\n",
       "      <td>0.119369</td>\n",
       "      <td>0.074644</td>\n",
       "      <td>0.083366</td>\n",
       "      <td>43.732321</td>\n",
       "      <td>1.361248</td>\n",
       "      <td>1.259152</td>\n",
       "      <td>1.523426</td>\n",
       "      <td>...</td>\n",
       "      <td>43.364801</td>\n",
       "      <td>7.136365</td>\n",
       "      <td>43.732321</td>\n",
       "      <td>1.539220</td>\n",
       "      <td>3.540494</td>\n",
       "      <td>1.273624</td>\n",
       "      <td>2.120750</td>\n",
       "      <td>1.946226</td>\n",
       "      <td>1.576276</td>\n",
       "      <td>47.339064</td>\n",
       "    </tr>\n",
       "    <tr>\n",
       "      <th>min</th>\n",
       "      <td>1990.000000</td>\n",
       "      <td>1.000000</td>\n",
       "      <td>-0.406250</td>\n",
       "      <td>-0.456100</td>\n",
       "      <td>-0.015533</td>\n",
       "      <td>-0.063457</td>\n",
       "      <td>0.000000</td>\n",
       "      <td>294.635714</td>\n",
       "      <td>294.892857</td>\n",
       "      <td>289.642857</td>\n",
       "      <td>...</td>\n",
       "      <td>0.000000</td>\n",
       "      <td>57.787143</td>\n",
       "      <td>0.000000</td>\n",
       "      <td>11.715714</td>\n",
       "      <td>1.357143</td>\n",
       "      <td>21.400000</td>\n",
       "      <td>4.528571</td>\n",
       "      <td>26.700000</td>\n",
       "      <td>14.700000</td>\n",
       "      <td>0.000000</td>\n",
       "    </tr>\n",
       "    <tr>\n",
       "      <th>25%</th>\n",
       "      <td>1997.000000</td>\n",
       "      <td>13.750000</td>\n",
       "      <td>0.045500</td>\n",
       "      <td>0.040175</td>\n",
       "      <td>0.152580</td>\n",
       "      <td>0.144718</td>\n",
       "      <td>9.115000</td>\n",
       "      <td>297.665000</td>\n",
       "      <td>298.264286</td>\n",
       "      <td>294.130357</td>\n",
       "      <td>...</td>\n",
       "      <td>12.800000</td>\n",
       "      <td>77.226429</td>\n",
       "      <td>9.115000</td>\n",
       "      <td>15.561429</td>\n",
       "      <td>2.328571</td>\n",
       "      <td>26.328571</td>\n",
       "      <td>6.439286</td>\n",
       "      <td>31.100000</td>\n",
       "      <td>21.100000</td>\n",
       "      <td>8.175000</td>\n",
       "    </tr>\n",
       "    <tr>\n",
       "      <th>50%</th>\n",
       "      <td>2002.000000</td>\n",
       "      <td>26.500000</td>\n",
       "      <td>0.104114</td>\n",
       "      <td>0.114633</td>\n",
       "      <td>0.195207</td>\n",
       "      <td>0.187464</td>\n",
       "      <td>37.660000</td>\n",
       "      <td>298.662143</td>\n",
       "      <td>299.307143</td>\n",
       "      <td>295.647143</td>\n",
       "      <td>...</td>\n",
       "      <td>27.080000</td>\n",
       "      <td>80.255714</td>\n",
       "      <td>37.660000</td>\n",
       "      <td>17.122143</td>\n",
       "      <td>2.835714</td>\n",
       "      <td>27.400000</td>\n",
       "      <td>7.242857</td>\n",
       "      <td>32.800000</td>\n",
       "      <td>22.200000</td>\n",
       "      <td>23.150000</td>\n",
       "    </tr>\n",
       "    <tr>\n",
       "      <th>75%</th>\n",
       "      <td>2005.000000</td>\n",
       "      <td>39.250000</td>\n",
       "      <td>0.229292</td>\n",
       "      <td>0.212325</td>\n",
       "      <td>0.247021</td>\n",
       "      <td>0.246082</td>\n",
       "      <td>70.047500</td>\n",
       "      <td>299.855714</td>\n",
       "      <td>300.207143</td>\n",
       "      <td>296.456071</td>\n",
       "      <td>...</td>\n",
       "      <td>52.042500</td>\n",
       "      <td>86.041429</td>\n",
       "      <td>70.047500</td>\n",
       "      <td>17.974643</td>\n",
       "      <td>7.553571</td>\n",
       "      <td>28.128571</td>\n",
       "      <td>9.500000</td>\n",
       "      <td>33.900000</td>\n",
       "      <td>23.300000</td>\n",
       "      <td>53.600000</td>\n",
       "    </tr>\n",
       "    <tr>\n",
       "      <th>max</th>\n",
       "      <td>2010.000000</td>\n",
       "      <td>53.000000</td>\n",
       "      <td>0.508357</td>\n",
       "      <td>0.454429</td>\n",
       "      <td>0.538314</td>\n",
       "      <td>0.546017</td>\n",
       "      <td>390.600000</td>\n",
       "      <td>302.200000</td>\n",
       "      <td>302.928571</td>\n",
       "      <td>298.450000</td>\n",
       "      <td>...</td>\n",
       "      <td>570.500000</td>\n",
       "      <td>98.610000</td>\n",
       "      <td>390.600000</td>\n",
       "      <td>20.461429</td>\n",
       "      <td>16.028571</td>\n",
       "      <td>30.800000</td>\n",
       "      <td>15.800000</td>\n",
       "      <td>42.200000</td>\n",
       "      <td>25.600000</td>\n",
       "      <td>543.300000</td>\n",
       "    </tr>\n",
       "  </tbody>\n",
       "</table>\n",
       "<p>8 rows × 22 columns</p>\n",
       "</div>"
      ],
      "text/plain": [
       "              year   weekofyear      ndvi_ne      ndvi_nw      ndvi_se  \\\n",
       "count  1456.000000  1456.000000  1456.000000  1456.000000  1456.000000   \n",
       "mean   2001.031593    26.503434     0.129397     0.126883     0.202037   \n",
       "std       5.408314    15.019437     0.134902     0.119369     0.074644   \n",
       "min    1990.000000     1.000000    -0.406250    -0.456100    -0.015533   \n",
       "25%    1997.000000    13.750000     0.045500     0.040175     0.152580   \n",
       "50%    2002.000000    26.500000     0.104114     0.114633     0.195207   \n",
       "75%    2005.000000    39.250000     0.229292     0.212325     0.247021   \n",
       "max    2010.000000    53.000000     0.508357     0.454429     0.538314   \n",
       "\n",
       "           ndvi_sw  precipitation_amt_mm  reanalysis_air_temp_k  \\\n",
       "count  1456.000000           1456.000000            1456.000000   \n",
       "mean      0.201800             45.351813             298.709983   \n",
       "std       0.083366             43.732321               1.361248   \n",
       "min      -0.063457              0.000000             294.635714   \n",
       "25%       0.144718              9.115000             297.665000   \n",
       "50%       0.187464             37.660000             298.662143   \n",
       "75%       0.246082             70.047500             299.855714   \n",
       "max       0.546017            390.600000             302.200000   \n",
       "\n",
       "       reanalysis_avg_temp_k  reanalysis_dew_point_temp_k        ...          \\\n",
       "count            1456.000000                  1456.000000        ...           \n",
       "mean              299.231142                   295.250650        ...           \n",
       "std                 1.259152                     1.523426        ...           \n",
       "min               294.892857                   289.642857        ...           \n",
       "25%               298.264286                   294.130357        ...           \n",
       "50%               299.307143                   295.647143        ...           \n",
       "75%               300.207143                   296.456071        ...           \n",
       "max               302.928571                   298.450000        ...           \n",
       "\n",
       "       reanalysis_precip_amt_kg_per_m2  reanalysis_relative_humidity_percent  \\\n",
       "count                      1456.000000                           1456.000000   \n",
       "mean                         39.933056                             82.135513   \n",
       "std                          43.364801                              7.136365   \n",
       "min                           0.000000                             57.787143   \n",
       "25%                          12.800000                             77.226429   \n",
       "50%                          27.080000                             80.255714   \n",
       "75%                          52.042500                             86.041429   \n",
       "max                         570.500000                             98.610000   \n",
       "\n",
       "       reanalysis_sat_precip_amt_mm  reanalysis_specific_humidity_g_per_kg  \\\n",
       "count                   1456.000000                            1456.000000   \n",
       "mean                      45.351813                              16.753005   \n",
       "std                       43.732321                               1.539220   \n",
       "min                        0.000000                              11.715714   \n",
       "25%                        9.115000                              15.561429   \n",
       "50%                       37.660000                              17.122143   \n",
       "75%                       70.047500                              17.974643   \n",
       "max                      390.600000                              20.461429   \n",
       "\n",
       "       reanalysis_tdtr_k  station_avg_temp_c  station_diur_temp_rng_c  \\\n",
       "count        1456.000000         1456.000000              1456.000000   \n",
       "mean            4.886264           27.192110                 8.003995   \n",
       "std             3.540494            1.273624                 2.120750   \n",
       "min             1.357143           21.400000                 4.528571   \n",
       "25%             2.328571           26.328571                 6.439286   \n",
       "50%             2.835714           27.400000                 7.242857   \n",
       "75%             7.553571           28.128571                 9.500000   \n",
       "max            16.028571           30.800000                15.800000   \n",
       "\n",
       "       station_max_temp_c  station_min_temp_c  station_precip_mm  \n",
       "count         1456.000000         1456.000000        1456.000000  \n",
       "mean            32.457212           22.119437          38.732143  \n",
       "std              1.946226            1.576276          47.339064  \n",
       "min             26.700000           14.700000           0.000000  \n",
       "25%             31.100000           21.100000           8.175000  \n",
       "50%             32.800000           22.200000          23.150000  \n",
       "75%             33.900000           23.300000          53.600000  \n",
       "max             42.200000           25.600000         543.300000  \n",
       "\n",
       "[8 rows x 22 columns]"
      ]
     },
     "execution_count": 5,
     "metadata": {},
     "output_type": "execute_result"
    }
   ],
   "source": [
    "raw_feature_df.describe()"
   ]
  },
  {
   "cell_type": "markdown",
   "metadata": {
    "colab_type": "text",
    "id": "If24gvGUfyUt"
   },
   "source": [
    "# Initial Model Attempt"
   ]
  },
  {
   "cell_type": "code",
   "execution_count": 6,
   "metadata": {
    "colab": {},
    "colab_type": "code",
    "id": "FVw_MIlmglQv"
   },
   "outputs": [],
   "source": [
    "from sklearn.metrics import mean_absolute_error\n",
    "from sklearn import kernel_ridge\n",
    "from sklearn import model_selection\n",
    "from sklearn import decomposition\n",
    "from sklearn import svm\n",
    "from sklearn import ensemble\n",
    "\n",
    "from sklearn import neural_network\n",
    "\n",
    "from sklearn import gaussian_process\n",
    "from sklearn import preprocessing"
   ]
  },
  {
   "cell_type": "code",
   "execution_count": 7,
   "metadata": {
    "colab": {},
    "colab_type": "code",
    "id": "TTteEwIPfZYZ"
   },
   "outputs": [
    {
     "name": "stderr",
     "output_type": "stream",
     "text": [
      "/Users/jeffchenchengyi/anaconda3/lib/python3.6/site-packages/ipykernel_launcher.py:1: FutureWarning: Method .as_matrix will be removed in a future version. Use .values instead.\n",
      "  \"\"\"Entry point for launching an IPython kernel.\n",
      "/Users/jeffchenchengyi/anaconda3/lib/python3.6/site-packages/ipykernel_launcher.py:2: FutureWarning: Method .as_matrix will be removed in a future version. Use .values instead.\n",
      "  \n"
     ]
    }
   ],
   "source": [
    "X = raw_feature_df[feature_columns].as_matrix()\n",
    "y = raw_labels_df[\"total_cases\"].as_matrix()\n",
    "y_old = y"
   ]
  },
  {
   "cell_type": "code",
   "execution_count": 8,
   "metadata": {
    "colab": {},
    "colab_type": "code",
    "id": "t6I4sokzhSLt"
   },
   "outputs": [],
   "source": [
    "# test difference in data between cities\n",
    "# y = (raw_feature_df.city == \"sj\").astype(int)\n",
    "# run PCA on X\n",
    "pca = decomposition.PCA(n_components='mle')\n",
    "\n",
    "X = pca.fit_transform(X)\n"
   ]
  },
  {
   "cell_type": "code",
   "execution_count": 9,
   "metadata": {
    "colab": {},
    "colab_type": "code",
    "id": "onn8_PZmvRK3"
   },
   "outputs": [],
   "source": [
    "import matplotlib.pyplot as plt\n",
    "import numpy as np"
   ]
  },
  {
   "cell_type": "code",
   "execution_count": 10,
   "metadata": {
    "colab": {},
    "colab_type": "code",
    "id": "bW89oLtIvTZx"
   },
   "outputs": [],
   "source": [
    "pwr = preprocessing.PowerTransformer()\n",
    "y = pwr.fit_transform(y_old[:,None]).flatten()"
   ]
  },
  {
   "cell_type": "code",
   "execution_count": 11,
   "metadata": {
    "colab": {
     "base_uri": "https://localhost:8080/",
     "height": 434
    },
    "colab_type": "code",
    "id": "pziPdfK1wJVR",
    "outputId": "adba8179-cac4-4ad3-ea89-40f5d22b1115"
   },
   "outputs": [
    {
     "data": {
      "text/plain": [
       "(array([100., 128., 196., 295., 287., 242., 132.,  49.,  13.,  14.]),\n",
       " array([-1.97815055, -1.47683642, -0.97552229, -0.47420816,  0.02710597,\n",
       "         0.5284201 ,  1.02973423,  1.53104836,  2.03236249,  2.53367662,\n",
       "         3.03499075]),\n",
       " <a list of 10 Patch objects>)"
      ]
     },
     "execution_count": 11,
     "metadata": {},
     "output_type": "execute_result"
    },
    {
     "data": {
      "image/png": "[encoded data removed]",
      "text/plain": [
       "<Figure size 432x288 with 1 Axes>"
      ]
     },
     "metadata": {},
     "output_type": "display_data"
    }
   ],
   "source": [
    "plt.hist(y)"
   ]
  },
  {
   "cell_type": "code",
   "execution_count": 12,
   "metadata": {
    "colab": {
     "base_uri": "https://localhost:8080/",
     "height": 104
    },
    "colab_type": "code",
    "id": "rXACdlqwk-ou",
    "outputId": "61a3ec2b-8fe5-490b-fd08-d6ad31554919"
   },
   "outputs": [
    {
     "data": {
      "text/plain": [
       "array([5.32395547e+03, 1.41573304e+03, 1.23386064e+03, 3.95234077e+01,\n",
       "       1.91322083e+01, 1.17272926e+01, 1.59021845e+00, 8.78579364e-01,\n",
       "       4.37591352e-01, 2.90252628e-01, 1.97709654e-01, 1.45489424e-01,\n",
       "       1.89169524e-02, 1.04571293e-02, 5.79059163e-03, 4.10345677e-03,\n",
       "       2.80194497e-03, 1.07427451e-03])"
      ]
     },
     "execution_count": 12,
     "metadata": {},
     "output_type": "execute_result"
    }
   ],
   "source": [
    "pca.explained_variance_"
   ]
  },
  {
   "cell_type": "code",
   "execution_count": 13,
   "metadata": {
    "colab": {},
    "colab_type": "code",
    "id": "AkXFFjK_h3zR"
   },
   "outputs": [],
   "source": [
    "metric = \"neg_mean_absolute_error\"\n",
    "\n",
    "kernel_ridge_parameter_ranges = [{'kernel': ['rbf'], \"alpha\":[1e-1,1e-2], 'gamma': [1e-1, 1e-2,1e-3,1e-4]},\n",
    "                    {'kernel': ['polynomial'], 'degree': [2, 3], \"alpha\":[1e-1, 1e-2]}]\n",
    "\n",
    "svr_parameter_ranges = [{'kernel': ['rbf'], \"C\":[1e-1,1e-2]}]\n",
    "\n",
    "tree_parameter_ranges = [{\"n_estimators\":[50,100], \"subsample\":[0.5,1], \"max_depth\":[3,5,10]}]\n",
    "\n",
    "dnn_parameter_ranges = [{\"hidden_layer_sizes\":[(1000,1000),(200, 200, 200),(100, 50, 25),(200, 100, 50, 25)], \"nesterovs_momentum\":[True, False]}]\n",
    "\n",
    "# gp_parameter_ranges = [{'kernel': ['rbf'], \"alpha\":[1e-1,1e-2], 'gamma': [1e-1, 1e-2,1e-3,1e-4]},\n",
    "#                     {'kernel': ['polynomial'], 'degree': [2, 3], \"alpha\":[1e-1, 1e-2]}]"
   ]
  },
  {
   "cell_type": "code",
   "execution_count": 14,
   "metadata": {
    "colab": {
     "base_uri": "https://localhost:8080/",
     "height": 541
    },
    "colab_type": "code",
    "id": "FvcZZO1RiJo-",
    "outputId": "d3cf9550-3c55-42c5-f05d-c51d460963b9"
   },
   "outputs": [
    {
     "name": "stderr",
     "output_type": "stream",
     "text": [
      "/Users/jeffchenchengyi/anaconda3/lib/python3.6/site-packages/sklearn/linear_model/ridge.py:165: LinAlgWarning: Ill-conditioned matrix (rcond=4.22951e-17): result may not be accurate.\n",
      "  overwrite_a=False)\n",
      "/Users/jeffchenchengyi/anaconda3/lib/python3.6/site-packages/sklearn/linear_model/ridge.py:165: LinAlgWarning: Ill-conditioned matrix (rcond=5.36639e-17): result may not be accurate.\n",
      "  overwrite_a=False)\n",
      "/Users/jeffchenchengyi/anaconda3/lib/python3.6/site-packages/sklearn/linear_model/ridge.py:165: LinAlgWarning: Ill-conditioned matrix (rcond=7.93952e-17): result may not be accurate.\n",
      "  overwrite_a=False)\n",
      "/Users/jeffchenchengyi/anaconda3/lib/python3.6/site-packages/sklearn/linear_model/ridge.py:165: LinAlgWarning: Ill-conditioned matrix (rcond=4.09566e-17): result may not be accurate.\n",
      "  overwrite_a=False)\n",
      "/Users/jeffchenchengyi/anaconda3/lib/python3.6/site-packages/sklearn/linear_model/ridge.py:165: LinAlgWarning: Ill-conditioned matrix (rcond=5.03892e-17): result may not be accurate.\n",
      "  overwrite_a=False)\n",
      "/Users/jeffchenchengyi/anaconda3/lib/python3.6/site-packages/sklearn/model_selection/_search.py:841: DeprecationWarning: The default of the `iid` parameter will change from True to False in version 0.22 and will be removed in 0.24. This will change numeric results when test-set sizes are unequal.\n",
      "  DeprecationWarning)\n"
     ]
    },
    {
     "data": {
      "text/plain": [
       "GridSearchCV(cv=5, error_score='raise-deprecating',\n",
       "       estimator=KernelRidge(alpha=1, coef0=1, degree=3, gamma=None, kernel='linear',\n",
       "      kernel_params=None),\n",
       "       fit_params=None, iid='warn', n_jobs=None,\n",
       "       param_grid=[{'kernel': ['rbf'], 'alpha': [0.1, 0.01], 'gamma': [0.1, 0.01, 0.001, 0.0001]}, {'kernel': ['polynomial'], 'degree': [2, 3], 'alpha': [0.1, 0.01]}],\n",
       "       pre_dispatch='2*n_jobs', refit=True, return_train_score='warn',\n",
       "       scoring='neg_mean_absolute_error', verbose=0)"
      ]
     },
     "execution_count": 14,
     "metadata": {},
     "output_type": "execute_result"
    }
   ],
   "source": [
    "kernel_clf = model_selection.GridSearchCV(kernel_ridge.KernelRidge(), kernel_ridge_parameter_ranges, cv=5,\n",
    "                       scoring=metric)\n",
    "kernel_clf.fit(X, y)"
   ]
  },
  {
   "cell_type": "code",
   "execution_count": 15,
   "metadata": {
    "colab": {
     "base_uri": "https://localhost:8080/",
     "height": 139
    },
    "colab_type": "code",
    "id": "-aB1nnn-l7i3",
    "outputId": "fdb84887-e75b-4fa6-98f5-725788bf8daa"
   },
   "outputs": [
    {
     "data": {
      "text/plain": [
       "GridSearchCV(cv=3, error_score='raise-deprecating',\n",
       "       estimator=SVR(C=1.0, cache_size=200, coef0=0.0, degree=3, epsilon=0.1, gamma='auto',\n",
       "  kernel='rbf', max_iter=-1, shrinking=True, tol=0.001, verbose=False),\n",
       "       fit_params=None, iid='warn', n_jobs=None,\n",
       "       param_grid=[{'kernel': ['rbf'], 'C': [0.1, 0.01]}],\n",
       "       pre_dispatch='2*n_jobs', refit=True, return_train_score='warn',\n",
       "       scoring='neg_mean_absolute_error', verbose=0)"
      ]
     },
     "execution_count": 15,
     "metadata": {},
     "output_type": "execute_result"
    }
   ],
   "source": [
    "svr_clf = model_selection.GridSearchCV(svm.SVR(gamma=\"auto\"), svr_parameter_ranges, cv=3,\n",
    "                       scoring=metric)\n",
    "svr_clf.fit(X, y)"
   ]
  },
  {
   "cell_type": "code",
   "execution_count": 16,
   "metadata": {
    "colab": {
     "base_uri": "https://localhost:8080/",
     "height": 208
    },
    "colab_type": "code",
    "id": "qCMJrmAwp7cO",
    "outputId": "60614836-c11d-4276-c783-7b2f7a8b2ab7"
   },
   "outputs": [
    {
     "data": {
      "text/plain": [
       "GridSearchCV(cv=3, error_score='raise-deprecating',\n",
       "       estimator=GradientBoostingRegressor(alpha=0.9, criterion='friedman_mse', init=None,\n",
       "             learning_rate=0.1, loss='ls', max_depth=3, max_features=None,\n",
       "             max_leaf_nodes=None, min_impurity_decrease=0.0,\n",
       "             min_impurity_split=None, min_samples_leaf=1,\n",
       "             min_sampl...=None, subsample=1.0, tol=0.0001,\n",
       "             validation_fraction=0.1, verbose=0, warm_start=False),\n",
       "       fit_params=None, iid='warn', n_jobs=None,\n",
       "       param_grid=[{'n_estimators': [50, 100], 'subsample': [0.5, 1], 'max_depth': [3, 5, 10]}],\n",
       "       pre_dispatch='2*n_jobs', refit=True, return_train_score='warn',\n",
       "       scoring='neg_mean_absolute_error', verbose=0)"
      ]
     },
     "execution_count": 16,
     "metadata": {},
     "output_type": "execute_result"
    }
   ],
   "source": [
    "tree_clf = model_selection.GridSearchCV(ensemble.GradientBoostingRegressor(), tree_parameter_ranges, cv=3,\n",
    "                       scoring=metric)\n",
    "tree_clf.fit(X, y)"
   ]
  },
  {
   "cell_type": "code",
   "execution_count": 17,
   "metadata": {
    "colab": {
     "base_uri": "https://localhost:8080/",
     "height": 245
    },
    "colab_type": "code",
    "id": "KIoD5D4Ur6Zh",
    "outputId": "8240ac8c-ef0a-4444-c45c-63ca7ac74079"
   },
   "outputs": [
    {
     "data": {
      "text/plain": [
       "GridSearchCV(cv=3, error_score='raise-deprecating',\n",
       "       estimator=MLPRegressor(activation='relu', alpha=0.0001, batch_size='auto', beta_1=0.9,\n",
       "       beta_2=0.999, early_stopping=True, epsilon=1e-08,\n",
       "       hidden_layer_sizes=(100,), learning_rate='constant',\n",
       "       learning_rate_init=0.001, max_iter=200, momentum=0.9,\n",
       "       n_iter_no_change=10, nesterovs_momentum=True, power_t=0.5,\n",
       "       random_state=None, shuffle=True, solver='adam', tol=0.0001,\n",
       "       validation_fraction=0.1, verbose=False, warm_start=False),\n",
       "       fit_params=None, iid='warn', n_jobs=None,\n",
       "       param_grid=[{'hidden_layer_sizes': [(1000, 1000), (200, 200, 200), (100, 50, 25), (200, 100, 50, 25)], 'nesterovs_momentum': [True, False]}],\n",
       "       pre_dispatch='2*n_jobs', refit=True, return_train_score='warn',\n",
       "       scoring='neg_mean_absolute_error', verbose=0)"
      ]
     },
     "execution_count": 17,
     "metadata": {},
     "output_type": "execute_result"
    }
   ],
   "source": [
    "dnn_clf = model_selection.GridSearchCV(neural_network.MLPRegressor(early_stopping=True), dnn_parameter_ranges, cv=3,\n",
    "                       scoring=metric)\n",
    "dnn_clf.fit(X, y)"
   ]
  },
  {
   "cell_type": "code",
   "execution_count": 19,
   "metadata": {
    "colab": {
     "base_uri": "https://localhost:8080/",
     "height": 69
    },
    "colab_type": "code",
    "id": "J6XJ0Oq1u2p3",
    "outputId": "8a8576f1-d519-4a67-b20b-5efede40dab5"
   },
   "outputs": [],
   "source": [
    "# gp_clf = model_selection.GridSearchCV(gaussian_process.GaussianProcessRegressor(), gp_parameter_ranges, cv=3,\n",
    "#                        scoring=metric)\n",
    "# gp_clf.fit(X, y)"
   ]
  },
  {
   "cell_type": "code",
   "execution_count": 20,
   "metadata": {
    "colab": {
     "base_uri": "https://localhost:8080/",
     "height": 278
    },
    "colab_type": "code",
    "id": "ymQBp-MrjWaO",
    "outputId": "2633da7e-704a-4dc4-e32a-c483d814b040"
   },
   "outputs": [
    {
     "name": "stdout",
     "output_type": "stream",
     "text": [
      "all MAE kernel: 14.605643240032522\n",
      "SJ MAE kernel: 19.620462951013796\n",
      "IQ MAE kernel: 5.578967760266505\n",
      "\n",
      "all MAE svr: 11.615732885502988\n",
      "SJ MAE svr: 11.287983621090111\n",
      "IQ MAE svr: 12.20568156144617\n",
      "\n",
      "all MAE tree: 14.971411114808333\n",
      "SJ MAE tree: 19.951471164998555\n",
      "IQ MAE tree: 6.007303024465942\n",
      "\n",
      "all MAE dnn: 18.355698388979864\n",
      "SJ MAE dnn: 24.75831836348866\n",
      "IQ MAE dnn: 6.830982434864037\n"
     ]
    }
   ],
   "source": [
    "def print_scores(model, name, sj_indices=(raw_feature_df.city == \"sj\")):\n",
    "    print(\"all MAE {}: {}\".format(name, mean_absolute_error(y, pwr.inverse_transform(model.best_estimator_.predict(X)[:,None]))))\n",
    "    print(\"SJ MAE {}: {}\".format(name, mean_absolute_error(y[sj_indices], pwr.inverse_transform(model.best_estimator_.predict(X[sj_indices])[:,None]))))\n",
    "    print(\"IQ MAE {}: {}\".format(name, mean_absolute_error(y[~sj_indices], pwr.inverse_transform(model.best_estimator_.predict(X[~sj_indices])[:,None]))))\n",
    "\n",
    "print_scores(kernel_clf, name=\"kernel\")\n",
    "print()\n",
    "print_scores(svr_clf, name=\"svr\")\n",
    "print()\n",
    "print_scores(tree_clf, name=\"tree\")\n",
    "print()\n",
    "print_scores(dnn_clf, name=\"dnn\")\n",
    "\n",
    "# print(\"kernel regression MAE:\",mean_absolute_error(y, kernel_clf.best_estimator_.predict(X)))\n",
    "# print(\"svr MAE:\", mean_absolute_error(y,svr_clf.best_estimator_.predict(X)))\n",
    "# print(\"tree MAE:\", mean_absolute_error(y,tree_clf.best_estimator_.predict(X)))\n",
    "# print(\"dnn MAE:\", mean_absolute_error(y,dnn_clf.best_estimator_.predict(X)))\n",
    "# print()\n",
    "# print(\"SJ kernel regression MAE:\",mean_absolute_error(y[raw_feature_df.city == \"sj\"], kernel_clf.best_estimator_.predict(X[raw_feature_df.city == \"sj\"])))\n",
    "# print(\"SJ svr MAE:\", mean_absolute_error(y[raw_feature_df.city == \"sj\"], svr_clf.best_estimator_.predict(X[raw_feature_df.city == \"sj\"])))\n",
    "# print(\"SJ tree MAE:\", mean_absolute_error(y[raw_feature_df.city == \"sj\"],tree_clf.best_estimator_.predict(X[raw_feature_df.city == \"sj\"])))\n",
    "# print(\"SJ dnn MAE:\", mean_absolute_error(y[raw_feature_df.city == \"sj\"],dnn_clf.best_estimator_.predict(X[raw_feature_df.city == \"sj\"])))\n",
    "# print()\n",
    "# print(\"IQ kernel regression MAE:\",mean_absolute_error(y[raw_feature_df.city != \"sj\"], kernel_clf.best_estimator_.predict(X[raw_feature_df.city != \"sj\"])))\n",
    "# print(\"IQ svr MAE:\", mean_absolute_error(y[raw_feature_df.city != \"sj\"],svr_clf.best_estimator_.predict(X[raw_feature_df.city != \"sj\"])))\n",
    "# print(\"IQ tree MAE:\", mean_absolute_error(y[raw_feature_df.city != \"sj\"],tree_clf.best_estimator_.predict(X[raw_feature_df.city != \"sj\"])))\n",
    "# print(\"IQ dnn MAE:\", mean_absolute_error(y[raw_feature_df.city != \"sj\"],dnn_clf.best_estimator_.predict(X[raw_feature_df.city != \"sj\"])))"
   ]
  }
 ],
 "metadata": {
  "colab": {
   "collapsed_sections": [],
   "name": "DengAI.ipynb",
   "provenance": [],
   "toc_visible": true,
   "version": "0.3.2"
  },
  "kernelspec": {
   "display_name": "Python 3",
   "language": "python",
   "name": "python3"
  },
  "language_info": {
   "codemirror_mode": {
    "name": "ipython",
    "version": 3
   },
   "file_extension": ".py",
   "mimetype": "text/x-python",
   "name": "python",
   "nbconvert_exporter": "python",
   "pygments_lexer": "ipython3",
   "version": "3.6.8"
  }
 },
 "nbformat": 4,
 "nbformat_minor": 1
}
