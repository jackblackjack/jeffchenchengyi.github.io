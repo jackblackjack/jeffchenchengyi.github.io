{
 "cells": [
  {
   "cell_type": "markdown",
   "metadata": {},
   "source": [
    "# Exploring Residential House Prices in Singapore\n",
    "By: Chengyi (Jeff) Chen\n",
    "\n",
    "In this project, we will first gather a dataset of Singapore Residential housing prices and their features from [99.co](https://www.99.co/singapore), a popular online marketplace for property in Singapore. Afterwards, we will explore the data we've scraped using the CRISP-DM process."
   ]
  },
  {
   "cell_type": "markdown",
   "metadata": {},
   "source": [
    "---\n",
    "## Table of Contents\n",
    "\n",
    "1. [Transform Part 2](#transform)\n",
    "2. [Load](#load)"
   ]
  },
  {
   "cell_type": "code",
   "execution_count": 1,
   "metadata": {},
   "outputs": [],
   "source": [
    "# General Utilities for Web Scraping\n",
    "import sys\n",
    "import os\n",
    "from os import listdir\n",
    "from os.path import isfile, join, isdir\n",
    "import requests\n",
    "import urllib.request\n",
    "import time\n",
    "from bs4 import BeautifulSoup\n",
    "from tqdm import tqdm\n",
    "from datetime import date, datetime, timedelta\n",
    "from dateutil import relativedelta\n",
    "import csv\n",
    "import json\n",
    "from collections import defaultdict\n",
    "from collections import Counter\n",
    "\n",
    "# Machine Learning Utitilies\n",
    "import numpy as np\n",
    "import pandas as pd\n",
    "import matplotlib.pyplot as plt\n",
    "import seaborn as sns\n",
    "\n",
    "# Url\n",
    "base_url = 'https://www.99.co/singapore/sale'"
   ]
  },
  {
   "cell_type": "markdown",
   "metadata": {},
   "source": [
    "<a id='transform'></a>\n",
    "\n",
    "---\n",
    "# Transform Part 2\n",
    "\n",
    "We'll now impute the remaining missing values for our data."
   ]
  },
  {
   "cell_type": "code",
   "execution_count": 2,
   "metadata": {},
   "outputs": [],
   "source": [
    "raw_final_dataset = pd.read_csv('./data/99.co/raw_final_dataset_{}.csv'.format(date.today().strftime(\"%Y_%m_%d\")), index_col=[0])"
   ]
  },
  {
   "cell_type": "code",
   "execution_count": 3,
   "metadata": {},
   "outputs": [
    {
     "data": {
      "text/html": [
       "<div>\n",
       "<style scoped>\n",
       "    .dataframe tbody tr th:only-of-type {\n",
       "        vertical-align: middle;\n",
       "    }\n",
       "\n",
       "    .dataframe tbody tr th {\n",
       "        vertical-align: top;\n",
       "    }\n",
       "\n",
       "    .dataframe thead th {\n",
       "        text-align: right;\n",
       "    }\n",
       "</style>\n",
       "<table border=\"1\" class=\"dataframe\">\n",
       "  <thead>\n",
       "    <tr style=\"text-align: right;\">\n",
       "      <th></th>\n",
       "      <th>Availability</th>\n",
       "      <th>Condition</th>\n",
       "      <th>Cost of Renovation</th>\n",
       "      <th>District</th>\n",
       "      <th>Facing</th>\n",
       "      <th>Floor</th>\n",
       "      <th>Furnishing</th>\n",
       "      <th>Landed House Area Zoning</th>\n",
       "      <th>Last Renovated Date</th>\n",
       "      <th>Re-wiring/Structural Renovation</th>\n",
       "      <th>...</th>\n",
       "      <th>primary</th>\n",
       "      <th>secondary</th>\n",
       "      <th>sqft</th>\n",
       "      <th>tenure</th>\n",
       "      <th>total_units</th>\n",
       "      <th>transit_duration_to_changi_airport</th>\n",
       "      <th>transit_duration_to_orchard_road</th>\n",
       "      <th>transit_duration_to_raffles_place</th>\n",
       "      <th>type</th>\n",
       "      <th>year_since_completion</th>\n",
       "    </tr>\n",
       "  </thead>\n",
       "  <tbody>\n",
       "    <tr>\n",
       "      <th>0</th>\n",
       "      <td>Now</td>\n",
       "      <td>NaN</td>\n",
       "      <td>NaN</td>\n",
       "      <td>D22</td>\n",
       "      <td>North South</td>\n",
       "      <td>NaN</td>\n",
       "      <td>NaN</td>\n",
       "      <td>NaN</td>\n",
       "      <td>NaN</td>\n",
       "      <td>NaN</td>\n",
       "      <td>...</td>\n",
       "      <td>NaN</td>\n",
       "      <td>1.0</td>\n",
       "      <td>506.0</td>\n",
       "      <td>99 Years</td>\n",
       "      <td>NaN</td>\n",
       "      <td>93.0</td>\n",
       "      <td>50.0</td>\n",
       "      <td>43.0</td>\n",
       "      <td>hdb</td>\n",
       "      <td>NaN</td>\n",
       "    </tr>\n",
       "    <tr>\n",
       "      <th>1</th>\n",
       "      <td>14 Feb 2023</td>\n",
       "      <td>NaN</td>\n",
       "      <td>NaN</td>\n",
       "      <td>D19</td>\n",
       "      <td>NaN</td>\n",
       "      <td>NaN</td>\n",
       "      <td>NaN</td>\n",
       "      <td>NaN</td>\n",
       "      <td>NaN</td>\n",
       "      <td>NaN</td>\n",
       "      <td>...</td>\n",
       "      <td>NaN</td>\n",
       "      <td>NaN</td>\n",
       "      <td>872.0</td>\n",
       "      <td>99 Years</td>\n",
       "      <td>1478.0</td>\n",
       "      <td>54.0</td>\n",
       "      <td>43.0</td>\n",
       "      <td>42.0</td>\n",
       "      <td>condo</td>\n",
       "      <td>-5.0</td>\n",
       "    </tr>\n",
       "    <tr>\n",
       "      <th>2</th>\n",
       "      <td>NaN</td>\n",
       "      <td>NaN</td>\n",
       "      <td>NaN</td>\n",
       "      <td>D28</td>\n",
       "      <td>NaN</td>\n",
       "      <td>NaN</td>\n",
       "      <td>Fully Furnished</td>\n",
       "      <td>NaN</td>\n",
       "      <td>NaN</td>\n",
       "      <td>NaN</td>\n",
       "      <td>...</td>\n",
       "      <td>4.0</td>\n",
       "      <td>1.0</td>\n",
       "      <td>689.0</td>\n",
       "      <td>99 Years</td>\n",
       "      <td>555.0</td>\n",
       "      <td>49.0</td>\n",
       "      <td>44.0</td>\n",
       "      <td>44.0</td>\n",
       "      <td>condo</td>\n",
       "      <td>2.0</td>\n",
       "    </tr>\n",
       "    <tr>\n",
       "      <th>3</th>\n",
       "      <td>Now</td>\n",
       "      <td>NaN</td>\n",
       "      <td>NaN</td>\n",
       "      <td>D05</td>\n",
       "      <td>North</td>\n",
       "      <td>NaN</td>\n",
       "      <td>NaN</td>\n",
       "      <td>NaN</td>\n",
       "      <td>NaN</td>\n",
       "      <td>NaN</td>\n",
       "      <td>...</td>\n",
       "      <td>NaN</td>\n",
       "      <td>2.0</td>\n",
       "      <td>882.0</td>\n",
       "      <td>NaN</td>\n",
       "      <td>NaN</td>\n",
       "      <td>86.0</td>\n",
       "      <td>41.0</td>\n",
       "      <td>38.0</td>\n",
       "      <td>hdb</td>\n",
       "      <td>NaN</td>\n",
       "    </tr>\n",
       "    <tr>\n",
       "      <th>4</th>\n",
       "      <td>Now</td>\n",
       "      <td>NaN</td>\n",
       "      <td>NaN</td>\n",
       "      <td>D11</td>\n",
       "      <td>South West</td>\n",
       "      <td>5</td>\n",
       "      <td>Fully Furnished</td>\n",
       "      <td>NaN</td>\n",
       "      <td>NaN</td>\n",
       "      <td>NaN</td>\n",
       "      <td>...</td>\n",
       "      <td>1.0</td>\n",
       "      <td>NaN</td>\n",
       "      <td>1615.0</td>\n",
       "      <td>Freehold</td>\n",
       "      <td>128.0</td>\n",
       "      <td>58.0</td>\n",
       "      <td>14.0</td>\n",
       "      <td>20.0</td>\n",
       "      <td>condo</td>\n",
       "      <td>7.0</td>\n",
       "    </tr>\n",
       "  </tbody>\n",
       "</table>\n",
       "<p>5 rows × 41 columns</p>\n",
       "</div>"
      ],
      "text/plain": [
       "  Availability Condition Cost of Renovation District       Facing Floor  \\\n",
       "0          Now       NaN                NaN      D22  North South   NaN   \n",
       "1  14 Feb 2023       NaN                NaN      D19          NaN   NaN   \n",
       "2          NaN       NaN                NaN      D28          NaN   NaN   \n",
       "3          Now       NaN                NaN      D05        North   NaN   \n",
       "4          Now       NaN                NaN      D11   South West     5   \n",
       "\n",
       "        Furnishing Landed House Area Zoning Last Renovated Date  \\\n",
       "0              NaN                      NaN                 NaN   \n",
       "1              NaN                      NaN                 NaN   \n",
       "2  Fully Furnished                      NaN                 NaN   \n",
       "3              NaN                      NaN                 NaN   \n",
       "4  Fully Furnished                      NaN                 NaN   \n",
       "\n",
       "  Re-wiring/Structural Renovation  ... primary secondary    sqft    tenure  \\\n",
       "0                             NaN  ...     NaN       1.0   506.0  99 Years   \n",
       "1                             NaN  ...     NaN       NaN   872.0  99 Years   \n",
       "2                             NaN  ...     4.0       1.0   689.0  99 Years   \n",
       "3                             NaN  ...     NaN       2.0   882.0       NaN   \n",
       "4                             NaN  ...     1.0       NaN  1615.0  Freehold   \n",
       "\n",
       "   total_units  transit_duration_to_changi_airport  \\\n",
       "0          NaN                                93.0   \n",
       "1       1478.0                                54.0   \n",
       "2        555.0                                49.0   \n",
       "3          NaN                                86.0   \n",
       "4        128.0                                58.0   \n",
       "\n",
       "   transit_duration_to_orchard_road  transit_duration_to_raffles_place   type  \\\n",
       "0                              50.0                               43.0    hdb   \n",
       "1                              43.0                               42.0  condo   \n",
       "2                              44.0                               44.0  condo   \n",
       "3                              41.0                               38.0    hdb   \n",
       "4                              14.0                               20.0  condo   \n",
       "\n",
       "   year_since_completion  \n",
       "0                    NaN  \n",
       "1                   -5.0  \n",
       "2                    2.0  \n",
       "3                    NaN  \n",
       "4                    7.0  \n",
       "\n",
       "[5 rows x 41 columns]"
      ]
     },
     "execution_count": 3,
     "metadata": {},
     "output_type": "execute_result"
    }
   ],
   "source": [
    "raw_final_dataset.head()"
   ]
  },
  {
   "cell_type": "code",
   "execution_count": 4,
   "metadata": {},
   "outputs": [
    {
     "data": {
      "text/plain": [
       "Index(['Availability', 'Condition', 'Cost of Renovation', 'District', 'Facing',\n",
       "       'Floor', 'Furnishing', 'Landed House Area Zoning',\n",
       "       'Last Renovated Date', 'Re-wiring/Structural Renovation',\n",
       "       'Tenancy Current Rent', 'Tenancy Lease Expiry', 'ammenities',\n",
       "       'atm_nearby', 'average_transit_duration_to_subway',\n",
       "       'average_transit_duration_to_supermarket',\n",
       "       'average_walking_duration_to_bus_station',\n",
       "       'average_walking_duration_to_clinic', 'link', 'num_baths', 'num_beds',\n",
       "       'num_bus_stations_nearby', 'num_clinics_nearby', 'num_subways_nearby',\n",
       "       'num_supermarkets_nearby', 'others', 'park_nearby', 'post_box_nearby',\n",
       "       'post_office_nearby', 'pre-tertiary', 'price', 'primary', 'secondary',\n",
       "       'sqft', 'tenure', 'total_units', 'transit_duration_to_changi_airport',\n",
       "       'transit_duration_to_orchard_road', 'transit_duration_to_raffles_place',\n",
       "       'type', 'year_since_completion'],\n",
       "      dtype='object')"
      ]
     },
     "execution_count": 4,
     "metadata": {},
     "output_type": "execute_result"
    }
   ],
   "source": [
    "# What features we are working with\n",
    "raw_final_dataset.columns"
   ]
  },
  {
   "cell_type": "code",
   "execution_count": 5,
   "metadata": {},
   "outputs": [
    {
     "data": {
      "text/plain": [
       "(9953, 41)"
      ]
     },
     "execution_count": 5,
     "metadata": {},
     "output_type": "execute_result"
    }
   ],
   "source": [
    "raw_final_dataset.shape"
   ]
  },
  {
   "cell_type": "markdown",
   "metadata": {},
   "source": [
    "## A look at the Missing Data\n",
    "\n",
    "We'll go through each feature column and take a look at how we should impute the values and whether we should just drop the entire feature column."
   ]
  },
  {
   "cell_type": "markdown",
   "metadata": {},
   "source": [
    "### Endogenous Variable: `price`"
   ]
  },
  {
   "cell_type": "code",
   "execution_count": 6,
   "metadata": {},
   "outputs": [
    {
     "data": {
      "text/plain": [
       "count    9.840000e+03\n",
       "mean     2.569126e+06\n",
       "std      4.379227e+07\n",
       "min      1.880000e+05\n",
       "25%      6.777500e+05\n",
       "50%      1.185000e+06\n",
       "75%      2.035795e+06\n",
       "max      3.850000e+09\n",
       "Name: price, dtype: float64"
      ]
     },
     "execution_count": 6,
     "metadata": {},
     "output_type": "execute_result"
    }
   ],
   "source": [
    "raw_final_dataset['price'].describe()"
   ]
  },
  {
   "cell_type": "markdown",
   "metadata": {},
   "source": [
    "Without the `price`, we can't really do anything in terms of regression later on. Hence, I'd suggest dropping all the observations that don't have `price`."
   ]
  },
  {
   "cell_type": "code",
   "execution_count": 7,
   "metadata": {},
   "outputs": [],
   "source": [
    "# Remove observations with no price\n",
    "raw_final_dataset = raw_final_dataset[raw_final_dataset['price'].astype(str) != 'nan']"
   ]
  },
  {
   "cell_type": "code",
   "execution_count": 8,
   "metadata": {},
   "outputs": [
    {
     "data": {
      "image/png": "[encoded data removed]",
      "text/plain": [
       "<Figure size 3600x1200 with 1 Axes>"
      ]
     },
     "metadata": {
      "needs_background": "light"
     },
     "output_type": "display_data"
    }
   ],
   "source": [
    "# A look at the distribution of prices\n",
    "plt.figure(figsize=(12, 4), dpi=300)\n",
    "sns.distplot(raw_final_dataset['price'])\n",
    "plt.title('Price (S$)')\n",
    "plt.grid();"
   ]
  },
  {
   "cell_type": "markdown",
   "metadata": {},
   "source": [
    "### Exogenous Variables / Features"
   ]
  },
  {
   "cell_type": "code",
   "execution_count": 9,
   "metadata": {},
   "outputs": [],
   "source": [
    "# Stores the categorical features in a list\n",
    "cat_feats = []\n",
    "\n",
    "# Stores numerical features in a list\n",
    "num_feats = []"
   ]
  },
  {
   "cell_type": "markdown",
   "metadata": {},
   "source": [
    "### 1. Categorical:  `Availability`"
   ]
  },
  {
   "cell_type": "code",
   "execution_count": 10,
   "metadata": {},
   "outputs": [
    {
     "data": {
      "text/plain": [
       "count     8304\n",
       "unique     362\n",
       "top        Now\n",
       "freq      7115\n",
       "Name: Availability, dtype: object"
      ]
     },
     "execution_count": 10,
     "metadata": {},
     "output_type": "execute_result"
    }
   ],
   "source": [
    "cat_feats.append('Availability')\n",
    "raw_final_dataset['Availability'].describe()"
   ]
  },
  {
   "cell_type": "code",
   "execution_count": 11,
   "metadata": {
    "scrolled": true
   },
   "outputs": [
    {
     "data": {
      "text/plain": [
       "Now            7115\n",
       "01 Jan 2022      60\n",
       "31 Dec 2024      38\n",
       "01 Aug 2019      35\n",
       "01 Jun 2022      23\n",
       "31 Dec 2022      23\n",
       "31 Dec 2023      21\n",
       "01 Sep 2019      21\n",
       "31 Dec 2019      19\n",
       "31 Jul 2019      19\n",
       "01 Oct 2022      17\n",
       "31 Aug 2019      17\n",
       "30 Sep 2019      15\n",
       "01 Dec 2024      14\n",
       "30 Sep 2022      13\n",
       "13 Jul 2019      13\n",
       "30 Jun 2022      13\n",
       "01 Oct 2019      13\n",
       "31 Aug 2022      12\n",
       "31 Dec 2021      12\n",
       "01 Jan 2023      12\n",
       "01 Jan 2024      11\n",
       "12 Jul 2019      11\n",
       "31 Jul 2022      11\n",
       "15 Jul 2019      11\n",
       "01 Aug 2022      11\n",
       "01 Nov 2019      11\n",
       "01 Feb 2020      10\n",
       "01 Oct 2023      10\n",
       "30 Sep 2023      10\n",
       "               ... \n",
       "17 Apr 2020       1\n",
       "12 Oct 2019       1\n",
       "03 Feb 2020       1\n",
       "20 Jun 2020       1\n",
       "06 Sep 2019       1\n",
       "18 May 2020       1\n",
       "05 Feb 2021       1\n",
       "17 Aug 2020       1\n",
       "24 Jan 2021       1\n",
       "23 Dec 2020       1\n",
       "17 Dec 2020       1\n",
       "11 Oct 2019       1\n",
       "03 May 2023       1\n",
       "16 Jul 2019       1\n",
       "21 Apr 2021       1\n",
       "14 Sep 2021       1\n",
       "13 Dec 2019       1\n",
       "12 Dec 2024       1\n",
       "13 Feb 2020       1\n",
       "02 Dec 2023       1\n",
       "06 Feb 2020       1\n",
       "23 Jun 2020       1\n",
       "01 May 2022       1\n",
       "30 Jul 2022       1\n",
       "17 Oct 2019       1\n",
       "04 Aug 2019       1\n",
       "02 Sep 2020       1\n",
       "19 Aug 2022       1\n",
       "15 Oct 2020       1\n",
       "05 Sep 2021       1\n",
       "Name: Availability, Length: 362, dtype: int64"
      ]
     },
     "execution_count": 11,
     "metadata": {},
     "output_type": "execute_result"
    }
   ],
   "source": [
    "raw_final_dataset['Availability'].value_counts()"
   ]
  },
  {
   "cell_type": "markdown",
   "metadata": {},
   "source": [
    "We have a ton of NaNs in this feature column. It seems like only 5 properties are available right now, while the rest are all still occupied. We'll impute `occupied` to replace the NaNs."
   ]
  },
  {
   "cell_type": "code",
   "execution_count": 12,
   "metadata": {},
   "outputs": [
    {
     "data": {
      "text/plain": [
       "0            Now\n",
       "1    14 Feb 2023\n",
       "2       Occupied\n",
       "3            Now\n",
       "4            Now\n",
       "Name: Availability, dtype: object"
      ]
     },
     "execution_count": 12,
     "metadata": {},
     "output_type": "execute_result"
    }
   ],
   "source": [
    "raw_final_dataset['Availability'] = raw_final_dataset['Availability'].fillna('Occupied')\n",
    "raw_final_dataset['Availability'].head()"
   ]
  },
  {
   "cell_type": "markdown",
   "metadata": {},
   "source": [
    "### 2. Categorical: `Condition`"
   ]
  },
  {
   "cell_type": "code",
   "execution_count": 13,
   "metadata": {},
   "outputs": [
    {
     "data": {
      "text/plain": [
       "count                181\n",
       "unique                 3\n",
       "top       For Reno / A&A\n",
       "freq                  92\n",
       "Name: Condition, dtype: object"
      ]
     },
     "execution_count": 13,
     "metadata": {},
     "output_type": "execute_result"
    }
   ],
   "source": [
    "cat_feats.append('Condition')\n",
    "raw_final_dataset['Condition'].describe()"
   ]
  },
  {
   "cell_type": "code",
   "execution_count": 14,
   "metadata": {},
   "outputs": [
    {
     "data": {
      "text/plain": [
       "For Reno / A&A                92\n",
       "Brand New                     77\n",
       "Land Only / For Rebuilding    12\n",
       "Name: Condition, dtype: int64"
      ]
     },
     "execution_count": 14,
     "metadata": {},
     "output_type": "execute_result"
    }
   ],
   "source": [
    "raw_final_dataset['Condition'].value_counts()"
   ]
  },
  {
   "cell_type": "markdown",
   "metadata": {},
   "source": [
    "Again, we have a large number of NaNs. Taking a look at the values available, I'll assume that any NaN means that the property was `Used`."
   ]
  },
  {
   "cell_type": "code",
   "execution_count": 15,
   "metadata": {},
   "outputs": [
    {
     "data": {
      "text/plain": [
       "0    Used\n",
       "1    Used\n",
       "2    Used\n",
       "3    Used\n",
       "4    Used\n",
       "Name: Condition, dtype: object"
      ]
     },
     "execution_count": 15,
     "metadata": {},
     "output_type": "execute_result"
    }
   ],
   "source": [
    "raw_final_dataset['Condition'] = raw_final_dataset['Condition'].fillna('Used')\n",
    "raw_final_dataset['Condition'].head()"
   ]
  },
  {
   "cell_type": "markdown",
   "metadata": {},
   "source": [
    "### 3. Numerical: `Cost of Renovation`"
   ]
  },
  {
   "cell_type": "code",
   "execution_count": 16,
   "metadata": {},
   "outputs": [
    {
     "data": {
      "text/plain": [
       "count           36\n",
       "unique          16\n",
       "top       S$300000\n",
       "freq             8\n",
       "Name: Cost of Renovation, dtype: object"
      ]
     },
     "execution_count": 16,
     "metadata": {},
     "output_type": "execute_result"
    }
   ],
   "source": [
    "num_feats.append('Cost of Renovation')\n",
    "raw_final_dataset['Cost of Renovation'].describe()"
   ]
  },
  {
   "cell_type": "code",
   "execution_count": 17,
   "metadata": {},
   "outputs": [
    {
     "data": {
      "text/plain": [
       "S$300000     8\n",
       "S$500000     4\n",
       "S$400000     3\n",
       "S$1000000    3\n",
       "S$0          3\n",
       "S$50000      3\n",
       "S$200000     2\n",
       "S$350000     2\n",
       "S$3800000    1\n",
       "S$150000     1\n",
       "S$250000     1\n",
       "S$100000     1\n",
       "S$750000     1\n",
       "S$1800000    1\n",
       "S$1500000    1\n",
       "S$6000000    1\n",
       "Name: Cost of Renovation, dtype: int64"
      ]
     },
     "execution_count": 17,
     "metadata": {},
     "output_type": "execute_result"
    }
   ],
   "source": [
    "raw_final_dataset['Cost of Renovation'].value_counts()"
   ]
  },
  {
   "cell_type": "markdown",
   "metadata": {},
   "source": [
    "Similarly, there are a lot of missing values here too. However, this isn't unexpected since not all properties require renovation. Hence, we'll impute `S$0.0` to replace the NaNs, strip the `S$` from each of the current values, and convert them into floats."
   ]
  },
  {
   "cell_type": "code",
   "execution_count": 18,
   "metadata": {},
   "outputs": [
    {
     "data": {
      "text/plain": [
       "0    0.0\n",
       "1    0.0\n",
       "2    0.0\n",
       "3    0.0\n",
       "4    0.0\n",
       "Name: Cost of Renovation, dtype: float64"
      ]
     },
     "execution_count": 18,
     "metadata": {},
     "output_type": "execute_result"
    }
   ],
   "source": [
    "raw_final_dataset['Cost of Renovation'] = raw_final_dataset['Cost of Renovation'].fillna('S$0').apply(lambda value: float(value[2:]))\n",
    "raw_final_dataset['Cost of Renovation'].head()"
   ]
  },
  {
   "cell_type": "markdown",
   "metadata": {},
   "source": [
    "### 4. Categorical: `District`"
   ]
  },
  {
   "cell_type": "code",
   "execution_count": 19,
   "metadata": {},
   "outputs": [
    {
     "data": {
      "text/plain": [
       "count     9691\n",
       "unique      30\n",
       "top        D19\n",
       "freq      1347\n",
       "Name: District, dtype: object"
      ]
     },
     "execution_count": 19,
     "metadata": {},
     "output_type": "execute_result"
    }
   ],
   "source": [
    "cat_feats.append('District')\n",
    "raw_final_dataset['District'].describe()"
   ]
  },
  {
   "cell_type": "code",
   "execution_count": 20,
   "metadata": {},
   "outputs": [
    {
     "data": {
      "text/plain": [
       "D19    1347\n",
       "D15     609\n",
       "D18     600\n",
       "D10     513\n",
       "D09     503\n",
       "D20     474\n",
       "D23     468\n",
       "D03     443\n",
       "D14     396\n",
       "D27     388\n",
       "D16     363\n",
       "D12     357\n",
       "D05     338\n",
       "D28     325\n",
       "D22     305\n",
       "D04     300\n",
       "D25     269\n",
       "D11     267\n",
       "D13     260\n",
       "D01     226\n",
       "D02     198\n",
       "D21     196\n",
       "D08     135\n",
       "D17     127\n",
       "D07     102\n",
       "D26      63\n",
       "D9       42\n",
       "D5       39\n",
       "D3       26\n",
       "D06      12\n",
       "Name: District, dtype: int64"
      ]
     },
     "execution_count": 20,
     "metadata": {},
     "output_type": "execute_result"
    }
   ],
   "source": [
    "raw_final_dataset['District'].value_counts()"
   ]
  },
  {
   "cell_type": "markdown",
   "metadata": {},
   "source": [
    "In contrast to the previous features, this has significantly fewer missing values. \n",
    "- However, filling in the missing values for this feature is tough because it depends completely on the exact location of the property since these \"districts\" are [designated by the Singapore Post](https://en.wikipedia.org/wiki/Postal_codes_in_Singapore). \n",
    "- Since we're not actually using this feature in the cluster analysis, it isn't too important for the Machine Learning model and we'll exclude it. However, we do need to validate whether the clusters created by our model matches these districts and so I've decided to drop the observations that are missing this value. \n",
    "- We'll still have to format the values properly though - there `D05` and `D5` are the same thing and it seems like the only district that is not represented is `D24`."
   ]
  },
  {
   "cell_type": "code",
   "execution_count": 21,
   "metadata": {},
   "outputs": [
    {
     "data": {
      "text/plain": [
       "0    D22\n",
       "1    D19\n",
       "2    D28\n",
       "3     D5\n",
       "4    D11\n",
       "Name: District, dtype: object"
      ]
     },
     "execution_count": 21,
     "metadata": {},
     "output_type": "execute_result"
    }
   ],
   "source": [
    "raw_final_dataset['District'] = raw_final_dataset['District'].apply(lambda value: 'D' + str(int(str(value)[1:])) if str(value) != 'nan' else None)\n",
    "raw_final_dataset['District'].head()"
   ]
  },
  {
   "cell_type": "code",
   "execution_count": 22,
   "metadata": {},
   "outputs": [],
   "source": [
    "# Drop observations missing this feature\n",
    "raw_final_dataset = raw_final_dataset[~raw_final_dataset['District'].isna()]"
   ]
  },
  {
   "cell_type": "markdown",
   "metadata": {},
   "source": [
    "### 5. Categorical: `Facing`"
   ]
  },
  {
   "cell_type": "code",
   "execution_count": 23,
   "metadata": {},
   "outputs": [
    {
     "data": {
      "text/plain": [
       "count            4626\n",
       "unique              9\n",
       "top       North South\n",
       "freq             1115\n",
       "Name: Facing, dtype: object"
      ]
     },
     "execution_count": 23,
     "metadata": {},
     "output_type": "execute_result"
    }
   ],
   "source": [
    "cat_feats.append('Facing')\n",
    "raw_final_dataset['Facing'].describe()"
   ]
  },
  {
   "cell_type": "code",
   "execution_count": 24,
   "metadata": {},
   "outputs": [
    {
     "data": {
      "text/plain": [
       "North South    1115\n",
       "North           985\n",
       "South           643\n",
       "North East      490\n",
       "South East      454\n",
       "East            308\n",
       "South West      273\n",
       "North West      261\n",
       "West             97\n",
       "Name: Facing, dtype: int64"
      ]
     },
     "execution_count": 24,
     "metadata": {},
     "output_type": "execute_result"
    }
   ],
   "source": [
    "raw_final_dataset['Facing'].value_counts()"
   ]
  },
  {
   "cell_type": "markdown",
   "metadata": {},
   "source": [
    "We have a reasonable amount of missing values here. We'll leave the NaNs though, and when we one-hot encode later on, we'll just set 0s for all the properties that are missing a `Facing`."
   ]
  },
  {
   "cell_type": "markdown",
   "metadata": {},
   "source": [
    "### 6. Mixed: `Floor`"
   ]
  },
  {
   "cell_type": "code",
   "execution_count": 25,
   "metadata": {},
   "outputs": [
    {
     "data": {
      "text/plain": [
       "count     765\n",
       "unique     94\n",
       "top        02\n",
       "freq      109\n",
       "Name: Floor, dtype: object"
      ]
     },
     "execution_count": 25,
     "metadata": {},
     "output_type": "execute_result"
    }
   ],
   "source": [
    "cat_feats.append('Floor')\n",
    "raw_final_dataset['Floor'].describe()"
   ]
  },
  {
   "cell_type": "code",
   "execution_count": 26,
   "metadata": {},
   "outputs": [
    {
     "data": {
      "text/plain": [
       "02    109\n",
       "04     74\n",
       "03     69\n",
       "05     54\n",
       "01     49\n",
       "06     33\n",
       "10     27\n",
       "08     26\n",
       "07     23\n",
       "11     22\n",
       "09     20\n",
       "12     19\n",
       "13     15\n",
       "19     10\n",
       "16      9\n",
       "21      9\n",
       "15      8\n",
       "14      8\n",
       "22      8\n",
       "18      8\n",
       "Name: Floor, dtype: int64"
      ]
     },
     "execution_count": 26,
     "metadata": {},
     "output_type": "execute_result"
    }
   ],
   "source": [
    "raw_final_dataset['Floor'].value_counts()[:20]"
   ]
  },
  {
   "cell_type": "markdown",
   "metadata": {},
   "source": [
    "This feature's abit tricky since we have a mix of both strings, numerics, and strings with numerics. We have to do some smart processing here. \n",
    "- First, we'll check if the value contains any numerics at all. \n",
    "    - If it is a mix of numerics and words, we'll split the string to 2 parts - only words and only numerics. We'll first look at the words to see if they match any 'key terms' in a set of floor categories we'll set, e.g. low_floor {'low', 'ground'}, mid_floor {'mid'}, high_floor {'high'}, top_floor {'penthouse', 'top'}. If nothing matches, we'll default to using the numerics.\n",
    "    - If the value does not contain any numerical information, we'll check if any words inside match the 'key terms' in our set of floor categories.\n",
    "    - If the value is purely numeric, we'll limit the number of integers to 2 (assuming that we don't go up to >100 floors) and bin them into those categories, e.g. Floors 1 to 5 are low_floor, 6 to 10 are mid_floor.\n",
    "- I do acknowledge that this imputation method does contain a lot of assumptions. Ideally, we would have the total number of floors available in each property's project to get a better gauge of whether it's a 'low' / 'mid' / 'high' / 'top' floor. But then again, the idea of these categories are also pretty subjective too. Comnparing a real estate project that contains 50 levels and one that contains 10 levels, both might be of the exact same height, making level 10 in the former to be a low floor whilst being a top floor in the latter. Hence, this is really the best we could do now unless we really want to dig into each property's dimensions and specific details later on.\n",
    "- Also, there will still be missing values after this, but I'll deal with them later after we've finished going through each feature we're working with."
   ]
  },
  {
   "cell_type": "code",
   "execution_count": 27,
   "metadata": {},
   "outputs": [],
   "source": [
    "# Dictionary of all the terms associated with each bin\n",
    "BIN_TERMS =  {\n",
    "    'low': {'low', 'ground'},\n",
    "    'mid': {'mid'},\n",
    "    'high': {'high'},\n",
    "    'top': {'top', 'penthouse'}\n",
    "}\n",
    "\n",
    "def clean_floors(value, bin_terms):\n",
    "    \"\"\"\n",
    "    Purpose:\n",
    "    --------\n",
    "    Bins value into 1 of 4 categories, either `low_floor`, `mid_floor`, `high_floor`, or `top_floor`\n",
    "    \n",
    "    Parameters:\n",
    "    -----------\n",
    "    value: (str) A single value from the Pandas Series of floors\n",
    "    \n",
    "    Returns:\n",
    "    --------\n",
    "    Either `low_floor`, `mid_floor`, `high_floor`, or `top_floor`\n",
    "    \"\"\"\n",
    "    def category(value, bin_terms):\n",
    "        \"\"\"\n",
    "        Purpose:\n",
    "        --------\n",
    "        Checks if any term in value matches the \n",
    "        key terms for our floor bins\n",
    "\n",
    "        Parameters:\n",
    "        -----------\n",
    "        value: (str) A single value from the Pandas Series of floors\n",
    "        bin_terms: (dict) Dictionary of key: bin_names and value: (set) of key terms\n",
    "\n",
    "        Returns:\n",
    "        --------\n",
    "        key of the bin_terms if any word in value matches the key \n",
    "        terms in the key terms of the bins\n",
    "        \"\"\"\n",
    "        letters_and_special_chars = []\n",
    "        numbers = []\n",
    "        for char in value.lower():\n",
    "            if char.isdigit():\n",
    "                numbers.append(char)\n",
    "            elif char != ' ':\n",
    "                letters_and_special_chars.append(char)\n",
    "\n",
    "        only_words = ''.join(letters_and_special_chars)\n",
    "\n",
    "        for key, terms in bin_terms.items():\n",
    "            for term in terms:\n",
    "                if term in only_words:\n",
    "                    return key\n",
    "        else:\n",
    "            return None\n",
    "        \n",
    "    def get_bin(number: int):\n",
    "        \"\"\"\n",
    "        Purpose:\n",
    "        --------\n",
    "        Returns which floor bin category the number belongs to\n",
    "        \n",
    "        Parameters:\n",
    "        -----------\n",
    "        number: (int)\n",
    "        \n",
    "        Returns:\n",
    "        --------\n",
    "        Returns which floor bin category the number belongs to\n",
    "        \"\"\"\n",
    "        if number < 6:\n",
    "            return 'low'\n",
    "        elif number >= 6 and number < 11:\n",
    "            return 'mid'\n",
    "        elif number >= 11 and number < 21:\n",
    "            return 'high'\n",
    "        else:\n",
    "            return 'top'\n",
    "        \n",
    "    # Return None if value is None\n",
    "    if value == None:\n",
    "        return None\n",
    "        \n",
    "    # Check if category already exists in the value given\n",
    "    cat = category(value, bin_terms)\n",
    "    \n",
    "    # Return the category if it's identified\n",
    "    if cat:\n",
    "        return cat\n",
    "    # Check if \n",
    "    else:\n",
    "        # Split on all the spaces so that we can \n",
    "        # handle things like the list of floors 7 8 9 10 11 12\n",
    "        value_list = value.split()\n",
    "\n",
    "        # Check if any are numeric\n",
    "        for val in value_list:\n",
    "            if val.strip().isdigit():\n",
    "                return get_bin(int(val.strip()))"
   ]
  },
  {
   "cell_type": "code",
   "execution_count": 28,
   "metadata": {},
   "outputs": [
    {
     "data": {
      "text/plain": [
       "0    None\n",
       "1    None\n",
       "2    None\n",
       "3    None\n",
       "4     low\n",
       "Name: Floor, dtype: object"
      ]
     },
     "execution_count": 28,
     "metadata": {},
     "output_type": "execute_result"
    }
   ],
   "source": [
    "raw_final_dataset['Floor'] = raw_final_dataset['Floor'].apply(lambda value: clean_floors(str(value), BIN_TERMS))\n",
    "raw_final_dataset['Floor'].head()"
   ]
  },
  {
   "cell_type": "markdown",
   "metadata": {},
   "source": [
    "### 7. Categorical: `Furnishing`"
   ]
  },
  {
   "cell_type": "code",
   "execution_count": 29,
   "metadata": {},
   "outputs": [
    {
     "data": {
      "text/plain": [
       "count                    1347\n",
       "unique                      4\n",
       "top       Partially Furnished\n",
       "freq                      852\n",
       "Name: Furnishing, dtype: object"
      ]
     },
     "execution_count": 29,
     "metadata": {},
     "output_type": "execute_result"
    }
   ],
   "source": [
    "cat_feats.append('Furnishing')\n",
    "raw_final_dataset['Furnishing'].describe()"
   ]
  },
  {
   "cell_type": "code",
   "execution_count": 30,
   "metadata": {},
   "outputs": [
    {
     "data": {
      "text/plain": [
       "Partially Furnished    852\n",
       "Unfurnished            268\n",
       "Fully Furnished        223\n",
       "Unknown                  4\n",
       "Name: Furnishing, dtype: int64"
      ]
     },
     "execution_count": 30,
     "metadata": {},
     "output_type": "execute_result"
    }
   ],
   "source": [
    "raw_final_dataset['Furnishing'].value_counts()"
   ]
  },
  {
   "cell_type": "markdown",
   "metadata": {},
   "source": [
    "Quite a number of missing data here. I'll make a wild assumption here that most houses that are on sale are currently occupied and so is furnished. However, once the deal closes, most of the existing furniture will be moved out in normal cases - hence, I'll impute missing values as `Partially Furnished`. Furthermore, it's also the most frequent category here."
   ]
  },
  {
   "cell_type": "code",
   "execution_count": 31,
   "metadata": {},
   "outputs": [
    {
     "data": {
      "text/plain": [
       "0    Partially Furnished\n",
       "1    Partially Furnished\n",
       "2        Fully Furnished\n",
       "3    Partially Furnished\n",
       "4        Fully Furnished\n",
       "Name: Furnishing, dtype: object"
      ]
     },
     "execution_count": 31,
     "metadata": {},
     "output_type": "execute_result"
    }
   ],
   "source": [
    "raw_final_dataset['Furnishing'] = raw_final_dataset['Furnishing'].fillna(raw_final_dataset['Furnishing'].mode()[0])\n",
    "raw_final_dataset['Furnishing'].head()"
   ]
  },
  {
   "cell_type": "markdown",
   "metadata": {},
   "source": [
    "### 8. Categorical: `Landed House Area Zoning`"
   ]
  },
  {
   "cell_type": "code",
   "execution_count": 32,
   "metadata": {},
   "outputs": [
    {
     "data": {
      "text/plain": [
       "count                       657\n",
       "unique                        9\n",
       "top       3 Storey Mixed Landed\n",
       "freq                        217\n",
       "Name: Landed House Area Zoning, dtype: object"
      ]
     },
     "execution_count": 32,
     "metadata": {},
     "output_type": "execute_result"
    }
   ],
   "source": [
    "cat_feats.append('Landed House Area Zoning')\n",
    "raw_final_dataset['Landed House Area Zoning'].describe()"
   ]
  },
  {
   "cell_type": "code",
   "execution_count": 33,
   "metadata": {},
   "outputs": [
    {
     "data": {
      "text/plain": [
       "3 Storey Mixed Landed         217\n",
       "Others                        151\n",
       "2 Storey Mixed Landed          82\n",
       "3 Storey Semi D                56\n",
       "2 Storey Semi D                45\n",
       "Not in Landed Housing Area     41\n",
       "2 Storey Bungalow              35\n",
       "3 Storey Bungalow              22\n",
       "GCBA                            8\n",
       "Name: Landed House Area Zoning, dtype: int64"
      ]
     },
     "execution_count": 33,
     "metadata": {},
     "output_type": "execute_result"
    }
   ],
   "source": [
    "raw_final_dataset['Landed House Area Zoning'].value_counts()"
   ]
  },
  {
   "cell_type": "markdown",
   "metadata": {},
   "source": [
    "The large number of missing data here is not unexpected since it only applies for landed properties. We'll set all the missing values to `Not Applicable`."
   ]
  },
  {
   "cell_type": "code",
   "execution_count": 34,
   "metadata": {},
   "outputs": [
    {
     "data": {
      "text/plain": [
       "0    Not Applicable\n",
       "1    Not Applicable\n",
       "2    Not Applicable\n",
       "3    Not Applicable\n",
       "4    Not Applicable\n",
       "Name: Landed House Area Zoning, dtype: object"
      ]
     },
     "execution_count": 34,
     "metadata": {},
     "output_type": "execute_result"
    }
   ],
   "source": [
    "raw_final_dataset['Landed House Area Zoning'] = raw_final_dataset['Landed House Area Zoning'].fillna('Not Applicable')\n",
    "raw_final_dataset['Landed House Area Zoning'].head()"
   ]
  },
  {
   "cell_type": "markdown",
   "metadata": {},
   "source": [
    "### 9. Date: `Last Renovated Date`"
   ]
  },
  {
   "cell_type": "code",
   "execution_count": 35,
   "metadata": {},
   "outputs": [
    {
     "data": {
      "text/plain": [
       "count              72\n",
       "unique             63\n",
       "top       19 Apr 2012\n",
       "freq                7\n",
       "Name: Last Renovated Date, dtype: object"
      ]
     },
     "execution_count": 35,
     "metadata": {},
     "output_type": "execute_result"
    }
   ],
   "source": [
    "num_feats.append('months_since_last_renovation')\n",
    "raw_final_dataset['Last Renovated Date'].describe()"
   ]
  },
  {
   "cell_type": "code",
   "execution_count": 36,
   "metadata": {},
   "outputs": [
    {
     "data": {
      "text/plain": [
       "19 Apr 2012    7\n",
       "01 Jan 2016    3\n",
       "27 Oct 2018    2\n",
       "01 Mar 2012    1\n",
       "31 Aug 2017    1\n",
       "05 Jan 1998    1\n",
       "06 Jun 2012    1\n",
       "01 Jan 2009    1\n",
       "06 Dec 2018    1\n",
       "28 Nov 2018    1\n",
       "08 Dec 2013    1\n",
       "01 Jun 2015    1\n",
       "17 Mar 2009    1\n",
       "01 Jan 2022    1\n",
       "01 Jun 2017    1\n",
       "06 Jun 2006    1\n",
       "07 Aug 1990    1\n",
       "05 Nov 2011    1\n",
       "02 Sep 2012    1\n",
       "24 Apr 2019    1\n",
       "Name: Last Renovated Date, dtype: int64"
      ]
     },
     "execution_count": 36,
     "metadata": {},
     "output_type": "execute_result"
    }
   ],
   "source": [
    "raw_final_dataset['Last Renovated Date'].value_counts()[:20]"
   ]
  },
  {
   "cell_type": "markdown",
   "metadata": {},
   "source": [
    "Since this column contains dates and mostly nans, we'll convert this feature into one called `months_since_last_renovation`. We'll impute `0` months for the missing values."
   ]
  },
  {
   "cell_type": "code",
   "execution_count": 37,
   "metadata": {},
   "outputs": [],
   "source": [
    "def clean_last_renovated_date(value):\n",
    "    \"\"\"\n",
    "    Purpose:\n",
    "    --------\n",
    "    Return the number of months since renovation from today's date\n",
    "    \n",
    "    Parameters:\n",
    "    -----------\n",
    "    value: (str) A date in this format - '%d %b %Y'\n",
    "    \n",
    "    Returns:\n",
    "    --------\n",
    "    Return the number of months since renovation from today's date\n",
    "    \"\"\"\n",
    "    if str(value) == 'nan':\n",
    "        return 0\n",
    "    else:\n",
    "        datetime_obj = datetime.strptime(str(value), '%d %b %Y')\n",
    "        diff = relativedelta.relativedelta(date.today(), datetime_obj)\n",
    "        return diff.years * 12 + diff.months"
   ]
  },
  {
   "cell_type": "code",
   "execution_count": 38,
   "metadata": {},
   "outputs": [
    {
     "data": {
      "text/plain": [
       "0    0\n",
       "1    0\n",
       "2    0\n",
       "3    0\n",
       "4    0\n",
       "Name: months_since_last_renovation, dtype: int64"
      ]
     },
     "execution_count": 38,
     "metadata": {},
     "output_type": "execute_result"
    }
   ],
   "source": [
    "raw_final_dataset['months_since_last_renovation'] = raw_final_dataset['Last Renovated Date'].apply(lambda value: clean_last_renovated_date(value)).fillna(0)\n",
    "raw_final_dataset.drop('Last Renovated Date', axis=1, inplace=True)\n",
    "raw_final_dataset['months_since_last_renovation'].head()"
   ]
  },
  {
   "cell_type": "markdown",
   "metadata": {},
   "source": [
    "### 10. Categorical: `Re-wiring/Structural Renovation`"
   ]
  },
  {
   "cell_type": "code",
   "execution_count": 39,
   "metadata": {},
   "outputs": [
    {
     "data": {
      "text/plain": [
       "count     159\n",
       "unique      2\n",
       "top       Yes\n",
       "freq       83\n",
       "Name: Re-wiring/Structural Renovation, dtype: object"
      ]
     },
     "execution_count": 39,
     "metadata": {},
     "output_type": "execute_result"
    }
   ],
   "source": [
    "cat_feats.append('Re-wiring/Structural Renovation')\n",
    "raw_final_dataset['Re-wiring/Structural Renovation'].describe()"
   ]
  },
  {
   "cell_type": "code",
   "execution_count": 40,
   "metadata": {},
   "outputs": [
    {
     "data": {
      "text/plain": [
       "Yes    83\n",
       "No     76\n",
       "Name: Re-wiring/Structural Renovation, dtype: int64"
      ]
     },
     "execution_count": 40,
     "metadata": {},
     "output_type": "execute_result"
    }
   ],
   "source": [
    "raw_final_dataset['Re-wiring/Structural Renovation'].value_counts()"
   ]
  },
  {
   "cell_type": "markdown",
   "metadata": {},
   "source": [
    "There are alot of missing values here. I'll make another assumption here that if no information was given about `Re-wiring/Structural Renovation`, it should be a `No`, so that's what we'll impute for missing values."
   ]
  },
  {
   "cell_type": "code",
   "execution_count": 41,
   "metadata": {},
   "outputs": [
    {
     "data": {
      "text/plain": [
       "0    No\n",
       "1    No\n",
       "2    No\n",
       "3    No\n",
       "4    No\n",
       "Name: Re-wiring/Structural Renovation, dtype: object"
      ]
     },
     "execution_count": 41,
     "metadata": {},
     "output_type": "execute_result"
    }
   ],
   "source": [
    "raw_final_dataset['Re-wiring/Structural Renovation'] = raw_final_dataset['Re-wiring/Structural Renovation'].fillna('No')\n",
    "raw_final_dataset['Re-wiring/Structural Renovation'].head()"
   ]
  },
  {
   "cell_type": "markdown",
   "metadata": {},
   "source": [
    "### 11. Numeric, Continuous: `Tenancy Current Rent`"
   ]
  },
  {
   "cell_type": "code",
   "execution_count": 42,
   "metadata": {},
   "outputs": [
    {
     "data": {
      "text/plain": [
       "count        518\n",
       "unique       108\n",
       "top       S$2000\n",
       "freq          28\n",
       "Name: Tenancy Current Rent, dtype: object"
      ]
     },
     "execution_count": 42,
     "metadata": {},
     "output_type": "execute_result"
    }
   ],
   "source": [
    "raw_final_dataset['Tenancy Current Rent'].describe()"
   ]
  },
  {
   "cell_type": "code",
   "execution_count": 43,
   "metadata": {},
   "outputs": [
    {
     "data": {
      "text/plain": [
       "S$2000    28\n",
       "S$3000    25\n",
       "S$2200    20\n",
       "S$0       18\n",
       "S$3200    17\n",
       "S$2100    17\n",
       "S$4000    17\n",
       "S$3800    16\n",
       "S$2500    15\n",
       "S$1800    15\n",
       "S$2300    13\n",
       "S$1850    12\n",
       "S$2800    12\n",
       "S$1900    12\n",
       "S$3300    11\n",
       "S$2600    11\n",
       "S$3600    10\n",
       "S$3500     9\n",
       "S$4750     9\n",
       "S$2700     9\n",
       "Name: Tenancy Current Rent, dtype: int64"
      ]
     },
     "execution_count": 43,
     "metadata": {},
     "output_type": "execute_result"
    }
   ],
   "source": [
    "raw_final_dataset['Tenancy Current Rent'].value_counts()[:20]"
   ]
  },
  {
   "cell_type": "markdown",
   "metadata": {},
   "source": [
    "Since this encodes some information about the price of the house - the higher the rent, the higher the sale price of property, we'll exclude it from our final dataset."
   ]
  },
  {
   "cell_type": "code",
   "execution_count": 44,
   "metadata": {},
   "outputs": [],
   "source": [
    "raw_final_dataset.drop('Tenancy Current Rent', axis=1, inplace=True)"
   ]
  },
  {
   "cell_type": "markdown",
   "metadata": {},
   "source": [
    "### 12. Date: `Tenancy Lease Expiry`"
   ]
  },
  {
   "cell_type": "code",
   "execution_count": 45,
   "metadata": {},
   "outputs": [
    {
     "data": {
      "text/plain": [
       "count             963\n",
       "unique            467\n",
       "top       31 Dec 2019\n",
       "freq               23\n",
       "Name: Tenancy Lease Expiry, dtype: object"
      ]
     },
     "execution_count": 45,
     "metadata": {},
     "output_type": "execute_result"
    }
   ],
   "source": [
    "num_feats.append('months_before_tenancy_lease_expiry')\n",
    "raw_final_dataset['Tenancy Lease Expiry'].describe()"
   ]
  },
  {
   "cell_type": "code",
   "execution_count": 46,
   "metadata": {},
   "outputs": [
    {
     "data": {
      "text/plain": [
       "31 Dec 2019    23\n",
       "30 Nov 2019    19\n",
       "30 Sep 2019    18\n",
       "30 Jun 2019    17\n",
       "30 Apr 2020    17\n",
       "31 Jul 2019    16\n",
       "31 May 2019    13\n",
       "31 Jan 2019    12\n",
       "31 Jan 2020    12\n",
       "31 Oct 2019    11\n",
       "31 Aug 2019    11\n",
       "01 Feb 2020    10\n",
       "01 Jul 2019    10\n",
       "31 Mar 2020     9\n",
       "01 Oct 2019     9\n",
       "30 Apr 2019     8\n",
       "30 Jun 2020     8\n",
       "31 May 2020     7\n",
       "01 Aug 2019     7\n",
       "01 Jan 2020     6\n",
       "Name: Tenancy Lease Expiry, dtype: int64"
      ]
     },
     "execution_count": 46,
     "metadata": {},
     "output_type": "execute_result"
    }
   ],
   "source": [
    "raw_final_dataset['Tenancy Lease Expiry'].value_counts()[:20]"
   ]
  },
  {
   "cell_type": "markdown",
   "metadata": {},
   "source": [
    "Similar to what we encountered with `Last Renovated Date`, we'll convert this feature to `months_before_tenancy_lease_expiry` and impute all missing values with `0` months."
   ]
  },
  {
   "cell_type": "code",
   "execution_count": 47,
   "metadata": {},
   "outputs": [],
   "source": [
    "def clean_tenancy_lease_expiry(value):\n",
    "    \"\"\"\n",
    "    Purpose:\n",
    "    --------\n",
    "    Return the number of months before tenancy lease expires from today's date\n",
    "    \n",
    "    Parameters:\n",
    "    -----------\n",
    "    value: (str) A date in this format - '%d %b %Y'\n",
    "    \n",
    "    Returns:\n",
    "    --------\n",
    "    Return the number of months before tenancy lease expires from today's date\n",
    "    \"\"\"\n",
    "    if str(value) == 'nan':\n",
    "        return 0\n",
    "    else:\n",
    "        datetime_obj = datetime.strptime(str(value), '%d %b %Y')\n",
    "        diff = relativedelta.relativedelta(date.today(), datetime_obj)\n",
    "        return diff.years * 12 + diff.months"
   ]
  },
  {
   "cell_type": "code",
   "execution_count": 48,
   "metadata": {},
   "outputs": [
    {
     "data": {
      "text/plain": [
       "0    0\n",
       "1    0\n",
       "2    0\n",
       "3    0\n",
       "4    5\n",
       "Name: months_before_tenancy_lease_expiry, dtype: int64"
      ]
     },
     "execution_count": 48,
     "metadata": {},
     "output_type": "execute_result"
    }
   ],
   "source": [
    "raw_final_dataset['months_before_tenancy_lease_expiry'] = raw_final_dataset['Tenancy Lease Expiry'].apply(lambda value: clean_tenancy_lease_expiry(value)).fillna(0)\n",
    "raw_final_dataset.drop('Tenancy Lease Expiry', axis=1, inplace=True)\n",
    "raw_final_dataset['months_before_tenancy_lease_expiry'].head()"
   ]
  },
  {
   "cell_type": "markdown",
   "metadata": {},
   "source": [
    "### 13. Binary Features\n",
    "- `atm_nearby`, `park_nearby`, `post_box_nearby`, `post_office_nearby`"
   ]
  },
  {
   "cell_type": "code",
   "execution_count": 49,
   "metadata": {},
   "outputs": [
    {
     "name": "stdout",
     "output_type": "stream",
     "text": [
      "1    7888\n",
      "0    1803\n",
      "Name: atm_nearby, dtype: int64\n",
      "0    6575\n",
      "1    3116\n",
      "Name: park_nearby, dtype: int64\n",
      "1    7859\n",
      "0    1832\n",
      "Name: post_box_nearby, dtype: int64\n",
      "0    5003\n",
      "1    4688\n",
      "Name: post_office_nearby, dtype: int64\n"
     ]
    }
   ],
   "source": [
    "for feat in ['atm_nearby', 'park_nearby', 'post_box_nearby', 'post_office_nearby']:\n",
    "    print(raw_final_dataset[feat].value_counts())"
   ]
  },
  {
   "cell_type": "markdown",
   "metadata": {},
   "source": [
    "Since we already handled the imputations manually previously in the [Data Understanding](#data-understanding) section, we'll skip this."
   ]
  },
  {
   "cell_type": "markdown",
   "metadata": {},
   "source": [
    "### 14. Numeric, Continuous: Walking Duration\n",
    "- `average_walking_duration_to_bus_station`, `average_walking_duration_to_clinic`"
   ]
  },
  {
   "cell_type": "code",
   "execution_count": 50,
   "metadata": {},
   "outputs": [
    {
     "data": {
      "text/html": [
       "<div>\n",
       "<style scoped>\n",
       "    .dataframe tbody tr th:only-of-type {\n",
       "        vertical-align: middle;\n",
       "    }\n",
       "\n",
       "    .dataframe tbody tr th {\n",
       "        vertical-align: top;\n",
       "    }\n",
       "\n",
       "    .dataframe thead th {\n",
       "        text-align: right;\n",
       "    }\n",
       "</style>\n",
       "<table border=\"1\" class=\"dataframe\">\n",
       "  <thead>\n",
       "    <tr style=\"text-align: right;\">\n",
       "      <th></th>\n",
       "      <th>average_walking_duration_to_bus_station</th>\n",
       "      <th>average_walking_duration_to_clinic</th>\n",
       "    </tr>\n",
       "  </thead>\n",
       "  <tbody>\n",
       "    <tr>\n",
       "      <th>count</th>\n",
       "      <td>7824.000000</td>\n",
       "      <td>7291.000000</td>\n",
       "    </tr>\n",
       "    <tr>\n",
       "      <th>mean</th>\n",
       "      <td>4.669765</td>\n",
       "      <td>4.976816</td>\n",
       "    </tr>\n",
       "    <tr>\n",
       "      <th>std</th>\n",
       "      <td>0.842013</td>\n",
       "      <td>1.531873</td>\n",
       "    </tr>\n",
       "    <tr>\n",
       "      <th>min</th>\n",
       "      <td>2.500000</td>\n",
       "      <td>0.000000</td>\n",
       "    </tr>\n",
       "    <tr>\n",
       "      <th>25%</th>\n",
       "      <td>4.000000</td>\n",
       "      <td>4.000000</td>\n",
       "    </tr>\n",
       "    <tr>\n",
       "      <th>50%</th>\n",
       "      <td>4.600000</td>\n",
       "      <td>5.000000</td>\n",
       "    </tr>\n",
       "    <tr>\n",
       "      <th>75%</th>\n",
       "      <td>5.200000</td>\n",
       "      <td>6.000000</td>\n",
       "    </tr>\n",
       "    <tr>\n",
       "      <th>max</th>\n",
       "      <td>9.000000</td>\n",
       "      <td>11.000000</td>\n",
       "    </tr>\n",
       "  </tbody>\n",
       "</table>\n",
       "</div>"
      ],
      "text/plain": [
       "       average_walking_duration_to_bus_station  \\\n",
       "count                              7824.000000   \n",
       "mean                                  4.669765   \n",
       "std                                   0.842013   \n",
       "min                                   2.500000   \n",
       "25%                                   4.000000   \n",
       "50%                                   4.600000   \n",
       "75%                                   5.200000   \n",
       "max                                   9.000000   \n",
       "\n",
       "       average_walking_duration_to_clinic  \n",
       "count                         7291.000000  \n",
       "mean                             4.976816  \n",
       "std                              1.531873  \n",
       "min                              0.000000  \n",
       "25%                              4.000000  \n",
       "50%                              5.000000  \n",
       "75%                              6.000000  \n",
       "max                             11.000000  "
      ]
     },
     "execution_count": 50,
     "metadata": {},
     "output_type": "execute_result"
    }
   ],
   "source": [
    "raw_final_dataset[['average_walking_duration_to_bus_station', 'average_walking_duration_to_clinic']].describe()"
   ]
  },
  {
   "cell_type": "markdown",
   "metadata": {},
   "source": [
    "We said earlier in the [Data Understanding](#data-understanding) section that we'll impute the missing values for this with the max or something similar. I've decided to impute `2 * max` for the missing values."
   ]
  },
  {
   "cell_type": "code",
   "execution_count": 51,
   "metadata": {},
   "outputs": [],
   "source": [
    "fill_2max = lambda col: col.fillna(col.max() * 2) # Max function\n",
    "raw_final_dataset[['average_walking_duration_to_bus_station', \n",
    "                   'average_walking_duration_to_clinic']] = raw_final_dataset[['average_walking_duration_to_bus_station', \n",
    "                                                                               'average_walking_duration_to_clinic']].apply(fill_2max, axis=0) # Fill all missing values with the 2*max of the column."
   ]
  },
  {
   "cell_type": "code",
   "execution_count": 52,
   "metadata": {},
   "outputs": [
    {
     "data": {
      "text/html": [
       "<div>\n",
       "<style scoped>\n",
       "    .dataframe tbody tr th:only-of-type {\n",
       "        vertical-align: middle;\n",
       "    }\n",
       "\n",
       "    .dataframe tbody tr th {\n",
       "        vertical-align: top;\n",
       "    }\n",
       "\n",
       "    .dataframe thead th {\n",
       "        text-align: right;\n",
       "    }\n",
       "</style>\n",
       "<table border=\"1\" class=\"dataframe\">\n",
       "  <thead>\n",
       "    <tr style=\"text-align: right;\">\n",
       "      <th></th>\n",
       "      <th>average_walking_duration_to_bus_station</th>\n",
       "      <th>average_walking_duration_to_clinic</th>\n",
       "    </tr>\n",
       "  </thead>\n",
       "  <tbody>\n",
       "    <tr>\n",
       "      <th>count</th>\n",
       "      <td>9691.000000</td>\n",
       "      <td>9691.000000</td>\n",
       "    </tr>\n",
       "    <tr>\n",
       "      <th>mean</th>\n",
       "      <td>7.237874</td>\n",
       "      <td>9.192650</td>\n",
       "    </tr>\n",
       "    <tr>\n",
       "      <th>std</th>\n",
       "      <td>5.311643</td>\n",
       "      <td>7.467573</td>\n",
       "    </tr>\n",
       "    <tr>\n",
       "      <th>min</th>\n",
       "      <td>2.500000</td>\n",
       "      <td>0.000000</td>\n",
       "    </tr>\n",
       "    <tr>\n",
       "      <th>25%</th>\n",
       "      <td>4.200000</td>\n",
       "      <td>4.400000</td>\n",
       "    </tr>\n",
       "    <tr>\n",
       "      <th>50%</th>\n",
       "      <td>4.888889</td>\n",
       "      <td>5.500000</td>\n",
       "    </tr>\n",
       "    <tr>\n",
       "      <th>75%</th>\n",
       "      <td>6.000000</td>\n",
       "      <td>11.000000</td>\n",
       "    </tr>\n",
       "    <tr>\n",
       "      <th>max</th>\n",
       "      <td>18.000000</td>\n",
       "      <td>22.000000</td>\n",
       "    </tr>\n",
       "  </tbody>\n",
       "</table>\n",
       "</div>"
      ],
      "text/plain": [
       "       average_walking_duration_to_bus_station  \\\n",
       "count                              9691.000000   \n",
       "mean                                  7.237874   \n",
       "std                                   5.311643   \n",
       "min                                   2.500000   \n",
       "25%                                   4.200000   \n",
       "50%                                   4.888889   \n",
       "75%                                   6.000000   \n",
       "max                                  18.000000   \n",
       "\n",
       "       average_walking_duration_to_clinic  \n",
       "count                         9691.000000  \n",
       "mean                             9.192650  \n",
       "std                              7.467573  \n",
       "min                              0.000000  \n",
       "25%                              4.400000  \n",
       "50%                              5.500000  \n",
       "75%                             11.000000  \n",
       "max                             22.000000  "
      ]
     },
     "execution_count": 52,
     "metadata": {},
     "output_type": "execute_result"
    }
   ],
   "source": [
    "raw_final_dataset[['average_walking_duration_to_bus_station', \n",
    "                   'average_walking_duration_to_clinic']].describe()"
   ]
  },
  {
   "cell_type": "markdown",
   "metadata": {},
   "source": [
    "### 15. Transit Duration\n",
    "- `average_transit_duration_to_subway`, `average_transit_duration_to_supermarket`, `transit_duration_to_changi_airport`, `transit_duration_to_orchard_road`, `transit_duration_to_raffles_place`"
   ]
  },
  {
   "cell_type": "code",
   "execution_count": 53,
   "metadata": {},
   "outputs": [
    {
     "data": {
      "text/html": [
       "<div>\n",
       "<style scoped>\n",
       "    .dataframe tbody tr th:only-of-type {\n",
       "        vertical-align: middle;\n",
       "    }\n",
       "\n",
       "    .dataframe tbody tr th {\n",
       "        vertical-align: top;\n",
       "    }\n",
       "\n",
       "    .dataframe thead th {\n",
       "        text-align: right;\n",
       "    }\n",
       "</style>\n",
       "<table border=\"1\" class=\"dataframe\">\n",
       "  <thead>\n",
       "    <tr style=\"text-align: right;\">\n",
       "      <th></th>\n",
       "      <th>average_transit_duration_to_subway</th>\n",
       "      <th>average_transit_duration_to_supermarket</th>\n",
       "      <th>transit_duration_to_changi_airport</th>\n",
       "      <th>transit_duration_to_orchard_road</th>\n",
       "      <th>transit_duration_to_raffles_place</th>\n",
       "    </tr>\n",
       "  </thead>\n",
       "  <tbody>\n",
       "    <tr>\n",
       "      <th>count</th>\n",
       "      <td>4812.000000</td>\n",
       "      <td>6919.000000</td>\n",
       "      <td>9458.000000</td>\n",
       "      <td>9460.000000</td>\n",
       "      <td>9459.000000</td>\n",
       "    </tr>\n",
       "    <tr>\n",
       "      <th>mean</th>\n",
       "      <td>13.390815</td>\n",
       "      <td>15.238208</td>\n",
       "      <td>57.246775</td>\n",
       "      <td>33.547357</td>\n",
       "      <td>33.200761</td>\n",
       "    </tr>\n",
       "    <tr>\n",
       "      <th>std</th>\n",
       "      <td>3.614721</td>\n",
       "      <td>3.837699</td>\n",
       "      <td>15.087129</td>\n",
       "      <td>11.813497</td>\n",
       "      <td>11.998043</td>\n",
       "    </tr>\n",
       "    <tr>\n",
       "      <th>min</th>\n",
       "      <td>7.000000</td>\n",
       "      <td>8.000000</td>\n",
       "      <td>22.000000</td>\n",
       "      <td>2.000000</td>\n",
       "      <td>5.000000</td>\n",
       "    </tr>\n",
       "    <tr>\n",
       "      <th>25%</th>\n",
       "      <td>11.000000</td>\n",
       "      <td>13.000000</td>\n",
       "      <td>47.000000</td>\n",
       "      <td>24.000000</td>\n",
       "      <td>24.000000</td>\n",
       "    </tr>\n",
       "    <tr>\n",
       "      <th>50%</th>\n",
       "      <td>13.000000</td>\n",
       "      <td>15.000000</td>\n",
       "      <td>57.000000</td>\n",
       "      <td>34.000000</td>\n",
       "      <td>34.000000</td>\n",
       "    </tr>\n",
       "    <tr>\n",
       "      <th>75%</th>\n",
       "      <td>15.000000</td>\n",
       "      <td>17.000000</td>\n",
       "      <td>66.000000</td>\n",
       "      <td>43.000000</td>\n",
       "      <td>42.000000</td>\n",
       "    </tr>\n",
       "    <tr>\n",
       "      <th>max</th>\n",
       "      <td>32.000000</td>\n",
       "      <td>86.000000</td>\n",
       "      <td>107.000000</td>\n",
       "      <td>71.000000</td>\n",
       "      <td>68.000000</td>\n",
       "    </tr>\n",
       "  </tbody>\n",
       "</table>\n",
       "</div>"
      ],
      "text/plain": [
       "       average_transit_duration_to_subway  \\\n",
       "count                         4812.000000   \n",
       "mean                            13.390815   \n",
       "std                              3.614721   \n",
       "min                              7.000000   \n",
       "25%                             11.000000   \n",
       "50%                             13.000000   \n",
       "75%                             15.000000   \n",
       "max                             32.000000   \n",
       "\n",
       "       average_transit_duration_to_supermarket  \\\n",
       "count                              6919.000000   \n",
       "mean                                 15.238208   \n",
       "std                                   3.837699   \n",
       "min                                   8.000000   \n",
       "25%                                  13.000000   \n",
       "50%                                  15.000000   \n",
       "75%                                  17.000000   \n",
       "max                                  86.000000   \n",
       "\n",
       "       transit_duration_to_changi_airport  transit_duration_to_orchard_road  \\\n",
       "count                         9458.000000                       9460.000000   \n",
       "mean                            57.246775                         33.547357   \n",
       "std                             15.087129                         11.813497   \n",
       "min                             22.000000                          2.000000   \n",
       "25%                             47.000000                         24.000000   \n",
       "50%                             57.000000                         34.000000   \n",
       "75%                             66.000000                         43.000000   \n",
       "max                            107.000000                         71.000000   \n",
       "\n",
       "       transit_duration_to_raffles_place  \n",
       "count                        9459.000000  \n",
       "mean                           33.200761  \n",
       "std                            11.998043  \n",
       "min                             5.000000  \n",
       "25%                            24.000000  \n",
       "50%                            34.000000  \n",
       "75%                            42.000000  \n",
       "max                            68.000000  "
      ]
     },
     "execution_count": 53,
     "metadata": {},
     "output_type": "execute_result"
    }
   ],
   "source": [
    "raw_final_dataset[['average_transit_duration_to_subway', \n",
    "                   'average_transit_duration_to_supermarket', \n",
    "                   'transit_duration_to_changi_airport', \n",
    "                   'transit_duration_to_orchard_road', \n",
    "                   'transit_duration_to_raffles_place']].describe()"
   ]
  },
  {
   "cell_type": "markdown",
   "metadata": {},
   "source": [
    "Again, we will do the same thing as before and impute `2*max` for missing values."
   ]
  },
  {
   "cell_type": "code",
   "execution_count": 54,
   "metadata": {},
   "outputs": [],
   "source": [
    "raw_final_dataset[['average_transit_duration_to_subway', \n",
    "                   'average_transit_duration_to_supermarket', \n",
    "                   'transit_duration_to_changi_airport', \n",
    "                   'transit_duration_to_orchard_road', \n",
    "                   'transit_duration_to_raffles_place']] = raw_final_dataset[['average_transit_duration_to_subway',\n",
    "                                                                              'average_transit_duration_to_supermarket', \n",
    "                                                                              'transit_duration_to_changi_airport', \n",
    "                                                                              'transit_duration_to_orchard_road', \n",
    "                                                                              'transit_duration_to_raffles_place']].apply(fill_2max, axis=0) # Fill all missing values with the 2*max of the column."
   ]
  },
  {
   "cell_type": "code",
   "execution_count": 55,
   "metadata": {},
   "outputs": [
    {
     "data": {
      "text/html": [
       "<div>\n",
       "<style scoped>\n",
       "    .dataframe tbody tr th:only-of-type {\n",
       "        vertical-align: middle;\n",
       "    }\n",
       "\n",
       "    .dataframe tbody tr th {\n",
       "        vertical-align: top;\n",
       "    }\n",
       "\n",
       "    .dataframe thead th {\n",
       "        text-align: right;\n",
       "    }\n",
       "</style>\n",
       "<table border=\"1\" class=\"dataframe\">\n",
       "  <thead>\n",
       "    <tr style=\"text-align: right;\">\n",
       "      <th></th>\n",
       "      <th>average_transit_duration_to_subway</th>\n",
       "      <th>average_transit_duration_to_supermarket</th>\n",
       "      <th>transit_duration_to_changi_airport</th>\n",
       "      <th>transit_duration_to_orchard_road</th>\n",
       "      <th>transit_duration_to_raffles_place</th>\n",
       "    </tr>\n",
       "  </thead>\n",
       "  <tbody>\n",
       "    <tr>\n",
       "      <th>count</th>\n",
       "      <td>9691.000000</td>\n",
       "      <td>9691.000000</td>\n",
       "      <td>9691.000000</td>\n",
       "      <td>9691.000000</td>\n",
       "      <td>9691.000000</td>\n",
       "    </tr>\n",
       "    <tr>\n",
       "      <th>mean</th>\n",
       "      <td>38.870354</td>\n",
       "      <td>60.078131</td>\n",
       "      <td>61.015581</td>\n",
       "      <td>36.132494</td>\n",
       "      <td>35.661748</td>\n",
       "    </tr>\n",
       "    <tr>\n",
       "      <th>std</th>\n",
       "      <td>25.433150</td>\n",
       "      <td>70.919677</td>\n",
       "      <td>28.262631</td>\n",
       "      <td>20.247024</td>\n",
       "      <td>19.684082</td>\n",
       "    </tr>\n",
       "    <tr>\n",
       "      <th>min</th>\n",
       "      <td>7.000000</td>\n",
       "      <td>8.000000</td>\n",
       "      <td>22.000000</td>\n",
       "      <td>2.000000</td>\n",
       "      <td>5.000000</td>\n",
       "    </tr>\n",
       "    <tr>\n",
       "      <th>25%</th>\n",
       "      <td>13.000000</td>\n",
       "      <td>14.000000</td>\n",
       "      <td>48.000000</td>\n",
       "      <td>25.000000</td>\n",
       "      <td>24.000000</td>\n",
       "    </tr>\n",
       "    <tr>\n",
       "      <th>50%</th>\n",
       "      <td>64.000000</td>\n",
       "      <td>16.500000</td>\n",
       "      <td>57.000000</td>\n",
       "      <td>35.000000</td>\n",
       "      <td>34.000000</td>\n",
       "    </tr>\n",
       "    <tr>\n",
       "      <th>75%</th>\n",
       "      <td>64.000000</td>\n",
       "      <td>172.000000</td>\n",
       "      <td>67.000000</td>\n",
       "      <td>43.000000</td>\n",
       "      <td>43.000000</td>\n",
       "    </tr>\n",
       "    <tr>\n",
       "      <th>max</th>\n",
       "      <td>64.000000</td>\n",
       "      <td>172.000000</td>\n",
       "      <td>214.000000</td>\n",
       "      <td>142.000000</td>\n",
       "      <td>136.000000</td>\n",
       "    </tr>\n",
       "  </tbody>\n",
       "</table>\n",
       "</div>"
      ],
      "text/plain": [
       "       average_transit_duration_to_subway  \\\n",
       "count                         9691.000000   \n",
       "mean                            38.870354   \n",
       "std                             25.433150   \n",
       "min                              7.000000   \n",
       "25%                             13.000000   \n",
       "50%                             64.000000   \n",
       "75%                             64.000000   \n",
       "max                             64.000000   \n",
       "\n",
       "       average_transit_duration_to_supermarket  \\\n",
       "count                              9691.000000   \n",
       "mean                                 60.078131   \n",
       "std                                  70.919677   \n",
       "min                                   8.000000   \n",
       "25%                                  14.000000   \n",
       "50%                                  16.500000   \n",
       "75%                                 172.000000   \n",
       "max                                 172.000000   \n",
       "\n",
       "       transit_duration_to_changi_airport  transit_duration_to_orchard_road  \\\n",
       "count                         9691.000000                       9691.000000   \n",
       "mean                            61.015581                         36.132494   \n",
       "std                             28.262631                         20.247024   \n",
       "min                             22.000000                          2.000000   \n",
       "25%                             48.000000                         25.000000   \n",
       "50%                             57.000000                         35.000000   \n",
       "75%                             67.000000                         43.000000   \n",
       "max                            214.000000                        142.000000   \n",
       "\n",
       "       transit_duration_to_raffles_place  \n",
       "count                        9691.000000  \n",
       "mean                           35.661748  \n",
       "std                            19.684082  \n",
       "min                             5.000000  \n",
       "25%                            24.000000  \n",
       "50%                            34.000000  \n",
       "75%                            43.000000  \n",
       "max                           136.000000  "
      ]
     },
     "execution_count": 55,
     "metadata": {},
     "output_type": "execute_result"
    }
   ],
   "source": [
    "raw_final_dataset[['average_transit_duration_to_subway', \n",
    "                   'average_transit_duration_to_supermarket', \n",
    "                   'transit_duration_to_changi_airport', \n",
    "                   'transit_duration_to_orchard_road', \n",
    "                   'transit_duration_to_raffles_place']].describe()"
   ]
  },
  {
   "cell_type": "markdown",
   "metadata": {},
   "source": [
    "### 16. Numeric, Discrete: Number of _XXX_\n",
    "- Property Specifics: `ammenities`, `num_baths`, `num_beds`, `total_units`, `year_since_completion`\n",
    "- Nearby Details: `num_bus_stations_nearby`, `num_clinics_nearby`, `num_subways_nearby`, `num_supermarkets_nearby` - - School Types: `others`, `primary`, `secondary`, `pre-tertiary`"
   ]
  },
  {
   "cell_type": "code",
   "execution_count": 56,
   "metadata": {},
   "outputs": [
    {
     "data": {
      "text/html": [
       "<div>\n",
       "<style scoped>\n",
       "    .dataframe tbody tr th:only-of-type {\n",
       "        vertical-align: middle;\n",
       "    }\n",
       "\n",
       "    .dataframe tbody tr th {\n",
       "        vertical-align: top;\n",
       "    }\n",
       "\n",
       "    .dataframe thead th {\n",
       "        text-align: right;\n",
       "    }\n",
       "</style>\n",
       "<table border=\"1\" class=\"dataframe\">\n",
       "  <thead>\n",
       "    <tr style=\"text-align: right;\">\n",
       "      <th></th>\n",
       "      <th>ammenities</th>\n",
       "      <th>num_baths</th>\n",
       "      <th>num_beds</th>\n",
       "      <th>total_units</th>\n",
       "      <th>year_since_completion</th>\n",
       "      <th>num_bus_stations_nearby</th>\n",
       "      <th>num_clinics_nearby</th>\n",
       "      <th>num_subways_nearby</th>\n",
       "      <th>num_supermarkets_nearby</th>\n",
       "      <th>others</th>\n",
       "      <th>primary</th>\n",
       "      <th>secondary</th>\n",
       "      <th>pre-tertiary</th>\n",
       "    </tr>\n",
       "  </thead>\n",
       "  <tbody>\n",
       "    <tr>\n",
       "      <th>count</th>\n",
       "      <td>9691.000000</td>\n",
       "      <td>9691.000000</td>\n",
       "      <td>9620.000000</td>\n",
       "      <td>6566.000000</td>\n",
       "      <td>7733.000000</td>\n",
       "      <td>9691.000000</td>\n",
       "      <td>9691.000000</td>\n",
       "      <td>9691.000000</td>\n",
       "      <td>9691.000000</td>\n",
       "      <td>4202.000000</td>\n",
       "      <td>6065.000000</td>\n",
       "      <td>5393.000000</td>\n",
       "      <td>1058.0</td>\n",
       "    </tr>\n",
       "    <tr>\n",
       "      <th>mean</th>\n",
       "      <td>10.779486</td>\n",
       "      <td>92.553916</td>\n",
       "      <td>2.790748</td>\n",
       "      <td>464.255102</td>\n",
       "      <td>8.824648</td>\n",
       "      <td>8.095140</td>\n",
       "      <td>7.712001</td>\n",
       "      <td>1.407182</td>\n",
       "      <td>2.977608</td>\n",
       "      <td>1.757972</td>\n",
       "      <td>2.179555</td>\n",
       "      <td>1.937141</td>\n",
       "      <td>1.0</td>\n",
       "    </tr>\n",
       "    <tr>\n",
       "      <th>std</th>\n",
       "      <td>7.972500</td>\n",
       "      <td>430.622398</td>\n",
       "      <td>1.194374</td>\n",
       "      <td>416.881741</td>\n",
       "      <td>13.093175</td>\n",
       "      <td>3.923577</td>\n",
       "      <td>4.049987</td>\n",
       "      <td>1.760689</td>\n",
       "      <td>2.366653</td>\n",
       "      <td>0.940361</td>\n",
       "      <td>1.313836</td>\n",
       "      <td>0.966395</td>\n",
       "      <td>0.0</td>\n",
       "    </tr>\n",
       "    <tr>\n",
       "      <th>min</th>\n",
       "      <td>0.000000</td>\n",
       "      <td>1.000000</td>\n",
       "      <td>1.000000</td>\n",
       "      <td>2.000000</td>\n",
       "      <td>-5.000000</td>\n",
       "      <td>0.000000</td>\n",
       "      <td>0.000000</td>\n",
       "      <td>0.000000</td>\n",
       "      <td>0.000000</td>\n",
       "      <td>1.000000</td>\n",
       "      <td>1.000000</td>\n",
       "      <td>1.000000</td>\n",
       "      <td>1.0</td>\n",
       "    </tr>\n",
       "    <tr>\n",
       "      <th>25%</th>\n",
       "      <td>3.000000</td>\n",
       "      <td>2.000000</td>\n",
       "      <td>2.000000</td>\n",
       "      <td>110.000000</td>\n",
       "      <td>0.000000</td>\n",
       "      <td>10.000000</td>\n",
       "      <td>8.000000</td>\n",
       "      <td>0.000000</td>\n",
       "      <td>1.000000</td>\n",
       "      <td>1.000000</td>\n",
       "      <td>1.000000</td>\n",
       "      <td>1.000000</td>\n",
       "      <td>1.0</td>\n",
       "    </tr>\n",
       "    <tr>\n",
       "      <th>50%</th>\n",
       "      <td>10.000000</td>\n",
       "      <td>2.000000</td>\n",
       "      <td>3.000000</td>\n",
       "      <td>361.000000</td>\n",
       "      <td>5.000000</td>\n",
       "      <td>10.000000</td>\n",
       "      <td>10.000000</td>\n",
       "      <td>1.000000</td>\n",
       "      <td>3.000000</td>\n",
       "      <td>1.000000</td>\n",
       "      <td>2.000000</td>\n",
       "      <td>2.000000</td>\n",
       "      <td>1.0</td>\n",
       "    </tr>\n",
       "    <tr>\n",
       "      <th>75%</th>\n",
       "      <td>16.000000</td>\n",
       "      <td>3.000000</td>\n",
       "      <td>3.000000</td>\n",
       "      <td>698.000000</td>\n",
       "      <td>14.000000</td>\n",
       "      <td>10.000000</td>\n",
       "      <td>10.000000</td>\n",
       "      <td>2.000000</td>\n",
       "      <td>5.000000</td>\n",
       "      <td>2.000000</td>\n",
       "      <td>3.000000</td>\n",
       "      <td>3.000000</td>\n",
       "      <td>1.0</td>\n",
       "    </tr>\n",
       "    <tr>\n",
       "      <th>max</th>\n",
       "      <td>42.000000</td>\n",
       "      <td>13800.000000</td>\n",
       "      <td>10.000000</td>\n",
       "      <td>2203.000000</td>\n",
       "      <td>56.000000</td>\n",
       "      <td>10.000000</td>\n",
       "      <td>10.000000</td>\n",
       "      <td>9.000000</td>\n",
       "      <td>10.000000</td>\n",
       "      <td>6.000000</td>\n",
       "      <td>7.000000</td>\n",
       "      <td>7.000000</td>\n",
       "      <td>1.0</td>\n",
       "    </tr>\n",
       "  </tbody>\n",
       "</table>\n",
       "</div>"
      ],
      "text/plain": [
       "        ammenities     num_baths     num_beds  total_units  \\\n",
       "count  9691.000000   9691.000000  9620.000000  6566.000000   \n",
       "mean     10.779486     92.553916     2.790748   464.255102   \n",
       "std       7.972500    430.622398     1.194374   416.881741   \n",
       "min       0.000000      1.000000     1.000000     2.000000   \n",
       "25%       3.000000      2.000000     2.000000   110.000000   \n",
       "50%      10.000000      2.000000     3.000000   361.000000   \n",
       "75%      16.000000      3.000000     3.000000   698.000000   \n",
       "max      42.000000  13800.000000    10.000000  2203.000000   \n",
       "\n",
       "       year_since_completion  num_bus_stations_nearby  num_clinics_nearby  \\\n",
       "count            7733.000000              9691.000000         9691.000000   \n",
       "mean                8.824648                 8.095140            7.712001   \n",
       "std                13.093175                 3.923577            4.049987   \n",
       "min                -5.000000                 0.000000            0.000000   \n",
       "25%                 0.000000                10.000000            8.000000   \n",
       "50%                 5.000000                10.000000           10.000000   \n",
       "75%                14.000000                10.000000           10.000000   \n",
       "max                56.000000                10.000000           10.000000   \n",
       "\n",
       "       num_subways_nearby  num_supermarkets_nearby       others      primary  \\\n",
       "count         9691.000000              9691.000000  4202.000000  6065.000000   \n",
       "mean             1.407182                 2.977608     1.757972     2.179555   \n",
       "std              1.760689                 2.366653     0.940361     1.313836   \n",
       "min              0.000000                 0.000000     1.000000     1.000000   \n",
       "25%              0.000000                 1.000000     1.000000     1.000000   \n",
       "50%              1.000000                 3.000000     1.000000     2.000000   \n",
       "75%              2.000000                 5.000000     2.000000     3.000000   \n",
       "max              9.000000                10.000000     6.000000     7.000000   \n",
       "\n",
       "         secondary  pre-tertiary  \n",
       "count  5393.000000        1058.0  \n",
       "mean      1.937141           1.0  \n",
       "std       0.966395           0.0  \n",
       "min       1.000000           1.0  \n",
       "25%       1.000000           1.0  \n",
       "50%       2.000000           1.0  \n",
       "75%       3.000000           1.0  \n",
       "max       7.000000           1.0  "
      ]
     },
     "execution_count": 56,
     "metadata": {},
     "output_type": "execute_result"
    }
   ],
   "source": [
    "raw_final_dataset[['ammenities',\n",
    "                   'num_baths', \n",
    "                   'num_beds', \n",
    "                   'total_units', \n",
    "                   'year_since_completion', \n",
    "                   'num_bus_stations_nearby', \n",
    "                   'num_clinics_nearby', \n",
    "                   'num_subways_nearby', \n",
    "                   'num_supermarkets_nearby', \n",
    "                   'others', \n",
    "                   'primary', \n",
    "                   'secondary', \n",
    "                   'pre-tertiary']].describe()"
   ]
  },
  {
   "cell_type": "code",
   "execution_count": 57,
   "metadata": {},
   "outputs": [
    {
     "data": {
      "text/html": [
       "<div>\n",
       "<style scoped>\n",
       "    .dataframe tbody tr th:only-of-type {\n",
       "        vertical-align: middle;\n",
       "    }\n",
       "\n",
       "    .dataframe tbody tr th {\n",
       "        vertical-align: top;\n",
       "    }\n",
       "\n",
       "    .dataframe thead th {\n",
       "        text-align: right;\n",
       "    }\n",
       "</style>\n",
       "<table border=\"1\" class=\"dataframe\">\n",
       "  <thead>\n",
       "    <tr style=\"text-align: right;\">\n",
       "      <th></th>\n",
       "      <th>others</th>\n",
       "      <th>primary</th>\n",
       "      <th>secondary</th>\n",
       "      <th>pre-tertiary</th>\n",
       "    </tr>\n",
       "  </thead>\n",
       "  <tbody>\n",
       "    <tr>\n",
       "      <th>count</th>\n",
       "      <td>9691.000000</td>\n",
       "      <td>9691.000000</td>\n",
       "      <td>9691.000000</td>\n",
       "      <td>9691.000000</td>\n",
       "    </tr>\n",
       "    <tr>\n",
       "      <th>mean</th>\n",
       "      <td>0.762254</td>\n",
       "      <td>1.364049</td>\n",
       "      <td>1.078011</td>\n",
       "      <td>0.109173</td>\n",
       "    </tr>\n",
       "    <tr>\n",
       "      <th>std</th>\n",
       "      <td>1.068849</td>\n",
       "      <td>1.480790</td>\n",
       "      <td>1.202467</td>\n",
       "      <td>0.311873</td>\n",
       "    </tr>\n",
       "    <tr>\n",
       "      <th>min</th>\n",
       "      <td>0.000000</td>\n",
       "      <td>0.000000</td>\n",
       "      <td>0.000000</td>\n",
       "      <td>0.000000</td>\n",
       "    </tr>\n",
       "    <tr>\n",
       "      <th>25%</th>\n",
       "      <td>0.000000</td>\n",
       "      <td>0.000000</td>\n",
       "      <td>0.000000</td>\n",
       "      <td>0.000000</td>\n",
       "    </tr>\n",
       "    <tr>\n",
       "      <th>50%</th>\n",
       "      <td>0.000000</td>\n",
       "      <td>1.000000</td>\n",
       "      <td>1.000000</td>\n",
       "      <td>0.000000</td>\n",
       "    </tr>\n",
       "    <tr>\n",
       "      <th>75%</th>\n",
       "      <td>1.000000</td>\n",
       "      <td>2.000000</td>\n",
       "      <td>2.000000</td>\n",
       "      <td>0.000000</td>\n",
       "    </tr>\n",
       "    <tr>\n",
       "      <th>max</th>\n",
       "      <td>6.000000</td>\n",
       "      <td>7.000000</td>\n",
       "      <td>7.000000</td>\n",
       "      <td>1.000000</td>\n",
       "    </tr>\n",
       "  </tbody>\n",
       "</table>\n",
       "</div>"
      ],
      "text/plain": [
       "            others      primary    secondary  pre-tertiary\n",
       "count  9691.000000  9691.000000  9691.000000   9691.000000\n",
       "mean      0.762254     1.364049     1.078011      0.109173\n",
       "std       1.068849     1.480790     1.202467      0.311873\n",
       "min       0.000000     0.000000     0.000000      0.000000\n",
       "25%       0.000000     0.000000     0.000000      0.000000\n",
       "50%       0.000000     1.000000     1.000000      0.000000\n",
       "75%       1.000000     2.000000     2.000000      0.000000\n",
       "max       6.000000     7.000000     7.000000      1.000000"
      ]
     },
     "execution_count": 57,
     "metadata": {},
     "output_type": "execute_result"
    }
   ],
   "source": [
    "raw_final_dataset[['others', \n",
    "                   'primary', \n",
    "                   'secondary', \n",
    "                   'pre-tertiary']] = raw_final_dataset[['others', \n",
    "                                                         'primary', \n",
    "                                                         'secondary', \n",
    "                                                         'pre-tertiary']].fillna(0)\n",
    "raw_final_dataset[['others', \n",
    "                   'primary', \n",
    "                   'secondary', \n",
    "                   'pre-tertiary']].describe()"
   ]
  },
  {
   "cell_type": "markdown",
   "metadata": {},
   "source": [
    "For the school-related features like `others`, `primary`, `secondary`, `pre-tertiary`, imputation is easy because we know that if none of them exist on the website, there arent nearby schools near the property, so we'll impute missing values as `0`. However, for other features that still have missing values such as `num_beds`, `total_units`, `year_since_completion`, where their values are really specific characteristics of the property, it's really hard to use one of the easier imputation methods such as imputing the mean or mode. We might have to do something a little more sophisticated to give a more accurate guess as to what those missing values might be, which we will address later on."
   ]
  },
  {
   "cell_type": "markdown",
   "metadata": {},
   "source": [
    "### 17. Numeric, Continuous: `sqft`"
   ]
  },
  {
   "cell_type": "code",
   "execution_count": 58,
   "metadata": {},
   "outputs": [
    {
     "data": {
      "text/plain": [
       "count    8.975000e+03\n",
       "mean     4.009653e+03\n",
       "std      1.721263e+05\n",
       "min      1.000000e+00\n",
       "25%      7.310000e+02\n",
       "50%      1.044000e+03\n",
       "75%      1.410000e+03\n",
       "max      1.299375e+07\n",
       "Name: sqft, dtype: float64"
      ]
     },
     "execution_count": 58,
     "metadata": {},
     "output_type": "execute_result"
    }
   ],
   "source": [
    "raw_final_dataset['sqft'].describe()"
   ]
  },
  {
   "cell_type": "markdown",
   "metadata": {},
   "source": [
    "As we mentioned above with the features that are 'hard' characteristics of the property, we'll use a more sophisticated imputation method for the missing values here."
   ]
  },
  {
   "cell_type": "markdown",
   "metadata": {},
   "source": [
    "### 18. Categorical: `tenure`"
   ]
  },
  {
   "cell_type": "code",
   "execution_count": 59,
   "metadata": {},
   "outputs": [
    {
     "data": {
      "text/plain": [
       "count         8185\n",
       "unique          14\n",
       "top       99 Years\n",
       "freq          5237\n",
       "Name: tenure, dtype: object"
      ]
     },
     "execution_count": 59,
     "metadata": {},
     "output_type": "execute_result"
    }
   ],
   "source": [
    "raw_final_dataset['tenure'].describe()"
   ]
  },
  {
   "cell_type": "code",
   "execution_count": 60,
   "metadata": {},
   "outputs": [
    {
     "data": {
      "text/plain": [
       "99 Years     5237\n",
       "Freehold     2624\n",
       "999 Years     210\n",
       "103 Years      31\n",
       "-              25\n",
       "956 Years      15\n",
       "946 Years      13\n",
       "100 Years       9\n",
       "60 Years        6\n",
       "101 Years       5\n",
       "947 Years       5\n",
       "929 Years       2\n",
       "110 Years       2\n",
       "104 Years       1\n",
       "Name: tenure, dtype: int64"
      ]
     },
     "execution_count": 60,
     "metadata": {},
     "output_type": "execute_result"
    }
   ],
   "source": [
    "raw_final_dataset['tenure'].value_counts()"
   ]
  },
  {
   "cell_type": "markdown",
   "metadata": {},
   "source": [
    "This is also a sensitive feature that could heavily affect the price, so let's convert this into a feature with `99,999` to replace the `Freehold` values as a proxy for \"indefinitely\" owning the property"
   ]
  },
  {
   "cell_type": "code",
   "execution_count": 61,
   "metadata": {},
   "outputs": [
    {
     "data": {
      "text/html": [
       "<div>\n",
       "<style scoped>\n",
       "    .dataframe tbody tr th:only-of-type {\n",
       "        vertical-align: middle;\n",
       "    }\n",
       "\n",
       "    .dataframe tbody tr th {\n",
       "        vertical-align: top;\n",
       "    }\n",
       "\n",
       "    .dataframe thead th {\n",
       "        text-align: right;\n",
       "    }\n",
       "</style>\n",
       "<table border=\"1\" class=\"dataframe\">\n",
       "  <thead>\n",
       "    <tr style=\"text-align: right;\">\n",
       "      <th></th>\n",
       "      <th>Availability</th>\n",
       "      <th>Condition</th>\n",
       "      <th>Cost of Renovation</th>\n",
       "      <th>District</th>\n",
       "      <th>Facing</th>\n",
       "      <th>Floor</th>\n",
       "      <th>Furnishing</th>\n",
       "      <th>Landed House Area Zoning</th>\n",
       "      <th>Re-wiring/Structural Renovation</th>\n",
       "      <th>ammenities</th>\n",
       "      <th>...</th>\n",
       "      <th>sqft</th>\n",
       "      <th>tenure</th>\n",
       "      <th>total_units</th>\n",
       "      <th>transit_duration_to_changi_airport</th>\n",
       "      <th>transit_duration_to_orchard_road</th>\n",
       "      <th>transit_duration_to_raffles_place</th>\n",
       "      <th>type</th>\n",
       "      <th>year_since_completion</th>\n",
       "      <th>months_since_last_renovation</th>\n",
       "      <th>months_before_tenancy_lease_expiry</th>\n",
       "    </tr>\n",
       "  </thead>\n",
       "  <tbody>\n",
       "    <tr>\n",
       "      <th>0</th>\n",
       "      <td>Now</td>\n",
       "      <td>Used</td>\n",
       "      <td>0.0</td>\n",
       "      <td>D22</td>\n",
       "      <td>North South</td>\n",
       "      <td>None</td>\n",
       "      <td>Partially Furnished</td>\n",
       "      <td>Not Applicable</td>\n",
       "      <td>No</td>\n",
       "      <td>6</td>\n",
       "      <td>...</td>\n",
       "      <td>506.0</td>\n",
       "      <td>99.0</td>\n",
       "      <td>NaN</td>\n",
       "      <td>93.0</td>\n",
       "      <td>50.0</td>\n",
       "      <td>43.0</td>\n",
       "      <td>hdb</td>\n",
       "      <td>NaN</td>\n",
       "      <td>0</td>\n",
       "      <td>0</td>\n",
       "    </tr>\n",
       "    <tr>\n",
       "      <th>1</th>\n",
       "      <td>14 Feb 2023</td>\n",
       "      <td>Used</td>\n",
       "      <td>0.0</td>\n",
       "      <td>D19</td>\n",
       "      <td>NaN</td>\n",
       "      <td>None</td>\n",
       "      <td>Partially Furnished</td>\n",
       "      <td>Not Applicable</td>\n",
       "      <td>No</td>\n",
       "      <td>15</td>\n",
       "      <td>...</td>\n",
       "      <td>872.0</td>\n",
       "      <td>99.0</td>\n",
       "      <td>1478.0</td>\n",
       "      <td>54.0</td>\n",
       "      <td>43.0</td>\n",
       "      <td>42.0</td>\n",
       "      <td>condo</td>\n",
       "      <td>-5.0</td>\n",
       "      <td>0</td>\n",
       "      <td>0</td>\n",
       "    </tr>\n",
       "    <tr>\n",
       "      <th>2</th>\n",
       "      <td>Occupied</td>\n",
       "      <td>Used</td>\n",
       "      <td>0.0</td>\n",
       "      <td>D28</td>\n",
       "      <td>NaN</td>\n",
       "      <td>None</td>\n",
       "      <td>Fully Furnished</td>\n",
       "      <td>Not Applicable</td>\n",
       "      <td>No</td>\n",
       "      <td>29</td>\n",
       "      <td>...</td>\n",
       "      <td>689.0</td>\n",
       "      <td>99.0</td>\n",
       "      <td>555.0</td>\n",
       "      <td>49.0</td>\n",
       "      <td>44.0</td>\n",
       "      <td>44.0</td>\n",
       "      <td>condo</td>\n",
       "      <td>2.0</td>\n",
       "      <td>0</td>\n",
       "      <td>0</td>\n",
       "    </tr>\n",
       "    <tr>\n",
       "      <th>3</th>\n",
       "      <td>Now</td>\n",
       "      <td>Used</td>\n",
       "      <td>0.0</td>\n",
       "      <td>D5</td>\n",
       "      <td>North</td>\n",
       "      <td>None</td>\n",
       "      <td>Partially Furnished</td>\n",
       "      <td>Not Applicable</td>\n",
       "      <td>No</td>\n",
       "      <td>5</td>\n",
       "      <td>...</td>\n",
       "      <td>882.0</td>\n",
       "      <td>NaN</td>\n",
       "      <td>NaN</td>\n",
       "      <td>86.0</td>\n",
       "      <td>41.0</td>\n",
       "      <td>38.0</td>\n",
       "      <td>hdb</td>\n",
       "      <td>NaN</td>\n",
       "      <td>0</td>\n",
       "      <td>0</td>\n",
       "    </tr>\n",
       "    <tr>\n",
       "      <th>4</th>\n",
       "      <td>Now</td>\n",
       "      <td>Used</td>\n",
       "      <td>0.0</td>\n",
       "      <td>D11</td>\n",
       "      <td>South West</td>\n",
       "      <td>low</td>\n",
       "      <td>Fully Furnished</td>\n",
       "      <td>Not Applicable</td>\n",
       "      <td>No</td>\n",
       "      <td>14</td>\n",
       "      <td>...</td>\n",
       "      <td>1615.0</td>\n",
       "      <td>99999.0</td>\n",
       "      <td>128.0</td>\n",
       "      <td>58.0</td>\n",
       "      <td>14.0</td>\n",
       "      <td>20.0</td>\n",
       "      <td>condo</td>\n",
       "      <td>7.0</td>\n",
       "      <td>0</td>\n",
       "      <td>5</td>\n",
       "    </tr>\n",
       "  </tbody>\n",
       "</table>\n",
       "<p>5 rows × 40 columns</p>\n",
       "</div>"
      ],
      "text/plain": [
       "  Availability Condition  Cost of Renovation District       Facing Floor  \\\n",
       "0          Now      Used                 0.0      D22  North South  None   \n",
       "1  14 Feb 2023      Used                 0.0      D19          NaN  None   \n",
       "2     Occupied      Used                 0.0      D28          NaN  None   \n",
       "3          Now      Used                 0.0       D5        North  None   \n",
       "4          Now      Used                 0.0      D11   South West   low   \n",
       "\n",
       "            Furnishing Landed House Area Zoning  \\\n",
       "0  Partially Furnished           Not Applicable   \n",
       "1  Partially Furnished           Not Applicable   \n",
       "2      Fully Furnished           Not Applicable   \n",
       "3  Partially Furnished           Not Applicable   \n",
       "4      Fully Furnished           Not Applicable   \n",
       "\n",
       "  Re-wiring/Structural Renovation  ammenities  ...    sqft   tenure  \\\n",
       "0                              No           6  ...   506.0     99.0   \n",
       "1                              No          15  ...   872.0     99.0   \n",
       "2                              No          29  ...   689.0     99.0   \n",
       "3                              No           5  ...   882.0      NaN   \n",
       "4                              No          14  ...  1615.0  99999.0   \n",
       "\n",
       "   total_units  transit_duration_to_changi_airport  \\\n",
       "0          NaN                                93.0   \n",
       "1       1478.0                                54.0   \n",
       "2        555.0                                49.0   \n",
       "3          NaN                                86.0   \n",
       "4        128.0                                58.0   \n",
       "\n",
       "   transit_duration_to_orchard_road transit_duration_to_raffles_place   type  \\\n",
       "0                              50.0                              43.0    hdb   \n",
       "1                              43.0                              42.0  condo   \n",
       "2                              44.0                              44.0  condo   \n",
       "3                              41.0                              38.0    hdb   \n",
       "4                              14.0                              20.0  condo   \n",
       "\n",
       "   year_since_completion  months_since_last_renovation  \\\n",
       "0                    NaN                             0   \n",
       "1                   -5.0                             0   \n",
       "2                    2.0                             0   \n",
       "3                    NaN                             0   \n",
       "4                    7.0                             0   \n",
       "\n",
       "   months_before_tenancy_lease_expiry  \n",
       "0                                   0  \n",
       "1                                   0  \n",
       "2                                   0  \n",
       "3                                   0  \n",
       "4                                   5  \n",
       "\n",
       "[5 rows x 40 columns]"
      ]
     },
     "execution_count": 61,
     "metadata": {},
     "output_type": "execute_result"
    }
   ],
   "source": [
    "def clean_tenure(value):\n",
    "    \"\"\"\n",
    "    Purpose:\n",
    "    --------\n",
    "    Return the number of years in tenure left\n",
    "    \n",
    "    Parameters:\n",
    "    -----------\n",
    "    value: The tenure type / years left\n",
    "    \n",
    "    Returns:\n",
    "    --------\n",
    "    Return the number of years of tenure left / 99,999 if freehold\n",
    "    \"\"\"\n",
    "    if 'years' in str(value).lower():\n",
    "        return int(str(value).split()[0])\n",
    "    elif str(value).lower().strip() == 'freehold':\n",
    "        return 99999\n",
    "    else:\n",
    "        return None\n",
    "    \n",
    "raw_final_dataset['tenure'] = raw_final_dataset['tenure'].apply(clean_tenure)\n",
    "raw_final_dataset.head()"
   ]
  },
  {
   "cell_type": "markdown",
   "metadata": {},
   "source": [
    "### 19. `link`"
   ]
  },
  {
   "cell_type": "markdown",
   "metadata": {},
   "source": [
    "Let's keep this so that we can access the transaction history and price trends later in the time series analysis."
   ]
  },
  {
   "cell_type": "markdown",
   "metadata": {},
   "source": [
    "### 20. `type`"
   ]
  },
  {
   "cell_type": "code",
   "execution_count": 62,
   "metadata": {},
   "outputs": [
    {
     "data": {
      "text/plain": [
       "count      9691\n",
       "unique        3\n",
       "top       condo\n",
       "freq       6267\n",
       "Name: type, dtype: object"
      ]
     },
     "execution_count": 62,
     "metadata": {},
     "output_type": "execute_result"
    }
   ],
   "source": [
    "cat_feats.append('type')\n",
    "raw_final_dataset['type'].describe()"
   ]
  },
  {
   "cell_type": "code",
   "execution_count": 63,
   "metadata": {},
   "outputs": [
    {
     "data": {
      "text/plain": [
       "condo     6267\n",
       "hdb       2629\n",
       "landed     795\n",
       "Name: type, dtype: int64"
      ]
     },
     "execution_count": 63,
     "metadata": {},
     "output_type": "execute_result"
    }
   ],
   "source": [
    "raw_final_dataset['type'].value_counts()"
   ]
  },
  {
   "cell_type": "markdown",
   "metadata": {},
   "source": [
    "## Imputing the rest of the Missing Data \n",
    "\n",
    "We'll try using Matrix Factorization in order to impute these values with the `fancyimpute` library."
   ]
  },
  {
   "cell_type": "code",
   "execution_count": 64,
   "metadata": {},
   "outputs": [
    {
     "data": {
      "text/plain": [
       "Facing                   5065\n",
       "Floor                    8945\n",
       "link                     1506\n",
       "num_beds                   71\n",
       "sqft                      716\n",
       "tenure                   1531\n",
       "total_units              3125\n",
       "year_since_completion    1958\n",
       "dtype: int64"
      ]
     },
     "execution_count": 64,
     "metadata": {},
     "output_type": "execute_result"
    }
   ],
   "source": [
    "# Feature columns that still have missing data\n",
    "raw_final_dataset.isna().sum(axis=0)[raw_final_dataset.isna().sum(axis=0) != 0]"
   ]
  },
  {
   "cell_type": "markdown",
   "metadata": {},
   "source": [
    "These are all the sensitive features that require a more sophisticated form of imputation."
   ]
  },
  {
   "cell_type": "code",
   "execution_count": 65,
   "metadata": {},
   "outputs": [
    {
     "data": {
      "text/html": [
       "<div>\n",
       "<style scoped>\n",
       "    .dataframe tbody tr th:only-of-type {\n",
       "        vertical-align: middle;\n",
       "    }\n",
       "\n",
       "    .dataframe tbody tr th {\n",
       "        vertical-align: top;\n",
       "    }\n",
       "\n",
       "    .dataframe thead th {\n",
       "        text-align: right;\n",
       "    }\n",
       "</style>\n",
       "<table border=\"1\" class=\"dataframe\">\n",
       "  <thead>\n",
       "    <tr style=\"text-align: right;\">\n",
       "      <th></th>\n",
       "      <th>Availability</th>\n",
       "      <th>Condition</th>\n",
       "      <th>Cost of Renovation</th>\n",
       "      <th>District</th>\n",
       "      <th>Facing</th>\n",
       "      <th>Floor</th>\n",
       "      <th>Furnishing</th>\n",
       "      <th>Landed House Area Zoning</th>\n",
       "      <th>Re-wiring/Structural Renovation</th>\n",
       "      <th>ammenities</th>\n",
       "      <th>...</th>\n",
       "      <th>sqft</th>\n",
       "      <th>tenure</th>\n",
       "      <th>total_units</th>\n",
       "      <th>transit_duration_to_changi_airport</th>\n",
       "      <th>transit_duration_to_orchard_road</th>\n",
       "      <th>transit_duration_to_raffles_place</th>\n",
       "      <th>type</th>\n",
       "      <th>year_since_completion</th>\n",
       "      <th>months_since_last_renovation</th>\n",
       "      <th>months_before_tenancy_lease_expiry</th>\n",
       "    </tr>\n",
       "  </thead>\n",
       "  <tbody>\n",
       "    <tr>\n",
       "      <th>0</th>\n",
       "      <td>Now</td>\n",
       "      <td>Used</td>\n",
       "      <td>0.0</td>\n",
       "      <td>D22</td>\n",
       "      <td>North South</td>\n",
       "      <td>None</td>\n",
       "      <td>Partially Furnished</td>\n",
       "      <td>Not Applicable</td>\n",
       "      <td>No</td>\n",
       "      <td>6</td>\n",
       "      <td>...</td>\n",
       "      <td>506.0</td>\n",
       "      <td>99.0</td>\n",
       "      <td>NaN</td>\n",
       "      <td>93.0</td>\n",
       "      <td>50.0</td>\n",
       "      <td>43.0</td>\n",
       "      <td>hdb</td>\n",
       "      <td>NaN</td>\n",
       "      <td>0</td>\n",
       "      <td>0</td>\n",
       "    </tr>\n",
       "    <tr>\n",
       "      <th>1</th>\n",
       "      <td>14 Feb 2023</td>\n",
       "      <td>Used</td>\n",
       "      <td>0.0</td>\n",
       "      <td>D19</td>\n",
       "      <td>NaN</td>\n",
       "      <td>None</td>\n",
       "      <td>Partially Furnished</td>\n",
       "      <td>Not Applicable</td>\n",
       "      <td>No</td>\n",
       "      <td>15</td>\n",
       "      <td>...</td>\n",
       "      <td>872.0</td>\n",
       "      <td>99.0</td>\n",
       "      <td>1478.0</td>\n",
       "      <td>54.0</td>\n",
       "      <td>43.0</td>\n",
       "      <td>42.0</td>\n",
       "      <td>condo</td>\n",
       "      <td>-5.0</td>\n",
       "      <td>0</td>\n",
       "      <td>0</td>\n",
       "    </tr>\n",
       "    <tr>\n",
       "      <th>2</th>\n",
       "      <td>Occupied</td>\n",
       "      <td>Used</td>\n",
       "      <td>0.0</td>\n",
       "      <td>D28</td>\n",
       "      <td>NaN</td>\n",
       "      <td>None</td>\n",
       "      <td>Fully Furnished</td>\n",
       "      <td>Not Applicable</td>\n",
       "      <td>No</td>\n",
       "      <td>29</td>\n",
       "      <td>...</td>\n",
       "      <td>689.0</td>\n",
       "      <td>99.0</td>\n",
       "      <td>555.0</td>\n",
       "      <td>49.0</td>\n",
       "      <td>44.0</td>\n",
       "      <td>44.0</td>\n",
       "      <td>condo</td>\n",
       "      <td>2.0</td>\n",
       "      <td>0</td>\n",
       "      <td>0</td>\n",
       "    </tr>\n",
       "    <tr>\n",
       "      <th>3</th>\n",
       "      <td>Now</td>\n",
       "      <td>Used</td>\n",
       "      <td>0.0</td>\n",
       "      <td>D5</td>\n",
       "      <td>North</td>\n",
       "      <td>None</td>\n",
       "      <td>Partially Furnished</td>\n",
       "      <td>Not Applicable</td>\n",
       "      <td>No</td>\n",
       "      <td>5</td>\n",
       "      <td>...</td>\n",
       "      <td>882.0</td>\n",
       "      <td>NaN</td>\n",
       "      <td>NaN</td>\n",
       "      <td>86.0</td>\n",
       "      <td>41.0</td>\n",
       "      <td>38.0</td>\n",
       "      <td>hdb</td>\n",
       "      <td>NaN</td>\n",
       "      <td>0</td>\n",
       "      <td>0</td>\n",
       "    </tr>\n",
       "    <tr>\n",
       "      <th>4</th>\n",
       "      <td>Now</td>\n",
       "      <td>Used</td>\n",
       "      <td>0.0</td>\n",
       "      <td>D11</td>\n",
       "      <td>South West</td>\n",
       "      <td>low</td>\n",
       "      <td>Fully Furnished</td>\n",
       "      <td>Not Applicable</td>\n",
       "      <td>No</td>\n",
       "      <td>14</td>\n",
       "      <td>...</td>\n",
       "      <td>1615.0</td>\n",
       "      <td>99999.0</td>\n",
       "      <td>128.0</td>\n",
       "      <td>58.0</td>\n",
       "      <td>14.0</td>\n",
       "      <td>20.0</td>\n",
       "      <td>condo</td>\n",
       "      <td>7.0</td>\n",
       "      <td>0</td>\n",
       "      <td>5</td>\n",
       "    </tr>\n",
       "  </tbody>\n",
       "</table>\n",
       "<p>5 rows × 40 columns</p>\n",
       "</div>"
      ],
      "text/plain": [
       "  Availability Condition  Cost of Renovation District       Facing Floor  \\\n",
       "0          Now      Used                 0.0      D22  North South  None   \n",
       "1  14 Feb 2023      Used                 0.0      D19          NaN  None   \n",
       "2     Occupied      Used                 0.0      D28          NaN  None   \n",
       "3          Now      Used                 0.0       D5        North  None   \n",
       "4          Now      Used                 0.0      D11   South West   low   \n",
       "\n",
       "            Furnishing Landed House Area Zoning  \\\n",
       "0  Partially Furnished           Not Applicable   \n",
       "1  Partially Furnished           Not Applicable   \n",
       "2      Fully Furnished           Not Applicable   \n",
       "3  Partially Furnished           Not Applicable   \n",
       "4      Fully Furnished           Not Applicable   \n",
       "\n",
       "  Re-wiring/Structural Renovation  ammenities  ...    sqft   tenure  \\\n",
       "0                              No           6  ...   506.0     99.0   \n",
       "1                              No          15  ...   872.0     99.0   \n",
       "2                              No          29  ...   689.0     99.0   \n",
       "3                              No           5  ...   882.0      NaN   \n",
       "4                              No          14  ...  1615.0  99999.0   \n",
       "\n",
       "   total_units  transit_duration_to_changi_airport  \\\n",
       "0          NaN                                93.0   \n",
       "1       1478.0                                54.0   \n",
       "2        555.0                                49.0   \n",
       "3          NaN                                86.0   \n",
       "4        128.0                                58.0   \n",
       "\n",
       "   transit_duration_to_orchard_road transit_duration_to_raffles_place   type  \\\n",
       "0                              50.0                              43.0    hdb   \n",
       "1                              43.0                              42.0  condo   \n",
       "2                              44.0                              44.0  condo   \n",
       "3                              41.0                              38.0    hdb   \n",
       "4                              14.0                              20.0  condo   \n",
       "\n",
       "   year_since_completion  months_since_last_renovation  \\\n",
       "0                    NaN                             0   \n",
       "1                   -5.0                             0   \n",
       "2                    2.0                             0   \n",
       "3                    NaN                             0   \n",
       "4                    7.0                             0   \n",
       "\n",
       "   months_before_tenancy_lease_expiry  \n",
       "0                                   0  \n",
       "1                                   0  \n",
       "2                                   0  \n",
       "3                                   0  \n",
       "4                                   5  \n",
       "\n",
       "[5 rows x 40 columns]"
      ]
     },
     "execution_count": 65,
     "metadata": {},
     "output_type": "execute_result"
    }
   ],
   "source": [
    "raw_final_dataset.head()"
   ]
  },
  {
   "cell_type": "code",
   "execution_count": 66,
   "metadata": {},
   "outputs": [],
   "source": [
    "cat_feats.remove('District')"
   ]
  },
  {
   "cell_type": "code",
   "execution_count": 67,
   "metadata": {},
   "outputs": [],
   "source": [
    "cat_feats.remove('type')"
   ]
  },
  {
   "cell_type": "code",
   "execution_count": 68,
   "metadata": {},
   "outputs": [
    {
     "data": {
      "text/html": [
       "<div>\n",
       "<style scoped>\n",
       "    .dataframe tbody tr th:only-of-type {\n",
       "        vertical-align: middle;\n",
       "    }\n",
       "\n",
       "    .dataframe tbody tr th {\n",
       "        vertical-align: top;\n",
       "    }\n",
       "\n",
       "    .dataframe thead th {\n",
       "        text-align: right;\n",
       "    }\n",
       "</style>\n",
       "<table border=\"1\" class=\"dataframe\">\n",
       "  <thead>\n",
       "    <tr style=\"text-align: right;\">\n",
       "      <th></th>\n",
       "      <th>Cost of Renovation</th>\n",
       "      <th>ammenities</th>\n",
       "      <th>atm_nearby</th>\n",
       "      <th>average_transit_duration_to_subway</th>\n",
       "      <th>average_transit_duration_to_supermarket</th>\n",
       "      <th>average_walking_duration_to_bus_station</th>\n",
       "      <th>average_walking_duration_to_clinic</th>\n",
       "      <th>num_baths</th>\n",
       "      <th>num_beds</th>\n",
       "      <th>num_bus_stations_nearby</th>\n",
       "      <th>...</th>\n",
       "      <th>Landed House Area Zoning_2 Storey Semi D</th>\n",
       "      <th>Landed House Area Zoning_3 Storey Bungalow</th>\n",
       "      <th>Landed House Area Zoning_3 Storey Mixed Landed</th>\n",
       "      <th>Landed House Area Zoning_3 Storey Semi D</th>\n",
       "      <th>Landed House Area Zoning_GCBA</th>\n",
       "      <th>Landed House Area Zoning_Not Applicable</th>\n",
       "      <th>Landed House Area Zoning_Not in Landed Housing Area</th>\n",
       "      <th>Landed House Area Zoning_Others</th>\n",
       "      <th>Re-wiring/Structural Renovation_No</th>\n",
       "      <th>Re-wiring/Structural Renovation_Yes</th>\n",
       "    </tr>\n",
       "  </thead>\n",
       "  <tbody>\n",
       "    <tr>\n",
       "      <th>0</th>\n",
       "      <td>0.0</td>\n",
       "      <td>6</td>\n",
       "      <td>1</td>\n",
       "      <td>64.0</td>\n",
       "      <td>18.00</td>\n",
       "      <td>4.000000</td>\n",
       "      <td>3.0</td>\n",
       "      <td>1.0</td>\n",
       "      <td>1.0</td>\n",
       "      <td>10</td>\n",
       "      <td>...</td>\n",
       "      <td>0</td>\n",
       "      <td>0</td>\n",
       "      <td>0</td>\n",
       "      <td>0</td>\n",
       "      <td>0</td>\n",
       "      <td>1</td>\n",
       "      <td>0</td>\n",
       "      <td>0</td>\n",
       "      <td>1</td>\n",
       "      <td>0</td>\n",
       "    </tr>\n",
       "    <tr>\n",
       "      <th>1</th>\n",
       "      <td>0.0</td>\n",
       "      <td>15</td>\n",
       "      <td>0</td>\n",
       "      <td>64.0</td>\n",
       "      <td>172.00</td>\n",
       "      <td>18.000000</td>\n",
       "      <td>22.0</td>\n",
       "      <td>3.0</td>\n",
       "      <td>3.0</td>\n",
       "      <td>0</td>\n",
       "      <td>...</td>\n",
       "      <td>0</td>\n",
       "      <td>0</td>\n",
       "      <td>0</td>\n",
       "      <td>0</td>\n",
       "      <td>0</td>\n",
       "      <td>1</td>\n",
       "      <td>0</td>\n",
       "      <td>0</td>\n",
       "      <td>1</td>\n",
       "      <td>0</td>\n",
       "    </tr>\n",
       "    <tr>\n",
       "      <th>2</th>\n",
       "      <td>0.0</td>\n",
       "      <td>29</td>\n",
       "      <td>1</td>\n",
       "      <td>11.5</td>\n",
       "      <td>10.00</td>\n",
       "      <td>4.857143</td>\n",
       "      <td>7.0</td>\n",
       "      <td>1.0</td>\n",
       "      <td>2.0</td>\n",
       "      <td>10</td>\n",
       "      <td>...</td>\n",
       "      <td>0</td>\n",
       "      <td>0</td>\n",
       "      <td>0</td>\n",
       "      <td>0</td>\n",
       "      <td>0</td>\n",
       "      <td>1</td>\n",
       "      <td>0</td>\n",
       "      <td>0</td>\n",
       "      <td>1</td>\n",
       "      <td>0</td>\n",
       "    </tr>\n",
       "    <tr>\n",
       "      <th>3</th>\n",
       "      <td>0.0</td>\n",
       "      <td>5</td>\n",
       "      <td>1</td>\n",
       "      <td>64.0</td>\n",
       "      <td>16.00</td>\n",
       "      <td>5.100000</td>\n",
       "      <td>2.8</td>\n",
       "      <td>2.0</td>\n",
       "      <td>2.0</td>\n",
       "      <td>10</td>\n",
       "      <td>...</td>\n",
       "      <td>0</td>\n",
       "      <td>0</td>\n",
       "      <td>0</td>\n",
       "      <td>0</td>\n",
       "      <td>0</td>\n",
       "      <td>1</td>\n",
       "      <td>0</td>\n",
       "      <td>0</td>\n",
       "      <td>1</td>\n",
       "      <td>0</td>\n",
       "    </tr>\n",
       "    <tr>\n",
       "      <th>4</th>\n",
       "      <td>0.0</td>\n",
       "      <td>14</td>\n",
       "      <td>1</td>\n",
       "      <td>11.0</td>\n",
       "      <td>14.75</td>\n",
       "      <td>4.800000</td>\n",
       "      <td>5.2</td>\n",
       "      <td>3.0</td>\n",
       "      <td>3.0</td>\n",
       "      <td>10</td>\n",
       "      <td>...</td>\n",
       "      <td>0</td>\n",
       "      <td>0</td>\n",
       "      <td>0</td>\n",
       "      <td>0</td>\n",
       "      <td>0</td>\n",
       "      <td>1</td>\n",
       "      <td>0</td>\n",
       "      <td>0</td>\n",
       "      <td>1</td>\n",
       "      <td>0</td>\n",
       "    </tr>\n",
       "  </tbody>\n",
       "</table>\n",
       "<p>5 rows × 426 columns</p>\n",
       "</div>"
      ],
      "text/plain": [
       "   Cost of Renovation  ammenities  atm_nearby  \\\n",
       "0                 0.0           6           1   \n",
       "1                 0.0          15           0   \n",
       "2                 0.0          29           1   \n",
       "3                 0.0           5           1   \n",
       "4                 0.0          14           1   \n",
       "\n",
       "   average_transit_duration_to_subway  \\\n",
       "0                                64.0   \n",
       "1                                64.0   \n",
       "2                                11.5   \n",
       "3                                64.0   \n",
       "4                                11.0   \n",
       "\n",
       "   average_transit_duration_to_supermarket  \\\n",
       "0                                    18.00   \n",
       "1                                   172.00   \n",
       "2                                    10.00   \n",
       "3                                    16.00   \n",
       "4                                    14.75   \n",
       "\n",
       "   average_walking_duration_to_bus_station  \\\n",
       "0                                 4.000000   \n",
       "1                                18.000000   \n",
       "2                                 4.857143   \n",
       "3                                 5.100000   \n",
       "4                                 4.800000   \n",
       "\n",
       "   average_walking_duration_to_clinic  num_baths  num_beds  \\\n",
       "0                                 3.0        1.0       1.0   \n",
       "1                                22.0        3.0       3.0   \n",
       "2                                 7.0        1.0       2.0   \n",
       "3                                 2.8        2.0       2.0   \n",
       "4                                 5.2        3.0       3.0   \n",
       "\n",
       "   num_bus_stations_nearby  ...  Landed House Area Zoning_2 Storey Semi D  \\\n",
       "0                       10  ...                                         0   \n",
       "1                        0  ...                                         0   \n",
       "2                       10  ...                                         0   \n",
       "3                       10  ...                                         0   \n",
       "4                       10  ...                                         0   \n",
       "\n",
       "   Landed House Area Zoning_3 Storey Bungalow  \\\n",
       "0                                           0   \n",
       "1                                           0   \n",
       "2                                           0   \n",
       "3                                           0   \n",
       "4                                           0   \n",
       "\n",
       "   Landed House Area Zoning_3 Storey Mixed Landed  \\\n",
       "0                                               0   \n",
       "1                                               0   \n",
       "2                                               0   \n",
       "3                                               0   \n",
       "4                                               0   \n",
       "\n",
       "   Landed House Area Zoning_3 Storey Semi D  Landed House Area Zoning_GCBA  \\\n",
       "0                                         0                              0   \n",
       "1                                         0                              0   \n",
       "2                                         0                              0   \n",
       "3                                         0                              0   \n",
       "4                                         0                              0   \n",
       "\n",
       "   Landed House Area Zoning_Not Applicable  \\\n",
       "0                                        1   \n",
       "1                                        1   \n",
       "2                                        1   \n",
       "3                                        1   \n",
       "4                                        1   \n",
       "\n",
       "   Landed House Area Zoning_Not in Landed Housing Area  \\\n",
       "0                                                  0     \n",
       "1                                                  0     \n",
       "2                                                  0     \n",
       "3                                                  0     \n",
       "4                                                  0     \n",
       "\n",
       "   Landed House Area Zoning_Others  Re-wiring/Structural Renovation_No  \\\n",
       "0                                0                                   1   \n",
       "1                                0                                   1   \n",
       "2                                0                                   1   \n",
       "3                                0                                   1   \n",
       "4                                0                                   1   \n",
       "\n",
       "   Re-wiring/Structural Renovation_Yes  \n",
       "0                                    0  \n",
       "1                                    0  \n",
       "2                                    0  \n",
       "3                                    0  \n",
       "4                                    0  \n",
       "\n",
       "[5 rows x 426 columns]"
      ]
     },
     "execution_count": 68,
     "metadata": {},
     "output_type": "execute_result"
    }
   ],
   "source": [
    "# First, let's one-hot encode the categorical features\n",
    "# cat_feats.remove('District')\n",
    "final_dataset = pd.get_dummies(data=raw_final_dataset.drop(['District', 'type', 'link'], axis=1), columns=cat_feats)\n",
    "final_dataset.head()"
   ]
  },
  {
   "cell_type": "code",
   "execution_count": 69,
   "metadata": {},
   "outputs": [
    {
     "data": {
      "text/plain": [
       "Index(['Cost of Renovation', 'ammenities', 'atm_nearby',\n",
       "       'average_transit_duration_to_subway',\n",
       "       'average_transit_duration_to_supermarket',\n",
       "       'average_walking_duration_to_bus_station',\n",
       "       'average_walking_duration_to_clinic', 'num_baths', 'num_beds',\n",
       "       'num_bus_stations_nearby',\n",
       "       ...\n",
       "       'Landed House Area Zoning_2 Storey Semi D',\n",
       "       'Landed House Area Zoning_3 Storey Bungalow',\n",
       "       'Landed House Area Zoning_3 Storey Mixed Landed',\n",
       "       'Landed House Area Zoning_3 Storey Semi D',\n",
       "       'Landed House Area Zoning_GCBA',\n",
       "       'Landed House Area Zoning_Not Applicable',\n",
       "       'Landed House Area Zoning_Not in Landed Housing Area',\n",
       "       'Landed House Area Zoning_Others', 'Re-wiring/Structural Renovation_No',\n",
       "       'Re-wiring/Structural Renovation_Yes'],\n",
       "      dtype='object', length=426)"
      ]
     },
     "execution_count": 69,
     "metadata": {},
     "output_type": "execute_result"
    }
   ],
   "source": [
    "final_dataset.columns"
   ]
  },
  {
   "cell_type": "markdown",
   "metadata": {},
   "source": [
    "Which feature columns still contain missing values?"
   ]
  },
  {
   "cell_type": "code",
   "execution_count": 70,
   "metadata": {},
   "outputs": [
    {
     "data": {
      "text/plain": [
       "num_beds                   71\n",
       "sqft                      716\n",
       "tenure                   1531\n",
       "total_units              3125\n",
       "year_since_completion    1958\n",
       "dtype: int64"
      ]
     },
     "execution_count": 70,
     "metadata": {},
     "output_type": "execute_result"
    }
   ],
   "source": [
    "final_dataset.isna().sum(axis=0)[final_dataset.isna().sum(axis=0) != 0]"
   ]
  },
  {
   "cell_type": "markdown",
   "metadata": {},
   "source": [
    "How many observations have no floors?"
   ]
  },
  {
   "cell_type": "code",
   "execution_count": 71,
   "metadata": {},
   "outputs": [
    {
     "data": {
      "text/plain": [
       "8945"
      ]
     },
     "execution_count": 71,
     "metadata": {},
     "output_type": "execute_result"
    }
   ],
   "source": [
    "cols_no_floors = final_dataset[final_dataset.loc[:, [col for col in final_dataset.columns if col.split('_')[0] == 'Floor']].sum(axis=1) == 0]\n",
    "cols_no_floors.shape[0]"
   ]
  },
  {
   "cell_type": "markdown",
   "metadata": {},
   "source": [
    "To keep it simple for now, let's "
   ]
  },
  {
   "cell_type": "code",
   "execution_count": 72,
   "metadata": {},
   "outputs": [
    {
     "name": "stderr",
     "output_type": "stream",
     "text": [
      "Using TensorFlow backend.\n"
     ]
    },
    {
     "name": "stdout",
     "output_type": "stream",
     "text": [
      "Imputing row 1/9691 with 2 missing, elapsed time: 162.629\n",
      "Imputing row 101/9691 with 0 missing, elapsed time: 162.633\n",
      "Imputing row 201/9691 with 3 missing, elapsed time: 162.638\n",
      "Imputing row 301/9691 with 1 missing, elapsed time: 162.641\n",
      "Imputing row 401/9691 with 0 missing, elapsed time: 162.644\n",
      "Imputing row 501/9691 with 0 missing, elapsed time: 162.647\n",
      "Imputing row 601/9691 with 0 missing, elapsed time: 162.651\n",
      "Imputing row 701/9691 with 3 missing, elapsed time: 162.656\n",
      "Imputing row 801/9691 with 1 missing, elapsed time: 162.660\n",
      "Imputing row 901/9691 with 1 missing, elapsed time: 162.663\n",
      "Imputing row 1001/9691 with 0 missing, elapsed time: 162.667\n",
      "Imputing row 1101/9691 with 0 missing, elapsed time: 162.671\n",
      "Imputing row 1201/9691 with 1 missing, elapsed time: 162.675\n",
      "Imputing row 1301/9691 with 0 missing, elapsed time: 162.680\n",
      "Imputing row 1401/9691 with 0 missing, elapsed time: 162.684\n",
      "Imputing row 1501/9691 with 0 missing, elapsed time: 162.687\n",
      "Imputing row 1601/9691 with 0 missing, elapsed time: 162.691\n",
      "Imputing row 1701/9691 with 4 missing, elapsed time: 162.695\n",
      "Imputing row 1801/9691 with 2 missing, elapsed time: 162.699\n",
      "Imputing row 1901/9691 with 0 missing, elapsed time: 162.704\n",
      "Imputing row 2001/9691 with 2 missing, elapsed time: 162.708\n",
      "Imputing row 2101/9691 with 1 missing, elapsed time: 162.711\n",
      "Imputing row 2201/9691 with 1 missing, elapsed time: 162.715\n",
      "Imputing row 2301/9691 with 3 missing, elapsed time: 162.718\n",
      "Imputing row 2401/9691 with 1 missing, elapsed time: 162.723\n",
      "Imputing row 2501/9691 with 1 missing, elapsed time: 162.727\n",
      "Imputing row 2601/9691 with 0 missing, elapsed time: 162.731\n",
      "Imputing row 2701/9691 with 0 missing, elapsed time: 162.735\n",
      "Imputing row 2801/9691 with 3 missing, elapsed time: 162.740\n",
      "Imputing row 2901/9691 with 0 missing, elapsed time: 162.744\n",
      "Imputing row 3001/9691 with 0 missing, elapsed time: 162.748\n",
      "Imputing row 3101/9691 with 3 missing, elapsed time: 162.752\n",
      "Imputing row 3201/9691 with 0 missing, elapsed time: 162.757\n",
      "Imputing row 3301/9691 with 0 missing, elapsed time: 162.760\n",
      "Imputing row 3401/9691 with 1 missing, elapsed time: 162.764\n",
      "Imputing row 3501/9691 with 3 missing, elapsed time: 162.768\n",
      "Imputing row 3601/9691 with 2 missing, elapsed time: 162.772\n",
      "Imputing row 3701/9691 with 1 missing, elapsed time: 162.776\n",
      "Imputing row 3801/9691 with 0 missing, elapsed time: 162.781\n",
      "Imputing row 3901/9691 with 0 missing, elapsed time: 162.785\n",
      "Imputing row 4001/9691 with 0 missing, elapsed time: 162.790\n",
      "Imputing row 4101/9691 with 1 missing, elapsed time: 162.793\n",
      "Imputing row 4201/9691 with 0 missing, elapsed time: 162.797\n",
      "Imputing row 4301/9691 with 1 missing, elapsed time: 162.801\n",
      "Imputing row 4401/9691 with 2 missing, elapsed time: 162.805\n",
      "Imputing row 4501/9691 with 1 missing, elapsed time: 162.809\n",
      "Imputing row 4601/9691 with 0 missing, elapsed time: 162.813\n",
      "Imputing row 4701/9691 with 0 missing, elapsed time: 162.817\n",
      "Imputing row 4801/9691 with 0 missing, elapsed time: 162.821\n",
      "Imputing row 4901/9691 with 0 missing, elapsed time: 162.825\n",
      "Imputing row 5001/9691 with 1 missing, elapsed time: 162.829\n",
      "Imputing row 5101/9691 with 0 missing, elapsed time: 162.833\n",
      "Imputing row 5201/9691 with 1 missing, elapsed time: 162.838\n",
      "Imputing row 5301/9691 with 0 missing, elapsed time: 162.842\n",
      "Imputing row 5401/9691 with 0 missing, elapsed time: 162.846\n",
      "Imputing row 5501/9691 with 0 missing, elapsed time: 162.850\n",
      "Imputing row 5601/9691 with 3 missing, elapsed time: 162.853\n",
      "Imputing row 5701/9691 with 3 missing, elapsed time: 162.857\n",
      "Imputing row 5801/9691 with 0 missing, elapsed time: 162.861\n",
      "Imputing row 5901/9691 with 0 missing, elapsed time: 162.865\n",
      "Imputing row 6001/9691 with 1 missing, elapsed time: 162.869\n",
      "Imputing row 6101/9691 with 0 missing, elapsed time: 162.874\n",
      "Imputing row 6201/9691 with 0 missing, elapsed time: 162.877\n",
      "Imputing row 6301/9691 with 0 missing, elapsed time: 162.881\n",
      "Imputing row 6401/9691 with 0 missing, elapsed time: 162.884\n",
      "Imputing row 6501/9691 with 1 missing, elapsed time: 162.888\n",
      "Imputing row 6601/9691 with 0 missing, elapsed time: 162.892\n",
      "Imputing row 6701/9691 with 0 missing, elapsed time: 162.897\n",
      "Imputing row 6801/9691 with 0 missing, elapsed time: 162.901\n",
      "Imputing row 6901/9691 with 0 missing, elapsed time: 162.905\n",
      "Imputing row 7001/9691 with 1 missing, elapsed time: 162.910\n",
      "Imputing row 7101/9691 with 1 missing, elapsed time: 162.915\n",
      "Imputing row 7201/9691 with 1 missing, elapsed time: 162.920\n",
      "Imputing row 7301/9691 with 1 missing, elapsed time: 162.923\n",
      "Imputing row 7401/9691 with 0 missing, elapsed time: 162.928\n",
      "Imputing row 7501/9691 with 3 missing, elapsed time: 162.932\n",
      "Imputing row 7601/9691 with 0 missing, elapsed time: 162.937\n",
      "Imputing row 7701/9691 with 0 missing, elapsed time: 162.940\n",
      "Imputing row 7801/9691 with 0 missing, elapsed time: 162.944\n",
      "Imputing row 7901/9691 with 2 missing, elapsed time: 162.948\n",
      "Imputing row 8001/9691 with 3 missing, elapsed time: 162.952\n",
      "Imputing row 8101/9691 with 0 missing, elapsed time: 162.956\n",
      "Imputing row 8201/9691 with 0 missing, elapsed time: 162.960\n",
      "Imputing row 8301/9691 with 0 missing, elapsed time: 162.965\n",
      "Imputing row 8401/9691 with 1 missing, elapsed time: 162.969\n",
      "Imputing row 8501/9691 with 0 missing, elapsed time: 162.974\n",
      "Imputing row 8601/9691 with 0 missing, elapsed time: 162.978\n",
      "Imputing row 8701/9691 with 1 missing, elapsed time: 162.982\n",
      "Imputing row 8801/9691 with 0 missing, elapsed time: 162.986\n",
      "Imputing row 8901/9691 with 3 missing, elapsed time: 162.991\n",
      "Imputing row 9001/9691 with 0 missing, elapsed time: 162.995\n",
      "Imputing row 9101/9691 with 0 missing, elapsed time: 162.998\n",
      "Imputing row 9201/9691 with 1 missing, elapsed time: 163.002\n",
      "Imputing row 9301/9691 with 0 missing, elapsed time: 163.007\n",
      "Imputing row 9401/9691 with 0 missing, elapsed time: 163.010\n",
      "Imputing row 9501/9691 with 0 missing, elapsed time: 163.014\n",
      "Imputing row 9601/9691 with 0 missing, elapsed time: 163.019\n"
     ]
    }
   ],
   "source": [
    "from fancyimpute import KNN, NuclearNormMinimization, SoftImpute, BiScaler\n",
    "\n",
    "# X is the complete data matrix\n",
    "# X_incomplete has the same values as X except a subset have been replace with NaN\n",
    "\n",
    "# Use 5 nearest rows which have a feature to fill in each row's missing features\n",
    "X_filled_knn = KNN(k=5).fit_transform(final_dataset)\n",
    "\n",
    "# matrix completion using convex optimization to find low-rank solution\n",
    "# that still matches observed values. Slow!\n",
    "# X_filled_nnm = NuclearNormMinimization().fit_transform(final_dataset)\n",
    "\n",
    "# Instead of solving the nuclear norm objective directly, instead\n",
    "# induce sparsity using singular value thresholding\n",
    "# X_incomplete_normalized = BiScaler().fit_transform(final_dataset)\n",
    "# X_filled_softimpute = SoftImpute().fit_transform(X_incomplete_normalized)\n",
    "\n",
    "# print mean squared error for the  imputation methods above\n",
    "# nnm_mse = ((X_filled_nnm[missing_mask] - X[missing_mask]) ** 2).mean()\n",
    "# print(\"Nuclear norm minimization MSE: %f\" % nnm_mse)\n",
    "\n",
    "# softImpute_mse = ((X_filled_softimpute[missing_mask] - X[missing_mask]) ** 2).mean()\n",
    "# print(\"SoftImpute MSE: %f\" % softImpute_mse)\n",
    "\n",
    "# knn_mse = ((X_filled_knn[missing_mask] - X[missing_mask]) ** 2).mean()\n",
    "# print(\"knnImpute MSE: %f\" % knn_mse)"
   ]
  },
  {
   "cell_type": "code",
   "execution_count": 73,
   "metadata": {},
   "outputs": [
    {
     "data": {
      "text/html": [
       "<div>\n",
       "<style scoped>\n",
       "    .dataframe tbody tr th:only-of-type {\n",
       "        vertical-align: middle;\n",
       "    }\n",
       "\n",
       "    .dataframe tbody tr th {\n",
       "        vertical-align: top;\n",
       "    }\n",
       "\n",
       "    .dataframe thead th {\n",
       "        text-align: right;\n",
       "    }\n",
       "</style>\n",
       "<table border=\"1\" class=\"dataframe\">\n",
       "  <thead>\n",
       "    <tr style=\"text-align: right;\">\n",
       "      <th></th>\n",
       "      <th>Cost of Renovation</th>\n",
       "      <th>ammenities</th>\n",
       "      <th>atm_nearby</th>\n",
       "      <th>average_transit_duration_to_subway</th>\n",
       "      <th>average_transit_duration_to_supermarket</th>\n",
       "      <th>average_walking_duration_to_bus_station</th>\n",
       "      <th>average_walking_duration_to_clinic</th>\n",
       "      <th>num_baths</th>\n",
       "      <th>num_beds</th>\n",
       "      <th>num_bus_stations_nearby</th>\n",
       "      <th>...</th>\n",
       "      <th>Landed House Area Zoning_2 Storey Semi D</th>\n",
       "      <th>Landed House Area Zoning_3 Storey Bungalow</th>\n",
       "      <th>Landed House Area Zoning_3 Storey Mixed Landed</th>\n",
       "      <th>Landed House Area Zoning_3 Storey Semi D</th>\n",
       "      <th>Landed House Area Zoning_GCBA</th>\n",
       "      <th>Landed House Area Zoning_Not Applicable</th>\n",
       "      <th>Landed House Area Zoning_Not in Landed Housing Area</th>\n",
       "      <th>Landed House Area Zoning_Others</th>\n",
       "      <th>Re-wiring/Structural Renovation_No</th>\n",
       "      <th>Re-wiring/Structural Renovation_Yes</th>\n",
       "    </tr>\n",
       "  </thead>\n",
       "  <tbody>\n",
       "    <tr>\n",
       "      <th>0</th>\n",
       "      <td>0.0</td>\n",
       "      <td>6.0</td>\n",
       "      <td>1.0</td>\n",
       "      <td>64.0</td>\n",
       "      <td>18.00</td>\n",
       "      <td>4.000000</td>\n",
       "      <td>3.0</td>\n",
       "      <td>1.0</td>\n",
       "      <td>1.0</td>\n",
       "      <td>10.0</td>\n",
       "      <td>...</td>\n",
       "      <td>0.0</td>\n",
       "      <td>0.0</td>\n",
       "      <td>0.0</td>\n",
       "      <td>0.0</td>\n",
       "      <td>0.0</td>\n",
       "      <td>1.0</td>\n",
       "      <td>0.0</td>\n",
       "      <td>0.0</td>\n",
       "      <td>1.0</td>\n",
       "      <td>0.0</td>\n",
       "    </tr>\n",
       "    <tr>\n",
       "      <th>1</th>\n",
       "      <td>0.0</td>\n",
       "      <td>15.0</td>\n",
       "      <td>0.0</td>\n",
       "      <td>64.0</td>\n",
       "      <td>172.00</td>\n",
       "      <td>18.000000</td>\n",
       "      <td>22.0</td>\n",
       "      <td>3.0</td>\n",
       "      <td>3.0</td>\n",
       "      <td>0.0</td>\n",
       "      <td>...</td>\n",
       "      <td>0.0</td>\n",
       "      <td>0.0</td>\n",
       "      <td>0.0</td>\n",
       "      <td>0.0</td>\n",
       "      <td>0.0</td>\n",
       "      <td>1.0</td>\n",
       "      <td>0.0</td>\n",
       "      <td>0.0</td>\n",
       "      <td>1.0</td>\n",
       "      <td>0.0</td>\n",
       "    </tr>\n",
       "    <tr>\n",
       "      <th>2</th>\n",
       "      <td>0.0</td>\n",
       "      <td>29.0</td>\n",
       "      <td>1.0</td>\n",
       "      <td>11.5</td>\n",
       "      <td>10.00</td>\n",
       "      <td>4.857143</td>\n",
       "      <td>7.0</td>\n",
       "      <td>1.0</td>\n",
       "      <td>2.0</td>\n",
       "      <td>10.0</td>\n",
       "      <td>...</td>\n",
       "      <td>0.0</td>\n",
       "      <td>0.0</td>\n",
       "      <td>0.0</td>\n",
       "      <td>0.0</td>\n",
       "      <td>0.0</td>\n",
       "      <td>1.0</td>\n",
       "      <td>0.0</td>\n",
       "      <td>0.0</td>\n",
       "      <td>1.0</td>\n",
       "      <td>0.0</td>\n",
       "    </tr>\n",
       "    <tr>\n",
       "      <th>3</th>\n",
       "      <td>0.0</td>\n",
       "      <td>5.0</td>\n",
       "      <td>1.0</td>\n",
       "      <td>64.0</td>\n",
       "      <td>16.00</td>\n",
       "      <td>5.100000</td>\n",
       "      <td>2.8</td>\n",
       "      <td>2.0</td>\n",
       "      <td>2.0</td>\n",
       "      <td>10.0</td>\n",
       "      <td>...</td>\n",
       "      <td>0.0</td>\n",
       "      <td>0.0</td>\n",
       "      <td>0.0</td>\n",
       "      <td>0.0</td>\n",
       "      <td>0.0</td>\n",
       "      <td>1.0</td>\n",
       "      <td>0.0</td>\n",
       "      <td>0.0</td>\n",
       "      <td>1.0</td>\n",
       "      <td>0.0</td>\n",
       "    </tr>\n",
       "    <tr>\n",
       "      <th>4</th>\n",
       "      <td>0.0</td>\n",
       "      <td>14.0</td>\n",
       "      <td>1.0</td>\n",
       "      <td>11.0</td>\n",
       "      <td>14.75</td>\n",
       "      <td>4.800000</td>\n",
       "      <td>5.2</td>\n",
       "      <td>3.0</td>\n",
       "      <td>3.0</td>\n",
       "      <td>10.0</td>\n",
       "      <td>...</td>\n",
       "      <td>0.0</td>\n",
       "      <td>0.0</td>\n",
       "      <td>0.0</td>\n",
       "      <td>0.0</td>\n",
       "      <td>0.0</td>\n",
       "      <td>1.0</td>\n",
       "      <td>0.0</td>\n",
       "      <td>0.0</td>\n",
       "      <td>1.0</td>\n",
       "      <td>0.0</td>\n",
       "    </tr>\n",
       "  </tbody>\n",
       "</table>\n",
       "<p>5 rows × 426 columns</p>\n",
       "</div>"
      ],
      "text/plain": [
       "   Cost of Renovation  ammenities  atm_nearby  \\\n",
       "0                 0.0         6.0         1.0   \n",
       "1                 0.0        15.0         0.0   \n",
       "2                 0.0        29.0         1.0   \n",
       "3                 0.0         5.0         1.0   \n",
       "4                 0.0        14.0         1.0   \n",
       "\n",
       "   average_transit_duration_to_subway  \\\n",
       "0                                64.0   \n",
       "1                                64.0   \n",
       "2                                11.5   \n",
       "3                                64.0   \n",
       "4                                11.0   \n",
       "\n",
       "   average_transit_duration_to_supermarket  \\\n",
       "0                                    18.00   \n",
       "1                                   172.00   \n",
       "2                                    10.00   \n",
       "3                                    16.00   \n",
       "4                                    14.75   \n",
       "\n",
       "   average_walking_duration_to_bus_station  \\\n",
       "0                                 4.000000   \n",
       "1                                18.000000   \n",
       "2                                 4.857143   \n",
       "3                                 5.100000   \n",
       "4                                 4.800000   \n",
       "\n",
       "   average_walking_duration_to_clinic  num_baths  num_beds  \\\n",
       "0                                 3.0        1.0       1.0   \n",
       "1                                22.0        3.0       3.0   \n",
       "2                                 7.0        1.0       2.0   \n",
       "3                                 2.8        2.0       2.0   \n",
       "4                                 5.2        3.0       3.0   \n",
       "\n",
       "   num_bus_stations_nearby  ...  Landed House Area Zoning_2 Storey Semi D  \\\n",
       "0                     10.0  ...                                       0.0   \n",
       "1                      0.0  ...                                       0.0   \n",
       "2                     10.0  ...                                       0.0   \n",
       "3                     10.0  ...                                       0.0   \n",
       "4                     10.0  ...                                       0.0   \n",
       "\n",
       "   Landed House Area Zoning_3 Storey Bungalow  \\\n",
       "0                                         0.0   \n",
       "1                                         0.0   \n",
       "2                                         0.0   \n",
       "3                                         0.0   \n",
       "4                                         0.0   \n",
       "\n",
       "   Landed House Area Zoning_3 Storey Mixed Landed  \\\n",
       "0                                             0.0   \n",
       "1                                             0.0   \n",
       "2                                             0.0   \n",
       "3                                             0.0   \n",
       "4                                             0.0   \n",
       "\n",
       "   Landed House Area Zoning_3 Storey Semi D  Landed House Area Zoning_GCBA  \\\n",
       "0                                       0.0                            0.0   \n",
       "1                                       0.0                            0.0   \n",
       "2                                       0.0                            0.0   \n",
       "3                                       0.0                            0.0   \n",
       "4                                       0.0                            0.0   \n",
       "\n",
       "   Landed House Area Zoning_Not Applicable  \\\n",
       "0                                      1.0   \n",
       "1                                      1.0   \n",
       "2                                      1.0   \n",
       "3                                      1.0   \n",
       "4                                      1.0   \n",
       "\n",
       "   Landed House Area Zoning_Not in Landed Housing Area  \\\n",
       "0                                                0.0     \n",
       "1                                                0.0     \n",
       "2                                                0.0     \n",
       "3                                                0.0     \n",
       "4                                                0.0     \n",
       "\n",
       "   Landed House Area Zoning_Others  Re-wiring/Structural Renovation_No  \\\n",
       "0                              0.0                                 1.0   \n",
       "1                              0.0                                 1.0   \n",
       "2                              0.0                                 1.0   \n",
       "3                              0.0                                 1.0   \n",
       "4                              0.0                                 1.0   \n",
       "\n",
       "   Re-wiring/Structural Renovation_Yes  \n",
       "0                                  0.0  \n",
       "1                                  0.0  \n",
       "2                                  0.0  \n",
       "3                                  0.0  \n",
       "4                                  0.0  \n",
       "\n",
       "[5 rows x 426 columns]"
      ]
     },
     "execution_count": 73,
     "metadata": {},
     "output_type": "execute_result"
    }
   ],
   "source": [
    "imputed_dataset = pd.DataFrame(X_filled_knn, columns=final_dataset.columns, index=raw_final_dataset.index)\n",
    "imputed_dataset.head()"
   ]
  },
  {
   "cell_type": "markdown",
   "metadata": {},
   "source": [
    "<a id='load'></a>\n",
    "\n",
    "---\n",
    "# Load\n",
    "\n",
    "We'll simply load the finalized dataset into a csv file for CRISP-DM."
   ]
  },
  {
   "cell_type": "code",
   "execution_count": 74,
   "metadata": {},
   "outputs": [],
   "source": [
    "# Save the imputed dataset\n",
    "pd.concat([imputed_dataset, raw_final_dataset[['District', 'type', 'link']]], axis=1).to_csv('./data/99.co/cleaned_dataset_{}.csv'.format(date.today().strftime(\"%Y_%m_%d\")))"
   ]
  },
  {
   "cell_type": "markdown",
   "metadata": {},
   "source": [
    "<a id='resources'></a>\n",
    "\n",
    "---\n",
    "## Resources\n",
    "- https://www.99.co/blog/singapore/a-general-guide-to-types-of-housing-in-singapore/\n",
    "- https://www.99.co/blog/singapore/freehold-vs-leasehold-condos/"
   ]
  }
 ],
 "metadata": {
  "kernelspec": {
   "display_name": "Python 3",
   "language": "python",
   "name": "python3"
  },
  "language_info": {
   "codemirror_mode": {
    "name": "ipython",
    "version": 3
   },
   "file_extension": ".py",
   "mimetype": "text/x-python",
   "name": "python",
   "nbconvert_exporter": "python",
   "pygments_lexer": "ipython3",
   "version": "3.7.3"
  }
 },
 "nbformat": 4,
 "nbformat_minor": 2
}
