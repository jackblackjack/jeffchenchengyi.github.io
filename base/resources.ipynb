{
 "cells": [
  {
   "cell_type": "markdown",
   "metadata": {},
   "source": [
    "---\n",
    "### How did you get into Machine Learning?\n",
    "\n",
    "Relevant Courses @ USC:\n",
    "- CSCI 499: AI for Social Good\n",
    "- MATH 225: Linear Algebra\n",
    "- BUAD 310: Business Statistics\n",
    "\n",
    "Primary Resources for Intuition / Machine Learning Programming:\n",
    "- [Jose Portilla's Python for Financial Analysis and Algorithmic Trading](https://www.udemy.com/python-for-finance-and-trading-algorithms/learn/lecture/7533522#content)\n",
    "- [Jose Portilla's Complete Guide to Tensorflow for Deep Learning with Python](https://www.udemy.com/complete-guide-to-tensorflow-for-deep-learning-with-python/learn/)\n",
    "- [SuperDataScience's Machine Learning A-Z](https://www.udemy.com/machinelearning/learn/)\n",
    "\n",
    "Primary Resources for Theoretical Foundation of Machine Learning:\n",
    "- [Kilian Weinberger's CS4780 Lectures on Machine Learning for Intelligent Systems @ Cornell](http://www.cs.cornell.edu/courses/cs4780/2018fa/lectures/index.html)\n",
    "- [Stefano Ermon's CS228 Notes on Probabilistic Graphical Models @ Stanford](https://ermongroup.github.io/cs228-notes/)\n",
    "- [David Rosenberg's Lectures on Foundations of Machine Learning @ Bloomberg](https://bloomberg.github.io/foml/#home)"
   ]
  }
 ],
 "metadata": {
  "kernelspec": {
   "display_name": "Python 3",
   "language": "python",
   "name": "python3"
  },
  "language_info": {
   "codemirror_mode": {
    "name": "ipython",
    "version": 3
   },
   "file_extension": ".py",
   "mimetype": "text/x-python",
   "name": "python",
   "nbconvert_exporter": "python",
   "pygments_lexer": "ipython3",
   "version": "3.7.3"
  }
 },
 "nbformat": 4,
 "nbformat_minor": 2
}
