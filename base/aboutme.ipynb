{
 "cells": [
  {
   "cell_type": "markdown",
   "metadata": {},
   "source": [
    "# About Me\n",
    "\n",
    "---\n",
    "### Hi there, I'm Jeff!\n",
    "<br>\n",
    "<img src='./images/header.jpg'>\n",
    "\n",
    "---\n",
    "### Who am I?\n",
    "I am a rising junior @ University of Southern California, studying Computer Science and Business. I love learning and applying new Data science techniques.\n",
    "\n",
    "---\n",
    "### Where I'm From?\n",
    "I come from sunny Singapore.\n",
    "\n",
    "---\n",
    "### What are your favorite hobbies?\n",
    "When I'm not working on my personal data science projects, I enjoy playing the saxophone"
   ]
  }
 ],
 "metadata": {
  "kernelspec": {
   "display_name": "Python 3",
   "language": "python",
   "name": "python3"
  },
  "language_info": {
   "codemirror_mode": {
    "name": "ipython",
    "version": 3
   },
   "file_extension": ".py",
   "mimetype": "text/x-python",
   "name": "python",
   "nbconvert_exporter": "python",
   "pygments_lexer": "ipython3",
   "version": "3.7.3"
  }
 },
 "nbformat": 4,
 "nbformat_minor": 2
}
