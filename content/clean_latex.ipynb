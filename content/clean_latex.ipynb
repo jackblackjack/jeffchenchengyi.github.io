{
 "cells": [
  {
   "cell_type": "code",
   "execution_count": 28,
   "metadata": {},
   "outputs": [],
   "source": [
    "import os\n",
    "import re\n",
    "\n",
    "replacement = \"\"\"\"\"\"\n",
    "for dname, dirs, files in os.walk('./portfolio'):\n",
    "    for fname in files:\n",
    "        fpath = os.path.join(dname, fname)\n",
    "        if fpath[-5:] == 'ipynb':\n",
    "            with open(fpath) as f:\n",
    "                s = f.read()\n",
    "            s = s.replace(\"{{\", \"{ {\")\n",
    "            s = s.replace(\"}}\", \"} }\")\n",
    "            with open(fpath, \"w\") as f:\n",
    "                f.write(s)"
   ]
  },
  {
   "cell_type": "code",
   "execution_count": 27,
   "metadata": {},
   "outputs": [],
   "source": [
    "for dname, dirs, files in os.walk('./machine-learning'):\n",
    "    for fname in files:\n",
    "        fpath = os.path.join(dname, fname)\n",
    "        if fpath[-5:] == 'ipynb':\n",
    "            with open(fpath) as f:\n",
    "                s = f.read()\n",
    "            s = s.replace(\"{{\", \"{ {\")\n",
    "            s = s.replace(\"}}\", \"} }\")\n",
    "            with open(fpath, \"w\") as f:\n",
    "                f.write(s)"
   ]
  }
 ],
 "metadata": {
  "kernelspec": {
   "display_name": "Python 3",
   "language": "python",
   "name": "python3"
  },
  "language_info": {
   "codemirror_mode": {
    "name": "ipython",
    "version": 3
   },
   "file_extension": ".py",
   "mimetype": "text/x-python",
   "name": "python",
   "nbconvert_exporter": "python",
   "pygments_lexer": "ipython3",
   "version": "3.7.3"
  }
 },
 "nbformat": 4,
 "nbformat_minor": 2
}
