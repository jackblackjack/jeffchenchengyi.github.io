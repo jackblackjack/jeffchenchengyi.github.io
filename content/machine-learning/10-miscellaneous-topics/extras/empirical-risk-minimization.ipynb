{
 "cells": [
  {
   "cell_type": "markdown",
   "metadata": {},
   "source": [
    "# Empirical Risk Minimization\n",
    "\n",
    "Losses can be derived from MLE / MAP principles if algorithm is parametric such as cross-entropy loss. However, Hinge Loss is derived from SVM, a non-parametric ML algo. Squared Loss / MSE Loss can be derived through both MLE when we assume the data follows a Gaussian Distribution and when we use the Ordinary Least Squares method to minimize the squared residuals directly."
   ]
  },
  {
   "cell_type": "markdown",
   "metadata": {},
   "source": [
    "---\n",
    "# Classification Losses"
   ]
  },
  {
   "cell_type": "markdown",
   "metadata": {},
   "source": [
    "## Cross-Entropy Loss\n",
    "\n",
    "$$H(p, q) = -\\sum_{i=1}^n {\\mathrm{p}(x_i) \\log_b \\mathrm{q}(x_i)}\\,\\{\\text{for discrete }x\\} \\\\ = -\\int_{x} {\\mathrm{p}(x) \\log_b \\mathrm{q}(x)}{dx}\\,\\{\\text{for continuous }x\\}$$\n",
    "\n",
    "If we build an animal image classifier to predict a red panda:\n",
    "\n",
    "<img src=\"https://live.staticflickr.com/8146/29545409156_e6c3547efc_b.jpg\" width=\"500px\"/>\n",
    "\n",
    "| Animal Classes | Predicted Distribution $q$ | True Distribution $p$ |\n",
    "| :------------: | :------------------------: | :-------------------: |\n",
    "| Cat            | 0.02                       | 0.00                  |\n",
    "| Dog            | 0.30                       | 0.00                  |\n",
    "| Fox            | 0.45                       | 0.00                  |\n",
    "| Cow            | 0.00                       | 0.00                  |\n",
    "| Red Panda      | 0.25                       | 1.00                  |\n",
    "| Bear           | 0.05                       | 0.00                  |\n",
    "| Dolphin        | 0.00                       | 0.00                  |\n",
    "\n",
    "$$H(p, q) = -\\sum_{i=1}^n {\\mathrm{p}(x_i) \\log_b \\mathrm{q}(x_i)} = -{log}_2{0.25} = 1.386$$"
   ]
  },
  {
   "cell_type": "markdown",
   "metadata": {},
   "source": [
    "---\n",
    "# Regression Losses"
   ]
  },
  {
   "cell_type": "markdown",
   "metadata": {},
   "source": []
  },
  {
   "cell_type": "markdown",
   "metadata": {},
   "source": [
    "---\n",
    "## Resources\n",
    "\n",
    "- [Empirical Risk Minimization Lecture by Kilian Weinberger](http://www.cs.cornell.edu/courses/cs4780/2018fa/lectures/lecturenote10.html)\n",
    "- [5 Regression Loss Functions All Machine Learners Should Know](https://heartbeat.fritz.ai/5-regression-loss-functions-all-machine-learners-should-know-4fb140e9d4b0)"
   ]
  }
 ],
 "metadata": {
  "kernelspec": {
   "display_name": "Python 3",
   "language": "python",
   "name": "python3"
  },
  "language_info": {
   "codemirror_mode": {
    "name": "ipython",
    "version": 3
   },
   "file_extension": ".py",
   "mimetype": "text/x-python",
   "name": "python",
   "nbconvert_exporter": "python",
   "pygments_lexer": "ipython3",
   "version": "3.7.3"
  }
 },
 "nbformat": 4,
 "nbformat_minor": 2
}
