{
 "cells": [
  {
   "cell_type": "markdown",
   "metadata": {},
   "source": [
    "# Math of Neural Network\n",
    "\n",
    "We'll walk through how a neural network works in this notebook, as well as the math behind some of the core concepts like the connection between taylor series expansion and gradient descent in backpropagation.\n",
    "\n",
    "### Table of Contents\n",
    "1. [Forward Propagation](#forward)\n",
    "2. [Gradient Descent](#gradientdescent)\n",
    "3. [Backward Propagation](#backward)\n",
    "4. [Vectorizing Operations](#vectorize)"
   ]
  },
  {
   "cell_type": "markdown",
   "metadata": {},
   "source": [
    "---\n",
    "# Forward Propagation<a id='forward'></a>\n"
   ]
  },
  {
   "cell_type": "markdown",
   "metadata": {},
   "source": [
    "---\n",
    "# Gradient Descent<a id='gradientdescent'></a>\n",
    "\n",
    "Remember that the gradient is the direction of steepest ascent\n",
    "- E.g. \n",
    "$$\n",
    "{f} = \n",
    "\\nabla{f}\n",
    "$$  \n",
    "\n",
    "### Relationship between Taylor Series and Gradient Descent\n"
   ]
  },
  {
   "cell_type": "markdown",
   "metadata": {},
   "source": [
    "---\n",
    "# Backpropagation<a id='backward'></a>\n",
    " "
   ]
  },
  {
   "cell_type": "markdown",
   "metadata": {},
   "source": [
    "---\n",
    "# Vectorizing Operations<a id='vectorize'></a>"
   ]
  },
  {
   "cell_type": "markdown",
   "metadata": {},
   "source": [
    "---\n",
    "## Resources:\n",
    "- [Why is the Gradient is the direction of the steepest ascent?](https://www.khanacademy.org/math/multivariable-calculus/multivariable-derivatives/gradient-and-directional-derivatives/v/why-the-gradient-is-the-direction-of-steepest-ascent)\n",
    "- [Ryan Harris' Backpropagation Playlist](https://www.youtube.com/playlist?list=PLRyu4ecIE9ti5wsokn1j_ZJU7a7N5hREf)\n",
    "- [Kilian Weinberger on Gradient Descent @ Cornell](http://www.cs.cornell.edu/courses/cs4780/2018fa/lectures/lecturenote07.html)\n",
    "- [Rajarshi Banerjee on connection between Taylor Series and Gradient Descent](https://medium.com/@rajarshi.banerjee47/the-mathematics-of-neural-networks-5af71963e538)"
   ]
  }
 ],
 "metadata": {
  "kernelspec": {
   "display_name": "Python 3",
   "language": "python",
   "name": "python3"
  },
  "language_info": {
   "codemirror_mode": {
    "name": "ipython",
    "version": 3
   },
   "file_extension": ".py",
   "mimetype": "text/x-python",
   "name": "python",
   "nbconvert_exporter": "python",
   "pygments_lexer": "ipython3",
   "version": "3.7.3"
  }
 },
 "nbformat": 4,
 "nbformat_minor": 2
}
