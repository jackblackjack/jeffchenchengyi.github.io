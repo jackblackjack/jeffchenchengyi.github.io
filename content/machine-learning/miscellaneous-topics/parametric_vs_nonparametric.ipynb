{
 "cells": [
  {
   "cell_type": "markdown",
   "metadata": {},
   "source": [
    "# Parametric Vs. Non-Parametric"
   ]
  },
  {
   "cell_type": "markdown",
   "metadata": {},
   "source": [
    "## Parametric: Assumes a Probability distribution + Finite set of Parameters\n",
    "- [Linear Regression]()\n",
    "\n",
    "\n",
    "## Non-parametric: Does not assume a Probability distribution + Infinite set of Parameters\n",
    "- [kNN](https://en.wikipedia.org/wiki/K-nearest_neighbors_algorithm)\n",
    "- [Linear SVM]"
   ]
  },
  {
   "cell_type": "markdown",
   "metadata": {},
   "source": [
    "---\n",
    "## Resources:\n",
    "- [MLE explained](https://towardsdatascience.com/probability-concepts-explained-maximum-likelihood-estimation-c7b4342fdbb1)\n",
    "- [Least Squares Minimization = MLE assuming data follows Gaussian Distribution](https://web.archive.org/web/20111202153913/http://www.cs.cmu.edu/~epxing/Class/10701/recitation/recitation3.pdf)\n",
    "- [Parametric (Linear Regression) Vs. Non-parametric (kNN)](https://web.as.uky.edu/statistics/users/pbreheny/621/F12/notes/10-30.pdf)\n",
    "- [MLE Vs. kNN](https://mustafamahrous.wordpress.com/2016/01/02/maximum-likelihood-estimation-mle-vs-k-nearest-neighbor-search-knn/)"
   ]
  },
  {
   "cell_type": "code",
   "execution_count": null,
   "metadata": {},
   "outputs": [],
   "source": []
  }
 ],
 "metadata": {
  "kernelspec": {
   "display_name": "Python 3",
   "language": "python",
   "name": "python3"
  },
  "language_info": {
   "codemirror_mode": {
    "name": "ipython",
    "version": 3
   },
   "file_extension": ".py",
   "mimetype": "text/x-python",
   "name": "python",
   "nbconvert_exporter": "python",
   "pygments_lexer": "ipython3",
   "version": "3.7.3"
  }
 },
 "nbformat": 4,
 "nbformat_minor": 2
}
