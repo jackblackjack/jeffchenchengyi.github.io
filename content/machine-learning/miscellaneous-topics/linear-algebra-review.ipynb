{
 "cells": [
  {
   "cell_type": "markdown",
   "metadata": {},
   "source": [
    "# Linear Algebra Review\n",
    "\n",
    "In this notebook, we'll keep all the miscellaneous linear algebra things that are good to know."
   ]
  },
  {
   "cell_type": "code",
   "execution_count": 9,
   "metadata": {},
   "outputs": [],
   "source": [
    "import numpy as np\n",
    "import matplotlib.pyplot as plt"
   ]
  },
  {
   "cell_type": "markdown",
   "metadata": {},
   "source": [
    "---\n",
    "# Dot Products and Projections\n",
    "\n",
    "Euclidean Norm:\n",
    "- $\\|\\vec{x}\\|_2 = \\sqrt{x_1^2 + \\cdots + x_n^2}$\n",
    "\n",
    "Cosine similarity:\n",
    "- $cos\\theta = \\frac{\\vec{a} \\cdot \\vec{b} }{\\|\\vec{a}\\|_2 \\|\\vec{b}\\|_2}$\n",
    "\n",
    "Dot Product:\n",
    "- $\\vec{a} \\cdot \\vec{b} = \\mathbf{a}^\\top \\mathbf{b}$\n",
    "\n",
    "Inner Product:\n",
    "- $\\left\\langle\n",
    "    \\begin{bmatrix} a_0 \\\\ \\vdots \\\\ a_n \\end{bmatrix},\n",
    "    \\begin{bmatrix} b_0 \\\\ \\vdots \\\\ b_n \\end{bmatrix}\n",
    "    \\right\\rangle$\n",
    "    \n",
    "$$\\therefore \\text{Un-normalized Cosine Similarity} <=> \\text{Dot Product} <=> \\text{Inner Product}$$\n",
    "\n",
    "Projections:\n",
    "- Scalar Projection of $\\vec{b}$ onto $\\vec{a}$, AKA component of $\\vec{b}$ in direction of $\\vec{a}$ $\\rightarrow comp_{\\vec{a} }\\vec{b} = \\|\\vec{b}\\|_2cos\\theta = \\frac{\\vec{a} \\cdot \\vec{b} }{\\|\\vec{a}\\|_2}$\n",
    "- Vector Projection of $\\vec{b}$ onto $\\vec{a}$ is just the scalar projection multiplied by the unit vector of $\\vec{a}$ $\\rightarrow projection_{\\vec{a} }\\vec{b} = \\|\\vec{b}\\|_2cos\\theta * \\frac{\\vec{a} }{\\|\\vec{a}\\|_2} = \\frac{\\vec{a} \\cdot \\vec{b} }{\\|\\vec{a}\\|_2} * \\frac{\\vec{a} }{\\|\\vec{a}\\|_2}$"
   ]
  },
  {
   "cell_type": "code",
   "execution_count": 10,
   "metadata": {},
   "outputs": [
    {
     "data": {
      "image/png": "[encoded data removed]",
      "text/plain": [
       "<Figure size 432x288 with 1 Axes>"
      ]
     },
     "metadata": {
      "needs_background": "light"
     },
     "output_type": "display_data"
    }
   ],
   "source": [
    "plt.plot(np.arange(0, np.pi, 0.01), np.cos(np.arange(0, np.pi, 0.01)))\n",
    "plt.grid()\n",
    "plt.title('cos wave')\n",
    "plt.show();"
   ]
  },
  {
   "cell_type": "markdown",
   "metadata": {},
   "source": [
    "---\n",
    "# Equation of a Hyperplane\n",
    "\n",
    "Back in highschool, we learnt that a line in 2-D is denoted by \n",
    "$$\n",
    "y=mx+b\n",
    "$$\n",
    ", where $y$ is the vertical axis, $x$ is the horizonatal axis, $m$ is the slope of the line, and $b$ is the y-intercept.\n",
    "\n",
    "However, now in the world of linear algebra, we learn that the general form of any hyperplane (*A subspace of one dimension less than its ambient space, e.g. line in 2-D is a hyperplane, plane in 3-D is a hyperplane too*) is \n",
    "$$\n",
    "{w_n}{x_n} + {w_{n - 1}{x_{n - 1} }} + ... + {w_0}{x_0} = \n",
    "\\begin{bmatrix} {w_n}, {w_{n - 1} }, ..., {w_0} \\end{bmatrix}\n",
    "\\begin{bmatrix} {x_n} \\\\ {x_{n - 1} } \\\\ \\vdots \\\\ {x_0} \\end{bmatrix} = \\mathbf{w}^\\top\\mathbf{x} = 0\n",
    "$$\n",
    "\n",
    "Hence,\n",
    "1. $$y=mx+b$$\n",
    "2. $$y-mx-b=0$$\n",
    "3. $$(1)*(y)+(-m)*(x)+(-b)*(1)=0$$\n",
    "4. $$\n",
    "\\begin{bmatrix} 1, -m, -b \\end{bmatrix}\n",
    "\\begin{bmatrix} y \\\\ x \\\\ 1 \\end{bmatrix}=\\mathbf{w}^\\top\\mathbf{x}=0\n",
    "$$\n",
    "\n",
    "From now onwards, whenever we're talking about hyperplanes, we can always translate all the data points horizontally and vertically such that the hyperplane passes through the origin. This is a very important point as it allows us to fix this form $\\rightarrow \\mathbf{w}^\\top\\mathbf{x} = 0$ as the equation of a hyperplane. Furthermore, it much better sense now when we talk about why all the points on the hyperplane, $\\forall{i} \\vec{x_i}$, are orthogonal to $\\vec{w}$, making their dot product / inner product / un-normalized cosine similarity $= 0$."
   ]
  },
  {
   "cell_type": "markdown",
   "metadata": {},
   "source": [
    "---\n",
    "## Resources:\n",
    "- [Why $\\mathbf{X}^T \\mathbf{X}$ is always positive semi-definite](https://statisticaloddsandends.wordpress.com/2018/01/31/xtx-is-always-positive-semidefinite/)\n",
    "- [Dot Products and Projections](https://math.oregonstate.edu/home/programs/undergrad/CalculusQuestStudyGuides/vcalc/dotprod/dotprod.html)\n",
    "- [Understanding what $\\mathbf{w}$ is and why $y =mx + b$ <=> $\\mathbf{w}^\\top\\mathbf{x}=0$](https://www.youtube.com/watch?v=3qzWeokRYTA)"
   ]
  }
 ],
 "metadata": {
  "kernelspec": {
   "display_name": "Python 3",
   "language": "python",
   "name": "python3"
  },
  "language_info": {
   "codemirror_mode": {
    "name": "ipython",
    "version": 3
   },
   "file_extension": ".py",
   "mimetype": "text/x-python",
   "name": "python",
   "nbconvert_exporter": "python",
   "pygments_lexer": "ipython3",
   "version": "3.6.7"
  }
 },
 "nbformat": 4,
 "nbformat_minor": 2
}
