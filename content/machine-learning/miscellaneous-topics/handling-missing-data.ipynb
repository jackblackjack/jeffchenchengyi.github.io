{
 "cells": [
  {
   "cell_type": "markdown",
   "metadata": {},
   "source": [
    "# How can we handle Missing Data?\n",
    "\n",
    "In this notebook we'll provide an overview of the techniques and APIs used for imputing missing data."
   ]
  },
  {
   "cell_type": "markdown",
   "metadata": {},
   "source": [
    "---\n",
    "# Missing Data Mechanisms\n",
    "\n",
    "Why do we have missing data in the first place?\n",
    "\n",
    "### 1. Structurally missing data\n",
    "- Structurally missing data is data that is missing for a logical reason.\n",
    "\n",
    "### 2. Missing completely at random (MCAR)\n",
    "- Assumes that whether or not the person has missing data is completely unrelated to the other information in the data.\n",
    "\n",
    "### 3. Missing at random (MAR)\n",
    "- Assumes that we can predict the value that is missing based on the other data.\n",
    "\n",
    "### 4. Missing not at random (nonignorable)\n",
    "- E.g., people with very low incomes and very high incomes tend to refuse to answer. Or there could be some other reason we just do not know. Hence, we cannot use any of the standard methods for dealing with missing data (e.g., imputation, or algorithms specifically designed for missing values)."
   ]
  },
  {
   "cell_type": "markdown",
   "metadata": {},
   "source": [
    "---\n",
    "# Missing Data Patterns\n",
    "\n",
    "What cases of missing data exist?\n",
    "\n",
    "Little and Rubin (2002) classify these into the following techincal categories.\n",
    "\n",
    "We shall illustrate with a case of cross-classification of Sex, Race, Admission and Department, $S$, $R$, $A$, $D$.\n",
    "\n",
    "### 1. Univariate: \n",
    "- $Mij = 0$ unless $j = j*$, e.g. an unmeasured response. \n",
    "- Example: $R$ unobserved for some, but data otherwise complete.\n",
    "\n",
    "### 2. Multivariate: \n",
    "- $Mij = 0$ unless $j \\in J \\subset V$ , as above, just with multivariate response, e.g. in surveys. \n",
    "- Example: For some subjects, both $R$ and $S$ unobserved.\n",
    "\n",
    "### 3. Monotone: \n",
    "- There is an ordering of $V$ so $M_{ik} = 0$ implies $M_{ij} = 0$ for $j < k$, e.g. drop-out in longitudinal studies. \n",
    "- Example: For some, $A$ is unobserved, others neither $A$ nor $R$, but data otherwise complete.\n",
    "\n",
    "### 4. Disjoint: Two subsets of variables never observed together. Controversial. Appears in Rubin’s causal model. \n",
    "- Example: $S$ and $R$ never both observed.\n",
    "\n",
    "### 5. General: \n",
    "- none of the above. Haphazardly scattered missing values. \n",
    "- Example: $R$ unobserved for some, $A$ unobserved for others, $S$, $D$ for some.\n",
    "\n",
    "### 6. Latent: \n",
    "- A certain variable is never observed. Maybe it is even unobservable. \n",
    "- Example: $S$ never observed, but believed to be important for explaining the data."
   ]
  },
  {
   "cell_type": "markdown",
   "metadata": {},
   "source": [
    "---\n",
    "# Methods to deal with Missing Data\n",
    "\n",
    "### 1. Complete case analysis\n",
    "- analyse only cases where all variables are observed. Can be adequate if most cases are present, but will generally give serious biases in the analysis. In survey’s, for example, this corresponds to making inference about the population of responders, not the full population\n",
    "\n",
    "### 2. Weighting methods\n",
    "- For example, if a population total µ = E(Y ) should be estimated and unit i has been selected with probability πi a standard method is the Horwitz–Thompson estimator\n",
    "$$\n",
    "$$\n",
    "To correct for non-response, one could let ρi be the\n",
    "response-probability, estimate this in some way as ρˆi\n",
    "and then let\n",
    "$$\n",
    "\n",
    "$$\n",
    "\n",
    "### 3. Imputation methods\n",
    "- Find ways of estimating the values of the unobserved values as Yˆmis, then proceed as if there were complete data. Without care, this can give misleading results, in particular because the ”sample size” can be grossly overestimated.\n",
    "    1. Listwise (complete case) deletion\n",
    "    2. Single Imputation\n",
    "        - Hot Deck (Last Observation Carried Forward)\n",
    "            - Fill missing value with last observed value\n",
    "        - Regression\n",
    "        - Recommender System Methods\n",
    "            - Matrix Factorization\n",
    "    3. Multiple Imputation by Chained Equations \n",
    "    \n",
    "### 4. Model-based likelihood methods\n",
    "- Model the missing data mechanism and then proceed to make a proper likelihood-based analysis, either via the method of maximum-likelihood or using Bayesian methods. This appears to be the most sensible way.\n",
    "- Typically this approach was not computationally feasible in the past, but modern algorithms and computers have changed things completely. Ironically, the efficient algorithms are indeed based upon imputation of missing values, but with proper corrections resulting."
   ]
  },
  {
   "cell_type": "markdown",
   "metadata": {},
   "source": [
    "---\n",
    "# 4. Model-based likelihood methods\n",
    "\n",
    "## Expectation Maximization\n",
    "\n",
    "### Expectation Maximization: Naive Bayes with Missing Values"
   ]
  },
  {
   "cell_type": "markdown",
   "metadata": {},
   "source": [
    "<a id='resources'></a>\n",
    "\n",
    "---\n",
    "## Resources\n",
    "- [Different Types of Missing Data](https://www.displayr.com/different-types-of-missing-data/)\n",
    "- [Types of Data Imputation](https://en.wikipedia.org/wiki/Imputation_(statistics))\n",
    "- Visualization of Missing Data\n",
    "    - [missingno](https://github.com/ResidentMario/missingno)\n",
    "- Handling Missing Data\n",
    "    - [fancyimpute](https://github.com/iskandr/fancyimpute)\n",
    "- [Missing Data and the EM Algorithm](http://www.stats.ox.ac.uk/~steffen/teaching/fsmHT07/fsm407c.pdf)\n",
    "- [EM with Naive Bayes](http://www.cs.columbia.edu/~mcollins/em.pdf)"
   ]
  }
 ],
 "metadata": {
  "kernelspec": {
   "display_name": "Python 3",
   "language": "python",
   "name": "python3"
  },
  "language_info": {
   "codemirror_mode": {
    "name": "ipython",
    "version": 3
   },
   "file_extension": ".py",
   "mimetype": "text/x-python",
   "name": "python",
   "nbconvert_exporter": "python",
   "pygments_lexer": "ipython3",
   "version": "3.6.7"
  }
 },
 "nbformat": 4,
 "nbformat_minor": 2
}
