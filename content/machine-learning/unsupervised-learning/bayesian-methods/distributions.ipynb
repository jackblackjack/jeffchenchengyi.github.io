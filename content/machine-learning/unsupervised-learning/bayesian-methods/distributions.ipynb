{
 "cells": [
  {
   "cell_type": "markdown",
   "metadata": {},
   "source": [
    "# Probability Distributions"
   ]
  },
  {
   "cell_type": "markdown",
   "metadata": {},
   "source": [
    "---\n",
    "# Discrete"
   ]
  },
  {
   "cell_type": "markdown",
   "metadata": {},
   "source": [
    "## Categorical\n",
    "\n",
    "- Special case of **Multinomial** where $n=1$\n",
    "- Distribution of possible results of a random variable that can take on one of $K$ possible categories, with the probability of each category separately specified\n",
    "    - e.g. If we roll a dice, what's the probability that 3 comes up?"
   ]
  },
  {
   "cell_type": "markdown",
   "metadata": {},
   "source": [
    "## Bernoulli\n",
    "\n",
    "- Special case of **Binomial** where $n=1$\n",
    "- Special case of **Categorical** where $k=2$\n",
    "- Distribution of the number of success in a single $n=1$ Bernoulli trial ($k=2$, success / failure)\n",
    "    - e.g. If a coin is tossed once, what is the probability it comes up heads?"
   ]
  },
  {
   "cell_type": "markdown",
   "metadata": {},
   "source": [
    "## Binomial\n",
    "\n",
    "- Special case of **Multinomial** where $k=2$\n",
    "- Distribution of the number of success in $n$ **i.i.d.** Bernoulli trials ($k=2$, success / failure) **with** replacement\n",
    "    - e.g. If a coin is tossed 20 times, what is the probability heads comes up exactly 14 times?"
   ]
  },
  {
   "cell_type": "markdown",
   "metadata": {},
   "source": [
    "## Multinomial\n",
    "\n",
    "- Distribution of the outcome of $n$ **i.i.d.** trials, where the outcome of each trial has a categorical distribution ($k>2$, multiple classes) **with** replacement\n",
    "    - e.g. If we draw 5 colored balls from a bag, what is the probability that we get 2 blue balls, 2 red balls, and 1 green ball?"
   ]
  },
  {
   "cell_type": "markdown",
   "metadata": {},
   "source": [
    "## Negative Binomial\n",
    "\n",
    "- Distribution of the number of **i.i.d.** Bernoulli trials needed to get $k$ successes\n",
    "    - e.g. If a coin is repeatedly tossed, what is the probability the 3rd time heads appears occurs on the 9th toss?"
   ]
  },
  {
   "cell_type": "markdown",
   "metadata": {},
   "source": [
    "## Geometric\n",
    "\n",
    "- Special case of **Negative Binomial** where $k=1$\n",
    "- Distribution of the number of **i.i.d.** Bernoulli trials needed to get the first success\n",
    "    - e.g. If a coin is repeatedly tossed, what is the probability that the **first** time heads appears occurs on the 8th toss?"
   ]
  },
  {
   "cell_type": "markdown",
   "metadata": {},
   "source": [
    "## Hypergeometric\n",
    "\n",
    "- Binomial closely approximates Hypergeometric if we are sampling only a small fraction of the population\n",
    "- Distribution of the number of success in $n$ **i.i.d.** Bernoulli trials ($k=2$, success / failure) **without** replacement\n",
    "    - e.g. If 5 cards are drawn without replacement, what is the probability 3 hearts are drawn?"
   ]
  },
  {
   "cell_type": "markdown",
   "metadata": {},
   "source": [
    "## Poisson\n",
    "\n",
    "- Distribution of the number of **i.i.d.** events in a given time / length / area / volume\n",
    "    - e.g. What is the probability there will be 4 car accidents on a university campus in a given week?"
   ]
  },
  {
   "cell_type": "markdown",
   "metadata": {},
   "source": [
    "---\n",
    "# Continuous"
   ]
  },
  {
   "cell_type": "markdown",
   "metadata": {},
   "source": [
    "## Exponential\n",
    "\n",
    "- Special case of **Gamma** where $n=1$, Continuous counterpart of **Geometric**\n",
    "- Distribution of the time between events in a Poisson point process, i.e., a process in which events occur continuously and independently at a constant average rate.\n",
    "    - e.g. How much time will pass until the next plane lands on a landing strip?"
   ]
  },
  {
   "cell_type": "markdown",
   "metadata": {},
   "source": [
    "## Gamma\n",
    "\n",
    "- Gamma : Exponential :: Binomial : Bernoulli\n",
    "- Distribution of \n",
    "    - e.g. How much time will pass until $n$ planes land on any given landing strip"
   ]
  },
  {
   "cell_type": "markdown",
   "metadata": {},
   "source": [
    "## Wishart / Multivariate Gamma\n",
    "\n",
    "- Multivariate Generalization of **Gamma**\n",
    "- Gamma : Wishart :: Beta : Dirichlet\n",
    "- Distribution of \n",
    "    - e.g. "
   ]
  },
  {
   "cell_type": "markdown",
   "metadata": {},
   "source": [
    "## Beta\n",
    "\n",
    "- Special case of **Dirichlet**\n",
    "- Distribution over real values on the interval [0, 1]\n",
    "    - e.g. What is probability of 27% of people getting infected by the disease?"
   ]
  },
  {
   "cell_type": "markdown",
   "metadata": {},
   "source": [
    "## Dirichlet / Multivariate Beta\n",
    "\n",
    "$$\n",
    "f \\left(x_1,\\ldots, x_{K}; \\alpha_1,\\ldots, \\alpha_K \\right) = \\frac{1}{\\mathrm{B}(\\boldsymbol\\alpha)} \\prod_{i=1}^K x_i^{\\alpha_i - 1}\n",
    "$$\n",
    "\n",
    "where $\\{x_k\\}_{k=1}^{k=K}$ belong to the standard $K-1$ simplex, or in other words: $\\sum_{i=1}^{K} x_i=1 \\mbox{ and } x_i \\ge 0 \\mbox{ for all } i \\in [1,K]$\n",
    "\n",
    "The normalizing constant is the multivariate beta function, which can be expressed in terms of the gamma function:\n",
    "\n",
    "$$\n",
    "\\mathrm{B}(\\boldsymbol\\alpha) = \\frac{\\prod_{i=1}^K \\Gamma(\\alpha_i)}{\\Gamma\\left(\\sum_{i=1}^K \\alpha_i\\right)},\\qquad\\boldsymbol{\\alpha}=(\\alpha_1,\\ldots,\\alpha_K)\n",
    "$$\n",
    "\n",
    "- Multivariate Generalization of **Beta**\n",
    "- Beta : Dirichlet :: Binomial : Multinomial :: Gamma : Wishart\n",
    "- Conjugate Prior of Multinomial and Categorical\n",
    "- When $\\alpha=1$, Dirichlet is essentially a uniform distribution as it gives each $x_i$ equally probability of $\\frac{1}{\\text{normalizing constant}\\,{\\mathrm{B}(\\boldsymbol\\alpha)} }$, this is called a flat Dirichlet distribution\n",
    "- Distribution over vectors whose values are all in the interval [0, 1] and sum of values in the vector = 1, AKA a probability simplex\n",
    "    - e.g. "
   ]
  },
  {
   "cell_type": "markdown",
   "metadata": {},
   "source": [
    "## Symmetric Dirichlet\n",
    "\n",
    "- Special case of **Dirichlet** where vector $\\mathbf{\\alpha}$ has all the same values"
   ]
  },
  {
   "cell_type": "markdown",
   "metadata": {},
   "source": []
  },
  {
   "cell_type": "markdown",
   "metadata": {},
   "source": []
  },
  {
   "cell_type": "markdown",
   "metadata": {},
   "source": [
    "---\n",
    "## Conjugate Priors\n",
    "\n",
    "- If the posterior distributions $p(\\theta \\mid X)$ are in the same probability distribution family as the prior probability distribution $p(\\theta)$, the prior and posterior are then called conjugate distributions, and the prior is called a conjugate prior for the likelihood function $p(X \\mid \\theta)$.\n",
    "\n",
    "Probability distribution families:\n",
    "1. Exponential Family\n",
    "    - normal\n",
    "    - exponential\n",
    "    - gamma\n",
    "    - chi-squared\n",
    "    - beta\n",
    "    - Dirichlet\n",
    "    - Bernoulli\n",
    "    - categorical\n",
    "    - Poisson\n",
    "    - Wishart\n",
    "    - inverse Wishart\n",
    "    - geometric\n",
    "    - binomial (with fixed number of trials)\n",
    "    - multinomial (with fixed number of trials)\n",
    "    - negative binomial (with fixed number of failures)"
   ]
  },
  {
   "cell_type": "markdown",
   "metadata": {},
   "source": [
    "---\n",
    "## Resources\n",
    "- [Overview of Some Discrete Probability Distributions(Binomial,Geometric,Hypergeometric,Poisson,NegB)](https://www.youtube.com/watch?v=UrOXRvG9oYE)\n",
    "- [Conjugate Prior Wiki](https://en.wikipedia.org/wiki/Conjugate_prior)\n",
    "- [Exponential family wiki](https://en.wikipedia.org/wiki/Exponential_family)\n",
    "- [What is the gamma distribution used for?](https://www.quora.com/What-is-gamma-distribution-used-for)\n",
    "- [Beta & Dirichlet distribution video](https://www.youtube.com/watch?v=CEVELIz4WXM)"
   ]
  }
 ],
 "metadata": {
  "kernelspec": {
   "display_name": "Python 3",
   "language": "python",
   "name": "python3"
  },
  "language_info": {
   "codemirror_mode": {
    "name": "ipython",
    "version": 3
   },
   "file_extension": ".py",
   "mimetype": "text/x-python",
   "name": "python",
   "nbconvert_exporter": "python",
   "pygments_lexer": "ipython3",
   "version": "3.6.7"
  }
 },
 "nbformat": 4,
 "nbformat_minor": 2
}
