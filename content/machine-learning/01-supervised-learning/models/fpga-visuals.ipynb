{
 "cells": [
  {
   "cell_type": "markdown",
   "metadata": {},
   "source": [
    "# FPGA Visuals"
   ]
  },
  {
   "cell_type": "code",
   "execution_count": null,
   "metadata": {},
   "outputs": [],
   "source": [
    "# Imports\n",
    "%matplotlib notebook\n",
    "\n",
    "import os\n",
    "import random\n",
    "from collections import defaultdict\n",
    "import sys\n",
    "import numpy as np\n",
    "from scipy import spatial\n",
    "import matplotlib\n",
    "import matplotlib.pyplot as plt\n",
    "from matplotlib import cm\n",
    "from mpl_toolkits.axes_grid1 import make_axes_locatable\n",
    "import matplotlib.gridspec as gridspec\n",
    "import seaborn as sns\n",
    "import matplotlib.animation as animation\n",
    "\n",
    "sns.set_style('darkgrid')\n",
    "np.random.seed(42)\n",
    "\n",
    "get_colors = lambda length: [color.reshape(1, -1) for color in plt.get_cmap('Spectral')(np.linspace(0, 1.0, length))]"
   ]
  },
  {
   "cell_type": "code",
   "execution_count": null,
   "metadata": {},
   "outputs": [],
   "source": [
    "y_pred_folders = {\n",
    "    'sga': '/Users/jeffchenchengyi/Downloads/sinx_2019-Nov-17-13:54:06',\n",
    "    'ns-es': '/Users/jeffchenchengyi/Downloads/sinx_2019-Nov-17-14:00:06',\n",
    "    'nsr-es': '/Users/jeffchenchengyi/Downloads/sinx_2019-Nov-17-14:00:45'\n",
    "}\n",
    "X_test = np.load('/Users/jeffchenchengyi/Downloads/X_test.npy')\n",
    "y_preds = {strategy: defaultdict() for strategy in y_pred_folders.keys()}\n",
    "for strategy, folder in y_pred_folders.items():\n",
    "    for pred in os.listdir(folder):\n",
    "        y_preds[strategy][int(pred.split('_')[0][3:])] = \\\n",
    "            np.load(os.path.join(folder, pred)).flatten()"
   ]
  },
  {
   "cell_type": "code",
   "execution_count": null,
   "metadata": {},
   "outputs": [],
   "source": [
    "sorted_preds = {strategy: None for strategy in y_preds.keys()}\n",
    "\n",
    "for strategy, predictions in y_preds.items():\n",
    "    sorted_preds[strategy] = sorted(list(zip(predictions.items(), get_colors(len(predictions)))), key=lambda x: x[0])"
   ]
  },
  {
   "cell_type": "code",
   "execution_count": null,
   "metadata": {
    "scrolled": false
   },
   "outputs": [],
   "source": [
    "fig, ax = plt.subplots(len(sorted_preds.keys()), 1)\n",
    "\n",
    "for ax_idx, (strategy, predictions) in enumerate(sorted_preds.items()):\n",
    "    ax[ax_idx].scatter(X_test, np.sin(X_test), c='black', label='ground_truth')\n",
    "    ax[ax_idx].set_title(strategy)\n",
    "    for (idx, pred), color in sorted_preds[strategy][::10]:\n",
    "        ax[ax_idx].scatter(x=X_test, y=pred, c=color, alpha=0.2, label='gen-'+str(idx))\n",
    "\n",
    "plt.tight_layout()\n",
    "plt.legend()\n",
    "plt.show();"
   ]
  },
  {
   "cell_type": "markdown",
   "metadata": {},
   "source": [
    "## Animate"
   ]
  },
  {
   "cell_type": "code",
   "execution_count": null,
   "metadata": {},
   "outputs": [],
   "source": [
    "x = X_test"
   ]
  },
  {
   "cell_type": "code",
   "execution_count": null,
   "metadata": {},
   "outputs": [],
   "source": [
    "fig, ax = plt.subplots(1, 1)\n",
    "\n",
    "strategy = 'sga'\n",
    "ax.scatter(x, np.sin(x), c='black', label='ground_truth')\n",
    "ind, = ax.plot(x, sorted_preds[strategy][0][0][1], \n",
    "               c='g', \n",
    "               alpha=0.5, \n",
    "               marker='o', \n",
    "               linestyle='', \n",
    "               label='gen-'+str(0))\n",
    "\n",
    "def animate(gen_idx):\n",
    "    ind.set_ydata(sorted_preds[strategy][gen_idx][0][1])  # update the data\n",
    "    ind.set_label('gen-'+str(gen_idx))\n",
    "    plt.legend()\n",
    "    return ind,\n",
    "\n",
    "\n",
    "# Init only required for blitting to give a clean slate.\n",
    "def init():\n",
    "    ind.set_ydata(np.ma.array(x, mask=True))\n",
    "    return ind,\n",
    "\n",
    "ani = animation.FuncAnimation(fig=fig, \n",
    "                              func=animate, \n",
    "                              frames=np.arange(0, 100), init_func=init,\n",
    "                              interval=100, blit=True, repeat=True)\n",
    "\n",
    "# Set up formatting for the movie files\n",
    "plt.title(strategy)\n",
    "ani.save('sinx_evolve_{}.gif'.format(strategy), writer=animation.PillowWriter(fps=60), dpi=500)\n",
    "\n",
    "plt.show();"
   ]
  },
  {
   "cell_type": "code",
   "execution_count": null,
   "metadata": {},
   "outputs": [],
   "source": [
    "fig, ax = plt.subplots(1, 1)\n",
    "\n",
    "strategy = 'ns-es'\n",
    "ax.scatter(x, np.sin(x), c='black', label='ground_truth')\n",
    "ind, = ax.plot(x, sorted_preds[strategy][0][0][1], \n",
    "               c='g', \n",
    "               alpha=0.5, \n",
    "               marker='o', \n",
    "               linestyle='', \n",
    "               label='gen-'+str(0))\n",
    "\n",
    "def animate(gen_idx):\n",
    "    ind.set_ydata(sorted_preds[strategy][gen_idx][0][1])  # update the data\n",
    "    ind.set_label('gen-'+str(gen_idx))\n",
    "    plt.legend()\n",
    "    return ind,\n",
    "\n",
    "\n",
    "# Init only required for blitting to give a clean slate.\n",
    "def init():\n",
    "    ind.set_ydata(np.ma.array(x, mask=True))\n",
    "    return ind,\n",
    "\n",
    "ani = animation.FuncAnimation(fig=fig, \n",
    "                              func=animate, \n",
    "                              frames=np.arange(0, 100), init_func=init,\n",
    "                              interval=100, blit=True, repeat=True)\n",
    "\n",
    "# Set up formatting for the movie files\n",
    "plt.title(strategy)\n",
    "ani.save('sinx_evolve_{}.gif'.format(strategy), writer=animation.PillowWriter(fps=60), dpi=500)\n",
    "\n",
    "plt.show();"
   ]
  },
  {
   "cell_type": "code",
   "execution_count": null,
   "metadata": {},
   "outputs": [],
   "source": [
    "fig, ax = plt.subplots(1, 1)\n",
    "\n",
    "strategy = 'nsr-es'\n",
    "ax.scatter(x, np.sin(x), c='black', label='ground_truth')\n",
    "ind, = ax.plot(x, sorted_preds[strategy][0][0][1], \n",
    "               c='g', \n",
    "               alpha=0.5, \n",
    "               marker='o', \n",
    "               linestyle='', \n",
    "               label='gen-'+str(0))\n",
    "\n",
    "def animate(gen_idx):\n",
    "    ind.set_ydata(sorted_preds[strategy][gen_idx][0][1])  # update the data\n",
    "    ind.set_label('gen-'+str(gen_idx))\n",
    "    plt.legend()\n",
    "    return ind,\n",
    "\n",
    "\n",
    "# Init only required for blitting to give a clean slate.\n",
    "def init():\n",
    "    ind.set_ydata(np.ma.array(x, mask=True))\n",
    "    return ind,\n",
    "\n",
    "ani = animation.FuncAnimation(fig=fig, \n",
    "                              func=animate, \n",
    "                              frames=np.arange(0, 100), init_func=init,\n",
    "                              interval=100, blit=True, repeat=True)\n",
    "\n",
    "# Set up formatting for the movie files\n",
    "plt.title(strategy)\n",
    "ani.save('sinx_evolve_{}.gif'.format(strategy), writer=animation.PillowWriter(fps=60), dpi=500)\n",
    "\n",
    "plt.show();"
   ]
  },
  {
   "cell_type": "markdown",
   "metadata": {},
   "source": [
    "## Get halloffame weights"
   ]
  },
  {
   "cell_type": "code",
   "execution_count": null,
   "metadata": {},
   "outputs": [],
   "source": [
    "# from deap import base, creator\n",
    "# import pickle\n",
    "\n",
    "# with open('/Users/jeffchenchengyi/Downloads/checkpoint_gen99.pkl', \"rb\") as cp_file:\n",
    "#     # Define objective, individuals, population, and evaluation\n",
    "#     creator.create(\"FitnessMin\", base.Fitness, weights=(-1.0,))\n",
    "#     creator.create(\"Individual\", np.ndarray, fitness=creator.FitnessMin)\n",
    "#     cp = pickle.load(cp_file)"
   ]
  },
  {
   "cell_type": "code",
   "execution_count": null,
   "metadata": {
    "scrolled": true
   },
   "outputs": [],
   "source": [
    "# cp['halloffame']"
   ]
  },
  {
   "cell_type": "code",
   "execution_count": null,
   "metadata": {
    "scrolled": true
   },
   "outputs": [],
   "source": [
    "# from keras.datasets import mnist"
   ]
  },
  {
   "cell_type": "code",
   "execution_count": null,
   "metadata": {},
   "outputs": [],
   "source": [
    "# (X_train, y_train), (X_test, y_test) = mnist.load_data()"
   ]
  },
  {
   "cell_type": "code",
   "execution_count": null,
   "metadata": {},
   "outputs": [],
   "source": [
    "# int(len(X_train)*0.2)"
   ]
  },
  {
   "cell_type": "code",
   "execution_count": null,
   "metadata": {},
   "outputs": [],
   "source": [
    "# np.dot(\n",
    "#     np.array([\n",
    "#         [400000, -100000, -200000],\n",
    "#         [250000, -50000, -75000],\n",
    "#         [50000, 0, -30000]\n",
    "#     ]), \n",
    "#     np.array([0.25, 0.35, 0.4])\n",
    "# )"
   ]
  },
  {
   "cell_type": "code",
   "execution_count": null,
   "metadata": {},
   "outputs": [],
   "source": []
  }
 ],
 "metadata": {
  "kernelspec": {
   "display_name": "Python 3",
   "language": "python",
   "name": "python3"
  },
  "language_info": {
   "codemirror_mode": {
    "name": "ipython",
    "version": 3
   },
   "file_extension": ".py",
   "mimetype": "text/x-python",
   "name": "python",
   "nbconvert_exporter": "python",
   "pygments_lexer": "ipython3",
   "version": "3.7.4"
  }
 },
 "nbformat": 4,
 "nbformat_minor": 2
}
