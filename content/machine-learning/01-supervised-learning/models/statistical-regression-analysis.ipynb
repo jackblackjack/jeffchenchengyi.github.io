{
 "cells": [
  {
   "cell_type": "markdown",
   "metadata": {},
   "source": [
    "# Statistical Regression Analysis\n",
    "\n",
    "We'll walkthrough the modeling phase of statistical regression analysis in this notebook\n",
    "\n",
    "### Table of Contents\n",
    "1. [Simple Linear Regression](#simplelinreg)\n",
    "2. [Multiple Linear Regression](#multiplelinreg)\n",
    "3. [General Linear Models](#glm)\n",
    "4. [Generalized Linear Models](#glim)"
   ]
  },
  {
   "cell_type": "markdown",
   "metadata": {},
   "source": [
    "---\n",
    "# Simple Linear Regression<a id='simplelinreg'></a>"
   ]
  },
  {
   "cell_type": "markdown",
   "metadata": {},
   "source": [
    "---\n",
    "# Polynomial Regression \n",
    "--- Under Construction ---"
   ]
  },
  {
   "cell_type": "markdown",
   "metadata": {},
   "source": [
    "---\n",
    "# Multiple Linear Regression<a id='multiplelinreg'></a>"
   ]
  },
  {
   "cell_type": "markdown",
   "metadata": {},
   "source": [
    "---\n",
    "# General Linear Models<a id='glm'></a>\n",
    "\n",
    "### Anova\n",
    "--- Refer to [Statistics Review]() ---\n",
    "\n",
    "### Ancova\n",
    "\n",
    "### Multivariate Linear Regression"
   ]
  },
  {
   "cell_type": "markdown",
   "metadata": {},
   "source": [
    "---\n",
    "# Generalized Linear Models<a id='glim'></a>\n",
    "\n",
    "### Poisson Regression\n",
    "- Used for Count data\n",
    "\n",
    "### Logistic Regression and Probit Regression\n",
    "- Used for Binary data\n",
    "\n",
    "### Multinomial Logistic Regression and Multinomial Probit Regression\n",
    "- Used for Categorical data\n",
    "\n",
    "### Ordered Logit and Ordered Probit Regression \n",
    "- Used for Ordinal data"
   ]
  },
  {
   "cell_type": "markdown",
   "metadata": {},
   "source": [
    "---\n",
    "## Resources:\n",
    "- []()"
   ]
  }
 ],
 "metadata": {
  "kernelspec": {
   "display_name": "Python 3",
   "language": "python",
   "name": "python3"
  },
  "language_info": {
   "codemirror_mode": {
    "name": "ipython",
    "version": 3
   },
   "file_extension": ".py",
   "mimetype": "text/x-python",
   "name": "python",
   "nbconvert_exporter": "python",
   "pygments_lexer": "ipython3",
   "version": "3.7.3"
  }
 },
 "nbformat": 4,
 "nbformat_minor": 2
}
