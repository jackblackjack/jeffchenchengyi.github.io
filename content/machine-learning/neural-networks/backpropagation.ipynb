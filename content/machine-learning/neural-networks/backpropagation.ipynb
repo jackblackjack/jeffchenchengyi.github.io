{
 "cells": [
  {
   "cell_type": "markdown",
   "metadata": {},
   "source": [
    "# Vectorizing Backpropagation\n",
    "\n",
    "In this notebook we'll walk through forward / backpropagation math in matrix form"
   ]
  },
  {
   "cell_type": "markdown",
   "metadata": {},
   "source": [
    "---\n",
    "# Gradient Descent Recap\n",
    "\n",
    "Remember that the gradient is the direction of steepest ascent\n",
    "- E.g. \n",
    "$$\n",
    "{f} = \n",
    "\\nabla{f}\n",
    "$$  "
   ]
  },
  {
   "cell_type": "markdown",
   "metadata": {},
   "source": [
    "---\n",
    "## Resources:\n",
    "- [Why is the Gradient is the direction of the steepest ascent?](https://www.khanacademy.org/math/multivariable-calculus/multivariable-derivatives/gradient-and-directional-derivatives/v/why-the-gradient-is-the-direction-of-steepest-ascent)\n",
    "- [Ryan Harris' Backpropagation Playlist](https://www.youtube.com/playlist?list=PLRyu4ecIE9ti5wsokn1j_ZJU7a7N5hREf)"
   ]
  }
 ],
 "metadata": {
  "kernelspec": {
   "display_name": "Python 3",
   "language": "python",
   "name": "python3"
  },
  "language_info": {
   "codemirror_mode": {
    "name": "ipython",
    "version": 3
   },
   "file_extension": ".py",
   "mimetype": "text/x-python",
   "name": "python",
   "nbconvert_exporter": "python",
   "pygments_lexer": "ipython3",
   "version": "3.6.7"
  }
 },
 "nbformat": 4,
 "nbformat_minor": 2
}
