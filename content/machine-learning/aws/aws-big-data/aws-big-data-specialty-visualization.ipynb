{
 "cells": [
  {
   "cell_type": "markdown",
   "metadata": {},
   "source": [
    "# AWS Big Data Specialty Exam Notes\n",
    "\n",
    "Requirements:\n",
    "1. Order history App\n",
    "    1. Server logs \n",
    "    2. Amazon Kinesis Data Streams \n",
    "    3. AWS Lambda \n",
    "    4. Amazon DynamoDB\n",
    "    5. Client App\n",
    "2. Product Recommendations\n",
    "    1. Server logs \n",
    "    2. Amazon Kinesis Data Firehose\n",
    "    3. Amazon S3\n",
    "    4. Amazon EMR\n",
    "3. Predicting order quantities\n",
    "    1. Server logs\n",
    "    2. Amazon Kinesis Data Firehose\n",
    "    3. Amazon S3\n",
    "    4. Amazon ML / Sagemaker\n",
    "4. Transaction Rate Alarm\n",
    "    1. Server logs\n",
    "    2. Amazon Kinesis Data Streams\n",
    "    3. Amazon Kinesis Data Analytics\n",
    "    4. Amazon Kinesis Data Streams\n",
    "    5. AWS Lambda\n",
    "    6. Amazon SMS\n",
    "5. Near-real-time log analysis\n",
    "    1. Server logs\n",
    "    2. Amazon Kinesis Data Firehose\n",
    "    3. Amazon Elasticsearch Service\n",
    "6. Data warehousing & visualization\n",
    "    1. Server logs\n",
    "    2. Amazon Kinesis Data Firehose\n",
    "    3. Amazon S3\n",
    "        - Serverless\n",
    "            1. AWS Glue\n",
    "            2. Amazon Athena\n",
    "        - Managaged\n",
    "            1. Amazon Redshift\n",
    "            2. Amazon QuickSight"
   ]
  },
  {
   "cell_type": "markdown",
   "metadata": {},
   "source": [
    "---\n",
    "# Amazon Quicksight\n",
    "\n",
    "- Redshift\n",
    "- Aurora / RDS\n",
    "- Athena\n",
    "- EC2-hosted databases\n",
    "- S3 / On-premise files (Excel)\n",
    "\n",
    "- Datasets are imported into SPICE (Super-fast, Parallel, In-memory Calculation Engine)\n",
    "\n",
    "Use cases:\n",
    "- Interactive ad-hoc exploration / visualization of data\n",
    "\n",
    "Security:\n",
    "- row-level granularity (restrict user's access to only some rows in a dataset)"
   ]
  },
  {
   "cell_type": "markdown",
   "metadata": {},
   "source": []
  },
  {
   "cell_type": "markdown",
   "metadata": {},
   "source": []
  },
  {
   "cell_type": "markdown",
   "metadata": {},
   "source": []
  },
  {
   "cell_type": "markdown",
   "metadata": {},
   "source": []
  },
  {
   "cell_type": "markdown",
   "metadata": {},
   "source": []
  },
  {
   "cell_type": "markdown",
   "metadata": {},
   "source": []
  },
  {
   "cell_type": "markdown",
   "metadata": {},
   "source": []
  },
  {
   "cell_type": "markdown",
   "metadata": {},
   "source": []
  },
  {
   "cell_type": "markdown",
   "metadata": {},
   "source": []
  },
  {
   "cell_type": "markdown",
   "metadata": {},
   "source": []
  },
  {
   "cell_type": "markdown",
   "metadata": {},
   "source": []
  }
 ],
 "metadata": {
  "kernelspec": {
   "display_name": "Python 3",
   "language": "python",
   "name": "python3"
  },
  "language_info": {
   "codemirror_mode": {
    "name": "ipython",
    "version": 3
   },
   "file_extension": ".py",
   "mimetype": "text/x-python",
   "name": "python",
   "nbconvert_exporter": "python",
   "pygments_lexer": "ipython3",
   "version": "3.6.7"
  }
 },
 "nbformat": 4,
 "nbformat_minor": 2
}
