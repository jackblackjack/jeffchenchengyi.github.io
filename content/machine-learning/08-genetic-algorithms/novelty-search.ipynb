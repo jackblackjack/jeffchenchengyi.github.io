{
 "cells": [
  {
   "cell_type": "markdown",
   "metadata": {},
   "source": [
    "# Evolutionary Strategies + Directed Exploration Algos\n",
    "\n",
    "- Here we will go through improving Evolutionary strategies by combining it with algorithms that promote directed exploration like Quality Diversity and Novelty Search to improve performance by avoiding local minima during learning."
   ]
  },
  {
   "cell_type": "markdown",
   "metadata": {},
   "source": [
    "---\n",
    "## Novelty Search for RL\n",
    "\n",
    "What do we have at each generation:\n",
    "1. Policy $\\pi \\sim Distribution(\\theta)$: e.g. $\\pi \\sim \\mathcal{N}(\\mu, \\sigma)$, $\\therefore$ Each policy has a different probability of being activated in the population\n",
    "2. Because the policy comes from a probability distribution, the behavior of the individuals $b(\\pi)$ also follow a distribution\n",
    "3. An archive set $A$\n",
    "4. A probability distribution that determines whether $b(\\pi)$ will be added to the archive set $A$\n",
    "5. Novelty score $N$ of a policy is essentially how far away the behaviors that result from that policy diverge from each other\n",
    "    - We compute that particular policy $\\pi_\\theta$'s Novelty by running $k$-NN on $b(\\pi_\\theta)$ and the rest of the behaviors that were in the archive set $A$\n",
    "    - Find the average distance between the $k$ nearest neighbors of behavior $b(\\pi_\\theta)$ and that becomes the novelty score"
   ]
  },
  {
   "cell_type": "markdown",
   "metadata": {},
   "source": [
    "---\n",
    "## Hybrid Strategies\n",
    "\n",
    "### Novelty Search + Evolutionary Strategy (NS-ES) \n",
    "- Update Policy $\\pi$'s probability distribution according and kill off individuals depending on their relative novelty score of the individual's behavior\n",
    "    1. We will use a \"relative novelty score\" (Individual's novelty divided by the sum of all the novelties of all individuals / policy) as the probability of being selected into the next generation\n",
    "    2. The greater the raw novelty score of the individual, the more we will update the policy's probability distribution's parameters\n",
    "\n",
    "### Quality Diversity + Evolutionary Strategy \n",
    "\n",
    "#### Novelty Search + Reward (Fitness) + Evolutionary Strategy (NSR-ES)\n",
    "- Use **simple average** of the fitness score for each individual and raw novelty score to update the parameters\n",
    "- The fittest and novel individuals help update the parameters the most\n",
    "- Implication: An individual who's fit but not really novel has equal say as an individual who's not fit but really novel in how much to update the parameters to favor their probabilities to be replicated in the next generation\n",
    "\n",
    "#### Novelty Search + Reward (Fitness) + Adapt + Evolutionary Strategy (NSRA-ES)\n",
    "- Use a **weighted average** of the fitness score for each individual and raw novelty score to update the parameters instead\n",
    "- Start off with a fixed $w$ for the fitness score and $(1-w)$ for raw novelty score's weights and **increase** when the overall performance of the population increases\n",
    "    - This means that once our population has a very high fitness, we don't really care about diversity and hence, novelty that much anymore\n",
    "    - Novelty is a way to increase our search space for the best individuals similar to CMA-ES, when we're updating the covariance matrix."
   ]
  },
  {
   "cell_type": "markdown",
   "metadata": {},
   "source": [
    "---\n",
    "### Resources:\n",
    "- [Improving Exploration in Evolution Strategies for Deep Reinforcement Learning via a Population of Novelty-Seeking Agents](https://arxiv.org/pdf/1712.06560.pdf)"
   ]
  }
 ],
 "metadata": {
  "kernelspec": {
   "display_name": "Python 3",
   "language": "python",
   "name": "python3"
  },
  "language_info": {
   "codemirror_mode": {
    "name": "ipython",
    "version": 3
   },
   "file_extension": ".py",
   "mimetype": "text/x-python",
   "name": "python",
   "nbconvert_exporter": "python",
   "pygments_lexer": "ipython3",
   "version": "3.7.3"
  }
 },
 "nbformat": 4,
 "nbformat_minor": 2
}
