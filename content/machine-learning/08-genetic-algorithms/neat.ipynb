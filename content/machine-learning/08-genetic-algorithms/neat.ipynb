{
 "cells": [
  {
   "cell_type": "markdown",
   "metadata": {},
   "source": [
    "# Neuro Evolution with Augmented Topologies\n",
    "\n",
    "Why Evolutionary Strategies?\n",
    "1. Basic Neural Network optimization strategies (SGD, RMSProp) suffer from local optima, saddle points, noisy gradients\n",
    "\n",
    "Why NEAT instead of Simple Genetic Algorithms?\n",
    "1. Principled method of Crossover of different individuals\n",
    "2. Protecting Structural innovation using speciation\n",
    "3. Incrementally growing from minimal structure"
   ]
  },
  {
   "cell_type": "markdown",
   "metadata": {},
   "source": [
    "---\n"
   ]
  },
  {
   "cell_type": "markdown",
   "metadata": {},
   "source": [
    "---\n",
    "### Resources:\n",
    "- [Original NEAT Paper by Kenneth Stanley: Evolving Neural Networks through\n",
    "Augmenting Topologies (NEAT)](http://nn.cs.utexas.edu/downloads/papers/stanley.ec02.pdf)\n",
    "- [Evolving Deep Neural Networks](https://towardsdatascience.com/evolving-deep-neural-networks-ceb8d135d74d)"
   ]
  },
  {
   "cell_type": "code",
   "execution_count": null,
   "metadata": {},
   "outputs": [],
   "source": []
  }
 ],
 "metadata": {
  "kernelspec": {
   "display_name": "Python 3",
   "language": "python",
   "name": "python3"
  },
  "language_info": {
   "codemirror_mode": {
    "name": "ipython",
    "version": 3
   },
   "file_extension": ".py",
   "mimetype": "text/x-python",
   "name": "python",
   "nbconvert_exporter": "python",
   "pygments_lexer": "ipython3",
   "version": "3.7.3"
  }
 },
 "nbformat": 4,
 "nbformat_minor": 2
}
