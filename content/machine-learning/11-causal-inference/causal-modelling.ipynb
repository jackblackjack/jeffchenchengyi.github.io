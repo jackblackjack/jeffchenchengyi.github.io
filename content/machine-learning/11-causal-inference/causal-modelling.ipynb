{
 "cells": [
  {
   "cell_type": "markdown",
   "metadata": {},
   "source": [
    "# Causal Modelling\n",
    "\n",
    "To understand causation, not correlation\n",
    "\n",
    "### [Ladder of Causation](https://en.wikipedia.org/wiki/Causal_model#Ladder_of_causation)\n",
    "1. Association / Correlation (Lowest Level)\n",
    "2. Intervention (Middle Level)\n",
    "3. Counterfactuals / Causation / Physical Laws (Highest Level)"
   ]
  },
  {
   "cell_type": "markdown",
   "metadata": {},
   "source": [
    "---\n",
    "## Probabilistic Graphical Models"
   ]
  },
  {
   "cell_type": "markdown",
   "metadata": {},
   "source": [
    "---\n",
    "## Potential-outcome (counterfactual) models"
   ]
  },
  {
   "cell_type": "markdown",
   "metadata": {},
   "source": [
    "---\n",
    "## Multifactorial causation and the sufficient-component cause model"
   ]
  },
  {
   "cell_type": "markdown",
   "metadata": {},
   "source": [
    "---\n",
    "## [Structured Equation Modelling](https://www.ncrm.ac.uk/resources/online/SEM2016/)\n",
    "\n",
    "1. Path Analysis\n",
    "2. Confirmatory Factor Analysis\n",
    "3. Latent Variable Structural Model\n",
    "4. Growth Curve Models"
   ]
  },
  {
   "cell_type": "markdown",
   "metadata": {},
   "source": [
    "---\n",
    "### Resources\n",
    "\n",
    "- [Casual Causal Inference Series](https://towardsdatascience.com/tagged/casual-causal-inference)\n",
    "- [An overview of relations among causal modelling methods](https://academic.oup.com/ije/article/31/5/1030/745818)\n",
    "- [The Four Models You Meet in Structural Equation Modeling](https://www.theanalysisfactor.com/four-types-sem/)"
   ]
  }
 ],
 "metadata": {
  "kernelspec": {
   "display_name": "Python 3",
   "language": "python",
   "name": "python3"
  },
  "language_info": {
   "codemirror_mode": {
    "name": "ipython",
    "version": 3
   },
   "file_extension": ".py",
   "mimetype": "text/x-python",
   "name": "python",
   "nbconvert_exporter": "python",
   "pygments_lexer": "ipython3",
   "version": "3.7.4"
  }
 },
 "nbformat": 4,
 "nbformat_minor": 2
}
