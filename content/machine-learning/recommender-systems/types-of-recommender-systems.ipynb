{
 "cells": [
  {
   "cell_type": "markdown",
   "metadata": {},
   "source": [
    "# Types of Recommender Systems\n",
    "\n",
    "In this notebook, we'll go through a brief overview of the types of recommender systems out there."
   ]
  },
  {
   "cell_type": "markdown",
   "metadata": {},
   "source": [
    "---\n",
    "# 4 Types of Recommender Systems\n",
    "\n",
    "1. Rank-Based\n",
    "    - Recommend the most popular items to every user.\n",
    "2. Knowledge-Based\n",
    "    - Recommend items based on what the user has filtered, e.g. Adidas --> Shoes --> Ultraboost\n",
    "3. Content-Based \n",
    "    - Recommend items based on customer's previous purchases or browsing history, e.g. They browsed for a bike and you recommend similar items to bikes like helmet, bell, knee-guard, wheels ... (*Note that no information about the ranking that the user gives the item is used which is different from Item-Based Collaborative Filtering*)\n",
    "4. Collaborative Filtering\n",
    "    - Neighborhood-Based methods\n",
    "        1. Define a similarity metric\n",
    "            - Similarity:\n",
    "                - Pearson's correlation coefficient (Cosine Similarity of Centered data)\n",
    "                - Spearman's correlation coefficient\n",
    "                - Kendall's Tau\n",
    "            - Distance:\n",
    "                - Euclidean Distance\n",
    "                - Manhattan Distance\n",
    "        2. Choose Perspective\n",
    "            - User-Based\n",
    "                - Recommend items based on what similar __users__ ranked highly\n",
    "            - Item-Based\n",
    "                - Recommend similar __items__ to those that the user has ranked highly\n",
    "    - Model-Based methods\n",
    "        1. Matrix Factorization\n",
    "            - Singular Value Decomposition(SVD)\n",
    "            $$ \\large{\\mathbf{A} = \\mathbf{U} \\boldsymbol{\\Sigma} \\mathbf{V}^T} $$\n",
    "                - $\\mathbf{U}$ gives information about how users are related to latent features. \n",
    "                - $\\boldsymbol{\\Sigma}$ gives information about how much latent features matter towards recreating the user-item matrix. \n",
    "                - $\\mathbf{V}^T$ gives information about how much each movie is related to latent features.\n",
    "                    - FunkSVD (*for Matrices with Missing Values*)\n",
    "                    $$\\large{\\mathbf{A} = \\mathbf{U} \\mathbf{V}^T}$$\n",
    "                    $$J = \\mathop \\sum \\limits_{i,j} w_{i,j} \\cdot \\left( \\mathbf{A}_{i,j} - {u_i}\\times{v_j^T}\\right)^2 + \\lambda \\left( ||\\mathbf{U}||_2 + ||\\mathbf{V}||_2 \\right)$$\n",
    "                    $$\\text{where } {w_{i,j}} = \\left\\{ {\\begin{array}{*{20}{c}}{\\begin{array}{*{20}{c}}1&{{\\mathbf{A}_{i,j}}\\;is\\;known}\\end{array}}\\\\{\\begin{array}{*{20}{c}}0&{{\\mathbf{A}_{i,j}}\\;is\\;unknown}\\end{array}}\\end{array}} \\right.$$\n",
    "                    - $\\mathbf{U}$ gives information about how users are related to latent features.\n",
    "                    - $\\mathbf{V}^T$ gives information about how much each movie is related to latent features.\n",
    "                        1. Randomly Initialize ${\\mathbf{U}}$ and ${\\mathbf{V}}$\n",
    "                        2. Use Optimization method\n",
    "                            1. Gradient Descent to minimize MSE on the known values of ${\\mathbf{A}}$ and predicted values via \n",
    "                                - `v_new = v_old + learn_rate*2*(actual - pred)*u_old`\n",
    "                                - `u_new = u_old + learn_rate*2*(actual - pred)*v_old` \n",
    "                                    - Where pred is the value you computed above as the dot product of the row for the user, and column for the movie. Then `u_old` is the existing value in the ${\\mathbf{U}}$ matrix and `v_old` is the corresponding value in the ${\\mathbf{V}}$ matrix that was multiplied by the `u` value when computing the dot product.\n",
    "                            2. Alternating Least Squares by fixing either $\\mathbf{U}$ or $\\mathbf{V}$ and solving OLS for the other. When we fix either one, e.g. $\\mathbf{U}$, $||\\mathbf{A}-\\mathbf{U}\\times{\\mathbf{V}^T}||_2 = \\mathop \\sum \\limits_{i,j}\\left({\\mathbf{A}_{i,j}-{u_i}\\times{v_j}}\\right) = ||y - X\\beta||_2 + L_2\\text{Regularization} = \\text{Ridge Regression}$, therefore \n",
    "                            $$\\forall{u_i}: J\\left({u_i}\\right) = ||\\mathbf{A}_i - {u_i}\\times{\\mathbf{V}^T}||_2 + \\lambda \\cdot ||u_i||_2$$ $$\\forall{v_j}: J\\left({v_j}\\right) = ||\\mathbf{A}_i - \\mathbf{U}\\times{v_j^T}||_2 + \\lambda \\cdot ||v_j||_2$$\n",
    "            - Non-negative Matrix Factorization\n",
    "        2. Neural Networks\n",
    "            - Restricted Boltzmann Machines\n",
    "            - Sequential Recommendation engines\n",
    "                - GRU4Rec\n",
    "                - Caser\n",
    "                - TransRec\n",
    "                - SASRec\n",
    "                - [BERT4Rec](https://arxiv.org/pdf/1904.06690.pdf)\n",
    "            - Deep Autoencoders\n",
    "            - Variational Autoencoders\n",
    "            - Neural Matrix Factorization\n",
    "            - Deep Collaborative"
   ]
  },
  {
   "cell_type": "markdown",
   "metadata": {},
   "source": [
    "---\n",
    "# Cold Start Problem\n",
    "\n",
    "Collaborative filtering using FunkSVD still isn't helpful for new users and new movies. In order to recommend these items, we need to implement content based and ranked based recommendations along with FunkSVD."
   ]
  },
  {
   "cell_type": "markdown",
   "metadata": {},
   "source": [
    "---\n",
    "# Goal of Recommender Systems\n",
    "\n",
    "1. Diversity\n",
    "2. Coverage\n",
    "3. Serendipity\n",
    "4. Novelty"
   ]
  },
  {
   "cell_type": "markdown",
   "metadata": {},
   "source": [
    "---\n",
    "## Resources\n",
    "\n",
    "- [FunkSVD]()\n",
    "- [Singular Values ~ **SQRT(**Eigenvalues**)**](https://math.stackexchange.com/questions/127500/what-is-the-difference-between-singular-value-and-eigenvalue)\n",
    "- [Why Eigenvalues are Variances along its Eigenvector](https://math.stackexchange.com/questions/2147211/why-are-the-eigenvalues-of-a-covariance-matrix-equal-to-the-variance-of-its-eige)\n",
    "- [Recommender Systems are not all about accuracy](https://gab41.lab41.org/recommender-systems-its-not-all-about-the-accuracy-562c7dceeaff)\n",
    "- [Overview of why we use matrix factorization to solve co-clustering](https://datasciencemadesimpler.wordpress.com/tag/alternating-least-squares/)\n",
    "- [ALS Recommender System](https://towardsdatascience.com/prototyping-a-recommender-system-step-by-step-part-2-alternating-least-square-als-matrix-4a76c58714a1)\n",
    "- [Collaborative filtering](https://www.youtube.com/watch?v=wDxTWp3KMMs)\n",
    "- [Collaborative Variational Autoencoder for Recommender Systems](http://eelxpeng.github.io/assets/paper/Collaborative_Variational_Autoencoder.pdf)\n",
    "- [How Variational Autoencoders make classical recommender systems obsolete.](https://medium.com/snipfeed/how-variational-autoencoders-make-classical-recommender-systems-obsolete-4df8bae51546)"
   ]
  }
 ],
 "metadata": {
  "kernelspec": {
   "display_name": "Python 3",
   "language": "python",
   "name": "python3"
  },
  "language_info": {
   "codemirror_mode": {
    "name": "ipython",
    "version": 3
   },
   "file_extension": ".py",
   "mimetype": "text/x-python",
   "name": "python",
   "nbconvert_exporter": "python",
   "pygments_lexer": "ipython3",
   "version": "3.6.7"
  }
 },
 "nbformat": 4,
 "nbformat_minor": 2
}
