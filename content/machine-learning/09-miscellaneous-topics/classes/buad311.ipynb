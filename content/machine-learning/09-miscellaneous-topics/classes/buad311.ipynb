{
 "cells": [
  {
   "cell_type": "markdown",
   "metadata": {},
   "source": [
    "# BUAD 311: Operations Management Notes\n",
    "By: Chengyi (Jeff) Chen\n",
    "\n",
    "In Operations Management, we care about:\n",
    "1. Finding **bottlenecks** so that we can analyze how to optimize processes to increase order flow / product sales\n",
    "2. Solution on how to Optimize:\n",
    "    1. Add capacity to the bottleneck (if the value of the extra capacity exceeds the cost of the extra capacity)\n",
    "    2. Improve balance by moving work from the bottleneck activity to a non-bottleneck activity (e.g., cross-training)\n",
    "    3. Determine the best span of control for a worker (e.g., is there benefit in specialization?)\n",
    "    4. Stimulate demand (e.g., discounts, higher quality, more product variety or shorter lead time)\n",
    "\n",
    "### Table of Contents:\n",
    "1. [1 Product, 1 Flow]()\n",
    "2. [Multiproduct, Multiflow]()"
   ]
  },
  {
   "cell_type": "markdown",
   "metadata": {},
   "source": [
    "---\n",
    "# 1 Product, 1 Flow"
   ]
  },
  {
   "cell_type": "markdown",
   "metadata": {},
   "source": [
    "## Case 1: Kristen's Cookie Company (A1) \n",
    "\n",
    "Kristen's Cookie Company's selling point: \n",
    "1. Made to bake cookies\n",
    "2. Customizable\n",
    "\n",
    "Physical Operations (PO):\n",
    "1.\tWash equipment and mix cookie ingredients \n",
    "    - Hold <= 36 cookies / batch, 6 min, You\n",
    "2.\tSpoon cookies \n",
    "    - 12 cookies / tray, 2 min, You\n",
    "3.\tPut cookies in oven and timer \n",
    "    - 1 tray, 1 min, Roommate\n",
    "4.\tBake cookies \n",
    "    - 1 tray, 9 min, Roommate\n",
    "5.\tRemove and cool \n",
    "    - 5 min, Roommate\n",
    "6.\tPack cookies \n",
    "    - 2 min / 12 cookies, Roommate\n",
    "7.\tAccept payment \n",
    "    - 1 min, Roommate\n",
    "\n",
    "Variable Costs:\n",
    "1. Cost of Ingredients \n",
    "    - USD 0.60 / 12 cookies or USD 0.05 / cookie\n",
    "2. Cost of box \n",
    "    - USD 0.10 / box (holds 12 cookies) or USD 0.00833 / cookie"
   ]
  },
  {
   "cell_type": "markdown",
   "metadata": {},
   "source": [
    "1.\tHow long will it take you to fill a rush order?\n",
    "    - Time to fill Rush Order assumming 1. An order <= 12 cookies, 2. No need to preheat oven \n",
    "        - 26 min"
   ]
  },
  {
   "cell_type": "markdown",
   "metadata": {},
   "source": [
    "2.\tHow many orders can you fill in a night, assuming you are open four hours (240 min) each night?\n",
    "    - Assuming that Demand for cookies is always high, meaning every night has infinitely many orders to fill:\n",
    "        - Best Case Scenario:\n",
    "            1. All orders come in before we start baking\n",
    "            2. Any customer that orders orders the exact same type of cookie (customizability option is ignored)\n",
    "                - Number of orders (order - 12 cookies) / night: 22 orders (*Refer to excel file analysis*)\n",
    "        - Worst Case Scenario:\n",
    "            1. Every customer orders a different customization  and only has a single order of dozen (Meaning that at any point in time max utilization of electric mixer is 33.33\\%)\n",
    "                - Number of orders (order - 12 cookies) / night: 22 orders (*Refer to excel file analysis*)\n",
    "     - Because bottleneck is at roommates side, best case and worst case scenario has the same maximum number of orders fillable because customization affects my side of the process. "
   ]
  },
  {
   "cell_type": "markdown",
   "metadata": {},
   "source": [
    "3.\tHow much of your own and your roommate’s valuable time will it take to fill each order?\n",
    "    - Assuming **valuable time** is defined as *non-idle time dedicated for a single order*:\n",
    "        - Case 1: Assuming open 4 hours a night:\n",
    "            - You \n",
    "                - 92 min / 22 orders = 4.18 min / order on average\n",
    "            - Roommate \n",
    "                - (236 min\n",
    "                - $-$ (8 min waiting for first batch of cookie dough \n",
    "                    - $+$ 9 min waiting for first order of cookies to bake \n",
    "                    - $+$ 10 odd orders * 2 min waiting for previous cookies to finish baking \n",
    "                    - $+$ 10 even orders * 2 min waiting for previous cookies to finish baking)\n",
    "                - ) / 22 orders = 8.14 min / order on average\n",
    "        - Case 2: Assuming first order:\n",
    "            - You \n",
    "                - PO1 (6 min) + PO2 (2 min) = 8 min\n",
    "            - Roommate\n",
    "                - PO3 (1 min) + PO6 (2 min) + PO7 (1 min) = 4 min"
   ]
  },
  {
   "cell_type": "markdown",
   "metadata": {},
   "source": [
    "4.\tBecause your baking trays can hold exactly one dozen cookies, you will produce and sell cookies by the dozen. Should you give any discount for people who order two dozen cookies, three dozen cookies, or more? If so, how much? Will it take you any longer to fill a two-dozen cookie order than a one-dozen cookie order?\n",
    "\n",
    "    - Minimum Wage in California 2019 - USD 12.00 / hr (USD 0.20 / min)\n",
    "    - Every subseqent dozen of cookies take 10 min to fill\n",
    "    - Assuming a person orders only a single customization of cookies:\n",
    "        - 1 dozen of cookies\n",
    "            - Total cost / dozen cookies \n",
    "            - = Fixed cost / dozen cookies assuming Case 2 + Variable cost / dozen cookies \n",
    "            - = (USD 0.20 / min * (8 min + 4 min)) + (USD 0.70 / dozen cookies)\n",
    "            - = USD 3.00 / dozen cookies\n",
    "        - 2 dozen of cookies\n",
    "            - Total cost / dozen cookies \n",
    "            - = Fixed cost / dozen cookies assuming Case 2 + Variable cost / dozen cookies \n",
    "            - = ((USD 0.20 / min * (10 min + 8 min)) + (2 * USD 0.70 / dozen cookies)) / 2\n",
    "            - = USD 2.50 / dozen cookies\n",
    "        - 3 dozen of cookies\n",
    "            - Total cost / dozen cookies \n",
    "            - = Fixed cost / dozen cookies assuming Case 2 + Variable cost / dozen cookies \n",
    "            - = ((USD 0.20 / min * (12 min + 12 min)) + (3 * USD 0.70 / dozen cookies)) / 3\n",
    "            - = USD 2.30 / dozen cookies\n",
    "                \n",
    "    - Assuming we want to maintain a profit margin of 20\\%,\n",
    "        - Revenue / dozen cookies: 3.60 / dozen cookies\n",
    "        - Hence, we can give up to \n",
    "            - $\\frac{USD 3.60 - (USD 2.50 * 120\\%)}{USD 3.60} = \\frac{USD 3.60 - USD 3.00}{USD 3.60} =  \\frac{USD 0.60}{USD 3.60} = 16.67\\%$ discount for 2 dozen cookies orderred **OR**\n",
    "            - $\\frac{USD 3.60 - (USD 2.30 * 120\\%)}{USD 3.60} = \\frac{USD 3.60 - USD 2.76}{USD 3.60} =  \\frac{USD 0.84}{USD 3.60} = 23.33\\%$ discount for 3 dozen cookies orderred"
   ]
  },
  {
   "cell_type": "markdown",
   "metadata": {},
   "source": [
    "5. How many electric mixers and baking trays will you need?\n",
    "\n",
    "    - Since we're using a capacity of 3 dozen cookies per mixer this case, we'll only need 1 mixer since it's really only used once to mix the cookie dough\n",
    "    - With a max capacity of 3 dozen cookies per electric mixer, we will need at least 3 trays"
   ]
  },
  {
   "cell_type": "markdown",
   "metadata": {},
   "source": [
    "6. Are there any changes you can make in your production plans that will allow you to make better cookies or more cookies in less time or at lower cost? For example, is there a bottleneck operation in your production process that you can expand cheaply? What is the effect of adding another oven? How much would you be willing to pay to rent an additional oven?\n",
    "\n",
    "    - The bottleneck is the oven since the Roommate wastes 2 min between subsequent processing of orders\n",
    "    - Renting an additional oven would help us eliminate that 2 min wasted between subsequent orders waiting for the single oven to finish baking the cookies. \n",
    "    - For the 22 orders previously, we wasted 40 min in total waiting for the oven to finish baking the previous batch of cookies. Because the rate at which I prepare the cookie mix for my roomate to place into the oven far exceeds his / her process rate, if we had 2 ovens, and before optimizing the processes further with the two ovens, at minimumn, we have 40 min extra to process orders, increasing the minimum bound on our max order capacity from 22 to 26 orders per night. That translates to a minimum of USD 0.60 * 4 = USD 2.40 extra profit / night (again assuming infinite demand and no discounts given for orders about a dozen). Hence, with our unoptimized process, we'll be willing to pay USD 2.40 / night for renting the additional oven to break-even but satisfy more customers.\n",
    "    - Also, it might be good to hire someone else to help out with the roommate's section of the process, (along with this, buy more trays and electric mixers... However, all this really depends on the expected demand)."
   ]
  },
  {
   "cell_type": "markdown",
   "metadata": {},
   "source": [
    "---\n",
    "# Burgers Process Workflow example"
   ]
  },
  {
   "cell_type": "markdown",
   "metadata": {},
   "source": [
    "Data:\n",
    "\n",
    "$$\n",
    "\\begin{aligned}\n",
    "&\\text{Time to finish Initial Batch = 1 min 27 sec} \\\\\n",
    "&\\text{Initial Batch = 10 burgers} \\\\\n",
    "&\\text{Order Size = 60 burgers} \\\\\n",
    "&\\text{Capacity = 20 burgers/min} \\\\\n",
    "\\end{aligned}\n",
    "$$"
   ]
  },
  {
   "cell_type": "markdown",
   "metadata": {},
   "source": [
    "$$\n",
    "\\begin{aligned}\n",
    "\\text{Time to Fill Order} &\\approx \\text{Time to finish Initial Batch} + \\frac{(\\text{Order Size = 60 burgers}) - (\\text{Initial Batch = 10 burgers})}{\\text{Capacity = 20 burgers/min}} \\\\\n",
    "&\\approx \\text{3 min 57 sec}\n",
    "\\end{aligned}\n",
    "$$"
   ]
  },
  {
   "cell_type": "markdown",
   "metadata": {},
   "source": [
    "Process Flow diagram:\n",
    "- Dough mixers $\\rightarrow$ Mix 6min $\\rightarrow$ Load tray 2min $\\rightarrow$ set oven 1min $\\rightarrow$ bake 9min $\\rightarrow$ cool 5min $\\rightarrow$ pack 2min $\\rightarrow$ pay 1min\n",
    "- Mixer + Kristen $\\rightarrow$ Mixer + Kristen $\\rightarrow$ Kristen + Trays $\\rightarrow$ Oven + Trays + Roommate $\\rightarrow$ oven + tray $\\rightarrow$ tray $\\rightarrow$ Roommate $\\rightarrow$ Roommate\n",
    "\n",
    "Resources:\n",
    "- oven\n",
    "- mixer\n",
    "- cooking trays\n",
    "- kristen\n",
    "- roommate"
   ]
  },
  {
   "cell_type": "markdown",
   "metadata": {},
   "source": [
    "Q1: What is the capacity of each resource?\n",
    "\n",
    "Time / dozen:\n",
    "- Kristen: 6 + 2 = 8min\n",
    "- Roommate: 1 + 2 + 1 = 4min\n",
    "- Oven: 1 + 9 = 10min\n",
    "- Mixer: 6min\n",
    "\n",
    "Capacity: Dozen / hr\n",
    "- Kristen: 60 / 8min = 7.5 dozen / hr\n",
    "- Roommate: 60 / 4min = 15 dozen / hr\n",
    "- Oven: 60 / 10min = 6 dozen / hr\n",
    "- Mixer: 60 / 6min = 10 dozen / hr"
   ]
  },
  {
   "cell_type": "markdown",
   "metadata": {},
   "source": [
    "Q2: What is the bottleneck? What is the process capacity?\n",
    "\n",
    "Bottleneck: Oven\n",
    "\n",
    "Utilization rate:\n",
    "- Kristen: 6 * 100 / 7.5\n",
    "- Roommate: 6 * 100 /15 = \n",
    "- Oven: 100\\%\n",
    "- Mixer: 6 * 100 / 10 = \n",
    "\n",
    "Process Capacity:\n",
    "- 1 dozen / 10 min = 6 dozen / hr (Slowest resource is the oven)"
   ]
  },
  {
   "cell_type": "markdown",
   "metadata": {},
   "source": [
    "Q3: What is the flow time of the first unit? (How long it takes to fill a rush order)\n",
    "- Flow time: How long it takes for us to run through the process once\n",
    "- 26 min"
   ]
  },
  {
   "cell_type": "markdown",
   "metadata": {},
   "source": [
    "Q4: How many can you fill anight assuming you open 4hrs a night\n",
    "- 26 min for first batch\n",
    "- 10 min for subsequent batch\n",
    "- floor(214 / 10) + 1 = 21 + 1 = 22 orders / night"
   ]
  },
  {
   "cell_type": "markdown",
   "metadata": {},
   "source": [
    "Q5: What is the process capacity for 2 ovens, order size 1 dozen? How many can you make / night?\n",
    "- We can run everything in parallel right after roommate has placed the first batch of cookies in, making our time to fill 2 dozen 34 min instead, hence every subsequent dozen takes 8 min.\n",
    "- Hence, floor(214 / 8) + 1 = 27 orders / night\n",
    "\n",
    "Capacity: Dozen / hr\n",
    "- Kristen: 60 / 8min = 7.5 dozen / hr\n",
    "- Roommate: 60 / 4min = 15 dozen / hr\n",
    "- Oven: 60 / 10min = 6 dozen / hr\n",
    "- Mixer: 60 * 2 / 6min = 12 dozen / hr\n",
    "\n",
    "Hence, bottleneck is kristen now"
   ]
  },
  {
   "cell_type": "markdown",
   "metadata": {},
   "source": [
    "Q6: How much will you be willing to pay for a second oven with order size 1?"
   ]
  },
  {
   "cell_type": "markdown",
   "metadata": {},
   "source": [
    "Q7: How to improve the processes?\n",
    "- cross-training so that kristen and roommate can do the same things, total they spend 4min + 8min = 12min. Now their capacity is 1 dozen / 12min * 60 min / hr * 2 = 10 doz / hr. Since the roommate has a capacity of 15 dozen / hr > Kristen's 7.5 dozen / hr, we will train the roommate to help do the mixing and loading onto tray because they have slack.\n",
    "    - Advantages: \n",
    "        - higher utilization rates, higher capacity\n",
    "        - adaptable to changing demands\n",
    "    - Disadvantages:\n",
    "        - learning curve (roommate might only be able to mix in 8 min instead of kristen's 6min)\n",
    "        - investment\n",
    "        \n",
    "- Capacity analysis\n",
    "    - How many resources you need depends on the entire process (bottlenecks)\n",
    "    - value of a resource changes as we change the process\n",
    "    - We wouldnt cross train the roommate if we only had 1 oven because she isnt the bottleneck\n",
    "    - We would cross train the one whos slacking if the other worker is the bottleneck in the process"
   ]
  },
  {
   "cell_type": "markdown",
   "metadata": {},
   "source": [
    "---\n",
    "# Multiproduct, Multiflow\n",
    "\n",
    "When we have multiple products and flows to be handled, finding the bottleneck is more difficult because it'll depend on the **demand** of each product!"
   ]
  },
  {
   "cell_type": "markdown",
   "metadata": {},
   "source": [
    "$$\n",
    "\\begin{aligned}\n",
    "\\text{Utilization} &= \\frac{\\text{Flow rate}}{\\text{Capacity}} \\\\\n",
    "\\text{Implied Utilization} &= \\frac{\\text{Demand}}{\\text{Capacity}} \\text{(> 100\\% when capacity is constrained)} \\\\\n",
    "\\end{aligned}\n",
    "$$"
   ]
  },
  {
   "cell_type": "markdown",
   "metadata": {},
   "source": [
    "The resource that has the highest implied utilization is the bottleneck, assuming a constant demand."
   ]
  },
  {
   "cell_type": "markdown",
   "metadata": {},
   "source": [
    "## Example 1:\n",
    "\n",
    "Assumptions:\n",
    "1. Both products take the same processing time"
   ]
  },
  {
   "cell_type": "markdown",
   "metadata": {},
   "source": [
    "### Resource Capacities\n"
   ]
  },
  {
   "cell_type": "markdown",
   "metadata": {},
   "source": [
    "### Implied Utilization"
   ]
  },
  {
   "cell_type": "markdown",
   "metadata": {},
   "source": [
    "#### Method 1:\n",
    "- Demand in units / "
   ]
  },
  {
   "cell_type": "markdown",
   "metadata": {},
   "source": [
    "#### Method 2: \n",
    "- Flow unit is *one minute of work*\n",
    "- Each  station has 60min of work available per hour"
   ]
  },
  {
   "cell_type": "markdown",
   "metadata": {},
   "source": [
    "### Process Capacity"
   ]
  },
  {
   "cell_type": "markdown",
   "metadata": {},
   "source": [
    "#### Method 1:"
   ]
  },
  {
   "cell_type": "markdown",
   "metadata": {},
   "source": [
    "$$\n",
    "\\begin{aligned}\n",
    "\\text{Implied Utilization of process} &= \\text{Implied Utilization of bottleneck} \\\\\n",
    "\\text{Implied Utilization of process} &= \\frac{\\text{Process Demand}}{\\text{Process Capacity}}\n",
    "\\end{aligned}\n",
    "$$"
   ]
  },
  {
   "cell_type": "markdown",
   "metadata": {},
   "source": [
    "#### Method 2:"
   ]
  },
  {
   "cell_type": "markdown",
   "metadata": {},
   "source": [
    "### Changing Demand Mix"
   ]
  },
  {
   "cell_type": "markdown",
   "metadata": {},
   "source": [
    "1. Calculate Implied Utilization of each resource using the resource capacities (calculated previously)"
   ]
  },
  {
   "cell_type": "markdown",
   "metadata": {},
   "source": [
    "chair assembly"
   ]
  },
  {
   "cell_type": "code",
   "execution_count": 1,
   "metadata": {},
   "outputs": [
    {
     "data": {
      "text/plain": [
       "0.6333333333333333"
      ]
     },
     "execution_count": 1,
     "metadata": {},
     "output_type": "execute_result"
    }
   ],
   "source": [
    "(8+11)*2/60"
   ]
  },
  {
   "cell_type": "markdown",
   "metadata": {},
   "source": [
    "table assembly"
   ]
  },
  {
   "cell_type": "code",
   "execution_count": 2,
   "metadata": {},
   "outputs": [
    {
     "data": {
      "text/plain": [
       "1.1"
      ]
     },
     "execution_count": 2,
     "metadata": {},
     "output_type": "execute_result"
    }
   ],
   "source": [
    "(6+5)*6/60"
   ]
  },
  {
   "cell_type": "markdown",
   "metadata": {},
   "source": [
    "paint shop"
   ]
  },
  {
   "cell_type": "code",
   "execution_count": 3,
   "metadata": {},
   "outputs": [
    {
     "data": {
      "text/plain": [
       "0.9333333333333333"
      ]
     },
     "execution_count": 3,
     "metadata": {},
     "output_type": "execute_result"
    }
   ],
   "source": [
    "(8+6)*4/60"
   ]
  },
  {
   "cell_type": "markdown",
   "metadata": {},
   "source": [
    "stain shop"
   ]
  },
  {
   "cell_type": "code",
   "execution_count": 4,
   "metadata": {
    "scrolled": true
   },
   "outputs": [
    {
     "data": {
      "text/plain": [
       "0.8"
      ]
     },
     "execution_count": 4,
     "metadata": {},
     "output_type": "execute_result"
    }
   ],
   "source": [
    "(11+5)*3/60"
   ]
  },
  {
   "cell_type": "markdown",
   "metadata": {},
   "source": [
    "inspection"
   ]
  },
  {
   "cell_type": "code",
   "execution_count": 5,
   "metadata": {
    "scrolled": true
   },
   "outputs": [
    {
     "data": {
      "text/plain": [
       "0.5"
      ]
     },
     "execution_count": 5,
     "metadata": {},
     "output_type": "execute_result"
    }
   ],
   "source": [
    "(8+11+6+5)*1/60"
   ]
  },
  {
   "cell_type": "markdown",
   "metadata": {},
   "source": [
    "Bottleneck now becomes the table assembly."
   ]
  },
  {
   "cell_type": "markdown",
   "metadata": {},
   "source": [
    "capacity of factory in units/hr"
   ]
  },
  {
   "cell_type": "code",
   "execution_count": 6,
   "metadata": {},
   "outputs": [
    {
     "data": {
      "text/plain": [
       "27.27272727272727"
      ]
     },
     "execution_count": 6,
     "metadata": {},
     "output_type": "execute_result"
    }
   ],
   "source": [
    "30/1.1"
   ]
  },
  {
   "cell_type": "markdown",
   "metadata": {},
   "source": [
    "Now, factory can produce 27.3 units per hour (assuming constant demand mix)"
   ]
  },
  {
   "cell_type": "markdown",
   "metadata": {},
   "source": [
    "## Example 2:\n",
    "\n",
    "Assumptions:\n",
    "1. Both products take different processing time\n",
    "    - This means that the capacity  of each resource doesn't stay  constant as it'll also depend on demand. If the paint shop takes longer to paint tables, then our capacity of the resource is dependent on how many chairs and tables are demanded."
   ]
  },
  {
   "cell_type": "markdown",
   "metadata": {},
   "source": [
    "### Resource Capacities with different processing times"
   ]
  },
  {
   "cell_type": "markdown",
   "metadata": {},
   "source": [
    "#### Method 1:"
   ]
  },
  {
   "cell_type": "markdown",
   "metadata": {},
   "source": [
    "#### Method 2:"
   ]
  },
  {
   "cell_type": "markdown",
   "metadata": {},
   "source": [
    "## Example 3:\n",
    "- We now have a single product, but have breakdowns"
   ]
  },
  {
   "cell_type": "markdown",
   "metadata": {},
   "source": [
    "average processing time per *typical* unit"
   ]
  },
  {
   "cell_type": "code",
   "execution_count": 14,
   "metadata": {
    "scrolled": true
   },
   "outputs": [
    {
     "data": {
      "text/plain": [
       "12.0"
      ]
     },
     "execution_count": 14,
     "metadata": {},
     "output_type": "execute_result"
    }
   ],
   "source": [
    "((5*60)+60)/30"
   ]
  },
  {
   "cell_type": "markdown",
   "metadata": {},
   "source": [
    "process capacity"
   ]
  },
  {
   "cell_type": "code",
   "execution_count": 15,
   "metadata": {},
   "outputs": [
    {
     "data": {
      "text/plain": [
       "5.0"
      ]
     },
     "execution_count": 15,
     "metadata": {},
     "output_type": "execute_result"
    }
   ],
   "source": [
    "(1/12)*60"
   ]
  },
  {
   "cell_type": "markdown",
   "metadata": {},
   "source": [
    "## Example 4:"
   ]
  },
  {
   "cell_type": "markdown",
   "metadata": {},
   "source": [
    "Resource capacities:\n",
    "- a: 15 scooters / hr\n",
    "- b: 12 scooters / hr\n",
    "- c: 13.3 scooters / hr\n",
    "\n",
    "Process Capacity (= Bottleneck Capacity) of Trojan Kicks / day:\n",
    "- 96 scooters /  day\n",
    "\n",
    "Average Utilization Rate of Station A:\n",
    "- 80\\%\n",
    "\n",
    "Process Capacity when workers in B and C are cross-trained:\n",
    "- In Station B and C, 1 scooter takes 15min + 9min = 24min by 1 worker\n",
    "- (8hrs * 60min/hr / 24min) * 5 workers =\n",
    "- 100 scooters / day"
   ]
  }
 ],
 "metadata": {
  "kernelspec": {
   "display_name": "Python 3",
   "language": "python",
   "name": "python3"
  },
  "language_info": {
   "codemirror_mode": {
    "name": "ipython",
    "version": 3
   },
   "file_extension": ".py",
   "mimetype": "text/x-python",
   "name": "python",
   "nbconvert_exporter": "python",
   "pygments_lexer": "ipython3",
   "version": "3.7.3"
  }
 },
 "nbformat": 4,
 "nbformat_minor": 2
}
