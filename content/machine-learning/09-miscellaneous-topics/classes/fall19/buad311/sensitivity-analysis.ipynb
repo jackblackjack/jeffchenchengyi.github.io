{
 "cells": [
  {
   "cell_type": "markdown",
   "metadata": {},
   "source": [
    "Notes:\n",
    "\n",
    "- Optimal Solution is the value for each of the decision variables\n",
    "- Optimal Value is the best (min / max) value of the objective function\n",
    "- When constraint is binding, AKA No slack, our shdaow price will be non-zero\n",
    "\n",
    "Changes in constraints:\n",
    "- Shadow price: change to optimal value for each unit increase in the resource\n",
    "- Allowable increase/decrease: amount the resource could be increased/decreased while the shadow price is still valid. (Note: **The optimal solution may change**.)\n",
    "\n",
    "Changes in objective function (Changes in objective coefficients):\n",
    "- Allowable increase/decrease: how much the objective coefficient could change so there would not be a change in the optimal solution"
   ]
  },
  {
   "cell_type": "code",
   "execution_count": null,
   "metadata": {},
   "outputs": [],
   "source": []
  }
 ],
 "metadata": {
  "kernelspec": {
   "display_name": "Python 3",
   "language": "python",
   "name": "python3"
  },
  "language_info": {
   "codemirror_mode": {
    "name": "ipython",
    "version": 3
   },
   "file_extension": ".py",
   "mimetype": "text/x-python",
   "name": "python",
   "nbconvert_exporter": "python",
   "pygments_lexer": "ipython3",
   "version": "3.7.4"
  }
 },
 "nbformat": 4,
 "nbformat_minor": 2
}
