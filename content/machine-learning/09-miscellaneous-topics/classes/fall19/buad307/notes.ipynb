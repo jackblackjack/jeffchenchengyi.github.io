{
 "cells": [
  {
   "cell_type": "markdown",
   "metadata": {},
   "source": [
    "# BUAD 307 - Marketing Fundamentals Notes"
   ]
  },
  {
   "cell_type": "markdown",
   "metadata": {},
   "source": [
    "---\n",
    "# 4 Ps (Marketing Mix)\n",
    "\n",
    "### Price\n",
    "\n",
    "### Product\n",
    "- *Product Line*: Breadth of product line is how many products that are  being offered\n",
    "\n",
    "### Promotion\n",
    "\n",
    "### Place"
   ]
  },
  {
   "cell_type": "markdown",
   "metadata": {},
   "source": [
    "---\n",
    "# 5 Cs\n",
    "\n",
    "1. Company\n",
    "2. Customers\n",
    "3. Competitors\n",
    "4. Collaborators\n",
    "5. Climate"
   ]
  },
  {
   "cell_type": "markdown",
   "metadata": {},
   "source": [
    "---\n",
    "# Communication Channels\n",
    "\n",
    "## One-Way\n",
    "- Radio, Newspapers, Magazines, Television\n",
    "\n",
    "## Two-Way\n",
    "- "
   ]
  },
  {
   "cell_type": "markdown",
   "metadata": {},
   "source": [
    "---\n",
    "# Push Strategy Vs. Pull Strategy\n",
    "\n",
    "- When we already have the product we advertize and try to convince consumer to buy\n",
    "- When we don't have product we ask consumer what they want"
   ]
  },
  {
   "cell_type": "markdown",
   "metadata": {},
   "source": [
    "Willingness to Pay <-> Perceived Value\n",
    "\n",
    "True Economic Value -> WTP when there is no uncertainty\n",
    "\n",
    "True Economic Value - WTP = Risk Premium"
   ]
  },
  {
   "cell_type": "markdown",
   "metadata": {},
   "source": [
    "Price Sensitivity\n",
    "- Buyer Stickiness is the state dependence"
   ]
  },
  {
   "cell_type": "markdown",
   "metadata": {},
   "source": [
    "---\n",
    "# Readings Summary\n",
    "\n",
    "Functional Value:\n",
    "- Phone can be used to call people\n",
    "\n",
    "Experiential Value:\n",
    "- Watch movie no function but experience\n",
    "\n",
    "Economic Value to Consumer (EVC):\n",
    "- WTP when there is no uncertainty\n",
    "- There is no risk\n",
    "\n",
    "Perceived Value (Lower than EVC because of uncertainty):\n",
    "- EVC - \n",
    "\n",
    "WTP = Savings from new product + Purchase price of \n",
    "\n",
    "Multi-attribute model:\n",
    "- Break product down into attributes\n",
    "- Laptop = Hard disk + RAM + Weight + Price + ...\n",
    "$$\n",
    "\\text{Preference for brand }j = \\sum^n_{i=1}(importance of attribute)*(preference for brand i)\n",
    "$$\n",
    "- If certain product is very good in one attribute, it can compensate for  its weakness in another\n",
    "\n",
    "Compensatory approach for consumer value:\n",
    "- Consumer might use a noncompensatory approach\n",
    "    - There is a basic minimum that consumer wants \"I must get a car with 6 seats\"\n",
    "    \n",
    "Conjoint Analysis:\n",
    "- Ask consumer to choose what cars they want\n",
    "- Use those choices to infer consumers preference \n",
    "- Latent factor models?\n",
    "\n",
    "Network effects:\n",
    "- Value of product  increases with number of users\n",
    "- more people use google maps, the better google  maps become\n",
    "- more people that use iphones over  android, more valuable iphone  because developers  psend more time on developing iOS\n",
    "\n",
    "User-generated content:\n",
    "- Newspaper produce content and sell it to consumer\n",
    "- But yelp doesnt produce content, users on yelp produce content, and you give them back to consumers\n",
    "- Quora is like this as well\n",
    "- **Matching** is very important, sending the right Quora questions to the right people that can answer"
   ]
  },
  {
   "cell_type": "markdown",
   "metadata": {},
   "source": [
    "Paid media, Owned media, earned media:\n",
    "- professional review of \n",
    "\n",
    "CTR:\n",
    "- Average CTR is very very low, Buzzfeed has  very high though\n",
    "\n",
    "Organic links:\n",
    "- \n",
    "\n",
    "Search Engine on Bidding:\n",
    "- \n",
    "\n",
    "Golden Triangle:\n",
    "- Where consumers will most likely click in a search engine\n",
    "\n",
    "Cost-per click (CPC):\n",
    "- how much  advertisers pay for a click\n",
    "\n",
    "Contextual Ad:\n",
    "- when you go youtube, commercial before video is highly related to video \n",
    "- companies place ads that are most related to the ads to ensure consumers will be interested  in the ad"
   ]
  }
 ],
 "metadata": {
  "kernelspec": {
   "display_name": "Python 3",
   "language": "python",
   "name": "python3"
  },
  "language_info": {
   "codemirror_mode": {
    "name": "ipython",
    "version": 3
   },
   "file_extension": ".py",
   "mimetype": "text/x-python",
   "name": "python",
   "nbconvert_exporter": "python",
   "pygments_lexer": "ipython3",
   "version": "3.7.3"
  }
 },
 "nbformat": 4,
 "nbformat_minor": 2
}
