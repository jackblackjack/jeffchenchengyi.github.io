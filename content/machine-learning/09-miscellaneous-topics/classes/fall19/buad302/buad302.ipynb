{
 "cells": [
  {
   "cell_type": "markdown",
   "metadata": {},
   "source": [
    "### 1. Action Model"
   ]
  },
  {
   "cell_type": "markdown",
   "metadata": {},
   "source": [
    "What noises are there that corrupt encoded message from __sender__ through channel to __receiver__?\n",
    "1. Physical noise\n",
    "2. Psychological noise (e.g. Too much info)\n",
    "3. Semantic noise (e.g. Meaning of non-verbal cues / actions are interpreted differently)\n",
    "4. Physiological noise (e.g. Thirsty, sleepy, hungry)"
   ]
  },
  {
   "cell_type": "markdown",
   "metadata": {},
   "source": [
    "### 2. Interaction and Transaction Model"
   ]
  },
  {
   "cell_type": "markdown",
   "metadata": {},
   "source": [
    "Sender $\\rightarrow$ Channel $\\rightarrow$ Receiver $\\rightarrow$ Feedback loop $\\rightarrow$ Sender\n",
    "\n",
    "But communication should be simultaneous - we receive messages and send messages at the same time"
   ]
  },
  {
   "cell_type": "markdown",
   "metadata": {},
   "source": [
    "$\\therefore$ we need to be a good listener as well, all we can do is our best because we can't change the other party to change their way of communication"
   ]
  },
  {
   "cell_type": "markdown",
   "metadata": {},
   "source": [
    "## 3 ultimate targets in business comms\n",
    "1. Effectiveness\n",
    "    - Strategic Vs. Satisfying basic needs?\n",
    "    - Persuasive Vs. Expressove only?\n",
    "2. Appropriateness\n",
    "    - Attending to contexts and people vs. Following your emotion, habits, ...?\n",
    "    - Defending your face while protecting others' faces\n",
    "3. Civility\n",
    "    - Respect others' worth, diginity, time, efforts, privacy, ... Vs. Disrespect / judge others based  on one's own perspective\n",
    "    - Ethical Vs. Unethical"
   ]
  },
  {
   "cell_type": "markdown",
   "metadata": {},
   "source": []
  }
 ],
 "metadata": {
  "kernelspec": {
   "display_name": "Python 3",
   "language": "python",
   "name": "python3"
  },
  "language_info": {
   "codemirror_mode": {
    "name": "ipython",
    "version": 3
   },
   "file_extension": ".py",
   "mimetype": "text/x-python",
   "name": "python",
   "nbconvert_exporter": "python",
   "pygments_lexer": "ipython3",
   "version": "3.7.3"
  }
 },
 "nbformat": 4,
 "nbformat_minor": 2
}
