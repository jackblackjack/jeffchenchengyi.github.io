{
 "cells": [
  {
   "cell_type": "markdown",
   "metadata": {},
   "source": [
    "# WRIT 340E: Advanced Writing for Engineers"
   ]
  },
  {
   "cell_type": "markdown",
   "metadata": {},
   "source": [
    "---\n",
    "# Illumin Article"
   ]
  },
  {
   "cell_type": "markdown",
   "metadata": {},
   "source": [
    "### Journey into Recommender Systems - How does Netflix / Spotify / Target / Amazon know what to recommend me and what's next for the future of recommendations?\n",
    "\n",
    "By: Chengyi (Jeff) Chen"
   ]
  },
  {
   "cell_type": "markdown",
   "metadata": {},
   "source": [
    "### Abstract"
   ]
  },
  {
   "cell_type": "markdown",
   "metadata": {},
   "source": [
    "*Recommender systems (as the name discretely suggests) fall under a category of systems that filter information from consumers to suggest products with the maximum likelihood of being purchased. As the amount of data attainable from consumers explodes, better and more personalized recommendations can and have been built to increase the likelihood of purchase even more. With this article, I seek to elucidate the world of recommendation systems and how they have grown to make more personalized recommendations for users of large corporations such as Netflix, Spotify, Target, Amazon, YouTube.*"
   ]
  },
  {
   "cell_type": "markdown",
   "metadata": {},
   "source": [
    "### Popularity"
   ]
  },
  {
   "cell_type": "markdown",
   "metadata": {},
   "source": [
    "Let's first think about the simplest possible recommender system we can build. How can we maximize the likelihood that a consumer purchases a product? We can just recommend the most popular product. This is where the definition of \"popularity\" differs between different companies and across products. In th eyes of YouTube, the most \"popular\" videos would be the ones with the highest number of views, or videos with the most number of likes, or videos that have the most shares. This method, however, has several disadvantages, most importantly, the lack of personalization these recommendations have. What if you're a biology researcher that only watches YouTube for videos about DNA sequences? Videos of cats playing the piano are extremely unlikely to interest you even if they're one of the most popular videos on YouTube."
   ]
  },
  {
   "cell_type": "markdown",
   "metadata": {},
   "source": [
    "### Collaborative Filtering"
   ]
  },
  {
   "cell_type": "markdown",
   "metadata": {},
   "source": [
    "Let's find a way to make more personalized recommendations to our users. To do this, we'll make a big assumption that users that have similar consumption history patterns will behave similarly. This means that \"similar\" users tend to buy \"similar\" items. Consequently, our job can be categorized into 2 perspectives - find users that are similar to each other and recommend items that one has rated well, but the other has never purchased, or find items that are similar and recommend items that the user has never used, but has rated a similar item highly."
   ]
  },
  {
   "cell_type": "markdown",
   "metadata": {},
   "source": [
    "#### Memory-based Techniques: User-based Vs. Item-based"
   ]
  },
  {
   "cell_type": "markdown",
   "metadata": {},
   "source": [
    "But how do we find \"similar\" users or items? In order to understand how we'll quantify what \"similarity\" will be, let's take a look at what type of data we'll have when trying to build a recommendation system."
   ]
  },
  {
   "cell_type": "markdown",
   "metadata": {},
   "source": [
    "$$\n",
    "\\begin{aligned}\n",
    "V &= \n",
    "\\underbrace{\n",
    "\\begin{bmatrix}\n",
    "v_{11} & v_{12} & \\ldots & v_{11} & \\ldots & v_{1m} \\\\ \n",
    "v_{21} &        &        &        &        &        \\\\ \n",
    "       &        & \\ddots &        &        &        \\\\ \n",
    "\\vdots &        &        & v_{ij} &        & \\vdots \\\\ \n",
    "       &        &        &        & \\ddots &        \\\\ \n",
    "v_{n1} &        & \\ldots &        &        & v_{nm} \\\\ \n",
    "\\end{bmatrix}\n",
    "}_{n\\,\\text{rows (users)}\\,\\times\\,m\\,\\text{columns (items)}}\n",
    "\\end{aligned}\n",
    "$$"
   ]
  },
  {
   "cell_type": "markdown",
   "metadata": {},
   "source": [
    "Here we have a matrix that represents all the ratings of"
   ]
  },
  {
   "cell_type": "markdown",
   "metadata": {},
   "source": [
    "#### Model-based Techniques: Matrix Factorization and Temporal"
   ]
  },
  {
   "cell_type": "markdown",
   "metadata": {},
   "source": [
    "Simultaneous Vs. Sequential search"
   ]
  },
  {
   "cell_type": "markdown",
   "metadata": {},
   "source": [
    "### Content-based Filtering"
   ]
  },
  {
   "cell_type": "markdown",
   "metadata": {},
   "source": []
  },
  {
   "cell_type": "markdown",
   "metadata": {},
   "source": [
    "### Hybrid Filtering"
   ]
  },
  {
   "cell_type": "markdown",
   "metadata": {},
   "source": []
  },
  {
   "cell_type": "markdown",
   "metadata": {},
   "source": [
    "### Future of Recommender Systems"
   ]
  },
  {
   "cell_type": "markdown",
   "metadata": {},
   "source": [
    "However, we need to care about serendipity of the recommendations too - no one wants to watch the same video for eternity even if its the most popular."
   ]
  },
  {
   "cell_type": "markdown",
   "metadata": {},
   "source": [
    "### References\n",
    "\n",
    "[1] Gomez-Uribe, Carlos; Hunt, Neil. (December, 2015). *The Netflix Recommender System: Algorithms, Business Value, and Innovation* [Online]. Available: http://delivery.acm.org/10.1145/2850000/2843948/a13-gomez-uribe.pdf?ip=68.180.70.23&id=2843948&acc=OA&key=4D4702B0C3E38B35%2E4D4702B0C3E38B35%2E4D4702B0C3E38B35%2EE5B8A747884E71D5&__acm__=1567825268_41bb18002e4f22845f3426c1f2b54cd9\n",
    "- This source will be referenced to explain the details of how the Netflix Recommendation System works and what Netflix has done to continue improving on the model.\n",
    "\n",
    "[2] Yehuda Koren. (January, 2010). *Factor in the neighbors: Scalable and accurate collaborative filtering* [Online]. Available: http://courses.ischool.berkeley.edu/i290-dm/s11/SECURE/a1-koren.pdf\n",
    "- This source will be referenced in the section on *The Future of Recommender Systems* when we talk about how critical it is for recommendation systems to scale in size as the number of users grow.\n",
    "\n",
    "[3] Leidy Esperanza Molina Fernandez. (January, 2018). *Recommendation System for Netflix* [Online]. Available: https://beta.vu.nl/nl/Images/werkstuk-fernandez_tcm235-874624.pdf\n",
    "- A bulk of the content with regards to traditional recommender systems and how they work will come from here.\n",
    "\n",
    "[4] Pedro G. Campo, Fernando Díez, Iván Cantador. (February, 2013). *Time-aware recommender systems: a comprehensive survey and analysis of existing evaluation protocols* [Online]. Available: https://link.springer.com/article/10.1007/s11257-012-9136-x\n",
    "- To be used in the section on *Model-based Techniques* to describe how some recommendation systems also account for timings between user interactions with the website to generate different recommendations.\n",
    "\n",
    "[5] Matthew Hindman. (2018). *The Internet Trap: How the Digital Economy Builds Monopolies and Undermines Democracy* [Online]. Available: https://www.jstor.org/stable/j.ctv36zrf8\n",
    "- To be used in the abstract to give context about the significance of recommendation systems and how multinational conglomerates are using these to \"*grab all the profits from the attention economy*\".\n",
    "\n",
    "[6] Shuai Zhang, Lina Yao, Aixin Sun, Yi Tay. (July, 2018). *Deep Learning based Recommender System: A Survey and New Perspectives* [Online]. Available: https://arxiv.org/pdf/1707.07435.pdf\n",
    "- To be referenced in the section on *The Future of Recommender Systems* to explain the state-of-the-art methods of recommending products.\n",
    "\n",
    "[7] Aaron van den Oord, Sander Dieleman, Heiga Zen, Karen Simonyan, Oriol Vinyals, Alex Graves, Nal Kalchbrenner, Andrew Senior, Koray Kavukcuoglu. (September, 2016). *Wavenet: A Generative Model for Raw Audio* [Online]. Available: https://arxiv.org/pdf/1609.03499.pdf\n",
    "- To be referenced in the section on *The Future of Recommender Systems* to explain the state-of-the-art methods of recommending products.\n",
    "\n",
    "[8] Balazs Hidasi, Alexandros Karatzoglou, Linas Baltrunas, Domonkos Tikk. (May, 2016). *Session-based Recommendations with Recurrent Neural Networks* [Online]. Available: https://arxiv.org/pdf/1511.06939.pdf\n",
    "- To be referenced in the section on *The Future of Recommender Systems* to explain the state-of-the-art methods of recommending products that uses session data from users.\n",
    "\n",
    "[9] Paul Covington, Jay Adams, Emre Sargin. (September, 2016). *Deep Neural Networks for YouTube Recommendations* [Online]. Available: https://www.semanticscholar.org/paper/Deep-Neural-Networks-for-YouTube-Recommendations-Covington-Adams/760948698540118031e590fbc884fcea209f9104\n",
    "- To be referenced in the abtract to explain how Youtube recommends videos to its users.\n",
    "\n",
    "[10] Michael Jahrer, Andreas Töscher, Robert Legenstein. (July, 2010). *Combining Predictions for Accurate Recommender\n",
    "Systems* [Online]. Available: http://elf-project.sourceforge.net/CombiningPredictionsForAccurateRecommenderSystems.pdf\n",
    "- To be referenced in *The Future of Recommender Systems* to explain another technqiue to improve on recommendations by combining the results from multiple recommendation models."
   ]
  },
  {
   "cell_type": "code",
   "execution_count": null,
   "metadata": {},
   "outputs": [],
   "source": []
  }
 ],
 "metadata": {
  "kernelspec": {
   "display_name": "Python 3",
   "language": "python",
   "name": "python3"
  },
  "language_info": {
   "codemirror_mode": {
    "name": "ipython",
    "version": 3
   },
   "file_extension": ".py",
   "mimetype": "text/x-python",
   "name": "python",
   "nbconvert_exporter": "python",
   "pygments_lexer": "ipython3",
   "version": "3.7.3"
  }
 },
 "nbformat": 4,
 "nbformat_minor": 2
}
